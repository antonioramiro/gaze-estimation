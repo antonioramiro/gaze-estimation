{
 "cells": [
  {
   "cell_type": "markdown",
   "metadata": {},
   "source": [
    "# Gaze Estimation"
   ]
  },
  {
   "cell_type": "markdown",
   "metadata": {},
   "source": [
    "### 1. Generating measureble data "
   ]
  },
  {
   "cell_type": "code",
   "execution_count": null,
   "metadata": {},
   "outputs": [],
   "source": [
    "meter aqui um demo e depois (como é só demo), mostrar um exemplo de resultados e criar o traindata.txt"
   ]
  },
  {
   "cell_type": "code",
   "execution_count": 12,
   "metadata": {
    "scrolled": true
   },
   "outputs": [
    {
     "ename": "ModuleNotFoundError",
     "evalue": "No module named 'cv2'",
     "output_type": "error",
     "traceback": [
      "\u001b[1;31m---------------------------------------------------------------------------\u001b[0m",
      "\u001b[1;31mModuleNotFoundError\u001b[0m                       Traceback (most recent call last)",
      "\u001b[1;32m<ipython-input-12-6814cde2a6c9>\u001b[0m in \u001b[0;36m<module>\u001b[1;34m()\u001b[0m\n\u001b[0;32m      1\u001b[0m \u001b[1;31m#Importing packages:\u001b[0m\u001b[1;33m\u001b[0m\u001b[1;33m\u001b[0m\u001b[0m\n\u001b[1;32m----> 2\u001b[1;33m \u001b[1;32mimport\u001b[0m \u001b[0mcv2\u001b[0m \u001b[1;31m#image manipulation\u001b[0m\u001b[1;33m\u001b[0m\u001b[0m\n\u001b[0m\u001b[0;32m      3\u001b[0m \u001b[1;32mimport\u001b[0m \u001b[0msys\u001b[0m \u001b[1;31m#manipulating function arguments\u001b[0m\u001b[1;33m\u001b[0m\u001b[0m\n\u001b[0;32m      4\u001b[0m \u001b[1;32mimport\u001b[0m \u001b[0mnumpy\u001b[0m \u001b[1;32mas\u001b[0m \u001b[0mnp\u001b[0m \u001b[1;31m#eventual mathemathic operations\u001b[0m\u001b[1;33m\u001b[0m\u001b[0m\n\u001b[0;32m      5\u001b[0m \u001b[1;32mfrom\u001b[0m \u001b[0mpydarknet\u001b[0m \u001b[1;32mimport\u001b[0m \u001b[0mDetector\u001b[0m\u001b[1;33m,\u001b[0m \u001b[0mImage\u001b[0m \u001b[1;31m#openpose\u001b[0m\u001b[1;33m\u001b[0m\u001b[0m\n",
      "\u001b[1;31mModuleNotFoundError\u001b[0m: No module named 'cv2'"
     ]
    }
   ],
   "source": [
    "#Importing packages:\n",
    "import cv2 #image manipulation\n",
    "import sys #manipulating function arguments\n",
    "import numpy as np #eventual mathemathic operations\n",
    "from pydarknet import Detector, Image #openpose\n",
    "import os #operating system interactions\n",
    "dir_path = os.path.dirname(os.path.realpath(__file__))\n",
    "from openpose import pyopenpose as op #open pose"
   ]
  },
  {
   "cell_type": "code",
   "execution_count": 21,
   "metadata": {},
   "outputs": [],
   "source": [
    "# coords2Quadrante calculates to which quadrant (out of 16) a tuple of coordinates refers\n",
    "# the function's parameters include the coordinates - a tuple - and the image object\n",
    "# It outputs the quadrant and the image with the calculated quadrant overlined\n",
    "def coords2Quadrante(coords,img):\n",
    "    overlay = img.copy() # safe copy of the image to apply alpha\n",
    "    h, w = img.shape[:2] # gets the image shape (height, width) \n",
    "    h = int(h) # converts parameters to integers \n",
    "    w= int(w)\n",
    "    \n",
    "    # next, it compares the x and the y to a reference from the original image (x/2,x/4 or y/2,y/4)\n",
    "    # note that the image was devided in 16 rectangles: firstly divided in four and each of these, devided\n",
    "    # in four again\n",
    "    \n",
    "    #____________________________# 0\n",
    "    # 0  \\  1   \\   4   \\   5    #\n",
    "    #-----------\\----------------# h/4\n",
    "    # 2  \\  3   \\   6   \\   7    #\n",
    "    #___________\\________________# h/2\n",
    "    # 8  \\  9   \\   12  \\   13   #\n",
    "    # ----------\\----------------# (3h)/4\n",
    "    # 10 \\  11  \\   13  \\   15   #\n",
    "    # __________\\________________#  h\n",
    "    # 0  w/4    w/2    3w/4    w\n",
    "\n",
    "\n",
    "    if coords[0]<int(w/2):\n",
    "        if coords[1]<int(h/2):\n",
    "            if coords[0]<int(w/4):\n",
    "                if coords[1]<int(h/4):\n",
    "                    quadrante=0\n",
    "                    cv2.rectangle(overlay, (0,0), (int(w/4),int(h/4)), (229,88,191), thickness=-1) \n",
    "                else:\n",
    "                    quadrante=2\n",
    "                    cv2.rectangle(overlay, (0,int(h/4)), (int(w/4),int(h/2)), (229,88,191), thickness=-1)\n",
    "            else:\n",
    "                 if coords[1]<int(h/4):\n",
    "                    quadrante=1\n",
    "                    cv2.rectangle(overlay, (int(w/4),0), (int(w/2),int(h/4)), (229,88,191), thickness=-1)\n",
    "                 else:\n",
    "                    quadrante=3               \n",
    "                    cv2.rectangle(overlay, (int(w/4),int(h/4)), (int(w/2),int(h/2)), (229,88,191), thickness=-1)\n",
    "        else:\n",
    "            if coords[0]<int(w/4): \n",
    "                if coords[1]<int((3*h)/4):\n",
    "                    quadrante=8\n",
    "                    cv2.rectangle(overlay, (0,int(h/2)), (int(w/4),int((3*h)/4)), (229,88,191), thickness=-1)\n",
    "                    \n",
    "                else:\n",
    "                    quadrante=10\n",
    "                    cv2.rectangle(overlay, (0,int((3*h)/4)), (int(w/4),int(h)), (229,88,191), thickness=-1)\n",
    "            else:\n",
    "                 if coords[1]<int((3*h)/4):\n",
    "                    quadrante=9\n",
    "                    cv2.rectangle(overlay, (int(w/4),int(h/2)), (int(w/2),int((3*h)/4)), (229,88,191), thickness=-1)\n",
    "                 else:\n",
    "                    quadrante=11               \n",
    "                    cv2.rectangle(overlay, (int(w/4),int((3*h)/4)), (int(w/2),h), (229,88,191), thickness=-1)\n",
    "    else:\n",
    "        if coords[1]<int(h/2): \n",
    "            if coords[0]<int((3*w)/4):\n",
    "                if coords[1]<int(h/4):\n",
    "                    quadrante=4\n",
    "                    cv2.rectangle(overlay, (int(w/2),0), (int((3*w)/4),int(h/4)), (229,88,191), thickness=-1)\n",
    "                 \n",
    "                else:\n",
    "                    quadrante=6\n",
    "                    cv2.rectangle(overlay, ((int(w/2),int(h/4))), (int((3*w)/4),int(h/2)), (229,88,191), thickness=-1)\n",
    "                   \n",
    "            else:\n",
    "                 if coords[1]<int(h/4):\n",
    "                    quadrante=5\n",
    "                    cv2.rectangle(overlay, (int((3*w)/4),0), (int(w),int(h/4)), (229,88,191), thickness=-1)\n",
    "                    \n",
    "                 else:\n",
    "                    quadrante=7          \n",
    "                    cv2.rectangle(overlay, (int((3*w)/4),int(h/4)), (int(w),int(h/2)), (229,88,191), thickness=-1)\n",
    "                    \n",
    "        else:\n",
    "            if coords[0]<int((3*w)/4): \n",
    "                if coords[1]<int((3*h)/4):\n",
    "                    quadrante=12\n",
    "                    cv2.rectangle(overlay, (int(w/2),int(h/2)), (int((3*w)/4),int((3*h)/4)), (229,88,191), thickness=-1)\n",
    "                else:\n",
    "                    quadrante=14\n",
    "                    cv2.rectangle(overlay, (int(w/2),int((3*h)/4)), (int((3*w)/4),int(h)), (229,88,191), thickness=-1)\n",
    "            else:\n",
    "                 if coords[1]<int((3*h)/4):\n",
    "                    quadrante=13\n",
    "                 else:\n",
    "                    quadrante=15               \n",
    "                    cv2.rectangle(overlay, (int((3*w)/4),int((3*h)/4)), (int(w),int(h)), (229,88,191), thickness=-1)                    \n",
    "            \n",
    "    new = cv2.addWeighted(overlay, 0.4, img, 1 - 0.4, 0, img) #purple overlay \n",
    "    return quadrante,new #returns the quadrant and a new picture, with the underlined quadrant"
   ]
  },
  {
   "cell_type": "code",
   "execution_count": 23,
   "metadata": {},
   "outputs": [
    {
     "ename": "NameError",
     "evalue": "name 'cv2' is not defined",
     "output_type": "error",
     "traceback": [
      "\u001b[1;31m---------------------------------------------------------------------------\u001b[0m",
      "\u001b[1;31mNameError\u001b[0m                                 Traceback (most recent call last)",
      "\u001b[1;32m<ipython-input-23-cd1dd7e7088d>\u001b[0m in \u001b[0;36m<module>\u001b[1;34m()\u001b[0m\n\u001b[1;32m----> 1\u001b[1;33m \u001b[0mcoords2Quadrante\u001b[0m\u001b[1;33m(\u001b[0m\u001b[1;33m(\u001b[0m\u001b[1;36m924\u001b[0m\u001b[1;33m,\u001b[0m\u001b[1;36m1234\u001b[0m\u001b[1;33m)\u001b[0m\u001b[1;33m,\u001b[0m\u001b[0mcv2\u001b[0m\u001b[1;33m.\u001b[0m\u001b[0mimread\u001b[0m\u001b[1;33m(\u001b[0m\u001b[1;34m'image.png'\u001b[0m\u001b[1;33m)\u001b[0m\u001b[1;33m)\u001b[0m\u001b[1;33m\u001b[0m\u001b[0m\n\u001b[0m",
      "\u001b[1;31mNameError\u001b[0m: name 'cv2' is not defined"
     ]
    }
   ],
   "source": [
    "coords2Quadrante((924,1234),cv2.imread('image.png'))"
   ]
  },
  {
   "cell_type": "code",
   "execution_count": 14,
   "metadata": {},
   "outputs": [],
   "source": [
    "# contextual information - classifying an object in long or short range interaction\n",
    "def short_long(objeto):\n",
    "    cena='cena'\n",
    "    if objeto in ['tv','pottedplant','vase','cat']:\n",
    "        cena='long'\n",
    "    if objeto in ['chair','dining table','refrigerator','microwave','sink','bowl','apple','banana','laptop',\\\n",
    "                'keyboard','mouse','knife','fork','backpack']:\n",
    "        cena='short'\n",
    "    return cena"
   ]
  },
  {
   "cell_type": "code",
   "execution_count": 15,
   "metadata": {},
   "outputs": [
    {
     "data": {
      "text/plain": [
       "'long'"
      ]
     },
     "execution_count": 15,
     "metadata": {},
     "output_type": "execute_result"
    }
   ],
   "source": [
    "short_long('tv')"
   ]
  },
  {
   "cell_type": "code",
   "execution_count": null,
   "metadata": {},
   "outputs": [],
   "source": []
  },
  {
   "cell_type": "markdown",
   "metadata": {},
   "source": [
    "### 2. Separating training-set and testing-set "
   ]
  },
  {
   "cell_type": "code",
   "execution_count": 5,
   "metadata": {},
   "outputs": [],
   "source": [
    "import random\n",
    "import shutil\n",
    "import os"
   ]
  },
  {
   "cell_type": "code",
   "execution_count": 6,
   "metadata": {},
   "outputs": [
    {
     "ename": "FileNotFoundError",
     "evalue": "[WinError 3] O sistema não conseguiu localizar o caminho especificado: 'lixo'",
     "output_type": "error",
     "traceback": [
      "\u001b[1;31m---------------------------------------------------------------------------\u001b[0m",
      "\u001b[1;31mFileNotFoundError\u001b[0m                         Traceback (most recent call last)",
      "\u001b[1;32m<ipython-input-6-ee985d2809ea>\u001b[0m in \u001b[0;36m<module>\u001b[1;34m()\u001b[0m\n\u001b[0;32m     30\u001b[0m         \u001b[0mlist\u001b[0m \u001b[1;33m=\u001b[0m \u001b[0mos\u001b[0m\u001b[1;33m.\u001b[0m\u001b[0mlistdir\u001b[0m\u001b[1;33m(\u001b[0m\u001b[0mdir\u001b[0m\u001b[1;33m)\u001b[0m\u001b[1;33m\u001b[0m\u001b[0m\n\u001b[0;32m     31\u001b[0m         \u001b[0mj\u001b[0m\u001b[1;33m=\u001b[0m\u001b[1;32mFalse\u001b[0m\u001b[1;33m\u001b[0m\u001b[0m\n\u001b[1;32m---> 32\u001b[1;33m \u001b[0mseparaPlus\u001b[0m\u001b[1;33m(\u001b[0m\u001b[1;33m)\u001b[0m\u001b[1;33m\u001b[0m\u001b[0m\n\u001b[0m",
      "\u001b[1;32m<ipython-input-6-ee985d2809ea>\u001b[0m in \u001b[0;36mseparaPlus\u001b[1;34m()\u001b[0m\n\u001b[0;32m      1\u001b[0m \u001b[1;32mdef\u001b[0m \u001b[0mseparaPlus\u001b[0m\u001b[1;33m(\u001b[0m\u001b[1;33m)\u001b[0m\u001b[1;33m:\u001b[0m\u001b[1;33m\u001b[0m\u001b[0m\n\u001b[0;32m      2\u001b[0m     \u001b[0mdir\u001b[0m\u001b[1;33m=\u001b[0m\u001b[1;34m\"lixo\"\u001b[0m\u001b[1;33m\u001b[0m\u001b[0m\n\u001b[1;32m----> 3\u001b[1;33m     \u001b[0mlist\u001b[0m \u001b[1;33m=\u001b[0m \u001b[0mos\u001b[0m\u001b[1;33m.\u001b[0m\u001b[0mlistdir\u001b[0m\u001b[1;33m(\u001b[0m\u001b[0mdir\u001b[0m\u001b[1;33m)\u001b[0m\u001b[1;33m\u001b[0m\u001b[0m\n\u001b[0m\u001b[0;32m      4\u001b[0m     \u001b[0mj\u001b[0m\u001b[1;33m=\u001b[0m\u001b[1;32mFalse\u001b[0m\u001b[1;33m\u001b[0m\u001b[0m\n\u001b[0;32m      5\u001b[0m     \u001b[0mi\u001b[0m\u001b[1;33m=\u001b[0m\u001b[1;36m0\u001b[0m\u001b[1;33m\u001b[0m\u001b[0m\n",
      "\u001b[1;31mFileNotFoundError\u001b[0m: [WinError 3] O sistema não conseguiu localizar o caminho especificado: 'lixo'"
     ]
    }
   ],
   "source": [
    "def separaPlus():   \n",
    "    dir=\"lixo\"\n",
    "    list = os.listdir(dir)\n",
    "    j=False\n",
    "    i=0\n",
    "    \n",
    "    for i in range(8):\n",
    "        file=random.choice(list)\n",
    "        while j==False:\n",
    "            if file.endswith('.txt'):\n",
    "                j=True\n",
    "            else:\n",
    "                 file=random.choice(list)\n",
    "        srcpath0=os.path.join(dir, file)\n",
    "        shutil.move(srcpath0, \"treino\")\n",
    "        shutil.move(srcpath0[:-4]+\".png\",\"treino\")\n",
    "        list = os.listdir(dir)\n",
    "        j=False\n",
    "        \n",
    "    for i in range(3):\n",
    "        file=random.choice(list)\n",
    "        while j==False:\n",
    "            if file.endswith('.txt'):\n",
    "                j=True\n",
    "            else:\n",
    "                file=random.choice(list)\n",
    "        srcpath1=os.path.join(dir, file)\n",
    "        shutil.move(srcpath1, \"teste\")\n",
    "        shutil.move(srcpath1[:-4]+\".png\",\"teste\")\n",
    "        list = os.listdir(dir)\n",
    "        j=False\n",
    "separaPlus()"
   ]
  },
  {
   "cell_type": "markdown",
   "metadata": {},
   "source": [
    "### 3. Creating the model"
   ]
  },
  {
   "cell_type": "code",
   "execution_count": 8,
   "metadata": {},
   "outputs": [],
   "source": [
    "from sklearn.svm import SVC \n",
    "import numpy as np\n",
    "import ast\n",
    "from joblib import dump, load\n",
    "from sklearn import svm, grid_search\n",
    "from datetime import datetime"
   ]
  },
  {
   "cell_type": "code",
   "execution_count": 9,
   "metadata": {},
   "outputs": [
    {
     "ename": "FileNotFoundError",
     "evalue": "[Errno 2] No such file or directory: 'treino.txt'",
     "output_type": "error",
     "traceback": [
      "\u001b[1;31m---------------------------------------------------------------------------\u001b[0m",
      "\u001b[1;31mFileNotFoundError\u001b[0m                         Traceback (most recent call last)",
      "\u001b[1;32m<ipython-input-9-e99bb162eb82>\u001b[0m in \u001b[0;36m<module>\u001b[1;34m()\u001b[0m\n\u001b[1;32m----> 1\u001b[1;33m \u001b[1;32mwith\u001b[0m \u001b[0mopen\u001b[0m\u001b[1;33m(\u001b[0m\u001b[1;34m\"treino.txt\"\u001b[0m\u001b[1;33m)\u001b[0m \u001b[1;32mas\u001b[0m \u001b[0mfile\u001b[0m\u001b[1;33m:\u001b[0m\u001b[1;33m\u001b[0m\u001b[0m\n\u001b[0m\u001b[0;32m      2\u001b[0m     \u001b[0mlines\u001b[0m \u001b[1;33m=\u001b[0m \u001b[1;33m[\u001b[0m\u001b[0mline\u001b[0m\u001b[1;33m.\u001b[0m\u001b[0mstrip\u001b[0m\u001b[1;33m(\u001b[0m\u001b[1;33m)\u001b[0m \u001b[1;32mfor\u001b[0m \u001b[0mline\u001b[0m \u001b[1;32min\u001b[0m \u001b[0mfile\u001b[0m\u001b[1;33m]\u001b[0m\u001b[1;33m\u001b[0m\u001b[0m\n\u001b[0;32m      3\u001b[0m \u001b[0my\u001b[0m \u001b[1;33m=\u001b[0m \u001b[1;33m[\u001b[0m\u001b[1;33m]\u001b[0m\u001b[1;33m\u001b[0m\u001b[0m\n\u001b[0;32m      4\u001b[0m \u001b[0mX\u001b[0m \u001b[1;33m=\u001b[0m \u001b[1;33m[\u001b[0m\u001b[1;33m]\u001b[0m\u001b[1;33m\u001b[0m\u001b[0m\n\u001b[0;32m      5\u001b[0m \u001b[1;33m\u001b[0m\u001b[0m\n",
      "\u001b[1;31mFileNotFoundError\u001b[0m: [Errno 2] No such file or directory: 'treino.txt'"
     ]
    }
   ],
   "source": [
    "#Opening the traindata file with all the coordinates of the important points.\n",
    "#The last number of each line is the number of the quadrant \n",
    "with open(\"traindata.txt\") as file: #ATTENTION: this filename comes from elsewhere, change if needed\n",
    "    linestrain = [line.strip() for line in file] #erases the empty spaces in each line from the txt file\n",
    "\n",
    "    \n",
    "def coordsandquadrvectors(linestxt)\n",
    "\n",
    "#Initialization  \n",
    "numberquad = [] \n",
    "Allthecoords = [] \n",
    "counter = 0\n",
    "\n",
    "length = len(linestxt)\n",
    "\n",
    "#This cicle separates, in each line corresponding to one image\n",
    "#the coordinates to the Allthecoords vector and the quadrant number to the numberquad vector\n",
    "while counter != length:\n",
    "    omega = ast.literal_eval(linestxt[counter]) # ast.literal_eval raises an exception if the input isn't a valid Python datatype, so the code won't be executed if it's not\n",
    "    Allthecoords += [omega[:10]]\n",
    "    if omega[-1] == -1: #if the quadrant number is -1 (mistakenly) it is replaced by the quadrant 0\n",
    "        numberquad +=[0]\n",
    "    else:\n",
    "        numberquad +=[omega[-1]]\n",
    "    counter+=1\n",
    "\n",
    "return Allthecoords, numberquad, length\n",
    "\n",
    "CoordsTrain, quadTrain = coordsandquadrvectors(linestrain)\n",
    "    \n",
    "#This function below selects the best parameters that will there be used with the SVC\n",
    "def svc_param_selection(X, y, nfolds):\n",
    "    Cs = [1000,100] #parameter 1\n",
    "    gammas = [1e-06] #parameter 2  \n",
    "    param_grid = {'C': Cs, 'gamma' : gammas} #all in one grid\n",
    "    grid_search2 = grid_search.GridSearchCV(svm.SVC(kernel='rbf'), param_grid, cv=nfolds)\n",
    "    grid_search2.fit(X, y)\n",
    "    grid_search2.best_params_\n",
    "    return grid_search2.best_params_\n",
    "    \n",
    "best = svc_param_selection(CoordsTrain, quadTrain, 3) #3 means a 3-fold cross-validation\n",
    "\n",
    "clf = SVC(C= best['C'],gamma=best['gamma']) #creating the model with the best parameters\n",
    "clf.fit(CoordsTrain, quadTrain) #fitting the model to the data\n",
    "\n",
    "now = datetime.datetime.now()\n",
    "timestamp = str(now.strftime(\"%Y%m%d_%H-%M-%S\")) #the current day and time to have to the classifier name \n",
    "\n",
    "classif_name = \"classifier_\"+timestamp+\".joblib\" \n",
    "\n",
    "dump(clf,classif_name, protocol=2) #creating the classifier file"
   ]
  },
  {
   "cell_type": "markdown",
   "metadata": {},
   "source": [
    "###  4. Testing the model"
   ]
  },
  {
   "cell_type": "code",
   "execution_count": 10,
   "metadata": {
    "scrolled": true
   },
   "outputs": [
    {
     "ename": "FileNotFoundError",
     "evalue": "[Errno 2] No such file or directory: 'treino.txt'",
     "output_type": "error",
     "traceback": [
      "\u001b[1;31m---------------------------------------------------------------------------\u001b[0m",
      "\u001b[1;31mFileNotFoundError\u001b[0m                         Traceback (most recent call last)",
      "\u001b[1;32m<ipython-input-10-aff46992c162>\u001b[0m in \u001b[0;36m<module>\u001b[1;34m()\u001b[0m\n\u001b[1;32m----> 1\u001b[1;33m \u001b[1;32mwith\u001b[0m \u001b[0mopen\u001b[0m\u001b[1;33m(\u001b[0m\u001b[1;34m\"treino.txt\"\u001b[0m\u001b[1;33m)\u001b[0m \u001b[1;32mas\u001b[0m \u001b[0mfile\u001b[0m\u001b[1;33m:\u001b[0m\u001b[1;33m\u001b[0m\u001b[0m\n\u001b[0m\u001b[0;32m      2\u001b[0m     \u001b[0mlines2\u001b[0m \u001b[1;33m=\u001b[0m \u001b[1;33m[\u001b[0m\u001b[0mline\u001b[0m\u001b[1;33m.\u001b[0m\u001b[0mstrip\u001b[0m\u001b[1;33m(\u001b[0m\u001b[1;33m)\u001b[0m \u001b[1;32mfor\u001b[0m \u001b[0mline\u001b[0m \u001b[1;32min\u001b[0m \u001b[0mfile\u001b[0m\u001b[1;33m]\u001b[0m\u001b[1;33m\u001b[0m\u001b[0m\n\u001b[0;32m      3\u001b[0m \u001b[0my2\u001b[0m \u001b[1;33m=\u001b[0m \u001b[1;33m[\u001b[0m\u001b[1;33m]\u001b[0m\u001b[1;33m\u001b[0m\u001b[0m\n\u001b[0;32m      4\u001b[0m \u001b[0mX2\u001b[0m \u001b[1;33m=\u001b[0m \u001b[1;33m[\u001b[0m\u001b[1;33m]\u001b[0m\u001b[1;33m\u001b[0m\u001b[0m\n\u001b[0;32m      5\u001b[0m \u001b[0mYpredicted\u001b[0m\u001b[1;33m=\u001b[0m \u001b[1;33m[\u001b[0m\u001b[1;33m]\u001b[0m\u001b[1;33m\u001b[0m\u001b[0m\n",
      "\u001b[1;31mFileNotFoundError\u001b[0m: [Errno 2] No such file or directory: 'treino.txt'"
     ]
    }
   ],
   "source": [
    "#ATTENTION: the covariance matrices comments are TEMPORARY since we don't know if it's necessary (one method is implemented but not sure if it's the right one)\n",
    "\n",
    "#Opening the testdata file with all the coordinates of the important points.\n",
    "#The last number of each line is the number of the quadrant \n",
    "with open(\"testdata.txt\") as file: #ATTENTION: this filename comes from elsewhere, change if needed\n",
    "    linestest = [line.strip() for line in file]\n",
    "\n",
    "coordsTest,quadTest, lengthtest = coordsandquadrvectors(linestest)  \n",
    "\n",
    "#Predicting part: using the classifier to predict \n",
    "#(NOT USING THE FILE SAVED, IT ONLY RUNS IF THE CLASSIFIER WAS BUILT IN THE SAME SESSION)\n",
    "\n",
    "#Extra Initialization \n",
    "Qpredicted= []\n",
    "nmatching = 0 #number of right predictions\n",
    "confMatrix = np.zeros((16,16))\n",
    "i=0\n",
    "\n",
    "while i != lengthtest:\n",
    "Qpredicted+= [str(clf2.predict(np.array([coordsTest[i]]))).strip('['+']')] #predict\n",
    "quadTest[i]= str(quadTest[i]) #converting to a string\n",
    "    \n",
    "confMatrix[int(Qpredicted[i])][int(quadTest[i])] += 1 \n",
    "    \n",
    "if Qpredicted[i] == quadTest[i]:\n",
    "    nmatching+=1\n",
    "    \n",
    "i+=1\n",
    "\n",
    "persucess = (float(nmatching)/float(lengthtest)) * 100  \n",
    "\n",
    "\n",
    "print('The percentage of success was: ' + str(persucess)+ ' %')\n",
    "\n",
    "#print(str(confMatrix))\n",
    "\n",
    "#def sum1(input):\n",
    " #   sum = 0\n",
    "  #  for row in range (len(input)):\n",
    "   #     for col in range(len(input[0])):\n",
    "    #        sum = sum + input[row][col]\n",
    "\n",
    "#    return sum\n",
    "#print(sum1(confMatrix))"
   ]
  },
  {
   "cell_type": "code",
   "execution_count": 11,
   "metadata": {},
   "outputs": [
    {
     "ename": "NameError",
     "evalue": "name 'sum1' is not defined",
     "output_type": "error",
     "traceback": [
      "\u001b[1;31m---------------------------------------------------------------------------\u001b[0m",
      "\u001b[1;31mNameError\u001b[0m                                 Traceback (most recent call last)",
      "\u001b[1;32m<ipython-input-11-5ff0cc590eb5>\u001b[0m in \u001b[0;36m<module>\u001b[1;34m()\u001b[0m\n\u001b[1;32m----> 1\u001b[1;33m \u001b[0mprint\u001b[0m\u001b[1;33m(\u001b[0m\u001b[0msum1\u001b[0m\u001b[1;33m(\u001b[0m\u001b[0mconfMatrix\u001b[0m\u001b[1;33m)\u001b[0m\u001b[1;33m)\u001b[0m\u001b[1;33m\u001b[0m\u001b[0m\n\u001b[0m",
      "\u001b[1;31mNameError\u001b[0m: name 'sum1' is not defined"
     ]
    }
   ],
   "source": []
  },
  {
   "cell_type": "code",
   "execution_count": null,
   "metadata": {},
   "outputs": [],
   "source": []
  }
 ],
 "metadata": {
  "kernelspec": {
   "display_name": "Python 2",
   "language": "python",
   "name": "python2"
  },
  "language_info": {
   "codemirror_mode": {
    "name": "ipython",
    "version": 2
   },
   "file_extension": ".py",
   "mimetype": "text/x-python",
   "name": "python",
   "nbconvert_exporter": "python",
   "pygments_lexer": "ipython2",
   "version": "2.7.16"
  }
 },
 "nbformat": 4,
 "nbformat_minor": 2
}
