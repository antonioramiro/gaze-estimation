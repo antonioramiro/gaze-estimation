{
 "cells": [
  {
   "cell_type": "code",
   "execution_count": 77,
   "metadata": {},
   "outputs": [],
   "source": [
    "#Basic\n",
    "import numpy as np\n",
    "import matplotlib.pyplot as plt\n",
    "from scipy import stats\n",
    "import math\n",
    "from operator import add"
   ]
  },
  {
   "cell_type": "markdown",
   "metadata": {},
   "source": [
    "# Gaze Estimation"
   ]
  },
  {
   "cell_type": "markdown",
   "metadata": {},
   "source": [
    "This project aims at using a Support Vector Machine to estimate the human gaze in 2D videos. It was created for the use case of a social assistive robot by Alexandra Gonçalves, [António Ramiro](https://antonioramiro.github.io/?utm_source=github&utm_medium=readme&utm_campaign=gaze-estimation) and Gustavo Brites - three biomedical engineering studens. It is the culmination of a research internship at [Vislab](http://vislab.isr.ist.utl.pt/), supervised by PhD student [João Avelino](https://github.com/joao-avelino), from 2019 to 2020."
   ]
  },
  {
   "cell_type": "markdown",
   "metadata": {},
   "source": [
    "In this notebok, we document the internship, describing the methods used by us to assess the quality of the predictions, depending on the data the classifier learnt."
   ]
  },
  {
   "cell_type": "markdown",
   "metadata": {},
   "source": [
    "## 1. Recording a video and obtaining measurable data"
   ]
  },
  {
   "cell_type": "markdown",
   "metadata": {},
   "source": [
    "We used 2D videos recorded by us, of us, to obtain the coordinates of people looking at objects. Since we use an object detector, we only used objects that we knew beforehand the object detector was going to be able to find."
   ]
  },
  {
   "cell_type": "markdown",
   "metadata": {},
   "source": [
    "With a source to harness data, we created [datasetGenerating.py](https://github.com/antonioramiro/gaze-estimation/blob/master/datasetGenerating.py). This script runs the video and **maps the keypoints of the human skeleton** (using Open Pose), as well as the **quadrant** (not really a quadrant, since the image is devided by 16) the focus object is. To obtain the position of the object, we provide the script with its name and the it runs YOLO: Real-Time Object Detection to detect its place. It then outputs an image with the visual representation of its findings and a .txt file with the vector."
   ]
  },
  {
   "cell_type": "markdown",
   "metadata": {},
   "source": [
    "<img src=\"video.gif\">\n",
    "<center> <code>demo of datasetGenerating running</code> </center>"
   ]
  },
  {
   "cell_type": "markdown",
   "metadata": {},
   "source": [
    "Then, to cluster every vector generated, each in an individual .txt file, we used [txtJoiner](https://github.com/antonioramiro/gaze-estimation/blob/master/txtJoiner.py), which outputs only one ``.txt.`` file with the list off all mapped frames. In this notebook, we used [dataset_2020-10-05.txt](https://github.com/antonioramiro/gaze-estimation/blob/master/dataset_2020-10-05.txt), although we have other earlier versions of this database, not as feature complete."
   ]
  },
  {
   "cell_type": "markdown",
   "metadata": {},
   "source": [
    "## 2. Importing and preparing the database"
   ]
  },
  {
   "cell_type": "markdown",
   "metadata": {},
   "source": [
    "### 2.1 Importing the text file"
   ]
  },
  {
   "cell_type": "code",
   "execution_count": 78,
   "metadata": {},
   "outputs": [],
   "source": [
    "#Aiding conversions from string to list\n",
    "import ast\n",
    "\n",
    "#opening the file\n",
    "with open('dataset_2020-10-05.txt') as file:\n",
    "    txt_file = [line.strip() for line in file]\n",
    "\n",
    "dataset = []\n",
    "#converting a list of strings to a list of lists\n",
    "counter = 0\n",
    "total_lines = len(txt_file)\n",
    "while counter != total_lines:\n",
    "    individual_line = ast.literal_eval(txt_file[counter])\n",
    "    dataset += [individual_line]\n",
    "    counter+=1"
   ]
  },
  {
   "cell_type": "markdown",
   "metadata": {},
   "source": [
    "Each line in the text file imported, our database, corresponds to a vector in the following format: ``[x_nose, y_nose, x_neck, y_neck, x_right ear, y_right ear, x_left ear, y_left ear, x_right eye, y_right eye, x_left eye, y_left eye, x_right hand, y_right hand, x_left hand, y_left hand, contextual information - 32 positions, frame filename, quadrant]``\n",
    "\n",
    "The contextual information is obtained by counting how many objects are in each quadrant, and classifying the interaction a human usually has with them as a short or long range interaction. We expect short range objects to be handled and to have people look down to them.\n",
    "\n",
    "\n",
    "<img width=\"20%\" height=\"20%\" src=\"Openpose-18-keypoints.ppm\">\n",
    "<center> <code>OpenPose Skeleton</code> </center>\n",
    "\n",
    "\n",
    "<img width=\"50%\" src=\"table.png\" height=\"50%\">\n",
    "<center> <code>Quadrants (1/16)</code> </center>"
   ]
  },
  {
   "cell_type": "markdown",
   "metadata": {},
   "source": [
    "Now let's get the party going. In order to test a classifier, we need both trainning and testing data. However, they must be divided, so that it doesn't doesn't learn the scenarios in which it is going to be tested on."
   ]
  },
  {
   "cell_type": "code",
   "execution_count": 79,
   "metadata": {},
   "outputs": [],
   "source": [
    "testing_data = dataset[int(len(dataset)*0.8):]\n",
    "training_data = dataset[:int(len(dataset)*0.8)]"
   ]
  },
  {
   "cell_type": "markdown",
   "metadata": {},
   "source": [
    " ### 2.2 Increasing sample size"
   ]
  },
  {
   "cell_type": "markdown",
   "metadata": {},
   "source": [
    "Given we recorded the videos ourselves, we don't have much data. To fight this problem we enlarge the dataset size by mathematically manipulating the dataset to obtain its simetric."
   ]
  },
  {
   "cell_type": "code",
   "execution_count": 80,
   "metadata": {
    "scrolled": true
   },
   "outputs": [
    {
     "name": "stdout",
     "output_type": "stream",
     "text": [
      "Initially, the training dataset is composed by 5769 elements.\n"
     ]
    }
   ],
   "source": [
    "print('Initially, the training dataset is composed by ' + str(len(training_data)) + ' elements.')"
   ]
  },
  {
   "cell_type": "code",
   "execution_count": 81,
   "metadata": {},
   "outputs": [],
   "source": [
    "def dataDoubler(dataset):\n",
    "    resolution = (640,352) \n",
    "    flipped_dataset = []\n",
    "\n",
    "# Calculate the simetric quadrant, where the input is an int and the output is a list of 1 element.\n",
    "# Given the numeration of quadrants (stated in 2.1.1), a simple addition/subtraction of 3 or 5 will yield\n",
    "# the simetric quadrant\n",
    "\n",
    "    def flipped_quadrant(quadrant):\n",
    "        if quadrant in [1,3,9,11]:\n",
    "            flipped_quadrant = quadrant + 3 \n",
    "        elif quadrant in [4,6,12,14]:\n",
    "            flipped_quadrant = quadrant - 3 \n",
    "        elif quadrant in [0,2,8,10]:\n",
    "            flipped_quadrant = quadrant + 5\n",
    "        elif quadrant in [5,7,13,15]:\n",
    "            flipped_quadrant = quadrant - 5  \n",
    "        return [flipped_quadrant]\n",
    "\n",
    "    def flip_shortlong(bigList):\n",
    "        if len(bigList) != 32:\n",
    "            print(bigList)\n",
    "            print(len(bigList))\n",
    "            return 'auch'\n",
    "        else:\n",
    "            newList=[bigList[5],bigList[4],bigList[7],bigList[6],bigList[1],bigList[0],bigList[3],bigList[2],\\\n",
    "                 bigList[13],bigList[12],bigList[15],bigList[14],bigList[9],bigList[8],bigList[11],bigList[10],\\\n",
    "                 bigList[16+5],bigList[16+4],bigList[16+7],bigList[16+6],bigList[16+1],bigList[16+0],bigList[16+3],bigList[16+2],\\\n",
    "                 bigList[16+13],bigList[16+12],bigList[16+15],bigList[16+14],bigList[16+9],bigList[16+8],bigList[16+11],bigList[16+10]]\n",
    "            return newList\n",
    "    \n",
    "    for element in dataset:\n",
    "        flipped_element = []\n",
    "        for i in range(len(element) - 34):\n",
    "\n",
    "            # Every even index (up to the 14th: indexes that correspond to coordinates of poseKeypoints) contains \n",
    "            # an X coordinate, from which can be obtained the simetric coordinate (by subtracting to the width\n",
    "            # the original X), note that Y is irrelevant to horizontal simetry.\n",
    "\n",
    "            if i%2 == 0 and element[i] != -1: \n",
    "                flipped_element += [resolution[0] - element[i]]\n",
    "\n",
    "            else: #y or x == -1\n",
    "                flipped_element += [element[i]]       \n",
    "\n",
    "        flipped_dataset += [flipped_element + flip_shortlong(element[16:-2]) + [element[-2] + 'i'] + flipped_quadrant(element[-1])]\n",
    "\n",
    "    dataset += flipped_dataset\n",
    "    return dataset"
   ]
  },
  {
   "cell_type": "code",
   "execution_count": 82,
   "metadata": {},
   "outputs": [],
   "source": [
    "training_data = dataDoubler(training_data)\n",
    "testing_data = dataDoubler(testing_data)"
   ]
  },
  {
   "cell_type": "code",
   "execution_count": 83,
   "metadata": {},
   "outputs": [
    {
     "name": "stdout",
     "output_type": "stream",
     "text": [
      "Now, it has 11538 elements.\n"
     ]
    }
   ],
   "source": [
    "print('Now, it has ' + str(len(training_data)) + ' elements.')"
   ]
  },
  {
   "cell_type": "markdown",
   "metadata": {},
   "source": [
    "### 2.3 Feature Engineering"
   ]
  },
  {
   "cell_type": "markdown",
   "metadata": {},
   "source": [
    "Some indirect features are extracted from previous features. Those are a product of basic algebra of previous information, like the angle of the head, the distance beetween hands and the nose or the angle each arm makes with the head."
   ]
  },
  {
   "cell_type": "code",
   "execution_count": 12,
   "metadata": {},
   "outputs": [],
   "source": [
    "def head_angle(x_nose,y_nose,x_neck,y_neck):\n",
    "    #angle() calculates the angle at which the head is tilted using the coordinates of the nose and neck\n",
    "    if x_nose>=0 and x_neck>=0:\n",
    "        x=abs(x_nose-x_neck)\n",
    "        y=abs(y_nose-y_neck)\n",
    "        angle=math.atan(y/x)\n",
    "        if x_nose-x_neck<0:\n",
    "            angle+=math.pi/2\n",
    "        return [int(angle)]\n",
    "    else:\n",
    "        return [-1]\n",
    "\n",
    "    \n",
    "def hand_distance(x_rhand,y_rhand,x_lhand,y_lhand,x_nose,y_nose):\n",
    "    #hand_distance() calculates the distance between the hands and the face using the nose coordinates\n",
    "    right=-1\n",
    "    left=-1\n",
    "    if x_rhand>=0 and x_nose>=0:\n",
    "        right=math.sqrt((x_rhand-x_nose)**2+(y_rhand-y_nose)**2)\n",
    "        \n",
    "    if x_lhand>=0 and x_nose>=0:\n",
    "        left=math.sqrt((x_lhand-x_nose)**2+(y_lhand-y_nose)**2)\n",
    "    \n",
    "    distances=[int(right),int(left)]\n",
    "    return distances\n",
    "\n",
    "\n",
    "def hand_angles(x_rhand,y_rhand,x_lhand,y_lhand,x_neck,y_neck):\n",
    "    #hand_angles() calculates the angle between each arm and the horizontal axis\n",
    "    r_angle=-1\n",
    "    l_angle=-1\n",
    "    if x_rhand>=0 and x_neck>=0:\n",
    "        x=abs(x_rhand-x_neck)\n",
    "        y=abs(y_rhand-y_neck)\n",
    "        r_angle=math.atan(y/x)\n",
    "    if x_lhand>=0 and x_neck>=0:\n",
    "        x=abs(x_lhand-x_neck)\n",
    "        y=abs(y_lhand-y_neck)\n",
    "        l_angle=math.atan(y/x)\n",
    "        \n",
    "    angles=[int(r_angle),int(l_angle)]\n",
    "    return angles"
   ]
  },
  {
   "cell_type": "code",
   "execution_count": 13,
   "metadata": {},
   "outputs": [],
   "source": [
    "training_data = [i[:-2] + head_angle(i[0],i[1],i[2],i[3]) + hand_distance(i[12],i[13],i[14],i[15],i[0],i[1]) + hand_angles(i[12],i[13],i[14],i[15],i[2],i[3]) + i[-2:] for i in training_data]\n",
    "testing_data = [i[:-2] + head_angle(i[0],i[1],i[2],i[3]) + hand_distance(i[12],i[13],i[14],i[15],i[0],i[1]) + hand_angles(i[12],i[13],i[14],i[15],i[2],i[3]) + i[-2:] for i in testing_data]"
   ]
  },
  {
   "cell_type": "markdown",
   "metadata": {},
   "source": [
    "Each vector now has this format:\n",
    "``[x_nose, y_nose, x_neck, y_neck, x_right ear, y_right ear, x_left ear, y_left ear, x_right eye, y_right eye, x_left eye, y_left eye, x_right hand, y_right hand, x_left hand, y_left hand, ... contextual information - 32 positions ..., head (nose to neck) angle, distance from head to hand x & y, heat to arm angle, quadrant]``"
   ]
  },
  {
   "cell_type": "markdown",
   "metadata": {},
   "source": [
    "### 2.4 Balancing the dataset"
   ]
  },
  {
   "cell_type": "markdown",
   "metadata": {},
   "source": [
    "Due to home made datasef crafting, and inherent bias, some quadrants tend to be more prevalent. So in order not to overfeed the classifier, the number of times each quadrant is the ground truth should be more normalized."
   ]
  },
  {
   "cell_type": "markdown",
   "metadata": {},
   "source": [
    "Firstly lets visualise the distributtion of data with the following function"
   ]
  },
  {
   "cell_type": "code",
   "execution_count": 84,
   "metadata": {},
   "outputs": [],
   "source": [
    "import numpy as np; np.random.seed(0)\n",
    "import matplotlib.pyplot as plt\n",
    "import seaborn as sns; sns.set()\n",
    "import random\n",
    "%matplotlib inline\n",
    "\n",
    "def heatmap (dataset):\n",
    "    #in the quadrant_count list, each number corresponds to the number of samples where the object is in that\n",
    "    #quadrant so quadrant_count[0] is the number of samples in the 0 quadrant\n",
    "    quadrant_count=[0,0,0,0,0,0,0,0,0,0,0,0,0,0,0,0]\n",
    "    for i in range(len(dataset)):\n",
    "        quad=dataset[i][-1]\n",
    "        quadrant_count[quad]=quadrant_count[quad]+1\n",
    "    data=[[quadrant_count[0],quadrant_count[1],quadrant_count[4],quadrant_count[5]],\\\n",
    "           [quadrant_count[2],quadrant_count[3],quadrant_count[6],quadrant_count[7]],\\\n",
    "           [quadrant_count[8],quadrant_count[9],quadrant_count[12],quadrant_count[13]],\\\n",
    "           [quadrant_count[10],quadrant_count[11],quadrant_count[14],quadrant_count[15]]]\n",
    "    sns.heatmap(data, annot=True, fmt=\"d\",linewidths=0.5,yticklabels=False,xticklabels=False,cbar=False)\n",
    "    return quadrant_count"
   ]
  },
  {
   "cell_type": "markdown",
   "metadata": {},
   "source": [
    "Prior to leveling, we have"
   ]
  },
  {
   "cell_type": "code",
   "execution_count": 85,
   "metadata": {
    "scrolled": false
   },
   "outputs": [
    {
     "data": {
      "text/plain": [
       "[79, 78, 983, 827, 78, 79, 827, 983, 973, 1693, 391, 745, 1693, 973, 745, 391]"
      ]
     },
     "execution_count": 85,
     "metadata": {},
     "output_type": "execute_result"
    },
    {
     "data": {
      "image/png": "[encoded data removed]",
      "text/plain": [
       "<Figure size 432x288 with 1 Axes>"
      ]
     },
     "metadata": {},
     "output_type": "display_data"
    }
   ],
   "source": [
    "#dataset=[[1,1,0],[2,2,0],[1,2,1],[1,2,1],[0,0,2],[1,3,3],[3,2,3],[1,2,3],[1,5,4],[5,5,5],[1,2,6],[1,2,7],[6,2,8],[1,3,9],[2,3,9],[3,3,9],[4,3,9],[5,3,9],[3,0,10],[1,3,11],[1,2,12],[3,3,13],[4,4,14],[5,3,15],[2,3,15]]\n",
    "heatmap(training_data)"
   ]
  },
  {
   "cell_type": "code",
   "execution_count": 86,
   "metadata": {},
   "outputs": [],
   "source": [
    "def levelling (dataset,percent):\n",
    "    #percent indicates de percentage of samples we'll allow of difference \n",
    "    #between the smallest samples and all the rest\n",
    "    quadrant_count=heatmap(dataset)\n",
    "    a=quadrant_count[0]\n",
    "    #we'll use the following cycle to find out what is the smallest number of samples we have in one quadrant\n",
    "    #(doesn't matter which quadrant that is)\n",
    "    for i in quadrant_count:\n",
    "        if i<a:\n",
    "            a=i\n",
    "    max=int((percent+1)*a)\n",
    "    excess=[0,0,0,0,0,0,0,0,0,0,0,0,0,0,0,0]\n",
    "    for i in range(len(quadrant_count)):\n",
    "        if quadrant_count[i]>max:\n",
    "            excess[i]=quadrant_count[i]-max\n",
    "        else:\n",
    "            excess[i]=0\n",
    "    \n",
    "    b=[[],[],[],[],[],[],[],[],[],[],[],[],[],[],[],[]]\n",
    "    for j in dataset:\n",
    "        b[j[-1]]+=[j]\n",
    "    for k in range(len(b)):\n",
    "        for l in range(excess[k]):\n",
    "            c=random.choice(b[k])\n",
    "            b[k].remove(c)\n",
    "    dataset=[]\n",
    "    for m in b:\n",
    "        dataset+=m\n",
    "    random.shuffle(dataset)\n",
    "    return dataset"
   ]
  },
  {
   "cell_type": "code",
   "execution_count": 87,
   "metadata": {
    "scrolled": false
   },
   "outputs": [
    {
     "data": {
      "text/plain": [
       "[79, 78, 171, 171, 78, 79, 171, 171, 171, 171, 171, 171, 171, 171, 171, 171]"
      ]
     },
     "execution_count": 87,
     "metadata": {},
     "output_type": "execute_result"
    },
    {
     "data": {
      "image/png": "[encoded data removed]",
      "text/plain": [
       "<Figure size 432x288 with 1 Axes>"
      ]
     },
     "metadata": {},
     "output_type": "display_data"
    }
   ],
   "source": [
    "training_data = levelling(training_data,1.2)\n",
    "heatmap(training_data)\n",
    "#guardar o novo dataset em dataset, var global"
   ]
  },
  {
   "cell_type": "code",
   "execution_count": 88,
   "metadata": {
    "scrolled": true
   },
   "outputs": [
    {
     "data": {
      "text/plain": [
       "[53, 71, 112, 112, 71, 53, 112, 112, 112, 112, 51, 112, 112, 112, 112, 51]"
      ]
     },
     "execution_count": 88,
     "metadata": {},
     "output_type": "execute_result"
    },
    {
     "data": {
      "image/png": "[encoded data removed]",
      "text/plain": [
       "<Figure size 432x288 with 1 Axes>"
      ]
     },
     "metadata": {},
     "output_type": "display_data"
    }
   ],
   "source": [
    "testing_data = levelling(testing_data,1.2)\n",
    "heatmap(testing_data)"
   ]
  },
  {
   "cell_type": "markdown",
   "metadata": {},
   "source": [
    "## 3. Training the models & Classifying"
   ]
  },
  {
   "cell_type": "markdown",
   "metadata": {},
   "source": [
    "### 3.1 Separating the input from the groundtruth"
   ]
  },
  {
   "cell_type": "markdown",
   "metadata": {},
   "source": [
    "Here, we separate the classifiers's input list of vectors(X) from the list of quadrants(Y), in order to have the desired format for the scikit learn module. In addition, we also have ``info`` that contains the name of the frame, so that it can be later analysed with the obtained results."
   ]
  },
  {
   "cell_type": "code",
   "execution_count": 89,
   "metadata": {},
   "outputs": [],
   "source": [
    "def eXifY(data):\n",
    "    X, Y, info = [element[0:-2] for element in data], [element[-1] for element in data], [element[-2] for element in data]\n",
    "    return X, Y, info"
   ]
  },
  {
   "cell_type": "code",
   "execution_count": 90,
   "metadata": {},
   "outputs": [
    {
     "data": {
      "text/plain": [
       "True"
      ]
     },
     "execution_count": 90,
     "metadata": {},
     "output_type": "execute_result"
    }
   ],
   "source": [
    "len(eXifY(training_data)[0]) == len(eXifY(training_data)[1])"
   ]
  },
  {
   "cell_type": "markdown",
   "metadata": {},
   "source": [
    "### 3.2 Training & Classifying"
   ]
  },
  {
   "cell_type": "markdown",
   "metadata": {},
   "source": [
    "Since the goal is the comparison of the accuracy of classifications according to the type of information given, we are going to train 4 models, with 4 different clusters of features, and test them to see the differences in success rate.\n",
    "Below are defined the training and testing functions, respectively."
   ]
  },
  {
   "cell_type": "code",
   "execution_count": 70,
   "metadata": {},
   "outputs": [],
   "source": [
    "#Support Vector Classification\n",
    "from sklearn.model_selection import cross_val_score\n",
    "from sklearn.svm import SVC\n",
    "from sklearn import tree\n",
    "from joblib import dump, load\n",
    "from sklearn.model_selection import GridSearchCV\n",
    "from sklearn import svm\n",
    "#Confusion Matrix\n",
    "from sklearn.metrics import confusion_matrix\n",
    "from sklearn.metrics import classification_report\n",
    "from pandas import DataFrame\n",
    "import seaborn as sns\n",
    "#PCA\n",
    "import sklearn as sl\n",
    "from sklearn.preprocessing import StandardScaler as ss\n",
    "from sklearn.decomposition import PCA \n",
    "from sklearn import utils\n",
    "\n",
    "#Labelling classifiers\n",
    "import datetime\n",
    "import joblib"
   ]
  },
  {
   "cell_type": "code",
   "execution_count": 23,
   "metadata": {
    "scrolled": true
   },
   "outputs": [],
   "source": [
    "def training(X,Y):\n",
    "   \n",
    "    nfolds=5 #5-fold cross-validation\n",
    "    #Cs = [1e3,1e4,1e5,1e6,1e7,1e8,1e9] #parameter 1\n",
    "    #gammas = [1e-3,1e-4,1e-5,1e-6,1e-7,1e-8,1e-9] #parameter 2 \n",
    "    #param_grid = {'C': Cs, 'gamma' : gammas} #all in one grid\n",
    "    #grid_search2 = GridSearchCV(svm.SVC(kernel='rbf'), param_grid, cv=nfolds) #svm classifier\n",
    "    #grid_search2.fit(X, Y) #fitting the data\n",
    "    #best=grid_search2.best_params_ \n",
    "    \n",
    "    #clf = SVC(C= best['C'],gamma=best['gamma']) #creating the model with the best parameters\n",
    "    clf = SVC(C = 100,gamma = 1e-5)\n",
    "    clf.fit(X, Y) #fitting the model to the data\n",
    "    \n",
    "    #  clftree = tree.DecisionTreeClassifier()\n",
    "    #  clftree = clftree.fit(X, Y)\n",
    "    #clftree.predict(X)\n",
    "    #tree.plot_tree(clftree)\n",
    "    #resultree = clftree.score(X, Y)\n",
    "    #resultree\n",
    "\n",
    "    now = datetime.datetime.now()\n",
    "    timestamp = str(now.strftime(\"%d-%m-%Y_%Hh%Mm%Ss\")) #the current day and time to have in the classifier name \n",
    "    \n",
    "\n",
    "    datatype='0'\n",
    "    #to insert in the name of the classifier and text files which of the 4 groups of coordinates is the classifier using\n",
    "    if (len(X[0])) == 13: #(head)\n",
    "        datatype='Head'\n",
    "    elif (len(X[0])) == 21: #(head + hands)\n",
    "        datatype='Head_Hands'\n",
    "    elif (len(X[0])) == 45: #(head + context data)\n",
    "        datatype='Head_Context_data_Rich'\n",
    "    elif (len(X[0])) == 29: #(head + context data)\n",
    "        datatype='Head_Context_data_Poor'        \n",
    "    elif (len(X[0])) == 53: #(head + context data)\n",
    "        datatype='All_Rich_Context'\n",
    "    elif (len(X[0])) == 37: #(all) \n",
    "        datatype='All_Poor_Context'\n",
    "     \n",
    "    info_classif='classifier_' + timestamp + '_' + datatype +'_info.txt'\n",
    "    with open(info_classif, 'w+')  as info:\n",
    "        info.write('Group of Coordinates: '+ datatype + '\\n')\n",
    "        info.write('Type of classifier: SVM\\n') # python will convert \\n to os.linesep\n",
    "        #info.write('C:'+str(best['C'])+'\\n')\n",
    "        #info.write('Gamma:'+str(best['gamma'])+'\\n')\n",
    "\n",
    "    \n",
    "    classif = 'classifier_'+ timestamp + '_'+ datatype +'.joblib'\n",
    "    #  classictree = 'experiencetree.joblib'\n",
    "    dump(clf, classif) \n",
    "    #  dump(clftree,classictree)\n",
    "                       \n",
    "    return classif,info_classif #,classictree"
   ]
  },
  {
   "cell_type": "code",
   "execution_count": 26,
   "metadata": {
    "scrolled": false
   },
   "outputs": [],
   "source": [
    "def testing(X,Y,info,classif,info_classif):  #,classictree#):\n",
    "    \n",
    "    clf  = joblib.load(classif)\n",
    "    #clftree=joblib.load(classictree)\n",
    "    #clftree.predict(X)\n",
    "    #tree.plot_tree(clftree)\n",
    "    #resultree = clftree.score(X, Y)\n",
    "    #resultree\n",
    "    \n",
    "    result = clf.score(X, Y)\n",
    "    \n",
    "    Qpredicted= []\n",
    "    \n",
    "    Treepredicted= []\n",
    "    \n",
    "    i=0\n",
    "    sco3=0\n",
    "    sco3list = []\n",
    "    sco2=0\n",
    "    sco2list = []\n",
    "    sco1=0\n",
    "    sco1list = []\n",
    "    sco0=0\n",
    "    sco0list = []\n",
    "    \n",
    "    scoTREE3=0\n",
    "    \n",
    "    length=len(X)\n",
    "    \n",
    "    \n",
    "\n",
    "    while i != length:\n",
    "        Qpredicted+= [str(clf.predict(np.array([X[i]]))).strip('['+']'+'\"')] #predict\n",
    "        Y[i]= str(Y[i]) #converting to a string\n",
    "        \n",
    "        \n",
    "        if Y[i]== Qpredicted[i]:\n",
    "            sco3+=1\n",
    "            sco3list += [(Qpredicted[i],Y[i],info[i])]   \n",
    "            \n",
    "        #Treepredicted+= [str(clftree.predict(np.array([X[i]]))).strip('['+']'+'\"')] #predict\n",
    "        #Y[i]= str(Y[i]) #converting to a string\n",
    "        #if Y[i]== Treepredicted[i]:\n",
    "         #   scoTREE3+=1\n",
    "            \n",
    "            \n",
    "        if (Y[i]== '0' and Qpredicted[i] in ['1','2','3']) or (Y[i]== '1' and Qpredicted[i] in ['0','2','3','6','4']) or\\\n",
    "            (Y[i]== '2' and Qpredicted[i] in ['0','1','3','8','9']) or\\\n",
    "            (Y[i]== '3' and Qpredicted[i] in ['0','1','4','2','6','8','9','12']) or\\\n",
    "            (Y[i]== '4' and Qpredicted[i] in ['1','5','3','6','7']) or (Y[i]== '5' and Qpredicted[i] in ['4','6','7']) or\\\n",
    "            (Y[i]== '6' and Qpredicted[i] in ['1','4','5','3','7','9','12','13']) or\\\n",
    "            (Y[i]== '7' and Qpredicted[i] in ['4','5','6','12','13']) or\\\n",
    "            (Y[i]== '8' and Qpredicted[i] in ['2','3','9','10','11']) or\\\n",
    "            (Y[i]== '9' and Qpredicted[i] in ['2','3','6','8','12','10','11','14']) or\\\n",
    "            (Y[i]== '10' and Qpredicted[i] in ['8','9','11']) or (Y[i]== '11' and Qpredicted[i] in ['8','9','12','10','14']) or\\\n",
    "            (Y[i]== '12' and Qpredicted[i] in ['3','6','7','9','13','11','15']) or\\\n",
    "            (Y[i]== '13' and Qpredicted[i] in ['6','7','12','14','15']) or\\\n",
    "            (Y[i]== '14' and Qpredicted[i] in ['9','12','13','11','15']) or (Y[i]== '15' and Qpredicted[i] in ['12','13','14']):\n",
    "            sco2+=1\n",
    "            sco2list += [(Qpredicted[i],Y[i],info[i])]            \n",
    "            \n",
    "            \n",
    "        if (Y[i]== '0' and Qpredicted[i] in ['4','6','8','9','12']) or\\\n",
    "            (Y[i]== '1' and Qpredicted[i] in ['8','9','12','13','7','5']) or\\\n",
    "            (Y[i]== '2' and Qpredicted[i] in ['4','6','12','14','10','11']) or\\\n",
    "            (Y[i]== '3' and Qpredicted[i] in ['10','11','14','15','13','7','5']) or\\\n",
    "            (Y[i]== '4' and Qpredicted[i] in ['0','2','8','9','12','13']) or\\\n",
    "            (Y[i]== '5' and Qpredicted[i] in ['1','3','9','12','13']) or\\\n",
    "            (Y[i]== '6' and Qpredicted[i] in ['0','2','8','10','11','14','15']) or\\\n",
    "            (Y[i]== '7' and Qpredicted[i] in ['1','3','9','11','14','15']) or\\\n",
    "            (Y[i]== '8' and Qpredicted[i] in ['0','1','4','6','12','14']) or\\\n",
    "            (Y[i]== '9' and Qpredicted[i] in ['0','1','4','5','7','13','15']) or\\\n",
    "            (Y[i]== '10' and Qpredicted[i] in ['2','3','6','12','14']) or\\\n",
    "            (Y[i]== '11' and Qpredicted[i] in ['2','3','6','7','13','15']) or\\\n",
    "            (Y[i]== '12' and Qpredicted[i] in ['10','8','2','0','1','4','5']) or\\\n",
    "            (Y[i]== '13' and Qpredicted[i] in ['1','4','5','3','9','11']) or\\\n",
    "            (Y[i]== '14' and Qpredicted[i] in ['2','3','6','7','8','10'])or\\\n",
    "            (Y[i]== '15' and Qpredicted[i] in ['3','6','7','9','11']):\n",
    "            sco1+=1\n",
    "            sco1list += [(Qpredicted[i],Y[i],info[i])]   \n",
    "            \n",
    "        if (Y[i]== '0' and Qpredicted[i] in ['5','7','13','15','10','11','14']) or\\\n",
    "            (Y[i] in ['1','4'] and Qpredicted[i] in ['10','11','14','15']) or\\\n",
    "            (Y[i] in ['2','8'] and Qpredicted[i] in ['5','7','13','15']) or\\\n",
    "            (Y[i]== '5' and Qpredicted[i] in ['0','2','8','10','11','14','15']) or\\\n",
    "            (Y[i] in ['7','13'] and Qpredicted[i] in ['0','2','8','10']) or\\\n",
    "            (Y[i]== '10' and Qpredicted[i] in ['0','1','4','5','7','13','15']) or\\\n",
    "            (Y[i] in ['11','14'] and Qpredicted[i] in ['0','1','4','5']) or\\\n",
    "            (Y[i]== '15' and Qpredicted[i] in ['0','2','8','10','1','4','5']):\n",
    "            sco0+=1 \n",
    "            sco0list += [(Qpredicted[i],Y[i],info[i])]             \n",
    "            \n",
    "            \n",
    "        i+=1\n",
    "\n",
    "            \n",
    "    rangescore= (3*sco3+2*sco2+sco1)\n",
    "    rangescoreper=(rangescore/(3*len(Y)))*100\n",
    "    sco3per= sco3/len(Y)*100\n",
    "    sco2per= sco2/len(Y)*100\n",
    "    sco1per= sco1/len(Y)*100\n",
    "    sco0per= sco0/len(Y)*100\n",
    "    \n",
    "    \n",
    "    #sco3TREEE= scoTREE3/len(Y)*100\n",
    "    #print('TREE SCORE =' + str(round(sco3TREEE,2))+ ' %\\n') \n",
    "        \n",
    "    print('The percentage of success was: ' + str(round(result*100))+ ' %\\n')\n",
    "    print('The range score was ' + str(rangescore) + ' out of ' + str(3*len(Y)) + ' : ' + str(round(rangescoreper,2)) + ' % \\n')\n",
    "    print('The score 3 was: ' + str(round(sco3per,2))+ ' %\\n')\n",
    "    print('The score 2 was: ' + str(round(sco2per,2))+ ' %\\n')\n",
    "    print('The score 1 was: ' + str(round(sco1per,2))+ ' %\\n')\n",
    "    print('The score 0 was: ' + str(round(sco0per,2))+ ' %\\n')\n",
    "    \n",
    "    with open(info_classif, 'a')  as f:\n",
    "        f.write('\\n----\\n')\n",
    "        f.write('The percentage of success was: ' + str(round(result*100)) + ' %\\n')\n",
    "        f.write('The range score was ' + str(rangescore) + ' out of ' + str(3*len(Y)) + ' : ' + str(round(rangescoreper,2)) + ' % \\n')\n",
    "        f.write('The score 3 was: ' + str(round(sco3per,2))+ ' %\\n')\n",
    "        f.write('The score 2 was: ' + str(round(sco2per,2))+ ' %\\n')\n",
    "        f.write('The score 1 was: ' + str(round(sco1per,2))+ ' %\\n')\n",
    "        f.write('The score 0 was: ' + str(round(sco0per,2))+ ' %\\n')\n",
    "        f.write('\\n----\\n')\n",
    "        f.write('\\n--Scores for each image--\\n')\n",
    "        f.write(str((3,sco3list)))\n",
    "        f.write('\\n \\n')\n",
    "        f.write(str((2,sco2list)))   \n",
    "        f.write('\\n \\n')\n",
    "        f.write(str((1,sco1list)))   \n",
    "        f.write('\\n \\n')\n",
    "        f.write(str((0,sco0list)))                      \n",
    "        \n",
    "    CONF= confusion_matrix(np.array(Y), np.array(Qpredicted))\n",
    "    \n",
    "    labels=[0,1,2,3,4,5,6,7,8,9,10,11,12,13,14,15]\n",
    "    print(classification_report(np.array(Y), np.array(Qpredicted), labels=labels))\n",
    "\n",
    "    return CONF, result, Qpredicted"
   ]
  },
  {
   "cell_type": "markdown",
   "metadata": {},
   "source": [
    "#### 3.2.1 Using only the face keypoints"
   ]
  },
  {
   "cell_type": "markdown",
   "metadata": {},
   "source": [
    "Below we will:<br> \n",
    " - Delete the coordinates we don't need (mentioned before) from the whole training data;<br> \n",
    " - Train the model with only the head coordinates using the training function (defined before);<br> \n",
    " - Delete the coordinates we don't need (mentioned before) from the whole testing data;<br> \n",
    " - Test the model with only the head coordinates using the training function (defined before)."
   ]
  },
  {
   "cell_type": "code",
   "execution_count": 27,
   "metadata": {},
   "outputs": [
    {
     "name": "stdout",
     "output_type": "stream",
     "text": [
      "[458.71909, 2.862819, 452.97166000000004, 32.99228, 475.91995, 2.8746758, 437.72222999999997, 2.8803804, 467.30038, 2.8807027, 451.10428, 2.8807921, -1, -1, 395.60103000000004, 105.69388, 0, 0, 0, 0, 0, 0, 0, 0, 0, 0, 0, 0, 0, 0, 0, 0, 0, 1, 0, 0, 0, 0, 0, 0, 0, 0, 0, 0, 0, 0, 0, 0, 1, -1, 120, -1, 0, '2020-10-05_ant_plant_pottedplant_7212i', 1]\n"
     ]
    }
   ],
   "source": [
    "print(training_data[0]) #complete vector"
   ]
  },
  {
   "cell_type": "code",
   "execution_count": 91,
   "metadata": {},
   "outputs": [
    {
     "name": "stdout",
     "output_type": "stream",
     "text": [
      "13\n",
      "[231.10913, 133.48405, 171.81225999999998, 192.7378, -1, -1, 170.84467, 131.51552, 229.19702, 122.92785, 214.89319999999998, 119.13738, 0]\n"
     ]
    }
   ],
   "source": [
    "X, Y, info = eXifY(training_data)\n",
    "X = [element[:12] + [element[-5]] for element in X]\n",
    "print(len(X[0]))  #vector with relevant keypoints\n",
    "print(X[0])\n"
   ]
  },
  {
   "cell_type": "code",
   "execution_count": 30,
   "metadata": {},
   "outputs": [],
   "source": [
    "classif,info_classif = training(X,Y)"
   ]
  },
  {
   "cell_type": "code",
   "execution_count": 92,
   "metadata": {},
   "outputs": [],
   "source": [
    "X, Y, info = eXifY(testing_data)\n",
    "X = [element[:12] + [element[-5]] for element in X]"
   ]
  },
  {
   "cell_type": "code",
   "execution_count": 32,
   "metadata": {},
   "outputs": [
    {
     "name": "stdout",
     "output_type": "stream",
     "text": [
      "The percentage of success was: 17.0 %\n",
      "\n",
      "The range score was 2519 out of 4410 : 57.12 % \n",
      "\n",
      "The score 3 was: 16.53 %\n",
      "\n",
      "The score 2 was: 49.18 %\n",
      "\n",
      "The score 1 was: 23.4 %\n",
      "\n",
      "The score 0 was: 10.34 %\n",
      "\n",
      "              precision    recall  f1-score   support\n",
      "\n",
      "           0       0.00      0.00      0.00        53\n",
      "           1       0.00      0.00      0.00        71\n",
      "           2       0.24      0.34      0.28       112\n",
      "           3       0.12      0.12      0.12       112\n",
      "           4       0.00      0.00      0.00        71\n",
      "           5       0.00      0.00      0.00        53\n",
      "           6       0.18      0.12      0.15       112\n",
      "           7       0.13      0.11      0.12       112\n",
      "           8       0.15      0.21      0.18       112\n",
      "           9       0.23      0.20      0.21       112\n",
      "          10       0.15      0.16      0.15        51\n",
      "          11       0.32      0.36      0.34       112\n",
      "          12       0.06      0.07      0.07       112\n",
      "          13       0.17      0.27      0.21       112\n",
      "          14       0.13      0.15      0.14       112\n",
      "          15       0.31      0.31      0.31        51\n",
      "\n",
      "   micro avg       0.17      0.17      0.17      1470\n",
      "   macro avg       0.14      0.15      0.14      1470\n",
      "weighted avg       0.15      0.17      0.15      1470\n",
      "\n",
      "[[ 0  0  0  9  0  3 22  0  8  2  0  0  1  0  7  1]\n",
      " [ 0  0  1  0  0  3  0  0  9 11  0  0 10 28  4  5]\n",
      " [ 1  1  8  0  8  0  0  0  1 10  1  0  0  9  9  3]\n",
      " [ 0 22  4 40 12  1  0  0  0  2  3  0  4  0 22  2]\n",
      " [ 0  1  0  1  8 28  8  4  1 18 11  0  6  9  4 13]\n",
      " [ 1  0  0  7 15 30 10 16  8  4  0 11  0  6  0  4]\n",
      " [ 0  3  0  6 22  8 17  9  0  6 25  0  3  1  0 12]\n",
      " [ 0  0  0  0 12  5  1 16  9  1  1  2  0  0  0  4]\n",
      " [ 0  0  6  9  4  0 22  0 38  6  0  0  6  0 18  3]\n",
      " [ 1  0  5  4  9  1  0  1 24 14  2  0  6  2 37  6]\n",
      " [ 0  0  0  0  3  7  0  0 23 11  0  0 13  6  7  1]\n",
      " [ 0  0  0  2  3 14 22  0  0  2  1  0  0  8  1  0]\n",
      " [ 0  1  0  4 10 35  7  0  7 14  0  2 14 11  1  6]\n",
      " [ 0  0  0 23  8 39 11  4  0  4  4  2  3 12  0  2]\n",
      " [ 0  0 27 11  4  0  6  0 12  5  0  6  6  0 24 11]\n",
      " [ 1  7  3 10 11  2  5  1 19  3  0  0  4  1 23 22]]\n"
     ]
    }
   ],
   "source": [
    "CONF1, result, Qpredicted = testing(X,Y,info,classif,info_classif)\n",
    "#print(Qpredicted)\n",
    "#print(Y)\n",
    "print(CONF1)"
   ]
  },
  {
   "cell_type": "markdown",
   "metadata": {},
   "source": [
    "#### 3.2.2 Using only keypoints (face + hands)"
   ]
  },
  {
   "cell_type": "markdown",
   "metadata": {},
   "source": [
    "Since we're only using  the keypoints of the head and the hands, we'll delete context information about the difference short/long distance object.<br> \n",
    "The keypoints (head + hands) coordinates are the first 10 (5*2) + 4 (2*2)(x,y), giving a total of 14.<br> \n",
    "The rest of the procedure is the same as in 3.2.1.:"
   ]
  },
  {
   "cell_type": "markdown",
   "metadata": {},
   "source": [
    "Below we will:<br> \n",
    " - Delete the coordinates we don't need (mentioned before) from the whole training data;<br> \n",
    " - Train the model with only the head + hand coordinates using the training function (defined before);<br> \n",
    " - Delete the coordinates we don't need (mentioned before) from the whole testing data;<br> \n",
    " - Test the model with only the head + hand coordinates using the training function (defined before)."
   ]
  },
  {
   "cell_type": "code",
   "execution_count": 33,
   "metadata": {
    "scrolled": true
   },
   "outputs": [
    {
     "data": {
      "text/plain": [
       "21"
      ]
     },
     "execution_count": 33,
     "metadata": {},
     "output_type": "execute_result"
    }
   ],
   "source": [
    "X, Y, info = eXifY(training_data)\n",
    "X = [element[:16] + element[48:] for element in X]\n",
    "len(X[0])"
   ]
  },
  {
   "cell_type": "code",
   "execution_count": 34,
   "metadata": {},
   "outputs": [],
   "source": [
    "classif,info_classif=training(X,Y)"
   ]
  },
  {
   "cell_type": "code",
   "execution_count": 35,
   "metadata": {},
   "outputs": [
    {
     "data": {
      "text/plain": [
       "21"
      ]
     },
     "execution_count": 35,
     "metadata": {},
     "output_type": "execute_result"
    }
   ],
   "source": [
    "X, Y, info = eXifY(testing_data)\n",
    "X = [element[:16] + element[48:] for element in X]\n",
    "len(X[0])"
   ]
  },
  {
   "cell_type": "code",
   "execution_count": 36,
   "metadata": {},
   "outputs": [
    {
     "name": "stdout",
     "output_type": "stream",
     "text": [
      "The percentage of success was: 16.0 %\n",
      "\n",
      "The range score was 2474 out of 4410 : 56.1 % \n",
      "\n",
      "The score 3 was: 16.26 %\n",
      "\n",
      "The score 2 was: 44.63 %\n",
      "\n",
      "The score 1 was: 30.27 %\n",
      "\n",
      "The score 0 was: 7.21 %\n",
      "\n",
      "              precision    recall  f1-score   support\n",
      "\n",
      "           0       0.00      0.00      0.00        53\n",
      "           1       0.28      0.07      0.11        71\n",
      "           2       0.25      0.30      0.28       112\n",
      "           3       0.08      0.08      0.08       112\n",
      "           4       0.22      0.08      0.12        71\n",
      "           5       0.00      0.00      0.00        53\n",
      "           6       0.18      0.11      0.13       112\n",
      "           7       0.27      0.25      0.26       112\n",
      "           8       0.28      0.30      0.29       112\n",
      "           9       0.08      0.13      0.10       112\n",
      "          10       0.10      0.12      0.11        51\n",
      "          11       0.19      0.25      0.22       112\n",
      "          12       0.06      0.07      0.06       112\n",
      "          13       0.27      0.29      0.28       112\n",
      "          14       0.11      0.15      0.13       112\n",
      "          15       0.06      0.08      0.07        51\n",
      "\n",
      "   micro avg       0.16      0.16      0.16      1470\n",
      "   macro avg       0.15      0.14      0.14      1470\n",
      "weighted avg       0.17      0.16      0.16      1470\n",
      "\n",
      "[[ 0  0  0  1 11  2 19  1  5  0  0  0  0 10  4  0]\n",
      " [ 1  5  1  0  2  1  3  4  5  8  1  0 12 20  3  5]\n",
      " [ 1  4  6  2  0  0  9  1  1 11  0  0  0  0  5 11]\n",
      " [ 0  0  7 28  3  2  2  0  9 13  0  0  1  0 11 36]\n",
      " [ 1  2  1  6  8 12 24  3  4 21  2  2  1  4  5 16]\n",
      " [ 0  0  0 10 16 33 12 14  2  7  6  4  0  1  0  7]\n",
      " [ 0  0  3  6 29 13 17  6 14  6  0  1  2  2  6  7]\n",
      " [ 0  0  2  9 12  4  3  4  1  0  5  1  2  4  0  4]\n",
      " [ 0  1 12  5 18  0 16  0 34  0  0  0  0  1 22  3]\n",
      " [ 1  0  5 11 16  2  5  0 25  9  2  4  5  3 12 12]\n",
      " [ 0  0  0  0  6  3  0  3  7  9  6  0 24  6  2  5]\n",
      " [ 0  0  2  7  0  8 17  5  0  1  0  0  0  4  2  7]\n",
      " [ 0  1  1 10  8 22 10  4  6 10  0  0 12  8  5 15]\n",
      " [ 0  0  0 13  4 15  9 11  0  1  1  3  4 28  2 21]\n",
      " [ 0  3 13  6  8  0  4  1 15  2  4  0  0  7 34 15]\n",
      " [ 1  2  8 32  2  4  6  6  7 10  0  0  3  7  9 15]]\n"
     ]
    }
   ],
   "source": [
    "CONF2, result, Qpredicted = testing(X,Y,info,classif,info_classif)\n",
    "#print(Qpredicted)\n",
    "#print(Y)\n",
    "print(CONF2)"
   ]
  },
  {
   "cell_type": "markdown",
   "metadata": {},
   "source": [
    "#### 3.2.3 Using only the keypoints of the head and context data"
   ]
  },
  {
   "cell_type": "markdown",
   "metadata": {},
   "source": [
    "Since we're only using  the keypoints of the head and the context information about the difference short/long distance object, we'll delete the hand coordinates.<br> \n",
    "The keypoints of the head coordinates are the first 10 (5*2) and the context data goes from the 15 to the 46 coordinates (but on the code we have to do it from 14th to start on the 15th) giving a total of 42 coordinates.<br>\n",
    "The rest of the procedure is the same as in 3.2.1.:"
   ]
  },
  {
   "cell_type": "markdown",
   "metadata": {},
   "source": [
    "Below we will:<br>\n",
    " - Delete the coordinates we don't need (mentioned before) from the whole training data;<br>\n",
    " - Train the model with only the head + context data coordinates using the training function (defined before);<br>\n",
    " - Delete the coordinates we don't need (mentioned before) from the whole testing data;<br>\n",
    " - Test the model with only the head + context data coordinates using the training function (defined before)."
   ]
  },
  {
   "cell_type": "markdown",
   "metadata": {},
   "source": [
    "##### rich context"
   ]
  },
  {
   "cell_type": "markdown",
   "metadata": {},
   "source": [
    "Rich context, means that we specify the type of objects each quadrant has"
   ]
  },
  {
   "cell_type": "code",
   "execution_count": 37,
   "metadata": {
    "scrolled": true
   },
   "outputs": [
    {
     "name": "stdout",
     "output_type": "stream",
     "text": [
      "45\n",
      "[458.71909, 2.862819, 452.97166000000004, 32.99228, 475.91995, 2.8746758, 437.72222999999997, 2.8803804, 467.30038, 2.8807027, 451.10428, 2.8807921, 0, 0, 0, 0, 0, 0, 0, 0, 0, 0, 0, 0, 0, 0, 0, 0, 0, 1, 0, 0, 0, 0, 0, 0, 0, 0, 0, 0, 0, 0, 0, 0, 1]\n"
     ]
    }
   ],
   "source": [
    "X, Y, info = eXifY(training_data)\n",
    "X = [element[:12] + element[16:49] for element in X]\n",
    "print(len(X[0]))\n",
    "print(X[0])"
   ]
  },
  {
   "cell_type": "code",
   "execution_count": 38,
   "metadata": {},
   "outputs": [],
   "source": [
    "classif,info_classif=training(X,Y)"
   ]
  },
  {
   "cell_type": "code",
   "execution_count": 39,
   "metadata": {},
   "outputs": [
    {
     "name": "stdout",
     "output_type": "stream",
     "text": [
      "45\n",
      "[469.29106, 88.461395, 410.9178, 150.68457, -1, -1, 409.96213, 73.2342, 473.10182, 72.22546, 456.8241, 73.17986, 0, 0, 0, 0, 0, 0, 0, 0, 0, 0, 0, 0, 0, 0, 0, 1, 0, 0, 0, 0, 0, 0, 0, 0, 0, 0, 1, 1, 0, 0, 0, 0, 0]\n"
     ]
    }
   ],
   "source": [
    "X, Y, info = eXifY(testing_data)\n",
    "X = [element[:12] + element[16:49] for element in X]\n",
    "print(len(X[0]))\n",
    "print(X[0])"
   ]
  },
  {
   "cell_type": "code",
   "execution_count": 40,
   "metadata": {
    "scrolled": false
   },
   "outputs": [
    {
     "name": "stdout",
     "output_type": "stream",
     "text": [
      "The percentage of success was: 17.0 %\n",
      "\n",
      "The range score was 2527 out of 4410 : 57.3 % \n",
      "\n",
      "The score 3 was: 16.8 %\n",
      "\n",
      "The score 2 was: 49.18 %\n",
      "\n",
      "The score 1 was: 23.13 %\n",
      "\n",
      "The score 0 was: 10.34 %\n",
      "\n",
      "              precision    recall  f1-score   support\n",
      "\n",
      "           0       0.00      0.00      0.00        53\n",
      "           1       0.00      0.00      0.00        71\n",
      "           2       0.24      0.34      0.28       112\n",
      "           3       0.13      0.13      0.13       112\n",
      "           4       0.00      0.00      0.00        71\n",
      "           5       0.00      0.00      0.00        53\n",
      "           6       0.20      0.13      0.16       112\n",
      "           7       0.13      0.11      0.12       112\n",
      "           8       0.15      0.21      0.18       112\n",
      "           9       0.23      0.20      0.21       112\n",
      "          10       0.15      0.16      0.15        51\n",
      "          11       0.32      0.36      0.34       112\n",
      "          12       0.06      0.07      0.07       112\n",
      "          13       0.17      0.27      0.21       112\n",
      "          14       0.14      0.17      0.16       112\n",
      "          15       0.31      0.31      0.31        51\n",
      "\n",
      "   micro avg       0.17      0.17      0.17      1470\n",
      "   macro avg       0.14      0.15      0.14      1470\n",
      "weighted avg       0.15      0.17      0.16      1470\n",
      "\n",
      "['5', '12', '11', '3', '14', '8', '12', '11', '4', '15', '6', '13', '8', '2', '2', '11', '9', '8', '13', '12', '7', '12', '13', '14', '8', '13', '2', '2', '14', '2', '7', '10', '8', '14', '12', '2', '4', '2', '14', '14', '13', '3', '11', '11', '14', '10', '2', '12', '13', '2', '3', '8', '13', '2', '14', '12', '9', '4', '11', '0', '11', '8', '8', '2', '13', '12', '13', '4', '8', '7', '14', '2', '9', '11', '3', '3', '15', '8', '8', '2', '14', '12', '7', '15', '4', '3', '11', '14', '3', '2', '14', '8', '4', '9', '13', '2', '10', '12', '5', '7', '2', '13', '2', '11', '13', '11', '9', '2', '3', '9', '6', '11', '4', '15', '11', '6', '6', '3', '13', '13', '12', '10', '13', '7', '9', '7', '9', '3', '12', '10', '13', '8', '2', '11', '5', '14', '15', '8', '9', '2', '7', '10', '13', '8', '3', '13', '2', '2', '8', '14', '1', '7', '2', '6', '14', '10', '12', '14', '3', '11', '13', '13', '15', '3', '12', '2', '2', '7', '7', '12', '11', '12', '12', '9', '2', '3', '5', '4', '2', '13', '1', '3', '8', '13', '11', '14', '9', '8', '12', '8', '12', '3', '11', '8', '14', '11', '13', '13', '10', '12', '8', '2', '8', '4', '12', '2', '2', '14', '8', '13', '9', '2', '11', '14', '5', '14', '13', '3', '6', '12', '2', '3', '10', '9', '3', '4', '2', '8', '11', '2', '14', '6', '15', '12', '14', '8', '10', '2', '8', '2', '2', '11', '13', '4', '7', '4', '13', '3', '10', '14', '4', '2', '10', '14', '12', '8', '12', '3', '11', '14', '13', '12', '11', '2', '14', '12', '7', '15', '12', '15', '9', '12', '7', '2', '2', '2', '15', '11', '14', '13', '13', '13', '15', '11', '8', '6', '12', '2', '12', '13', '8', '7', '11', '13', '11', '11', '11', '13', '9', '2', '7', '13', '8', '3', '7', '8', '2', '7', '3', '9', '9', '14', '2', '10', '8', '4', '3', '2', '7', '14', '12', '3', '8', '8', '3', '12', '7', '13', '8', '11', '12', '1', '13', '7', '4', '14', '10', '8', '4', '8', '6', '5', '15', '12', '2', '14', '11', '8', '3', '10', '13', '12', '8', '2', '7', '3', '8', '4', '1', '9', '12', '13', '14', '7', '4', '10', '14', '7', '1', '14', '12', '13', '15', '13', '3', '1', '2', '13', '0', '14', '12', '6', '2', '11', '11', '8', '12', '8', '11', '15', '13', '14', '13', '7', '3', '9', '9', '4', '8', '6', '9', '7', '10', '13', '6', '14', '6', '2', '13', '14', '2', '11', '2', '9', '1', '2', '11', '14', '11', '3', '9', '12', '4', '12', '8', '8', '10', '13', '12', '12', '2', '6', '13', '6', '6', '11', '2', '15', '11', '14', '7', '13', '11', '4', '9', '6', '11', '14', '2', '9', '12', '1', '1', '11', '15', '8', '14', '3', '8', '15', '9', '12', '14', '13', '14', '3', '2', '11', '11', '0', '6', '3', '12', '7', '6', '13', '13', '6', '13', '3', '3', '13', '13', '4', '13', '2', '13', '8', '13', '9', '3', '10', '11', '11', '3', '12', '12', '8', '2', '14', '11', '2', '8', '1', '10', '8', '14', '3', '6', '13', '3', '12', '8', '13', '1', '14', '11', '3', '11', '12', '8', '14', '12', '14', '8', '11', '7', '14', '13', '3', '3', '2', '6', '15', '14', '14', '8', '4', '4', '12', '12', '12', '13', '14', '3', '6', '9', '3', '13', '12', '6', '11', '3', '1', '10', '11', '4', '13', '11', '10', '6', '6', '11', '11', '3', '1', '8', '13', '12', '14', '14', '10', '12', '10', '12', '14', '2', '13', '9', '8', '8', '9', '14', '9', '14', '15', '3', '15', '14', '12', '9', '6', '13', '13', '8', '1', '13', '11', '4', '7', '3', '2', '6', '2', '2', '13', '6', '8', '3', '12', '11', '14', '7', '6', '12', '6', '13', '9', '9', '13', '14', '14', '2', '5', '1', '6', '15', '12', '3', '14', '3', '6', '3', '11', '2', '15', '13', '12', '12', '6', '13', '2', '0', '7', '12', '9', '3', '7', '2', '9', '13', '8', '3', '14', '9', '13', '2', '15', '13', '3', '8', '10', '14', '13', '3', '13', '13', '8', '2', '4', '8', '7', '2', '2', '4', '10', '13', '8', '9', '2', '13', '9', '11', '7', '3', '4', '2', '2', '8', '13', '7', '13', '14', '12', '4', '3', '14', '12', '6', '2', '12', '2', '7', '3', '7', '9', '13', '8', '14', '8', '2', '11', '15', '5', '13', '9', '12', '11', '3', '13', '3', '8', '8', '7', '6', '8', '8', '14', '2', '14', '6', '2', '15', '4', '14', '2', '9', '2', '12', '14', '10', '10', '13', '8', '13', '12', '8', '13', '12', '13', '14', '12', '13', '6', '6', '12', '2', '9', '10', '1', '8', '6', '10', '8', '13', '8', '6', '7', '14', '6', '10', '13', '3', '7', '8', '15', '6', '7', '12', '11', '2', '14', '7', '2', '14', '12', '12', '13', '8', '12', '2', '9', '5', '2', '11', '9', '8', '7', '8', '10', '2', '14', '11', '13', '11', '2', '12', '9', '15', '10', '3', '8', '9', '14', '7', '6', '2', '2', '12', '10', '9', '14', '14', '11', '6', '7', '14', '8', '7', '6', '9', '2', '10', '13', '13', '8', '14', '13', '9', '14', '8', '7', '8', '11', '14', '14', '13', '2', '7', '6', '5', '12', '10', '4', '12', '9', '7', '1', '3', '14', '7', '12', '8', '2', '8', '2', '11', '9', '9', '9', '13', '9', '8', '12', '14', '11', '2', '3', '14', '14', '2', '11', '3', '12', '14', '14', '4', '9', '2', '8', '11', '9', '11', '8', '7', '6', '8', '14', '13', '6', '5', '12', '3', '7', '7', '7', '13', '11', '8', '2', '14', '11', '2', '10', '11', '8', '5', '6', '8', '2', '11', '10', '12', '14', '11', '14', '12', '3', '7', '8', '14', '12', '4', '7', '7', '2', '2', '3', '11', '12', '12', '9', '13', '12', '13', '13', '7', '9', '6', '8', '11', '8', '2', '3', '7', '3', '12', '12', '1', '7', '10', '3', '3', '2', '3', '14', '7', '9', '3', '8', '10', '9', '3', '1', '13', '1', '13', '8', '15', '8', '13', '13', '14', '7', '13', '14', '10', '11', '11', '15', '14', '13', '13', '3', '6', '5', '2', '2', '8', '9', '3', '13', '12', '14', '15', '11', '6', '13', '4', '2', '2', '11', '4', '9', '11', '1', '10', '13', '14', '13', '2', '9', '12', '13', '6', '3', '4', '13', '14', '8', '12', '6', '2', '9', '13', '15', '9', '13', '15', '12', '11', '10', '15', '2', '8', '13', '8', '9', '13', '11', '9', '3', '4', '2', '5', '11', '8', '12', '14', '2', '2', '5', '13', '14', '11', '2', '7', '10', '13', '12', '13', '10', '12', '11', '6', '8', '7', '11', '8', '12', '3', '8', '13', '13', '14', '2', '2', '3', '7', '13', '2', '14', '8', '14', '2', '8', '8', '11', '11', '13', '9', '8', '9', '5', '12', '13', '5', '11', '11', '2', '2', '13', '14', '3', '8', '12', '8', '13', '14', '13', '8', '1', '5', '8', '9', '12', '13', '3', '8', '6', '6', '4', '7', '4', '12', '2', '6', '3', '11', '7', '13', '9', '2', '13', '5', '13', '2', '3', '5', '9', '8', '8', '13', '2', '15', '2', '9', '13', '15', '7', '13', '7', '2', '13', '5', '15', '14', '6', '1', '8', '13', '9', '14', '9', '2', '6', '9', '3', '2', '2', '13', '2', '3', '15', '4', '13', '7', '11', '12', '14', '13', '11', '15', '6', '3', '5', '2', '9', '1', '2', '6', '11', '13', '12', '6', '3', '2', '15', '12', '3', '11', '7', '11', '13', '7', '6', '11', '11', '11', '5', '6', '8', '13', '10', '8', '13', '8', '4', '10', '2', '8', '12', '8', '8', '7', '1', '14', '8', '10', '13', '3', '2', '15', '3', '13', '13', '13', '8', '10', '8', '7', '15', '1', '3', '9', '6', '8', '13', '11', '12', '15', '11', '11', '13', '12', '14', '3', '1', '8', '8', '3', '13', '8', '8', '2', '8', '15', '10', '14', '6', '7', '4', '8', '12', '7', '14', '7', '9', '2', '3', '8', '8', '8', '10', '7', '9', '8', '13', '7', '3', '1', '14', '2', '11', '11', '11', '11', '8', '11', '1', '13', '13', '8', '2', '9', '11', '12', '15', '13', '3', '3', '7', '2', '9', '2', '7', '6', '12', '8', '15', '7', '7', '14', '8', '3', '12', '13', '2', '8', '11', '13', '12', '12', '14', '3', '1', '11', '2', '7', '6', '10', '11', '7', '9', '11', '15', '3', '13', '1', '8', '13', '3', '13', '15', '12', '11', '4', '13', '7', '1', '12', '9', '14', '13', '2', '7', '2', '11', '1', '8', '13', '13', '12', '2', '2', '7', '13', '9', '9', '2', '8', '4', '14', '3', '8', '7', '3', '15', '13', '6', '14', '7', '9', '14', '8', '3', '8', '9', '12', '2', '9', '3', '8', '4', '10', '11', '14', '14', '2', '2', '3', '3', '2', '13', '14', '11', '1', '3', '9', '8', '14', '8', '14', '4', '9', '8', '11', '6', '10', '11', '15', '8', '7', '4', '14', '9', '15', '11', '13', '2', '15', '12', '13', '3', '2', '11', '7', '7', '13', '14', '3', '6', '13', '6', '6', '11', '14', '12', '9', '12']\n"
     ]
    }
   ],
   "source": [
    "CONF3, result, Qpredicted = testing(X,Y,info,classif,info_classif)\n",
    "print(Qpredicted)\n",
    "#print(Y)\n",
    "#print(CONF3)"
   ]
  },
  {
   "cell_type": "markdown",
   "metadata": {},
   "source": [
    "##### poor context"
   ]
  },
  {
   "cell_type": "markdown",
   "metadata": {},
   "source": [
    "Rich context, means that we do not specify the type of objects each quadrant has, giving only the number of objects it contains, regardless of type."
   ]
  },
  {
   "cell_type": "code",
   "execution_count": 41,
   "metadata": {
    "scrolled": true
   },
   "outputs": [
    {
     "data": {
      "text/plain": [
       "29"
      ]
     },
     "execution_count": 41,
     "metadata": {},
     "output_type": "execute_result"
    }
   ],
   "source": [
    "#merging short and long\n",
    "X, Y, info = eXifY(training_data)\n",
    "X = [element[:12] + list(map(add,element[16:32],element[32:48])) + [element[48]] for element in X]\n",
    "len(X[0])"
   ]
  },
  {
   "cell_type": "code",
   "execution_count": 42,
   "metadata": {},
   "outputs": [
    {
     "name": "stdout",
     "output_type": "stream",
     "text": [
      "[458.71909, 2.862819, 452.97166000000004, 32.99228, 475.91995, 2.8746758, 437.72222999999997, 2.8803804, 467.30038, 2.8807027, 451.10428, 2.8807921, 0, 1, 0, 0, 0, 0, 0, 0, 0, 0, 0, 0, 0, 0, 0, 0, 1]\n"
     ]
    }
   ],
   "source": [
    "print(X[0])"
   ]
  },
  {
   "cell_type": "code",
   "execution_count": 43,
   "metadata": {},
   "outputs": [],
   "source": [
    "classif,info_classif=training(X,Y)"
   ]
  },
  {
   "cell_type": "code",
   "execution_count": 44,
   "metadata": {},
   "outputs": [],
   "source": [
    "X, Y, info =eXifY(testing_data)\n",
    "X = [element[:12] + list(map(add,element[16:32],element[32:48])) + [element[48]] for element in X]"
   ]
  },
  {
   "cell_type": "code",
   "execution_count": 45,
   "metadata": {},
   "outputs": [
    {
     "name": "stdout",
     "output_type": "stream",
     "text": [
      "29\n"
     ]
    }
   ],
   "source": [
    "print(len(X[0]))"
   ]
  },
  {
   "cell_type": "code",
   "execution_count": 46,
   "metadata": {
    "scrolled": false
   },
   "outputs": [
    {
     "name": "stdout",
     "output_type": "stream",
     "text": [
      "The percentage of success was: 17.0 %\n",
      "\n",
      "The range score was 2526 out of 4410 : 57.28 % \n",
      "\n",
      "The score 3 was: 16.87 %\n",
      "\n",
      "The score 2 was: 48.98 %\n",
      "\n",
      "The score 1 was: 23.27 %\n",
      "\n",
      "The score 0 was: 10.34 %\n",
      "\n",
      "              precision    recall  f1-score   support\n",
      "\n",
      "           0       0.00      0.00      0.00        53\n",
      "           1       0.00      0.00      0.00        71\n",
      "           2       0.23      0.33      0.27       112\n",
      "           3       0.13      0.13      0.13       112\n",
      "           4       0.00      0.00      0.00        71\n",
      "           5       0.00      0.00      0.00        53\n",
      "           6       0.20      0.13      0.16       112\n",
      "           7       0.13      0.11      0.12       112\n",
      "           8       0.15      0.21      0.18       112\n",
      "           9       0.23      0.20      0.21       112\n",
      "          10       0.15      0.16      0.15        51\n",
      "          11       0.33      0.38      0.35       112\n",
      "          12       0.06      0.07      0.07       112\n",
      "          13       0.17      0.27      0.21       112\n",
      "          14       0.14      0.17      0.16       112\n",
      "          15       0.31      0.31      0.31        51\n",
      "\n",
      "   micro avg       0.17      0.17      0.17      1470\n",
      "   macro avg       0.14      0.15      0.15      1470\n",
      "weighted avg       0.15      0.17      0.16      1470\n",
      "\n",
      "['5', '12', '11', '3', '14', '8', '12', '11', '4', '15', '6', '13', '8', '2', '2', '11', '9', '8', '13', '12', '7', '12', '13', '14', '8', '13', '2', '2', '14', '2', '7', '10', '8', '14', '12', '2', '4', '10', '14', '14', '13', '3', '11', '11', '14', '10', '2', '12', '13', '2', '3', '8', '13', '2', '14', '12', '9', '4', '11', '0', '11', '8', '8', '2', '13', '12', '13', '4', '8', '7', '14', '2', '9', '11', '3', '3', '15', '8', '8', '2', '14', '12', '7', '15', '4', '3', '11', '14', '3', '2', '14', '8', '4', '9', '13', '2', '10', '12', '5', '7', '2', '13', '2', '11', '13', '11', '9', '2', '3', '9', '6', '11', '4', '15', '11', '6', '6', '3', '13', '13', '12', '10', '13', '7', '9', '7', '9', '3', '12', '10', '13', '8', '2', '11', '5', '14', '15', '8', '9', '2', '7', '10', '13', '8', '3', '13', '2', '2', '8', '14', '1', '7', '2', '6', '14', '10', '12', '14', '3', '11', '13', '13', '15', '3', '12', '2', '2', '7', '7', '12', '11', '12', '12', '9', '2', '3', '5', '4', '2', '13', '1', '3', '8', '13', '11', '14', '9', '8', '12', '8', '12', '3', '11', '8', '14', '11', '13', '13', '10', '12', '8', '2', '8', '4', '12', '2', '2', '14', '8', '13', '9', '2', '11', '14', '5', '14', '13', '3', '6', '12', '2', '3', '10', '9', '3', '4', '2', '8', '11', '2', '14', '6', '15', '12', '14', '8', '10', '2', '8', '2', '2', '11', '13', '4', '7', '4', '13', '3', '10', '14', '4', '2', '10', '14', '12', '8', '12', '3', '11', '14', '13', '12', '11', '2', '14', '12', '7', '15', '12', '15', '9', '12', '7', '2', '2', '2', '15', '11', '14', '13', '13', '13', '15', '11', '8', '6', '12', '2', '12', '13', '8', '7', '11', '13', '11', '11', '11', '13', '9', '2', '7', '13', '8', '3', '7', '8', '2', '7', '3', '9', '9', '14', '2', '10', '8', '4', '3', '2', '7', '14', '12', '3', '8', '8', '3', '12', '7', '13', '8', '11', '12', '1', '13', '7', '4', '14', '10', '8', '4', '8', '6', '5', '15', '12', '2', '14', '11', '8', '3', '10', '13', '12', '8', '2', '7', '3', '8', '4', '1', '9', '12', '13', '14', '7', '4', '10', '14', '7', '1', '14', '12', '13', '15', '13', '3', '1', '2', '13', '2', '14', '12', '6', '2', '11', '11', '8', '12', '8', '11', '15', '13', '14', '13', '7', '3', '9', '9', '4', '8', '6', '9', '7', '10', '13', '6', '14', '6', '2', '13', '14', '2', '11', '2', '9', '1', '2', '11', '14', '11', '3', '9', '12', '4', '12', '8', '8', '10', '13', '12', '12', '2', '6', '13', '6', '6', '11', '2', '15', '11', '14', '7', '13', '11', '4', '9', '6', '11', '14', '2', '9', '12', '1', '1', '11', '15', '8', '14', '3', '8', '15', '9', '12', '14', '13', '14', '3', '8', '11', '11', '0', '6', '3', '12', '7', '6', '4', '13', '6', '13', '3', '3', '13', '13', '4', '13', '2', '13', '8', '13', '9', '3', '10', '11', '11', '3', '12', '12', '8', '2', '14', '11', '2', '8', '1', '10', '8', '14', '3', '6', '13', '3', '12', '8', '13', '1', '14', '11', '3', '11', '12', '8', '14', '12', '14', '8', '11', '7', '14', '13', '3', '3', '2', '6', '15', '14', '14', '8', '4', '4', '12', '12', '12', '13', '14', '3', '6', '9', '3', '13', '12', '6', '11', '3', '1', '10', '11', '4', '13', '11', '10', '6', '6', '11', '11', '3', '13', '8', '13', '12', '14', '14', '10', '12', '10', '12', '14', '2', '13', '9', '8', '8', '9', '14', '9', '14', '15', '3', '15', '14', '12', '9', '6', '13', '13', '8', '1', '13', '11', '4', '7', '3', '2', '6', '2', '2', '13', '6', '8', '3', '12', '11', '14', '7', '6', '12', '6', '13', '9', '9', '13', '14', '14', '2', '5', '1', '6', '15', '12', '3', '14', '3', '6', '3', '11', '2', '15', '13', '12', '12', '6', '13', '2', '0', '7', '12', '9', '3', '7', '2', '9', '13', '8', '3', '14', '9', '13', '2', '15', '13', '3', '8', '10', '14', '13', '3', '13', '13', '8', '2', '4', '8', '7', '2', '2', '4', '10', '13', '8', '9', '2', '13', '9', '11', '7', '3', '4', '2', '2', '8', '13', '7', '13', '14', '12', '4', '3', '14', '12', '6', '2', '12', '2', '7', '3', '7', '9', '13', '8', '14', '11', '2', '11', '15', '5', '13', '9', '12', '11', '3', '13', '3', '8', '8', '7', '6', '8', '8', '14', '2', '14', '6', '2', '15', '4', '14', '2', '9', '2', '12', '14', '10', '10', '13', '8', '13', '12', '8', '13', '12', '13', '14', '12', '13', '6', '6', '12', '2', '9', '10', '1', '8', '6', '10', '8', '13', '8', '6', '7', '14', '6', '10', '13', '3', '7', '8', '15', '6', '7', '12', '11', '2', '14', '7', '2', '14', '12', '12', '13', '8', '12', '2', '9', '5', '2', '11', '9', '8', '7', '8', '10', '2', '14', '11', '13', '11', '2', '12', '9', '15', '10', '3', '8', '9', '14', '7', '6', '2', '2', '12', '10', '9', '14', '14', '11', '6', '7', '14', '8', '7', '6', '9', '2', '10', '13', '13', '8', '14', '13', '9', '14', '8', '7', '8', '11', '14', '14', '13', '2', '7', '6', '5', '12', '10', '4', '12', '9', '7', '1', '3', '14', '7', '12', '8', '2', '8', '2', '11', '9', '9', '9', '13', '9', '8', '12', '14', '11', '2', '3', '14', '14', '2', '11', '3', '12', '14', '14', '4', '9', '2', '8', '11', '9', '11', '8', '7', '6', '8', '14', '13', '6', '5', '12', '3', '7', '7', '7', '13', '11', '8', '2', '14', '11', '2', '10', '11', '8', '5', '6', '8', '2', '11', '10', '12', '14', '11', '14', '12', '3', '7', '8', '14', '12', '4', '7', '7', '2', '2', '3', '11', '12', '12', '9', '13', '12', '13', '13', '7', '9', '6', '8', '11', '8', '2', '3', '7', '3', '12', '12', '1', '7', '10', '3', '3', '2', '3', '14', '7', '9', '3', '8', '10', '9', '3', '1', '13', '1', '13', '8', '15', '8', '13', '13', '14', '7', '13', '14', '10', '11', '11', '15', '14', '13', '13', '3', '6', '5', '2', '2', '8', '9', '3', '13', '12', '14', '15', '11', '6', '13', '4', '2', '2', '11', '4', '9', '11', '1', '10', '13', '14', '13', '2', '9', '12', '13', '6', '3', '4', '13', '14', '8', '12', '6', '2', '9', '13', '15', '9', '13', '15', '12', '11', '10', '15', '2', '8', '13', '8', '9', '13', '11', '9', '3', '4', '2', '5', '11', '8', '12', '14', '2', '2', '5', '13', '14', '11', '2', '7', '10', '13', '12', '13', '10', '12', '11', '6', '8', '7', '11', '8', '12', '3', '8', '13', '13', '14', '2', '2', '3', '7', '13', '2', '14', '8', '14', '2', '8', '8', '11', '11', '13', '9', '8', '9', '5', '12', '13', '5', '11', '11', '2', '2', '13', '14', '3', '8', '12', '8', '13', '14', '13', '8', '1', '5', '8', '9', '12', '13', '3', '8', '6', '6', '4', '7', '4', '12', '2', '6', '3', '11', '7', '13', '9', '2', '13', '5', '13', '2', '3', '5', '9', '8', '8', '13', '2', '15', '2', '9', '13', '15', '7', '13', '7', '2', '13', '5', '15', '14', '6', '1', '8', '13', '9', '14', '9', '2', '6', '9', '3', '2', '2', '13', '2', '3', '15', '4', '13', '7', '11', '12', '14', '13', '11', '15', '6', '3', '5', '2', '9', '1', '2', '6', '11', '13', '12', '6', '3', '2', '15', '12', '3', '11', '7', '11', '13', '7', '6', '11', '11', '11', '5', '6', '8', '13', '10', '8', '13', '8', '4', '10', '2', '8', '12', '8', '8', '7', '1', '14', '8', '10', '13', '3', '2', '15', '3', '13', '13', '13', '8', '10', '8', '7', '15', '1', '3', '9', '6', '8', '13', '11', '12', '15', '11', '11', '13', '12', '14', '3', '1', '8', '8', '3', '13', '8', '8', '2', '8', '15', '10', '14', '6', '7', '4', '8', '12', '7', '14', '7', '9', '2', '3', '8', '8', '8', '10', '7', '9', '8', '13', '7', '3', '1', '14', '2', '11', '11', '11', '11', '8', '11', '1', '13', '13', '8', '2', '9', '11', '12', '15', '13', '3', '3', '7', '2', '9', '2', '7', '6', '12', '11', '15', '7', '7', '14', '8', '3', '12', '13', '2', '8', '11', '13', '12', '12', '14', '3', '1', '11', '2', '7', '6', '10', '11', '7', '9', '11', '15', '3', '13', '1', '8', '13', '3', '13', '15', '12', '11', '4', '13', '7', '1', '12', '9', '14', '13', '2', '7', '2', '11', '1', '8', '13', '13', '12', '2', '2', '7', '13', '9', '9', '2', '8', '4', '14', '3', '8', '7', '3', '15', '13', '6', '14', '7', '9', '14', '8', '3', '8', '9', '12', '2', '9', '3', '8', '4', '10', '11', '14', '14', '2', '2', '3', '3', '2', '13', '14', '11', '1', '3', '9', '8', '14', '8', '14', '4', '9', '8', '11', '6', '10', '11', '15', '8', '7', '4', '14', '9', '15', '11', '13', '2', '15', '12', '13', '3', '2', '11', '7', '7', '13', '14', '3', '6', '13', '6', '6', '11', '14', '12', '9', '12']\n"
     ]
    }
   ],
   "source": [
    "CONF4, result, Qpredicted = testing(X,Y,info,classif,info_classif)\n",
    "print(Qpredicted)\n",
    "#print(Y)\n",
    "#print(CONF4)"
   ]
  },
  {
   "cell_type": "markdown",
   "metadata": {},
   "source": [
    "#### 3.2.4 Using all the coordinates (keypoints of the head, hands and context data)"
   ]
  },
  {
   "cell_type": "markdown",
   "metadata": {},
   "source": [
    "##### rich context"
   ]
  },
  {
   "cell_type": "code",
   "execution_count": 47,
   "metadata": {
    "scrolled": true
   },
   "outputs": [
    {
     "data": {
      "text/plain": [
       "53"
      ]
     },
     "execution_count": 47,
     "metadata": {},
     "output_type": "execute_result"
    }
   ],
   "source": [
    "X, Y, info = eXifY(training_data)\n",
    "len(X[0])"
   ]
  },
  {
   "cell_type": "code",
   "execution_count": 50,
   "metadata": {},
   "outputs": [],
   "source": [
    "classif,info_classif=training(X,Y)"
   ]
  },
  {
   "cell_type": "code",
   "execution_count": 51,
   "metadata": {},
   "outputs": [],
   "source": [
    "X, Y, info = eXifY(testing_data)"
   ]
  },
  {
   "cell_type": "code",
   "execution_count": 52,
   "metadata": {
    "scrolled": true
   },
   "outputs": [
    {
     "data": {
      "text/plain": [
       "53"
      ]
     },
     "execution_count": 52,
     "metadata": {},
     "output_type": "execute_result"
    }
   ],
   "source": [
    "len(X[0])"
   ]
  },
  {
   "cell_type": "code",
   "execution_count": 53,
   "metadata": {},
   "outputs": [
    {
     "name": "stdout",
     "output_type": "stream",
     "text": [
      "The percentage of success was: 16.0 %\n",
      "\n",
      "The range score was 2475 out of 4410 : 56.12 % \n",
      "\n",
      "The score 3 was: 16.26 %\n",
      "\n",
      "The score 2 was: 44.63 %\n",
      "\n",
      "The score 1 was: 30.34 %\n",
      "\n",
      "The score 0 was: 7.14 %\n",
      "\n",
      "              precision    recall  f1-score   support\n",
      "\n",
      "           0       0.00      0.00      0.00        53\n",
      "           1       0.28      0.07      0.11        71\n",
      "           2       0.25      0.30      0.28       112\n",
      "           3       0.08      0.08      0.08       112\n",
      "           4       0.22      0.08      0.12        71\n",
      "           5       0.00      0.00      0.00        53\n",
      "           6       0.18      0.11      0.13       112\n",
      "           7       0.27      0.25      0.26       112\n",
      "           8       0.28      0.30      0.29       112\n",
      "           9       0.08      0.13      0.10       112\n",
      "          10       0.10      0.12      0.11        51\n",
      "          11       0.19      0.25      0.22       112\n",
      "          12       0.06      0.07      0.06       112\n",
      "          13       0.27      0.29      0.28       112\n",
      "          14       0.11      0.15      0.13       112\n",
      "          15       0.06      0.08      0.07        51\n",
      "\n",
      "   micro avg       0.16      0.16      0.16      1470\n",
      "   macro avg       0.15      0.14      0.14      1470\n",
      "weighted avg       0.17      0.16      0.16      1470\n",
      "\n",
      "[[ 0  0  0  1 11  2 19  1  5  0  0  0  0 10  4  0]\n",
      " [ 1  5  1  0  2  1  3  4  5  8  1  0 12 20  3  5]\n",
      " [ 1  4  6  2  0  0  9  1  1 11  0  0  0  0  5 11]\n",
      " [ 0  0  7 28  3  2  2  0  9 13  0  0  1  0 11 36]\n",
      " [ 1  2  1  6  8 12 24  3  4 21  2  2  1  4  5 16]\n",
      " [ 0  0  0 10 16 33 12 14  2  7  6  4  0  1  0  7]\n",
      " [ 0  0  3  6 29 13 17  6 14  6  0  1  2  2  6  7]\n",
      " [ 0  0  2  9 12  4  3  4  1  0  5  1  2  4  0  4]\n",
      " [ 0  1 12  5 18  0 16  0 34  0  0  0  0  1 22  3]\n",
      " [ 1  0  5 11 16  2  5  0 25  9  2  4  5  3 12 12]\n",
      " [ 0  0  0  0  6  3  0  3  7  9  6  0 24  6  2  5]\n",
      " [ 0  0  2  7  0  8 17  5  0  1  0  0  0  4  2  7]\n",
      " [ 0  1  1 10  8 22 10  4  6 10  0  0 12  8  5 15]\n",
      " [ 0  0  0 13  4 15  9 11  0  1  1  3  4 28  2 21]\n",
      " [ 0  3 13  6  8  0  5  0 15  2  4  0  0  7 34 15]\n",
      " [ 1  2  8 32  2  4  6  6  7 10  0  0  3  7  9 15]]\n"
     ]
    }
   ],
   "source": [
    "CONF5, result, Qpredicted = testing(X,Y,info,classif,info_classif)\n",
    "#print(Qpredicted)\n",
    "#print(Y)\n",
    "print(CONF5)"
   ]
  },
  {
   "cell_type": "markdown",
   "metadata": {},
   "source": [
    "##### poor context"
   ]
  },
  {
   "cell_type": "code",
   "execution_count": 54,
   "metadata": {
    "scrolled": true
   },
   "outputs": [
    {
     "data": {
      "text/plain": [
       "37"
      ]
     },
     "execution_count": 54,
     "metadata": {},
     "output_type": "execute_result"
    }
   ],
   "source": [
    "X, Y, info = eXifY(training_data)\n",
    "X = [element[:16] + list(map(add,element[16:32],element[32:48])) + element[48:] for element in X]\n",
    "len(X[0])"
   ]
  },
  {
   "cell_type": "code",
   "execution_count": 57,
   "metadata": {},
   "outputs": [],
   "source": [
    "classif,info_classif=training(X,Y)"
   ]
  },
  {
   "cell_type": "code",
   "execution_count": 58,
   "metadata": {},
   "outputs": [],
   "source": [
    "X, Y, info = eXifY(testing_data)\n",
    "X = [element[:16] + list(map(add,element[16:32],element[32:48])) + element[48:] for element in X]"
   ]
  },
  {
   "cell_type": "code",
   "execution_count": 59,
   "metadata": {},
   "outputs": [
    {
     "data": {
      "text/plain": [
       "37"
      ]
     },
     "execution_count": 59,
     "metadata": {},
     "output_type": "execute_result"
    }
   ],
   "source": [
    "len(X[0])"
   ]
  },
  {
   "cell_type": "code",
   "execution_count": 60,
   "metadata": {},
   "outputs": [
    {
     "name": "stdout",
     "output_type": "stream",
     "text": [
      "The percentage of success was: 16.0 %\n",
      "\n",
      "The range score was 2476 out of 4410 : 56.15 % \n",
      "\n",
      "The score 3 was: 16.26 %\n",
      "\n",
      "The score 2 was: 44.69 %\n",
      "\n",
      "The score 1 was: 30.27 %\n",
      "\n",
      "The score 0 was: 7.14 %\n",
      "\n",
      "              precision    recall  f1-score   support\n",
      "\n",
      "           0       0.00      0.00      0.00        53\n",
      "           1       0.28      0.07      0.11        71\n",
      "           2       0.25      0.30      0.27       112\n",
      "           3       0.08      0.08      0.08       112\n",
      "           4       0.22      0.08      0.12        71\n",
      "           5       0.00      0.00      0.00        53\n",
      "           6       0.18      0.11      0.13       112\n",
      "           7       0.27      0.25      0.26       112\n",
      "           8       0.28      0.30      0.29       112\n",
      "           9       0.08      0.13      0.10       112\n",
      "          10       0.10      0.12      0.11        51\n",
      "          11       0.19      0.25      0.22       112\n",
      "          12       0.06      0.07      0.06       112\n",
      "          13       0.28      0.29      0.28       112\n",
      "          14       0.11      0.15      0.13       112\n",
      "          15       0.06      0.08      0.07        51\n",
      "\n",
      "   micro avg       0.16      0.16      0.16      1470\n",
      "   macro avg       0.15      0.14      0.14      1470\n",
      "weighted avg       0.17      0.16      0.16      1470\n",
      "\n",
      "[[ 0  0  0  1 11  2 19  1  5  0  0  0  0 10  4  0]\n",
      " [ 1  5  1  0  2  1  3  4  5  8  1  0 12 20  3  5]\n",
      " [ 1  4  6  2  0  0  9  1  1 11  0  0  0  0  5 11]\n",
      " [ 0  0  7 28  3  2  2  0  9 13  0  0  1  0 11 36]\n",
      " [ 1  2  1  6  8 12 24  3  4 21  2  2  1  4  5 16]\n",
      " [ 0  0  0 10 16 33 12 14  2  7  6  4  0  1  0  7]\n",
      " [ 0  0  3  6 29 13 17  6 14  6  0  1  2  2  6  7]\n",
      " [ 0  0  2  9 12  4  3  4  1  0  5  1  2  4  0  4]\n",
      " [ 0  1 12  5 18  0 16  0 34  0  0  0  0  1 22  3]\n",
      " [ 1  0  5 11 15  2  5  0 26  9  2  4  5  3 12 12]\n",
      " [ 0  0  0  0  6  3  0  3  7  9  6  0 24  6  2  5]\n",
      " [ 0  0  2  7  0  8 17  5  0  1  0  0  0  4  2  7]\n",
      " [ 0  1  1 10  8 22 10  4  6 10  0  0 12  8  5 15]\n",
      " [ 0  0  0 13  4 15  9 11  0  1  1  3  4 28  2 21]\n",
      " [ 0  3 13  6  8  0  5  0 15  2  4  0  0  7 34 15]\n",
      " [ 1  2  8 32  3  3  6  6  7 10  0  0  3  7  9 15]]\n"
     ]
    }
   ],
   "source": [
    "CONF6, result, Qpredicted =  testing(X,Y,info,classif,info_classif)\n",
    "#print(Qpredicted)\n",
    "#print(Y)\n",
    "print(CONF6)"
   ]
  },
  {
   "cell_type": "markdown",
   "metadata": {},
   "source": [
    "## 4. Comparing classifications"
   ]
  },
  {
   "cell_type": "markdown",
   "metadata": {},
   "source": [
    "Now, at last, we compare the Confusion Matrices of the 4 groups of coordinates. And with a nice layout!"
   ]
  },
  {
   "cell_type": "code",
   "execution_count": 62,
   "metadata": {
    "scrolled": false
   },
   "outputs": [
    {
     "data": {
      "image/png": "[encoded data removed]",
      "text/plain": [
       "<Figure size 432x432 with 1 Axes>"
      ]
     },
     "metadata": {
      "needs_background": "light"
     },
     "output_type": "display_data"
    },
    {
     "data": {
      "image/png": "[encoded data removed]",
      "text/plain": [
       "<Figure size 432x432 with 1 Axes>"
      ]
     },
     "metadata": {
      "needs_background": "light"
     },
     "output_type": "display_data"
    },
    {
     "data": {
      "image/png": "[encoded data removed]",
      "text/plain": [
       "<Figure size 432x432 with 1 Axes>"
      ]
     },
     "metadata": {
      "needs_background": "light"
     },
     "output_type": "display_data"
    },
    {
     "data": {
      "image/png": "[encoded data removed]",
      "text/plain": [
       "<Figure size 432x432 with 1 Axes>"
      ]
     },
     "metadata": {
      "needs_background": "light"
     },
     "output_type": "display_data"
    },
    {
     "data": {
      "image/png": "[encoded data removed]",
      "text/plain": [
       "<Figure size 432x432 with 1 Axes>"
      ]
     },
     "metadata": {
      "needs_background": "light"
     },
     "output_type": "display_data"
    },
    {
     "data": {
      "image/png": "[encoded data removed]",
      "text/plain": [
       "<Figure size 432x432 with 1 Axes>"
      ]
     },
     "metadata": {
      "needs_background": "light"
     },
     "output_type": "display_data"
    }
   ],
   "source": [
    " \n",
    "plt.rcParams[\"figure.figsize\"] = (6,6)\n",
    "plt.figure()  \n",
    "df = DataFrame(CONF1) #, index=Index, columns=Cols - if defined before\n",
    "sns.heatmap(df, annot=True, cmap=\"YlGnBu\",cbar=False) #cbar=True is an option but it appears float values\n",
    "plt.xlabel(\"Predicted Label\")\n",
    "plt.ylabel(\"True Label\")\n",
    "plt.title('Confusion Matrix Head')\n",
    "plt.show()\n",
    "\n",
    "plt.figure() \n",
    "plt.rcParams[\"figure.figsize\"] = (6,6)\n",
    "df = DataFrame(CONF2) #, index=Index, columns=Cols - if defined before\n",
    "sns.heatmap(df, annot=True, cmap=\"YlGnBu\",cbar=False) #cbar=True is an option but it appears float values\n",
    "plt.xlabel(\"Predicted Label\")\n",
    "plt.ylabel(\"True Label\")\n",
    "plt.title('Confusion Matrix Head + Hands')\n",
    "plt.show()\n",
    "\n",
    "plt.figure()\n",
    "plt.rcParams[\"figure.figsize\"] = (6,6)\n",
    "df = DataFrame(CONF3) #, index=Index, columns=Cols - if defined before\n",
    "sns.heatmap(df, annot=True, cmap=\"YlGnBu\",cbar=False) #cbar=True is an option but it appears float values\n",
    "plt.xlabel(\"Predicted Label\")\n",
    "plt.ylabel(\"True Label\")\n",
    "plt.title('Confusion Matrix Head + Rich Context Data')\n",
    "plt.show()\n",
    "\n",
    "plt.figure()\n",
    "plt.rcParams[\"figure.figsize\"] = (6,6)\n",
    "df = DataFrame(CONF4) #, index=Index, columns=Cols - if defined before\n",
    "sns.heatmap(df, annot=True, cmap=\"YlGnBu\",cbar=False) #cbar=True is an option but it appears float values\n",
    "plt.xlabel(\"Predicted Label\")\n",
    "plt.ylabel(\"True Label\")\n",
    "plt.title('Confusion Matrix Head + Poor Context Data')\n",
    "#plt.subplots_adjust(wspace=0.8, hspace=0.8)\n",
    "plt.show()\n",
    "\n",
    "plt.figure()\n",
    "plt.rcParams[\"figure.figsize\"] = (6,6)\n",
    "df = DataFrame(CONF5) #, index=Index, columns=Cols - if defined before\n",
    "sns.heatmap(df, annot=True, cmap=\"YlGnBu\",cbar=False) #cbar=True is an option but it appears float values\n",
    "plt.xlabel(\"Predicted Label\")\n",
    "plt.ylabel(\"True Label\")\n",
    "plt.title('Confusion Matrix All (Rich Context)')\n",
    "#plt.subplots_adjust(wspace=0.8, hspace=0.8)\n",
    "plt.show()\n",
    "\n",
    "plt.figure()\n",
    "plt.rcParams[\"figure.figsize\"] = (6,6)\n",
    "df = DataFrame(CONF6) #, index=Index, columns=Cols - if defined before\n",
    "sns.heatmap(df, annot=True, cmap=\"YlGnBu\",cbar=False) #cbar=True is an option but it appears float values\n",
    "plt.xlabel(\"Predicted Label\")\n",
    "plt.ylabel(\"True Label\")\n",
    "plt.title('Confusion Matrix All (Poor Context)')\n",
    "#plt.subplots_adjust(wspace=0.8, hspace=0.8)\n",
    "plt.show()\n"
   ]
  }
 ],
 "metadata": {
  "file_extension": ".py",
  "kernelspec": {
   "display_name": "Python 3",
   "language": "python",
   "name": "python3"
  },
  "language_info": {
   "codemirror_mode": {
    "name": "ipython",
    "version": 3
   },
   "file_extension": ".py",
   "mimetype": "text/x-python",
   "name": "python",
   "nbconvert_exporter": "python",
   "pygments_lexer": "ipython3",
   "version": "3.6.9"
  },
  "mimetype": "text/x-python",
  "name": "python",
  "npconvert_exporter": "python",
  "pygments_lexer": "ipython3",
  "version": 3
 },
 "nbformat": 4,
 "nbformat_minor": 2
}
