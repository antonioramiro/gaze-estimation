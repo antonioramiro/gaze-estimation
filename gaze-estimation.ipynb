{
 "cells": [
  {
   "cell_type": "markdown",
   "metadata": {},
   "source": [
    "# Gaze Estimation"
   ]
  },
  {
   "cell_type": "code",
   "execution_count": 1,
   "metadata": {},
   "outputs": [],
   "source": [
    "#Basic\n",
    "import numpy as np\n",
    "import matplotlib.pyplot as plt\n",
    "from scipy import stats\n",
    "\n",
    "#Aiding conversions from string to list\n",
    "import ast\n",
    "\n",
    "#Randomize\n",
    "import random\n",
    "\n",
    "#Labelling classifiers\n",
    "import datetime\n",
    "import joblib\n",
    "\n",
    "#Support Vector Classification\n",
    "from sklearn.model_selection import cross_val_score\n",
    "from sklearn.svm import SVC\n",
    "from joblib import dump, load\n",
    "from sklearn.model_selection import GridSearchCV\n",
    "from sklearn import svm\n",
    "#Confusion Matrix\n",
    "from sklearn.metrics import confusion_matrix\n",
    "from pandas import DataFrame\n",
    "import seaborn as sns"
   ]
  },
  {
   "cell_type": "markdown",
   "metadata": {},
   "source": [
    "## 1. Recording a video"
   ]
  },
  {
   "cell_type": "markdown",
   "metadata": {},
   "source": [
    "Just record it. Falar de algumas precauções e cuidades. IDK"
   ]
  },
  {
   "cell_type": "markdown",
   "metadata": {},
   "source": [
    "## 2. Converting the video in measurable data / Data treatment"
   ]
  },
  {
   "cell_type": "markdown",
   "metadata": {},
   "source": [
    "### 2.1 Importing the text file"
   ]
  },
  {
   "cell_type": "markdown",
   "metadata": {},
   "source": [
    "To do so, we created [datasetGenerating.py](https://github.com/antonioramiro/gaze-estimation/blob/master/datasetGenerating.py) which converts a video into an array of (~) 47 elements. yada yada yada"
   ]
  },
  {
   "cell_type": "markdown",
   "metadata": {},
   "source": [
    "``demo da datasetGenerating`` .gif e o comando q se usa "
   ]
  },
  {
   "cell_type": "markdown",
   "metadata": {},
   "source": [
    "Then, to cluster every vector generated, each in an individual .txt file, we used [txtJoiner](https://github.com/antonioramiro/gaze-estimation/blob/master/txtJoiner.py), which outputs the following file yada yada. When said file is imported, the lines are read as strings, therefore it needs to be converted to a list of lists."
   ]
  },
  {
   "cell_type": "code",
   "execution_count": 39,
   "metadata": {},
   "outputs": [],
   "source": [
    "#opening the file\n",
    "with open('dataset_2020-04-25.txt') as file:\n",
    "    txt_file = [line.strip() for line in file]\n",
    "\n",
    "dataset = []\n",
    "#converting a list of strings to a list of lists\n",
    "counter = 0\n",
    "total_lines = len(txt_file)\n",
    "while counter != total_lines:\n",
    "    individual_line = ast.literal_eval(txt_file[counter])\n",
    "    dataset += [individual_line]\n",
    "    counter+=1"
   ]
  },
  {
   "cell_type": "markdown",
   "metadata": {},
   "source": [
    "#### 2.1.1 Understanding the data"
   ]
  },
  {
   "cell_type": "markdown",
   "metadata": {},
   "source": [
    "meter aqui imagem do boneco, com a legenda adequada ao nosso vetor. como por aquilo bonito? fica melhor explicado por escrito do que tudo discriminado."
   ]
  },
  {
   "cell_type": "markdown",
   "metadata": {},
   "source": [
    "``[x_nose, y_nose, x_right ear, y_right ear, x_left ear, y_left ear, x_right eye, y_right eye, x_left eye, y_left eye, x_right hand, y_right hand, x_left hand, y_left hand, ... contextual information - 32 positions ..., quadrant]``"
   ]
  },
  {
   "cell_type": "markdown",
   "metadata": {},
   "source": [
    "### 2.2 Increasing sample size"
   ]
  },
  {
   "cell_type": "markdown",
   "metadata": {},
   "source": [
    "inverter horizontalmente as cenas + termos o dobro dos dados. nota: a geradora do dataset cospe a resolução das imagens na sua penúltima linha"
   ]
  },
  {
   "cell_type": "code",
   "execution_count": 40,
   "metadata": {},
   "outputs": [
    {
     "name": "stdout",
     "output_type": "stream",
     "text": [
      "Initially, the dataset is composed by 2396 elements.\n"
     ]
    }
   ],
   "source": [
    "print('Initially, the dataset is composed by ' + str(len(dataset)) + ' elements.')"
   ]
  },
  {
   "cell_type": "code",
   "execution_count": 41,
   "metadata": {},
   "outputs": [],
   "source": [
    "resolution = (640,352) \n",
    "flipped_dataset = []\n",
    "\n",
    "# Calculate the simetric quadrant, where the input is an int and the output is a list of 1 element.\n",
    "# Given the numeration of quadrants (stated in 2.1.1), a simple addition/subtraction of 3 or 5 will yield\n",
    "# the simetric quadrant\n",
    "\n",
    "def flipped_quadrant(quadrant):\n",
    "    if quadrant in [1,3,9,11]:\n",
    "        flipped_quadrant = quadrant + 3 \n",
    "    elif quadrant in [4,6,12,14]:\n",
    "        flipped_quadrant = quadrant - 3 \n",
    "    elif quadrant in [0,2,8,10]:\n",
    "        flipped_quadrant = quadrant + 5\n",
    "    elif quadrant in [5,7,13,15]:\n",
    "        flipped_quadrant = quadrant - 5  \n",
    "    return [flipped_quadrant]\n",
    "    \n",
    "\n",
    "for element in dataset:\n",
    "    flipped_element = []\n",
    "    for i in range(len(element) - 33):\n",
    "        \n",
    "        # Every even index (up to the 14th: indexes that correspond to coordinates of poseKeypoints) contains \n",
    "        # an X coordinate, from which can be obtained the simetric coordinate (by subtracting to the width\n",
    "        # the original X), note that Y is irrelevant to horizontal simetry.\n",
    "        \n",
    "        if i%2 == 0 and element[i] != -1: #x\n",
    "            flipped_element += [resolution[0] - element[i]]\n",
    "                                            \n",
    "        else: #y or x == -1\n",
    "            flipped_element += [element[i]]       \n",
    "        \n",
    "    flipped_dataset += [flipped_element + element[14:-1] + flipped_quadrant(element[-1])]\n",
    "\n",
    "dataset += flipped_dataset"
   ]
  },
  {
   "cell_type": "code",
   "execution_count": 42,
   "metadata": {},
   "outputs": [
    {
     "name": "stdout",
     "output_type": "stream",
     "text": [
      "Now, it has 4792 elements.\n"
     ]
    }
   ],
   "source": [
    "print('Now, it has ' + str(len(dataset)) + ' elements.')"
   ]
  },
  {
   "cell_type": "markdown",
   "metadata": {},
   "source": [
    "### 2.2.1 Leveling the data - corrigir numeracao"
   ]
  },
  {
   "cell_type": "markdown",
   "metadata": {},
   "source": [
    "Em vez de leveling, outra palavra para descrever este processo de fazer os numeros mais proximos.  Due to XXXX, some quadrants tend to be more prevalent. So in order not to confuse :p the SVM, the values should be more homogenized  Falar um pouco"
   ]
  },
  {
   "cell_type": "markdown",
   "metadata": {},
   "source": [
    "Firstly lets visualise the distributtion of data with the following function"
   ]
  },
  {
   "cell_type": "code",
   "execution_count": 43,
   "metadata": {},
   "outputs": [],
   "source": [
    "import numpy as np; np.random.seed(0)\n",
    "import matplotlib.pyplot as plt\n",
    "import seaborn as sns; sns.set()\n",
    "import random\n",
    "%matplotlib inline\n",
    "\n",
    "def heatmap (dataset):\n",
    "    #in the quadrant_count list, each number corresponds to the number of samples where the object is in that\n",
    "    #quadrant so quadrant_count[0] is the number of samples in the 0 quadrant\n",
    "    quadrant_count=[0,0,0,0,0,0,0,0,0,0,0,0,0,0,0,0]\n",
    "    for i in range(len(dataset)):\n",
    "        quad=dataset[i][-1]\n",
    "        quadrant_count[quad]=quadrant_count[quad]+1\n",
    "    data=[[quadrant_count[0],quadrant_count[1],quadrant_count[4],quadrant_count[5]],\\\n",
    "           [quadrant_count[2],quadrant_count[3],quadrant_count[6],quadrant_count[7]],\\\n",
    "           [quadrant_count[8],quadrant_count[9],quadrant_count[12],quadrant_count[13]],\\\n",
    "           [quadrant_count[10],quadrant_count[11],quadrant_count[14],quadrant_count[15]]]\n",
    "    sns.heatmap(data, annot=True, fmt=\"d\",linewidths=0.5,yticklabels=False,xticklabels=False,cbar=False)\n",
    "    return quadrant_count"
   ]
  },
  {
   "cell_type": "markdown",
   "metadata": {},
   "source": [
    "Prior to leveling, we have"
   ]
  },
  {
   "cell_type": "code",
   "execution_count": 44,
   "metadata": {},
   "outputs": [
    {
     "data": {
      "text/plain": [
       "[57, 58, 458, 346, 58, 57, 346, 458, 363, 718, 125, 271, 718, 363, 271, 125]"
      ]
     },
     "execution_count": 44,
     "metadata": {},
     "output_type": "execute_result"
    },
    {
     "data": {
      "image/png": "[encoded data removed]",
      "text/plain": [
       "<Figure size 432x288 with 1 Axes>"
      ]
     },
     "metadata": {},
     "output_type": "display_data"
    }
   ],
   "source": [
    "#dataset=[[1,1,0],[2,2,0],[1,2,1],[1,2,1],[0,0,2],[1,3,3],[3,2,3],[1,2,3],[1,5,4],[5,5,5],[1,2,6],[1,2,7],[6,2,8],[1,3,9],[2,3,9],[3,3,9],[4,3,9],[5,3,9],[3,0,10],[1,3,11],[1,2,12],[3,3,13],[4,4,14],[5,3,15],[2,3,15]]\n",
    "heatmap(dataset)"
   ]
  },
  {
   "cell_type": "code",
   "execution_count": 45,
   "metadata": {},
   "outputs": [],
   "source": [
    "def levelling (dataset,percent):\n",
    "    #percent indicates de percentage of samples we'll allow of difference \n",
    "    #between the smallest samples and all the rest\n",
    "    quadrant_count=heatmap(dataset)\n",
    "    a=quadrant_count[0]\n",
    "    #we'll use the following cycle to find out what is the smallest number of samples we have in one quadrant\n",
    "    #(doesn't matter which quadrant that is)\n",
    "    for i in quadrant_count:\n",
    "        if i<a:\n",
    "            a=i\n",
    "    max=int((percent+1)*a)\n",
    "    excess=[0,0,0,0,0,0,0,0,0,0,0,0,0,0,0,0]\n",
    "    for i in range(len(quadrant_count)):\n",
    "        if quadrant_count[i]>max:\n",
    "            excess[i]=quadrant_count[i]-max\n",
    "        else:\n",
    "            excess[i]=0\n",
    "    \n",
    "    b=[[],[],[],[],[],[],[],[],[],[],[],[],[],[],[],[]]\n",
    "    for j in dataset:\n",
    "        b[j[-1]]+=[j]\n",
    "    for k in range(len(b)):\n",
    "        for l in range(excess[k]):\n",
    "            c=random.choice(b[k])\n",
    "            b[k].remove(c)\n",
    "    dataset=[]\n",
    "    for m in b:\n",
    "        dataset+=m\n",
    "    random.shuffle(dataset)\n",
    "    return dataset"
   ]
  },
  {
   "cell_type": "code",
   "execution_count": 47,
   "metadata": {
    "scrolled": true
   },
   "outputs": [
    {
     "data": {
      "text/plain": [
       "[57, 58, 125, 125, 58, 57, 125, 125, 125, 125, 125, 125, 125, 125, 125, 125]"
      ]
     },
     "execution_count": 47,
     "metadata": {},
     "output_type": "execute_result"
    },
    {
     "data": {
      "image/png": "[encoded data removed]",
      "text/plain": [
       "<Figure size 432x288 with 1 Axes>"
      ]
     },
     "metadata": {},
     "output_type": "display_data"
    }
   ],
   "source": [
    "dataset = levelling(dataset,1.2)\n",
    "heatmap(dataset)\n",
    "#guardar o novo dataset em dataset, var global"
   ]
  },
  {
   "cell_type": "markdown",
   "metadata": {},
   "source": [
    "### 2.3 Separating data for testing and for training"
   ]
  },
  {
   "cell_type": "markdown",
   "metadata": {},
   "source": [
    "Now let's get the party going. Separate data"
   ]
  },
  {
   "cell_type": "code",
   "execution_count": 48,
   "metadata": {},
   "outputs": [],
   "source": [
    "size = len(dataset)"
   ]
  },
  {
   "cell_type": "code",
   "execution_count": 49,
   "metadata": {},
   "outputs": [],
   "source": [
    "total_frames = len(dataset)\n",
    "testing_data = []\n",
    "training_data = []\n",
    "\n",
    "for i in range(int(0.2*total_frames)):\n",
    "    element_to_transfer = random.choice(dataset)\n",
    "    testing_data += [element_to_transfer]\n",
    "    dataset.remove(element_to_transfer)\n",
    "\n",
    "training_data = dataset\n",
    "dataset = []"
   ]
  },
  {
   "cell_type": "code",
   "execution_count": 50,
   "metadata": {},
   "outputs": [
    {
     "data": {
      "text/plain": [
       "((346, 0.2), (1384, 0.8))"
      ]
     },
     "execution_count": 50,
     "metadata": {},
     "output_type": "execute_result"
    }
   ],
   "source": [
    "(len(testing_data),len(testing_data)/size),(len(training_data),len(training_data)/size)"
   ]
  },
  {
   "cell_type": "markdown",
   "metadata": {},
   "source": [
    "## 3. Training the models & Classifying"
   ]
  },
  {
   "cell_type": "markdown",
   "metadata": {},
   "source": [
    "### 3.1 Creating a proper list of vectors"
   ]
  },
  {
   "cell_type": "markdown",
   "metadata": {},
   "source": [
    "Este step is only done here in order to reduce the probability of messing up and disconecting each X vector from the correspondant Y"
   ]
  },
  {
   "cell_type": "code",
   "execution_count": 51,
   "metadata": {},
   "outputs": [],
   "source": [
    "def eXifY(data):\n",
    "    X, Y = [element[0:-1] for element in data], [element[-1] for element in data]\n",
    "    return X, Y"
   ]
  },
  {
   "cell_type": "code",
   "execution_count": 52,
   "metadata": {},
   "outputs": [
    {
     "data": {
      "text/plain": [
       "True"
      ]
     },
     "execution_count": 52,
     "metadata": {},
     "output_type": "execute_result"
    }
   ],
   "source": [
    "len(eXifY(training_data)[0]) == len(eXifY(training_data)[1])"
   ]
  },
  {
   "cell_type": "markdown",
   "metadata": {},
   "source": [
    "### 3.2 Training & Classifying"
   ]
  },
  {
   "cell_type": "markdown",
   "metadata": {},
   "source": [
    "Since the goal is the comparison of the quality of the classifications according to the type of context (number of \n",
    "coordinates given), we are going to train 4 models and test them to see the differences in success rate.\n",
    "Below are defined the training and testing functions, respectively."
   ]
  },
  {
   "cell_type": "code",
   "execution_count": 15,
   "metadata": {
    "scrolled": true
   },
   "outputs": [],
   "source": [
    "def training(X,Y):\n",
    "   \n",
    "    nfolds=3 #3 means a 3-fold cross-validation\n",
    "    Cs = [1e5,7e5,1e6,1e4,1e8] #parameter 1\n",
    "    gammas = [1e-6,1e-5,1e-7,1e-4] #parameter 2  \n",
    "    param_grid = {'C': Cs, 'gamma' : gammas} #all in one grid\n",
    "    grid_search2 = GridSearchCV(svm.SVC(kernel='rbf'), param_grid, cv=nfolds) #svm classifier\n",
    "    grid_search2.fit(X, Y) #fitting the data\n",
    "    best=grid_search2.best_params_ \n",
    "\n",
    "    clf = SVC(C= best['C'],gamma=best['gamma']) #creating the model with the best parameters\n",
    "    clf.fit(X, Y) #fitting the model to the data\n",
    "\n",
    "    now = datetime.datetime.now()\n",
    "    timestamp = str(now.strftime(\"%d-%m-%Y_%Hh%Mm%Ss\")) #the current day and time to have in the classifier name \n",
    "    \n",
    "    #to insert in the name of the classifier and text files which of the 4 groups of coordinates is the classifier using\n",
    "    if str(len(X[0])) == '10': #(head)\n",
    "        datatype='Head'\n",
    "    if str(len(X[0])) == '14': #(head + hands)\n",
    "        datatype='Head_Hands'\n",
    "    if str(len(X[0])) == '42': #(head + context data)\n",
    "        datatype='Head_Context_data'\n",
    "    if str(len(X[0])) == '46': #(all) \n",
    "        datatype='All'\n",
    "     \n",
    "    info_classif='classifier_' + timestamp + '_' + datatype +'_info.txt'\n",
    "    with open(info_classif, 'w+')  as info:\n",
    "        info.write('Group of Coordinates: '+ datatype + '\\n')\n",
    "        info.write('Type of classifier: SVM\\n') # python will convert \\n to os.linesep\n",
    "        info.write('C:'+str(best['C'])+'\\n')\n",
    "        info.write('Gamma:'+str(best['gamma'])+'\\n')\n",
    "\n",
    "    \n",
    "    classif = 'classifier_'+ timestamp + '_'+ datatype +'.joblib'\n",
    "    dump(clf, classif) \n",
    "                       \n",
    "    return classif,info_classif"
   ]
  },
  {
   "cell_type": "code",
   "execution_count": 16,
   "metadata": {
    "scrolled": false
   },
   "outputs": [],
   "source": [
    "def testing(X,Y,classif,info_classif):\n",
    "    \n",
    "    clf  = joblib.load(classif)\n",
    "    result = clf.score(X, Y)\n",
    "    \n",
    "    Qpredicted= []\n",
    "    i=0\n",
    "    length=len(X)\n",
    "\n",
    "    while i != length:\n",
    "        Qpredicted+= [str(clf.predict(np.array([X[i]]))).strip('['+']'+'\"')] #predict\n",
    "        Y[i]= str(Y[i]) #converting to a string\n",
    "        i+=1\n",
    "        \n",
    "    print('The percentage of success was: ' + str(result*100)+ ' %\\n')\n",
    "    with open(info_classif, 'a')  as info:\n",
    "        info.write('\\n----\\n')\n",
    "        info.write('The percentage of success was: ' + str(result*100)+ ' %\\n')\n",
    "        \n",
    "    CONF= confusion_matrix(np.array(Y), np.array(Qpredicted))\n",
    "\n",
    "    return CONF, result, Qpredicted"
   ]
  },
  {
   "cell_type": "markdown",
   "metadata": {},
   "source": [
    "#### 3.2.1 Using only the face keypoints"
   ]
  },
  {
   "cell_type": "markdown",
   "metadata": {},
   "source": [
    "Since we're only using  the keypoints of the head, we'll delete context information about the difference short/long distance object and hands coordinates. <br> \n",
    "The head coordinates are the first 10 (5*2) (x,y)."
   ]
  },
  {
   "cell_type": "markdown",
   "metadata": {},
   "source": [
    "Below we will:<br> \n",
    " - Delete the coordinates we don't need (mentioned before) from the whole training data;<br> \n",
    " - Train the model with only the head coordinates using the training function (defined before);<br> \n",
    " - Delete the coordinates we don't need (mentioned before) from the whole testing data;<br> \n",
    " - Test the model with only the head coordinates using the training function (defined before)."
   ]
  },
  {
   "cell_type": "code",
   "execution_count": 17,
   "metadata": {},
   "outputs": [],
   "source": [
    "X, Y = eXifY(training_data)\n",
    "X = [element[:10] for element in X]"
   ]
  },
  {
   "cell_type": "code",
   "execution_count": 18,
   "metadata": {},
   "outputs": [],
   "source": [
    "classif,info_classif=training(X,Y)"
   ]
  },
  {
   "cell_type": "code",
   "execution_count": 19,
   "metadata": {},
   "outputs": [],
   "source": [
    "X, Y = eXifY(testing_data)\n",
    "X = [element[:10] for element in X]"
   ]
  },
  {
   "cell_type": "code",
   "execution_count": 20,
   "metadata": {},
   "outputs": [
    {
     "name": "stdout",
     "output_type": "stream",
     "text": [
      "The percentage of success was: 56.358381502890175 %\n",
      "\n",
      "[[ 8  0  0  0  0  0  0  1  1  0  1  0  1  0  0  0]\n",
      " [ 3  8  0  0  0  0  0  0  2  0  0  0  0  0  0  0]\n",
      " [ 0  0 17  3  1  1  0  0  1  0  0  1  0  0  4  0]\n",
      " [ 0  0  3 15  1  0  2  1  0  1  1  0  0  0  1  4]\n",
      " [ 0  0  1  1 14  2  2  0  1  0  0  0  1  0  0  1]\n",
      " [ 0  0  0  1  2 10  0  0  0  0  0  0  4  1  0  0]\n",
      " [ 0  0  2  0  2  0 11  1  0  0  1  0  0  1  0  1]\n",
      " [ 0  0  1  0  2  5  2 17  0  0  0  0  1  0  2  1]\n",
      " [ 3  3  0  0  0  0  0  0 15  3  0  0  0  0  2  0]\n",
      " [ 0  1  1  0  0  1  3  2  4 17  0  0  1  0  3  0]\n",
      " [ 0  0  0  0  0  0  0  0  0  1  7  1  0  0  0  0]\n",
      " [ 0  0  0  0  0  0  0  0  0  0  0 10  2  0  0  0]\n",
      " [ 0  0  3  0  1  1  0  1  0  4  0  0 11  0  0  0]\n",
      " [ 0  0  0  1  0  3  0  1  0  0  1  1  3 15  0  0]\n",
      " [ 0  1  1  0  0  0  0  2  3  1  0  0  1  0 12  2]\n",
      " [ 0  0  0  3  0  0  2  1  2  3  0  0  3  0  2  8]]\n"
     ]
    }
   ],
   "source": [
    "CONF1, result, Qpredicted = testing(X,Y,classif,info_classif)\n",
    "#print(Qpredicted)\n",
    "#print(Y)\n",
    "print(CONF1)"
   ]
  },
  {
   "cell_type": "markdown",
   "metadata": {},
   "source": [
    "#### 3.2.2 Using only keypoints (face + hands)"
   ]
  },
  {
   "cell_type": "markdown",
   "metadata": {},
   "source": [
    "Since we're only using  the keypoints of the head and the hands, we'll delete context information about the difference short/long distance object.<br> \n",
    "The keypoints (head + hands) coordinates are the first 10 (5*2) + 4 (2*2)(x,y), giving a total of 14.<br> \n",
    "The rest of the procedure is the same as in 3.2.1.:"
   ]
  },
  {
   "cell_type": "markdown",
   "metadata": {},
   "source": [
    "Below we will:<br> \n",
    " - Delete the coordinates we don't need (mentioned before) from the whole training data;<br> \n",
    " - Train the model with only the head + hand coordinates using the training function (defined before);<br> \n",
    " - Delete the coordinates we don't need (mentioned before) from the whole testing data;<br> \n",
    " - Test the model with only the head + hand coordinates using the training function (defined before)."
   ]
  },
  {
   "cell_type": "code",
   "execution_count": 21,
   "metadata": {
    "scrolled": true
   },
   "outputs": [],
   "source": [
    "X, Y = eXifY(training_data)\n",
    "X = [element[:14] for element in X]"
   ]
  },
  {
   "cell_type": "code",
   "execution_count": 22,
   "metadata": {},
   "outputs": [],
   "source": [
    "classif,info_classif=training(X,Y)"
   ]
  },
  {
   "cell_type": "code",
   "execution_count": 23,
   "metadata": {},
   "outputs": [],
   "source": [
    "X, Y = eXifY(testing_data)\n",
    "X = [element[:14] for element in X]"
   ]
  },
  {
   "cell_type": "code",
   "execution_count": 24,
   "metadata": {},
   "outputs": [
    {
     "name": "stdout",
     "output_type": "stream",
     "text": [
      "The percentage of success was: 52.89017341040463 %\n",
      "\n",
      "[[ 4  5  0  0  1  0  0  0  2  0  0  0  0  0  0  0]\n",
      " [ 1 10  0  0  0  0  0  0  0  1  0  0  0  0  0  1]\n",
      " [ 0  0 19  3  1  0  0  0  1  0  0  0  0  0  3  1]\n",
      " [ 0  0  2 17  0  0  0  0  1  0  0  0  1  0  1  7]\n",
      " [ 0  1  0  3 10  0  0  1  1  2  1  0  1  1  0  2]\n",
      " [ 0  0  0  0  2 11  0  0  0  2  1  0  2  0  0  0]\n",
      " [ 0  0  1  1  3  1  9  2  0  1  0  0  0  0  0  1]\n",
      " [ 0  0  0  2  3  4  4 15  0  0  0  1  1  1  0  0]\n",
      " [ 5  1  0  0  1  0  0  0 16  1  0  0  1  0  1  0]\n",
      " [ 2  1  1  1  0  2  1  0  7 13  1  0  1  0  1  2]\n",
      " [ 1  1  0  0  0  0  0  0  0  0  7  0  0  0  0  0]\n",
      " [ 1  1  0  0  0  0  0  0  0  0  0  9  0  1  0  0]\n",
      " [ 0  1  1  1  1  1  1  2  0  1  0  0  9  1  0  2]\n",
      " [ 0  0  1  0  1  6  0  1  0  0  0  1  1 14  0  0]\n",
      " [ 1  1  3  1  0  0  0  0  2  2  0  0  0  0 11  2]\n",
      " [ 0  1  0  1  0  2  0  0  2  5  0  0  1  0  3  9]]\n"
     ]
    }
   ],
   "source": [
    "CONF2, result, Qpredicted = testing(X,Y,classif,info_classif)\n",
    "#print(Qpredicted)\n",
    "#print(Y)\n",
    "print(CONF2)"
   ]
  },
  {
   "cell_type": "markdown",
   "metadata": {},
   "source": [
    "#### 3.2.3 Using only the keypoints of the head and context data"
   ]
  },
  {
   "cell_type": "markdown",
   "metadata": {},
   "source": [
    "Since we're only using  the keypoints of the head and the context information about the difference short/long distance object, we'll delete the hand coordinates.<br> \n",
    "The keypoints of the head coordinates are the first 10 (5*2) and the context data goes from the 15 to the 46 coordinates (but on the code we have to do it from 14th to start on the 15th) giving a total of 42 coordinates.<br>\n",
    "The rest of the procedure is the same as in 3.2.1.:"
   ]
  },
  {
   "cell_type": "markdown",
   "metadata": {},
   "source": [
    "Below we will:<br>\n",
    " - Delete the coordinates we don't need (mentioned before) from the whole training data;<br>\n",
    " - Train the model with only the head + context data coordinates using the training function (defined before);<br>\n",
    " - Delete the coordinates we don't need (mentioned before) from the whole testing data;<br>\n",
    " - Test the model with only the head + context data coordinates using the training function (defined before)."
   ]
  },
  {
   "cell_type": "code",
   "execution_count": 25,
   "metadata": {
    "scrolled": true
   },
   "outputs": [],
   "source": [
    "X, Y = eXifY(training_data)\n",
    "X = [element[:10] + element[14:] for element in X]"
   ]
  },
  {
   "cell_type": "code",
   "execution_count": 26,
   "metadata": {},
   "outputs": [],
   "source": [
    "classif,info_classif=training(X,Y)"
   ]
  },
  {
   "cell_type": "code",
   "execution_count": 27,
   "metadata": {},
   "outputs": [],
   "source": [
    "X, Y = eXifY(testing_data)\n",
    "X = [element[:10] + element[14:] for element in X]"
   ]
  },
  {
   "cell_type": "code",
   "execution_count": 28,
   "metadata": {},
   "outputs": [
    {
     "name": "stdout",
     "output_type": "stream",
     "text": [
      "The percentage of success was: 67.05202312138728 %\n",
      "\n",
      "[[ 8  0  1  0  0  0  0  0  1  0  0  0  2  0  0  0]\n",
      " [ 1 10  0  0  0  0  0  0  1  1  0  0  0  0  0  0]\n",
      " [ 0  0 20  1  0  0  0  1  0  0  0  1  1  0  2  2]\n",
      " [ 0  0  1 16  0  0  2  1  0  2  0  0  1  0  3  3]\n",
      " [ 0  1  0  0 14  0  1  0  0  1  1  0  0  1  1  3]\n",
      " [ 0  0  0  0  4 13  0  0  0  0  0  0  0  1  0  0]\n",
      " [ 0  0  1  1  2  1 12  0  0  0  0  0  0  1  0  1]\n",
      " [ 0  0  0  0  1  1  3 24  0  0  0  0  1  0  0  1]\n",
      " [ 1  1  0  0  0  0  0  0 20  3  0  0  1  0  0  0]\n",
      " [ 1  0  1  0  3  0  0  0  5 15  0  0  2  0  2  4]\n",
      " [ 0  1  0  0  0  1  0  0  0  0  7  0  0  0  0  0]\n",
      " [ 0  0  0  0  0  0  0  0  0  0  0 10  2  0  0  0]\n",
      " [ 0  1  1  0  1  1  0  1  1  0  0  2 10  0  0  3]\n",
      " [ 0  0  0  0  0  3  0  0  0  0  0  0  3 19  0  0]\n",
      " [ 1  0  0  1  0  0  0  0  1  1  0  0  0  0 17  2]\n",
      " [ 0  0  0  1  2  0  0  0  1  2  0  0  1  0  0 17]]\n"
     ]
    }
   ],
   "source": [
    "CONF3, result, Qpredicted = testing(X,Y,classif,info_classif)\n",
    "#print(Qpredicted)\n",
    "#print(Y)\n",
    "print(CONF3)"
   ]
  },
  {
   "cell_type": "markdown",
   "metadata": {},
   "source": [
    "#### 3.2.4 Using all the coordinates (keypoints of the head, hands and context data)"
   ]
  },
  {
   "cell_type": "markdown",
   "metadata": {},
   "source": [
    "Now we are using the whole set of coordinates (keypoints of the head, hands and context data) giving a total of 46 coordinates."
   ]
  },
  {
   "cell_type": "markdown",
   "metadata": {},
   "source": [
    "Below we will:<br>\n",
    " - Create the training data divided into X (coordinates) and Y (quadrants) like before;<br>\n",
    " - Train the model with all the 46 coordinates using the training function (defined before);<br>\n",
    " - Create the test data divided into X (coordinates) and Y (quadrants) like before; <br>\n",
    " - Test the model with all the coordinates using the training function (defined before)."
   ]
  },
  {
   "cell_type": "code",
   "execution_count": 29,
   "metadata": {
    "scrolled": true
   },
   "outputs": [],
   "source": [
    "X, Y = eXifY(training_data)"
   ]
  },
  {
   "cell_type": "code",
   "execution_count": 30,
   "metadata": {},
   "outputs": [],
   "source": [
    "classif,info_classif=training(X,Y)"
   ]
  },
  {
   "cell_type": "code",
   "execution_count": 31,
   "metadata": {},
   "outputs": [],
   "source": [
    "X, Y = eXifY(testing_data)"
   ]
  },
  {
   "cell_type": "code",
   "execution_count": 32,
   "metadata": {},
   "outputs": [
    {
     "name": "stdout",
     "output_type": "stream",
     "text": [
      "The percentage of success was: 58.092485549132945 %\n",
      "\n",
      "[[ 4  5  0  0  0  0  1  0  1  0  0  0  1  0  0  0]\n",
      " [ 0 10  0  0  0  0  0  0  0  1  0  0  1  0  1  0]\n",
      " [ 0  0 19  3  0  0  0  1  1  0  0  0  0  0  3  1]\n",
      " [ 0  0  3 16  0  0  3  0  1  0  0  0  1  0  1  4]\n",
      " [ 1  1  0  1 13  0  0  1  0  2  1  0  1  1  0  1]\n",
      " [ 0  0  0  0  2 11  0  0  0  2  0  0  2  1  0  0]\n",
      " [ 0  0  1  0  4  0 11  1  0  1  0  0  0  1  0  0]\n",
      " [ 0  0  0  0  0  4  5 17  0  0  0  0  2  1  1  1]\n",
      " [ 2  1  0  1  0  0  0  0 19  3  0  0  0  0  0  0]\n",
      " [ 1  1  0  0  1  1  3  1  5 15  0  0  0  0  1  4]\n",
      " [ 0  2  0  0  0  0  0  0  0  1  6  0  0  0  0  0]\n",
      " [ 1  0  0  0  0  0  0  0  0  0  0 10  1  0  0  0]\n",
      " [ 0  1  0  0  0  1  3  2  0  1  0  0 11  0  0  2]\n",
      " [ 0  0  0  0  0  5  0  0  0  0  0  1  3 16  0  0]\n",
      " [ 0  0  2  0  0  0  1  1  2  2  1  0  0  0 11  3]\n",
      " [ 0  1  1  0  0  2  0  0  1  3  0  0  2  0  2 12]]\n"
     ]
    }
   ],
   "source": [
    "CONF4, result, Qpredicted = testing(X,Y,classif,info_classif)\n",
    "#print(Qpredicted)\n",
    "#print(Y)\n",
    "print(CONF4)"
   ]
  },
  {
   "cell_type": "markdown",
   "metadata": {},
   "source": [
    "## 4. Comparing classifications"
   ]
  },
  {
   "cell_type": "markdown",
   "metadata": {},
   "source": [
    "Now, at last, we compare the Confusion Matrices of the 4 groups of coordinates. And with a nice layout!"
   ]
  },
  {
   "cell_type": "code",
   "execution_count": 35,
   "metadata": {},
   "outputs": [
    {
     "data": {
      "image/png": "[encoded data removed]",
      "text/plain": [
       "<Figure size 288x288 with 1 Axes>"
      ]
     },
     "metadata": {
      "needs_background": "light"
     },
     "output_type": "display_data"
    },
    {
     "data": {
      "image/png": "[encoded data removed]",
      "text/plain": [
       "<Figure size 288x288 with 1 Axes>"
      ]
     },
     "metadata": {
      "needs_background": "light"
     },
     "output_type": "display_data"
    },
    {
     "data": {
      "image/png": "[encoded data removed]",
      "text/plain": [
       "<Figure size 288x288 with 1 Axes>"
      ]
     },
     "metadata": {
      "needs_background": "light"
     },
     "output_type": "display_data"
    },
    {
     "data": {
      "image/png": "[encoded data removed]",
      "text/plain": [
       "<Figure size 288x288 with 1 Axes>"
      ]
     },
     "metadata": {
      "needs_background": "light"
     },
     "output_type": "display_data"
    }
   ],
   "source": [
    "plt.figure()  \n",
    "plt.rcParams[\"figure.figsize\"] = (4,4)\n",
    "df = DataFrame(CONF1) #, index=Index, columns=Cols - if defined before\n",
    "sns.heatmap(df, annot=True, cmap=\"YlGnBu\",cbar=False) #cbar=True is an option but it appears float values\n",
    "plt.xlabel(\"Predicted Label\")\n",
    "plt.ylabel(\"True Label\")\n",
    "plt.title('Confusion Matrix Head')\n",
    "plt.show()\n",
    "\n",
    "plt.figure() \n",
    "plt.rcParams[\"figure.figsize\"] = (4,4)\n",
    "df = DataFrame(CONF2) #, index=Index, columns=Cols - if defined before\n",
    "sns.heatmap(df, annot=True, cmap=\"YlGnBu\",cbar=False) #cbar=True is an option but it appears float values\n",
    "plt.xlabel(\"Predicted Label\")\n",
    "plt.ylabel(\"True Label\")\n",
    "plt.title('Confusion Matrix Head + Hands')\n",
    "plt.show()\n",
    "\n",
    "plt.figure()\n",
    "plt.rcParams[\"figure.figsize\"] = (4,4)\n",
    "df = DataFrame(CONF3) #, index=Index, columns=Cols - if defined before\n",
    "sns.heatmap(df, annot=True, cmap=\"YlGnBu\",cbar=False) #cbar=True is an option but it appears float values\n",
    "plt.xlabel(\"Predicted Label\")\n",
    "plt.ylabel(\"True Label\")\n",
    "plt.title('Confusion Matrix Head + Context Data')\n",
    "plt.show()\n",
    "\n",
    "plt.figure()\n",
    "plt.rcParams[\"figure.figsize\"] = (4,4)\n",
    "df = DataFrame(CONF4) #, index=Index, columns=Cols - if defined before\n",
    "sns.heatmap(df, annot=True, cmap=\"YlGnBu\",cbar=False) #cbar=True is an option but it appears float values\n",
    "plt.xlabel(\"Predicted Label\")\n",
    "plt.ylabel(\"True Label\")\n",
    "plt.title('Confusion Matrix All')\n",
    "#plt.subplots_adjust(wspace=0.8, hspace=0.8)\n",
    "plt.show()"
   ]
  },
  {
   "cell_type": "code",
   "execution_count": null,
   "metadata": {},
   "outputs": [],
   "source": []
  }
 ],
 "metadata": {
  "file_extension": ".py",
  "kernelspec": {
   "display_name": "Python 3",
   "language": "python",
   "name": "python3"
  },
  "language_info": {
   "codemirror_mode": {
    "name": "ipython",
    "version": 3
   },
   "file_extension": ".py",
   "mimetype": "text/x-python",
   "name": "python",
   "nbconvert_exporter": "python",
   "pygments_lexer": "ipython3",
   "version": "3.7.6"
  },
  "mimetype": "text/x-python",
  "name": "python",
  "npconvert_exporter": "python",
  "pygments_lexer": "ipython3",
  "version": 3
 },
 "nbformat": 4,
 "nbformat_minor": 2
}
