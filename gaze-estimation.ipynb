{
 "cells": [
  {
   "cell_type": "markdown",
   "metadata": {},
   "source": [
    "# Gaze Estimation"
   ]
  },
  {
   "cell_type": "code",
   "execution_count": 1,
   "metadata": {},
   "outputs": [],
   "source": [
    "#Basic\n",
    "import numpy as np\n",
    "import matplotlib.pyplot as plt\n",
    "from scipy import stats\n",
    "import math\n",
    "\n",
    "#Aiding conversions from string to list\n",
    "import ast\n",
    "\n",
    "#Randomize\n",
    "import random\n",
    "\n",
    "#Labelling classifiers\n",
    "import datetime\n",
    "import joblib\n",
    "\n",
    "#Support Vector Classification\n",
    "from sklearn.model_selection import cross_val_score\n",
    "from sklearn.svm import SVC\n",
    "from joblib import dump, load\n",
    "from sklearn.model_selection import GridSearchCV\n",
    "from sklearn import svm\n",
    "#Confusion Matrix\n",
    "from sklearn.metrics import confusion_matrix\n",
    "from sklearn.metrics import classification_report\n",
    "from pandas import DataFrame\n",
    "import seaborn as sns\n",
    "#PCA\n",
    "import sklearn as sl\n",
    "from sklearn.preprocessing import StandardScaler as ss\n",
    "from sklearn.decomposition import PCA \n",
    "from sklearn import utils"
   ]
  },
  {
   "cell_type": "markdown",
   "metadata": {},
   "source": [
    "## 1. Recording a video"
   ]
  },
  {
   "cell_type": "markdown",
   "metadata": {},
   "source": [
    "Just record it. Falar de algumas precauções e cuidades. IDK"
   ]
  },
  {
   "cell_type": "markdown",
   "metadata": {},
   "source": [
    "## 2. Converting the video in measurable data / Data treatment"
   ]
  },
  {
   "cell_type": "markdown",
   "metadata": {},
   "source": [
    "### 2.1 Importing the text file"
   ]
  },
  {
   "cell_type": "markdown",
   "metadata": {},
   "source": [
    "To do so, we created [datasetGenerating.py](https://github.com/antonioramiro/gaze-estimation/blob/master/datasetGenerating.py) which converts a video into an array of (~) 47 elements. yada yada yada"
   ]
  },
  {
   "cell_type": "markdown",
   "metadata": {},
   "source": [
    "``demo da datasetGenerating`` .gif e o comando q se usa "
   ]
  },
  {
   "cell_type": "markdown",
   "metadata": {},
   "source": [
    "Then, to cluster every vector generated, each in an individual .txt file, we used [txtJoiner](https://github.com/antonioramiro/gaze-estimation/blob/master/txtJoiner.py), which outputs the following file yada yada. When said file is imported, the lines are read as strings, therefore it needs to be converted to a list of lists."
   ]
  },
  {
   "cell_type": "code",
   "execution_count": 2,
   "metadata": {},
   "outputs": [],
   "source": [
    "#opening the file\n",
    "with open('dataset_2020-06-07.txt') as file:\n",
    "    txt_file = [line.strip() for line in file]\n",
    "\n",
    "dataset = []\n",
    "#converting a list of strings to a list of lists\n",
    "counter = 0\n",
    "total_lines = len(txt_file)\n",
    "while counter != total_lines:\n",
    "    individual_line = ast.literal_eval(txt_file[counter])\n",
    "    dataset += [individual_line]\n",
    "    counter+=1"
   ]
  },
  {
   "cell_type": "markdown",
   "metadata": {},
   "source": [
    "#### 2.1.1 Understanding the data"
   ]
  },
  {
   "cell_type": "markdown",
   "metadata": {},
   "source": [
    "meter aqui imagem do boneco, com a legenda adequada ao nosso vetor. como por aquilo bonito? fica melhor explicado por escrito do que tudo discriminado."
   ]
  },
  {
   "cell_type": "markdown",
   "metadata": {},
   "source": [
    "``[x_nose, y_nose, x_neck, y_neck, x_right ear, y_right ear, x_left ear, y_left ear, x_right eye, y_right eye, x_left eye, y_left eye, x_right hand, y_right hand, x_left hand, y_left hand, ... contextual information - 32 positions ..., quadrant]``"
   ]
  },
  {
   "cell_type": "markdown",
   "metadata": {},
   "source": [
    "### 2.2 Separating data for testing and for training"
   ]
  },
  {
   "cell_type": "markdown",
   "metadata": {},
   "source": [
    "Now let's get the party going. Separate data"
   ]
  },
  {
   "cell_type": "code",
   "execution_count": 3,
   "metadata": {},
   "outputs": [],
   "source": [
    "testing_data = dataset[int(len(dataset)*0.8):]\n",
    "training_data = dataset[:int(len(dataset)*0.8)]"
   ]
  },
  {
   "cell_type": "markdown",
   "metadata": {},
   "source": [
    "### 2.2 Increasing sample size"
   ]
  },
  {
   "cell_type": "markdown",
   "metadata": {},
   "source": [
    "inverter horizontalmente as cenas + termos o dobro dos dados. nota: a geradora do dataset cospe a resolução das imagens na sua penúltima linha"
   ]
  },
  {
   "cell_type": "code",
   "execution_count": 4,
   "metadata": {},
   "outputs": [
    {
     "name": "stdout",
     "output_type": "stream",
     "text": [
      "Initially, the training dataset is composed by 8205 elements.\n"
     ]
    }
   ],
   "source": [
    "print('Initially, the training dataset is composed by ' + str(len(training_data)) + ' elements.')"
   ]
  },
  {
   "cell_type": "code",
   "execution_count": 5,
   "metadata": {},
   "outputs": [],
   "source": [
    "def dataDoubler(dataset):\n",
    "    resolution = (640,352) \n",
    "    flipped_dataset = []\n",
    "\n",
    "# Calculate the simetric quadrant, where the input is an int and the output is a list of 1 element.\n",
    "# Given the numeration of quadrants (stated in 2.1.1), a simple addition/subtraction of 3 or 5 will yield\n",
    "# the simetric quadrant\n",
    "\n",
    "    def flipped_quadrant(quadrant):\n",
    "        if quadrant in [1,3,9,11]:\n",
    "            flipped_quadrant = quadrant + 3 \n",
    "        elif quadrant in [4,6,12,14]:\n",
    "            flipped_quadrant = quadrant - 3 \n",
    "        elif quadrant in [0,2,8,10]:\n",
    "            flipped_quadrant = quadrant + 5\n",
    "        elif quadrant in [5,7,13,15]:\n",
    "            flipped_quadrant = quadrant - 5  \n",
    "        return [flipped_quadrant]\n",
    "\n",
    "    def flip_shortlong(bigList):\n",
    "        if len(bigList) != 32:\n",
    "            print(bigList)\n",
    "            print(len(bigList))\n",
    "            return 'auch'\n",
    "        else:\n",
    "            newList=[bigList[5],bigList[4],bigList[7],bigList[6],bigList[1],bigList[0],bigList[3],bigList[2],\\\n",
    "                 bigList[13],bigList[12],bigList[15],bigList[14],bigList[9],bigList[8],bigList[11],bigList[10],\\\n",
    "                 bigList[16+5],bigList[16+4],bigList[16+7],bigList[16+6],bigList[16+1],bigList[16+0],bigList[16+3],bigList[16+2],\\\n",
    "                 bigList[16+13],bigList[16+12],bigList[16+15],bigList[16+14],bigList[16+9],bigList[16+8],bigList[16+11],bigList[16+10]]\n",
    "            return newList\n",
    "    \n",
    "    for element in dataset:\n",
    "        flipped_element = []\n",
    "        for i in range(len(element) - 33):\n",
    "\n",
    "            # Every even index (up to the 14th: indexes that correspond to coordinates of poseKeypoints) contains \n",
    "            # an X coordinate, from which can be obtained the simetric coordinate (by subtracting to the width\n",
    "            # the original X), note that Y is irrelevant to horizontal simetry.\n",
    "\n",
    "            if i%2 == 0 and element[i] != -1: \n",
    "                flipped_element += [resolution[0] - element[i]]\n",
    "\n",
    "            else: #y or x == -1\n",
    "                flipped_element += [element[i]]       \n",
    "\n",
    "        flipped_dataset += [flipped_element + flip_shortlong(element[16:-1])  + flipped_quadrant(element[-1])]\n",
    "\n",
    "    dataset += flipped_dataset\n",
    "    return dataset"
   ]
  },
  {
   "cell_type": "code",
   "execution_count": 6,
   "metadata": {},
   "outputs": [],
   "source": [
    "training_data = dataDoubler(training_data)\n",
    "testing_data = dataDoubler(testing_data)"
   ]
  },
  {
   "cell_type": "code",
   "execution_count": 7,
   "metadata": {},
   "outputs": [
    {
     "name": "stdout",
     "output_type": "stream",
     "text": [
      "Now, it has 16410 elements.\n"
     ]
    }
   ],
   "source": [
    "print('Now, it has ' + str(len(training_data)) + ' elements.')"
   ]
  },
  {
   "cell_type": "code",
   "execution_count": 8,
   "metadata": {
    "scrolled": true
   },
   "outputs": [
    {
     "name": "stdout",
     "output_type": "stream",
     "text": [
      "[432.83353, 156.35634, 502.60385, 225.26476, -1, -1, 462.41827, 162.12698, -1, -1, 438.50482, 148.76007, -1, -1, 410.79236, 349.59262, 0, 0, 0, 0, 0, 0, 0, 0, 0, 0, 0, 0, 0, 0, 0, 0, 0, 0, 0, 0, 0, 0, 0, 0, 0, 1, 0, 0, 0, 0, 0, 0, 9]\n",
      "49\n"
     ]
    }
   ],
   "source": [
    "print(dataset[0])\n",
    "print(len(dataset[0]))"
   ]
  },
  {
   "cell_type": "code",
   "execution_count": 9,
   "metadata": {},
   "outputs": [
    {
     "data": {
      "text/plain": [
       "(16410, 0, [])"
      ]
     },
     "execution_count": 9,
     "metadata": {},
     "output_type": "execute_result"
    }
   ],
   "source": [
    "a = 0\n",
    "b = 0\n",
    "c = []\n",
    "for i in training_data:\n",
    "    if len(i) == 49:\n",
    "        a += 1\n",
    "    elif len(i) == 51:\n",
    "        b += 1\n",
    "        \n",
    "    else: c+= [i]\n",
    "\n",
    "a,b,c"
   ]
  },
  {
   "cell_type": "markdown",
   "metadata": {},
   "source": [
    "### 2.2.1 Feature Engineering"
   ]
  },
  {
   "cell_type": "code",
   "execution_count": 10,
   "metadata": {},
   "outputs": [],
   "source": [
    "def head_angle(x_nose,y_nose,x_neck,y_neck):\n",
    "    #angle() calculates the angle at which the head is tilted using the coordinates of the nose and neck\n",
    "    if x_nose>=0 and x_neck>=0:\n",
    "        x=abs(x_nose-x_neck)\n",
    "        y=abs(y_nose-y_neck)\n",
    "        angle=math.atan(y/x)\n",
    "        if x_nose-x_neck<0:\n",
    "            angle+=math.pi/2\n",
    "        return [int(angle)]\n",
    "    else:\n",
    "        return [-1]\n",
    "\n",
    "    \n",
    "def hand_distance(x_rhand,y_rhand,x_lhand,y_lhand,x_nose,y_nose):\n",
    "    #hand_distance() calculates the distance between the hands and the face using the nose coordinates\n",
    "    right=-1\n",
    "    left=-1\n",
    "    if x_rhand>=0 and x_nose>=0:\n",
    "        right=math.sqrt((x_rhand-x_nose)**2+(y_rhand-y_nose)**2)\n",
    "        \n",
    "    if x_lhand>=0 and x_nose>=0:\n",
    "        left=math.sqrt((x_lhand-x_nose)**2+(y_lhand-y_nose)**2)\n",
    "    \n",
    "    distances=[int(right),int(left)]\n",
    "    return distances\n",
    "\n",
    "\n",
    "def hand_angles(x_rhand,y_rhand,x_lhand,y_lhand,x_neck,y_neck):\n",
    "    #hand_angles() calculates the angle between each arm and the horizontal axis\n",
    "    r_angle=-1\n",
    "    l_angle=-1\n",
    "    if x_rhand>=0 and x_neck>=0:\n",
    "        x=abs(x_rhand-x_neck)\n",
    "        y=abs(y_rhand-y_neck)\n",
    "        r_angle=math.atan(y/x)\n",
    "    if x_lhand>=0 and x_neck>=0:\n",
    "        x=abs(x_lhand-x_neck)\n",
    "        y=abs(y_lhand-y_neck)\n",
    "        l_angle=math.atan(y/x)\n",
    "        \n",
    "    angles=[int(r_angle),int(l_angle)]\n",
    "    return angles"
   ]
  },
  {
   "cell_type": "code",
   "execution_count": 11,
   "metadata": {},
   "outputs": [],
   "source": [
    "def addFeature(dataset):\n",
    "    dataset = [i[:-1] + head_angle(i[0],i[1],i[2],i[3]) + hand_distance(i[12],i[13],i[14],i[15],i[0],i[1]) + hand_angles(i[12],i[13],i[14],i[15],i[2],i[3]) + [i[-1]] for i in dataset]\n",
    "    return dataset"
   ]
  },
  {
   "cell_type": "markdown",
   "metadata": {},
   "source": [
    "``[x_nose, y_nose, x_neck, y_neck, x_right ear, y_right ear, x_left ear, y_left ear, x_right eye, y_right eye, x_left eye, y_left eye, x_right hand, y_right hand, x_left hand, y_left hand, ... contextual information - 32 positions ..., head angle, distance from head to hand x & y, distance from hands x & y , quadrant]``"
   ]
  },
  {
   "cell_type": "code",
   "execution_count": 12,
   "metadata": {},
   "outputs": [],
   "source": [
    "training_data = addFeature(training_data)\n",
    "testing_data = addFeature(testing_data)"
   ]
  },
  {
   "cell_type": "markdown",
   "metadata": {},
   "source": [
    "### 2.2.2 Leveling the data - corrigir numeracao"
   ]
  },
  {
   "cell_type": "markdown",
   "metadata": {},
   "source": [
    "Em vez de leveling, outra palavra para descrever este processo de fazer os numeros mais proximos.  Due to XXXX, some quadrants tend to be more prevalent. So in order not to confuse :p the SVM, the values should be more homogenized  Falar um pouco"
   ]
  },
  {
   "cell_type": "markdown",
   "metadata": {},
   "source": [
    "Firstly lets visualise the distributtion of data with the following function"
   ]
  },
  {
   "cell_type": "code",
   "execution_count": 13,
   "metadata": {},
   "outputs": [],
   "source": [
    "import numpy as np; np.random.seed(0)\n",
    "import matplotlib.pyplot as plt\n",
    "import seaborn as sns; sns.set()\n",
    "import random\n",
    "%matplotlib inline\n",
    "\n",
    "def heatmap (dataset):\n",
    "    #in the quadrant_count list, each number corresponds to the number of samples where the object is in that\n",
    "    #quadrant so quadrant_count[0] is the number of samples in the 0 quadrant\n",
    "    quadrant_count=[0,0,0,0,0,0,0,0,0,0,0,0,0,0,0,0]\n",
    "    for i in range(len(dataset)):\n",
    "        quad=dataset[i][-1]\n",
    "        quadrant_count[quad]=quadrant_count[quad]+1\n",
    "    data=[[quadrant_count[0],quadrant_count[1],quadrant_count[4],quadrant_count[5]],\\\n",
    "           [quadrant_count[2],quadrant_count[3],quadrant_count[6],quadrant_count[7]],\\\n",
    "           [quadrant_count[8],quadrant_count[9],quadrant_count[12],quadrant_count[13]],\\\n",
    "           [quadrant_count[10],quadrant_count[11],quadrant_count[14],quadrant_count[15]]]\n",
    "    sns.heatmap(data, annot=True, fmt=\"d\",linewidths=0.5,yticklabels=False,xticklabels=False,cbar=False)\n",
    "    return quadrant_count"
   ]
  },
  {
   "cell_type": "markdown",
   "metadata": {},
   "source": [
    "Prior to leveling, we have"
   ]
  },
  {
   "cell_type": "code",
   "execution_count": 14,
   "metadata": {
    "scrolled": false
   },
   "outputs": [
    {
     "data": {
      "text/plain": [
       "[344,\n",
       " 218,\n",
       " 1380,\n",
       " 1315,\n",
       " 218,\n",
       " 344,\n",
       " 1315,\n",
       " 1380,\n",
       " 1182,\n",
       " 2136,\n",
       " 423,\n",
       " 1207,\n",
       " 2136,\n",
       " 1182,\n",
       " 1207,\n",
       " 423]"
      ]
     },
     "execution_count": 14,
     "metadata": {},
     "output_type": "execute_result"
    },
    {
     "data": {
      "image/png": "[encoded data removed]",
      "text/plain": [
       "<Figure size 432x288 with 1 Axes>"
      ]
     },
     "metadata": {},
     "output_type": "display_data"
    }
   ],
   "source": [
    "#dataset=[[1,1,0],[2,2,0],[1,2,1],[1,2,1],[0,0,2],[1,3,3],[3,2,3],[1,2,3],[1,5,4],[5,5,5],[1,2,6],[1,2,7],[6,2,8],[1,3,9],[2,3,9],[3,3,9],[4,3,9],[5,3,9],[3,0,10],[1,3,11],[1,2,12],[3,3,13],[4,4,14],[5,3,15],[2,3,15]]\n",
    "heatmap(training_data)"
   ]
  },
  {
   "cell_type": "code",
   "execution_count": 15,
   "metadata": {},
   "outputs": [],
   "source": [
    "def levelling (dataset,percent):\n",
    "    #percent indicates de percentage of samples we'll allow of difference \n",
    "    #between the smallest samples and all the rest\n",
    "    quadrant_count=heatmap(dataset)\n",
    "    a=quadrant_count[0]\n",
    "    #we'll use the following cycle to find out what is the smallest number of samples we have in one quadrant\n",
    "    #(doesn't matter which quadrant that is)\n",
    "    for i in quadrant_count:\n",
    "        if i<a:\n",
    "            a=i\n",
    "    max=int((percent+1)*a)\n",
    "    excess=[0,0,0,0,0,0,0,0,0,0,0,0,0,0,0,0]\n",
    "    for i in range(len(quadrant_count)):\n",
    "        if quadrant_count[i]>max:\n",
    "            excess[i]=quadrant_count[i]-max\n",
    "        else:\n",
    "            excess[i]=0\n",
    "    \n",
    "    b=[[],[],[],[],[],[],[],[],[],[],[],[],[],[],[],[]]\n",
    "    for j in dataset:\n",
    "        b[j[-1]]+=[j]\n",
    "    for k in range(len(b)):\n",
    "        for l in range(excess[k]):\n",
    "            c=random.choice(b[k])\n",
    "            b[k].remove(c)\n",
    "    dataset=[]\n",
    "    for m in b:\n",
    "        dataset+=m\n",
    "    random.shuffle(dataset)\n",
    "    return dataset"
   ]
  },
  {
   "cell_type": "code",
   "execution_count": 16,
   "metadata": {
    "scrolled": false
   },
   "outputs": [
    {
     "data": {
      "text/plain": [
       "[344,\n",
       " 218,\n",
       " 479,\n",
       " 479,\n",
       " 218,\n",
       " 344,\n",
       " 479,\n",
       " 479,\n",
       " 479,\n",
       " 479,\n",
       " 423,\n",
       " 479,\n",
       " 479,\n",
       " 479,\n",
       " 479,\n",
       " 423]"
      ]
     },
     "execution_count": 16,
     "metadata": {},
     "output_type": "execute_result"
    },
    {
     "data": {
      "image/png": "[encoded data removed]",
      "text/plain": [
       "<Figure size 432x288 with 1 Axes>"
      ]
     },
     "metadata": {},
     "output_type": "display_data"
    }
   ],
   "source": [
    "training_data = levelling(training_data,1.2)\n",
    "heatmap(training_data)\n",
    "#guardar o novo dataset em dataset, var global"
   ]
  },
  {
   "cell_type": "code",
   "execution_count": 17,
   "metadata": {
    "scrolled": true
   },
   "outputs": [
    {
     "data": {
      "text/plain": [
       "[91, 55, 121, 121, 55, 91, 121, 121, 121, 121, 118, 121, 121, 121, 121, 118]"
      ]
     },
     "execution_count": 17,
     "metadata": {},
     "output_type": "execute_result"
    },
    {
     "data": {
      "image/png": "[encoded data removed]",
      "text/plain": [
       "<Figure size 432x288 with 1 Axes>"
      ]
     },
     "metadata": {},
     "output_type": "display_data"
    }
   ],
   "source": [
    "testing_data = levelling(testing_data,1.2)\n",
    "heatmap(testing_data)"
   ]
  },
  {
   "cell_type": "markdown",
   "metadata": {},
   "source": [
    "## 3. Training the models & Classifying"
   ]
  },
  {
   "cell_type": "markdown",
   "metadata": {},
   "source": [
    "### 3.1 Creating a proper list of vectors"
   ]
  },
  {
   "cell_type": "markdown",
   "metadata": {},
   "source": [
    "Este step is only done here in order to reduce the probability of messing up and disconecting each X vector from the correspondant Y"
   ]
  },
  {
   "cell_type": "code",
   "execution_count": 18,
   "metadata": {},
   "outputs": [],
   "source": [
    "def eXifY(data):\n",
    "    X, Y = [element[0:-1] for element in data], [element[-1] for element in data]\n",
    "    return X, Y"
   ]
  },
  {
   "cell_type": "code",
   "execution_count": 19,
   "metadata": {},
   "outputs": [
    {
     "data": {
      "text/plain": [
       "True"
      ]
     },
     "execution_count": 19,
     "metadata": {},
     "output_type": "execute_result"
    }
   ],
   "source": [
    "len(eXifY(training_data)[0]) == len(eXifY(training_data)[1])"
   ]
  },
  {
   "cell_type": "markdown",
   "metadata": {},
   "source": [
    "### 3.2 Training & Classifying"
   ]
  },
  {
   "cell_type": "markdown",
   "metadata": {},
   "source": [
    "Since the goal is the comparison of the quality of the classifications according to the type of context (number of \n",
    "coordinates given), we are going to train 4 models and test them to see the differences in success rate.\n",
    "Below are defined the training and testing functions, respectively."
   ]
  },
  {
   "cell_type": "code",
   "execution_count": 20,
   "metadata": {
    "scrolled": true
   },
   "outputs": [],
   "source": [
    "def training(X,Y):\n",
    "   \n",
    "    nfolds=3 #3 means a 3-fold cross-validation\n",
    "    Cs = [1e5,1e6,10e4] #parameter 1\n",
    "    gammas = [1e-5,1e-4,1e-6] #parameter 2  \n",
    "    param_grid = {'C': Cs, 'gamma' : gammas} #all in one grid\n",
    "    grid_search2 = GridSearchCV(svm.SVC(kernel='rbf'), param_grid, cv=nfolds) #svm classifier\n",
    "    grid_search2.fit(X, Y) #fitting the data\n",
    "    best=grid_search2.best_params_ \n",
    "\n",
    "    clf = SVC(C= best['C'],gamma=best['gamma']) #creating the model with the best parameters\n",
    "    clf.fit(X, Y) #fitting the model to the data\n",
    "\n",
    "    now = datetime.datetime.now()\n",
    "    timestamp = str(now.strftime(\"%d-%m-%Y_%Hh%Mm%Ss\")) #the current day and time to have in the classifier name \n",
    "    \n",
    "    datatype='0'\n",
    "    #to insert in the name of the classifier and text files which of the 4 groups of coordinates is the classifier using\n",
    "    if str(len(X[0])) == '10': #(head)\n",
    "        datatype='Head'\n",
    "    if str(len(X[0])) == '14': #(head + hands)\n",
    "        datatype='Head_Hands'\n",
    "    if str(len(X[0])) == '42': #(head + context data)\n",
    "        datatype='Head_Context_data'\n",
    "    if str(len(X[0])) == '46': #(all) \n",
    "        datatype='All'\n",
    "     \n",
    "    info_classif='classifier_' + timestamp + '_' + datatype +'_info.txt'\n",
    "    with open(info_classif, 'w+')  as info:\n",
    "        info.write('Group of Coordinates: '+ datatype + '\\n')\n",
    "        info.write('Type of classifier: SVM\\n') # python will convert \\n to os.linesep\n",
    "        info.write('C:'+str(best['C'])+'\\n')\n",
    "        info.write('Gamma:'+str(best['gamma'])+'\\n')\n",
    "\n",
    "    \n",
    "    classif = 'classifier_'+ timestamp + '_'+ datatype +'.joblib'\n",
    "    dump(clf, classif) \n",
    "                       \n",
    "    return classif,info_classif"
   ]
  },
  {
   "cell_type": "code",
   "execution_count": 21,
   "metadata": {
    "scrolled": false
   },
   "outputs": [],
   "source": [
    "def testing(X,Y,classif,info_classif):\n",
    "    \n",
    "    clf  = joblib.load(classif)\n",
    "    result = clf.score(X, Y)\n",
    "    \n",
    "    Qpredicted= []\n",
    "    i=0\n",
    "    sco3=0\n",
    "    sco2=0\n",
    "    sco1=0\n",
    "    sco0=0\n",
    "    length=len(X)\n",
    "\n",
    "    while i != length:\n",
    "        Qpredicted+= [str(clf.predict(np.array([X[i]]))).strip('['+']'+'\"')] #predict\n",
    "        Y[i]= str(Y[i]) #converting to a string\n",
    "        if Y[i]== Qpredicted[i]:\n",
    "            sco3+=1\n",
    "        if (Y[i]== '0' and Qpredicted[i] in ['1','2','3']) or (Y[i]== '1' and Qpredicted[i] in ['0','2','3','6','4']) or\\\n",
    "            (Y[i]== '2' and Qpredicted[i] in ['0','1','3','8','9']) or\\\n",
    "            (Y[i]== '3' and Qpredicted[i] in ['0','1','4','2','6','8','9','12']) or\\\n",
    "            (Y[i]== '4' and Qpredicted[i] in ['1','5','3','6','7']) or (Y[i]== '5' and Qpredicted[i] in ['4','6','7']) or\\\n",
    "            (Y[i]== '6' and Qpredicted[i] in ['1','4','5','3','7','9','12','13']) or\\\n",
    "            (Y[i]== '7' and Qpredicted[i] in ['4','5','6','12','13']) or\\\n",
    "            (Y[i]== '8' and Qpredicted[i] in ['2','3','9','10','11']) or\\\n",
    "            (Y[i]== '9' and Qpredicted[i] in ['2','3','6','8','12','10','11','14']) or\\\n",
    "            (Y[i]== '10' and Qpredicted[i] in ['8','9','11']) or (Y[i]== '11' and Qpredicted[i] in ['8','9','12','10','14']) or\\\n",
    "            (Y[i]== '12' and Qpredicted[i] in ['3','6','7','9','13','11','15']) or\\\n",
    "            (Y[i]== '13' and Qpredicted[i] in ['6','7','12','14','15']) or\\\n",
    "            (Y[i]== '14' and Qpredicted[i] in ['9','12','13','11','15']) or (Y[i]== '15' and Qpredicted[i] in ['12','13','14']):\n",
    "            sco2+=1  \n",
    "        if (Y[i]== '0' and Qpredicted[i] in ['4','6','8','9','12']) or\\\n",
    "            (Y[i]== '1' and Qpredicted[i] in ['8','9','12','13','7','5']) or\\\n",
    "            (Y[i]== '2' and Qpredicted[i] in ['4','6','12','14','10','11']) or\\\n",
    "            (Y[i]== '3' and Qpredicted[i] in ['10','11','14','15','13','7','5']) or\\\n",
    "            (Y[i]== '4' and Qpredicted[i] in ['0','2','8','9','12','13']) or\\\n",
    "            (Y[i]== '5' and Qpredicted[i] in ['1','3','9','12','13']) or\\\n",
    "            (Y[i]== '6' and Qpredicted[i] in ['0','2','8','10','11','14','15']) or\\\n",
    "            (Y[i]== '7' and Qpredicted[i] in ['1','3','9','11','14','15']) or\\\n",
    "            (Y[i]== '8' and Qpredicted[i] in ['0','1','4','6','12','14']) or\\\n",
    "            (Y[i]== '9' and Qpredicted[i] in ['0','1','4','5','7','13','15']) or\\\n",
    "            (Y[i]== '10' and Qpredicted[i] in ['2','3','6','12','14']) or\\\n",
    "            (Y[i]== '11' and Qpredicted[i] in ['2','3','6','7','13','15']) or\\\n",
    "            (Y[i]== '12' and Qpredicted[i] in ['10','8','2','0','1','4','5']) or\\\n",
    "            (Y[i]== '13' and Qpredicted[i] in ['1','4','5','3','9','11']) or\\\n",
    "            (Y[i]== '14' and Qpredicted[i] in ['2','3','6','7','8','10'])or\\\n",
    "            (Y[i]== '15' and Qpredicted[i] in ['3','6','7','9','11']):\n",
    "            sco1+=1\n",
    "        if (Y[i]== '0' and Qpredicted[i] in ['5','7','13','15','10','11','14']) or\\\n",
    "            (Y[i] in ['1','4'] and Qpredicted[i] in ['10','11','14','15']) or\\\n",
    "            (Y[i] in ['2','8'] and Qpredicted[i] in ['5','7','13','15']) or\\\n",
    "            (Y[i]== '5' and Qpredicted[i] in ['0','2','8','10','11','14','15']) or\\\n",
    "            (Y[i] in ['7','13'] and Qpredicted[i] in ['0','2','8','10']) or\\\n",
    "            (Y[i]== '10' and Qpredicted[i] in ['0','1','4','5','7','13','15']) or\\\n",
    "            (Y[i] in ['11','14'] and Qpredicted[i] in ['0','1','4','5']) or\\\n",
    "            (Y[i]== '15' and Qpredicted[i] in ['0','2','8','10','1','4','5']):\n",
    "            sco0+=1 \n",
    "        i+=1\n",
    "\n",
    "            \n",
    "    rangescore= (3*sco3+2*sco2+sco1)\n",
    "    rangescoreper=rangescore/3*len(Y)*100\n",
    "    sco3per= sco3/len(Y)*100\n",
    "    sco2per= sco2/len(Y)*100\n",
    "    sco1per= sco1/len(Y)*100\n",
    "    sco0per= sco0/len(Y)*100\n",
    "        \n",
    "    print('The percentage of success was: ' + str(result*100)+ ' %\\n')\n",
    "    print('The range score was ' + str(round(rangescoreper,2)) + '%:' + str(rangescore) + ' out of ' + str(3*len(Y)) + '\\n')\n",
    "    print('The score 3 was: ' + str(round(sco3per,2))+ ' %\\n')\n",
    "    print('The score 2 was: ' + str(round(sco2per,2))+ ' %\\n')\n",
    "    print('The score 1 was: ' + str(round(sco1per,2))+ ' %\\n')\n",
    "    print('The score 0 was: ' + str(round(sco0per,2))+ ' %\\n')\n",
    "    \n",
    "    with open(info_classif, 'a')  as info:\n",
    "        info.write('\\n----\\n')\n",
    "        info.write('The percentage of success was: ' + str(result*100)+ ' %\\n')\n",
    "        \n",
    "    CONF= confusion_matrix(np.array(Y), np.array(Qpredicted))\n",
    "    \n",
    "    labels=[0,1,2,3,4,5,6,7,8,9,10,11,12,13,14,15]\n",
    "    print(classification_report(np.array(Y), np.array(Qpredicted), labels=labels))\n",
    "\n",
    "    return CONF, result, Qpredicted"
   ]
  },
  {
   "cell_type": "markdown",
   "metadata": {},
   "source": [
    "#### 3.2.1 Using only the face keypoints"
   ]
  },
  {
   "cell_type": "markdown",
   "metadata": {},
   "source": [
    "Since we're only using  the keypoints of the head, we'll delete context information about the difference short/long distance object and hands coordinates. <br> \n",
    "The head coordinates are the first 10 (5*2) (x,y)."
   ]
  },
  {
   "cell_type": "markdown",
   "metadata": {},
   "source": [
    "Below we will:<br> \n",
    " - Delete the coordinates we don't need (mentioned before) from the whole training data;<br> \n",
    " - Train the model with only the head coordinates using the training function (defined before);<br> \n",
    " - Delete the coordinates we don't need (mentioned before) from the whole testing data;<br> \n",
    " - Test the model with only the head coordinates using the training function (defined before)."
   ]
  },
  {
   "cell_type": "code",
   "execution_count": 22,
   "metadata": {},
   "outputs": [],
   "source": [
    "X, Y = eXifY(training_data)\n",
    "X = [element[:12] + [element[-5]] for element in X]"
   ]
  },
  {
   "cell_type": "code",
   "execution_count": 23,
   "metadata": {},
   "outputs": [],
   "source": [
    "classif,info_classif=training(X,Y)"
   ]
  },
  {
   "cell_type": "code",
   "execution_count": 24,
   "metadata": {},
   "outputs": [],
   "source": [
    "X, Y = eXifY(testing_data)\n",
    "X = [element[:12] + [element[-5]] for element in X]"
   ]
  },
  {
   "cell_type": "code",
   "execution_count": 25,
   "metadata": {},
   "outputs": [
    {
     "name": "stdout",
     "output_type": "stream",
     "text": [
      "The percentage of success was: 72.03682393555812 %\n",
      "\n",
      "The range score was 262843533.33%:4537 out of 5214\n",
      "\n",
      "The score 3 was: 72.04 %\n",
      "\n",
      "The score 2 was: 19.45 %\n",
      "\n",
      "The score 1 was: 6.04 %\n",
      "\n",
      "The score 0 was: 2.19 %\n",
      "\n",
      "              precision    recall  f1-score   support\n",
      "\n",
      "           0       0.78      0.81      0.80        91\n",
      "           1       0.74      0.84      0.79        55\n",
      "           2       0.65      0.75      0.70       121\n",
      "           3       0.70      0.65      0.68       121\n",
      "           4       0.85      0.85      0.85        55\n",
      "           5       0.74      0.84      0.78        91\n",
      "           6       0.65      0.68      0.66       121\n",
      "           7       0.73      0.73      0.73       121\n",
      "           8       0.69      0.71      0.70       121\n",
      "           9       0.65      0.62      0.63       121\n",
      "          10       0.76      0.74      0.75       118\n",
      "          11       0.74      0.73      0.73       121\n",
      "          12       0.67      0.58      0.62       121\n",
      "          13       0.69      0.71      0.70       121\n",
      "          14       0.81      0.77      0.79       121\n",
      "          15       0.80      0.71      0.75       118\n",
      "\n",
      "   micro avg       0.72      0.72      0.72      1738\n",
      "   macro avg       0.73      0.73      0.73      1738\n",
      "weighted avg       0.72      0.72      0.72      1738\n",
      "\n",
      "[[74  1  2  0  1  0  0  0  6  0  0  4  0  1  0  2]\n",
      " [ 0 46  0  1  0  0  1  0  1  2  2  0  1  0  0  1]\n",
      " [ 1  0 87  3  3  0  0  0  3  0  1  0  1  3 13  3]\n",
      " [ 1  0  6 88  1  2  3  2  4  3  0  0  1  0  1  9]\n",
      " [ 1  1  1  6 70  4  5  1  3  4  0  2 15  2  2  4]\n",
      " [ 1  0  2  1  6 86  1  5  0  0  0  3  4 10  1  1]\n",
      " [ 0  0  2  4  9  1 93  4  2  0  0  0  3  0  2  1]\n",
      " [ 0  0  0  0  2 11  7 84  3  1  0  2  0  4  1  3]\n",
      " [ 6  1  3  0  0  0  0  0 91  4  0  4  0  0 11  1]\n",
      " [ 4  3  1  3  3  0  2  3  5 79  0  1  6  2  4  5]\n",
      " [ 0  2  0  0  0  0  0  0  3  2 47  0  1  0  0  0]\n",
      " [ 2  3  0  1  0  1  0  1  0  1  3 76  0  3  0  0]\n",
      " [ 1  2  3  0  2  6  1  1  3  6  1  5 82  6  0  2]\n",
      " [ 0  2  0  1  3 12  0  2  0  0  0  3  8 88  0  2]\n",
      " [ 1  1  4  1  1  1  0  0 10  4  0  2  1  2 86  7]\n",
      " [ 3  0  3 10  4  0  2  2  5  7  1  1  4  0  4 75]]\n"
     ]
    }
   ],
   "source": [
    "CONF1, result, Qpredicted = testing(X,Y,classif,info_classif)\n",
    "#print(Qpredicted)\n",
    "#print(Y)\n",
    "print(CONF1)"
   ]
  },
  {
   "cell_type": "markdown",
   "metadata": {},
   "source": [
    "#### 3.2.2 Using only keypoints (face + hands)"
   ]
  },
  {
   "cell_type": "markdown",
   "metadata": {},
   "source": [
    "Since we're only using  the keypoints of the head and the hands, we'll delete context information about the difference short/long distance object.<br> \n",
    "The keypoints (head + hands) coordinates are the first 10 (5*2) + 4 (2*2)(x,y), giving a total of 14.<br> \n",
    "The rest of the procedure is the same as in 3.2.1.:"
   ]
  },
  {
   "cell_type": "markdown",
   "metadata": {},
   "source": [
    "Below we will:<br> \n",
    " - Delete the coordinates we don't need (mentioned before) from the whole training data;<br> \n",
    " - Train the model with only the head + hand coordinates using the training function (defined before);<br> \n",
    " - Delete the coordinates we don't need (mentioned before) from the whole testing data;<br> \n",
    " - Test the model with only the head + hand coordinates using the training function (defined before)."
   ]
  },
  {
   "cell_type": "code",
   "execution_count": 26,
   "metadata": {
    "scrolled": true
   },
   "outputs": [],
   "source": [
    "X, Y = eXifY(training_data)\n",
    "X = [element[:16] + element[-5:] for element in X]"
   ]
  },
  {
   "cell_type": "code",
   "execution_count": 27,
   "metadata": {},
   "outputs": [],
   "source": [
    "classif,info_classif=training(X,Y)"
   ]
  },
  {
   "cell_type": "code",
   "execution_count": 28,
   "metadata": {},
   "outputs": [],
   "source": [
    "X, Y = eXifY(testing_data)\n",
    "X = [element[:16] + element[-5:] for element in X]"
   ]
  },
  {
   "cell_type": "code",
   "execution_count": 29,
   "metadata": {},
   "outputs": [
    {
     "name": "stdout",
     "output_type": "stream",
     "text": [
      "The percentage of success was: 76.2945914844649 %\n",
      "\n",
      "The range score was 269332066.67%:4649 out of 5214\n",
      "\n",
      "The score 3 was: 76.29 %\n",
      "\n",
      "The score 2 was: 16.46 %\n",
      "\n",
      "The score 1 was: 5.7 %\n",
      "\n",
      "The score 0 was: 1.21 %\n",
      "\n",
      "              precision    recall  f1-score   support\n",
      "\n",
      "           0       0.82      0.88      0.85        91\n",
      "           1       0.80      0.82      0.81        55\n",
      "           2       0.70      0.67      0.69       121\n",
      "           3       0.67      0.69      0.68       121\n",
      "           4       0.85      0.82      0.83        55\n",
      "           5       0.84      0.85      0.84        91\n",
      "           6       0.74      0.69      0.71       121\n",
      "           7       0.71      0.75      0.73       121\n",
      "           8       0.74      0.77      0.75       121\n",
      "           9       0.65      0.67      0.66       121\n",
      "          10       0.85      0.86      0.86       118\n",
      "          11       0.78      0.79      0.78       121\n",
      "          12       0.71      0.65      0.68       121\n",
      "          13       0.76      0.79      0.78       121\n",
      "          14       0.80      0.77      0.78       121\n",
      "          15       0.89      0.86      0.87       118\n",
      "\n",
      "   micro avg       0.76      0.76      0.76      1738\n",
      "   macro avg       0.77      0.77      0.77      1738\n",
      "weighted avg       0.76      0.76      0.76      1738\n",
      "\n",
      "[[ 80   0   0   0   0   0   0   0   6   3   0   1   0   0   0   1]\n",
      " [  3  45   0   0   0   0   0   0   0   3   2   0   1   0   1   0]\n",
      " [  2   0 102   1   2   0   0   0   2   0   1   0   2   0   6   0]\n",
      " [  0   1   5  95   2   0   2   0   2   0   0   0   0   0   2  12]\n",
      " [  2   0   2   3  79   6   6   1   2   2   1   0   6   4   1   6]\n",
      " [  0   0   0   0   3  96   0   5   1   2   0   1   3   8   1   1]\n",
      " [  0   0   0   5   8   1  93   0   4   2   0   2   1   1   2   2]\n",
      " [  0   0   0   0   0   8   2 101   0   1   1   1   0   1   0   3]\n",
      " [  7   2   1   2   1   1   5   0  81   3   1   0   3   3  10   1]\n",
      " [  0   2   0   7   3   1   2   0   6  84   1   2   4   0   1   8]\n",
      " [  0   1   0   0   0   0   1   0   0   1  45   1   2   3   0   1]\n",
      " [  1   1   0   0   4   0   0   0   0   1   0  77   0   6   0   1]\n",
      " [  0   2   3   0   6   1   1   2   0   9   0   4  83   7   2   1]\n",
      " [  0   1   0   2   2   9   1   3   0   1   0   2   7  91   1   1]\n",
      " [  2   0   5   0   0   0   1   1   9   2   1   0   0   2  93   5]\n",
      " [  1   1   2   7   2   3   2   0   2  11   0   1   0   2   6  81]]\n"
     ]
    }
   ],
   "source": [
    "CONF2, result, Qpredicted = testing(X,Y,classif,info_classif)\n",
    "#print(Qpredicted)\n",
    "#print(Y)\n",
    "print(CONF2)"
   ]
  },
  {
   "cell_type": "markdown",
   "metadata": {},
   "source": [
    "#### 3.2.3 Using only the keypoints of the head and context data"
   ]
  },
  {
   "cell_type": "markdown",
   "metadata": {},
   "source": [
    "Since we're only using  the keypoints of the head and the context information about the difference short/long distance object, we'll delete the hand coordinates.<br> \n",
    "The keypoints of the head coordinates are the first 10 (5*2) and the context data goes from the 15 to the 46 coordinates (but on the code we have to do it from 14th to start on the 15th) giving a total of 42 coordinates.<br>\n",
    "The rest of the procedure is the same as in 3.2.1.:"
   ]
  },
  {
   "cell_type": "markdown",
   "metadata": {},
   "source": [
    "Below we will:<br>\n",
    " - Delete the coordinates we don't need (mentioned before) from the whole training data;<br>\n",
    " - Train the model with only the head + context data coordinates using the training function (defined before);<br>\n",
    " - Delete the coordinates we don't need (mentioned before) from the whole testing data;<br>\n",
    " - Test the model with only the head + context data coordinates using the training function (defined before)."
   ]
  },
  {
   "cell_type": "code",
   "execution_count": 30,
   "metadata": {
    "scrolled": true
   },
   "outputs": [],
   "source": [
    "X, Y = eXifY(training_data)\n",
    "X = [element[:12] + element[16:-5] for element in X]"
   ]
  },
  {
   "cell_type": "code",
   "execution_count": 31,
   "metadata": {},
   "outputs": [],
   "source": [
    "classif,info_classif=training(X,Y)"
   ]
  },
  {
   "cell_type": "code",
   "execution_count": 32,
   "metadata": {},
   "outputs": [],
   "source": [
    "X, Y = eXifY(testing_data)\n",
    "X = [element[:12] + element[16:-5] for element in X]"
   ]
  },
  {
   "cell_type": "code",
   "execution_count": 33,
   "metadata": {
    "scrolled": false
   },
   "outputs": [
    {
     "name": "stdout",
     "output_type": "stream",
     "text": [
      "The percentage of success was: 82.50863060989643 %\n",
      "\n",
      "The range score was 277326866.67%:4787 out of 5214\n",
      "\n",
      "The score 3 was: 82.51 %\n",
      "\n",
      "The score 2 was: 11.74 %\n",
      "\n",
      "The score 1 was: 4.43 %\n",
      "\n",
      "The score 0 was: 1.15 %\n",
      "\n",
      "              precision    recall  f1-score   support\n",
      "\n",
      "           0       0.78      0.88      0.82        91\n",
      "           1       0.69      0.84      0.75        55\n",
      "           2       0.77      0.82      0.80       121\n",
      "           3       0.79      0.75      0.77       121\n",
      "           4       0.79      0.80      0.79        55\n",
      "           5       0.81      0.87      0.84        91\n",
      "           6       0.71      0.73      0.72       121\n",
      "           7       0.82      0.88      0.85       121\n",
      "           8       0.83      0.83      0.83       121\n",
      "           9       0.78      0.78      0.78       121\n",
      "          10       0.90      0.88      0.89       118\n",
      "          11       0.86      0.85      0.85       121\n",
      "          12       0.86      0.75      0.80       121\n",
      "          13       0.88      0.81      0.84       121\n",
      "          14       0.92      0.87      0.89       121\n",
      "          15       0.95      0.89      0.92       118\n",
      "\n",
      "   micro avg       0.83      0.83      0.83      1738\n",
      "   macro avg       0.82      0.83      0.82      1738\n",
      "weighted avg       0.83      0.83      0.83      1738\n",
      "\n",
      "['13', '2', '2', '8', '3', '12', '3', '14', '7', '10', '11', '13', '12', '11', '8', '5', '5', '3', '11', '8', '11', '6', '6', '7', '8', '10', '12', '7', '0', '7', '6', '11', '13', '2', '2', '3', '13', '5', '9', '6', '12', '12', '3', '6', '14', '12', '1', '13', '0', '13', '6', '0', '5', '2', '5', '0', '13', '0', '7', '1', '15', '3', '8', '11', '10', '3', '14', '10', '6', '3', '0', '15', '10', '7', '15', '12', '3', '10', '4', '12', '15', '12', '10', '15', '8', '13', '1', '0', '7', '7', '15', '3', '10', '3', '5', '11', '11', '1', '2', '15', '13', '12', '8', '13', '9', '7', '1', '14', '11', '3', '13', '5', '6', '14', '2', '11', '14', '3', '11', '10', '3', '3', '11', '3', '14', '8', '4', '14', '0', '12', '7', '9', '10', '15', '13', '2', '11', '13', '3', '7', '15', '10', '15', '7', '3', '12', '3', '15', '14', '0', '7', '10', '11', '0', '2', '11', '5', '15', '10', '15', '8', '0', '5', '8', '8', '9', '12', '9', '11', '13', '8', '9', '14', '12', '8', '14', '2', '2', '2', '12', '7', '6', '14', '2', '9', '13', '7', '3', '0', '7', '0', '9', '0', '3', '6', '5', '2', '9', '9', '11', '9', '12', '0', '9', '0', '1', '8', '13', '11', '1', '8', '9', '13', '4', '5', '1', '11', '14', '13', '13', '11', '13', '12', '15', '14', '15', '14', '10', '5', '7', '5', '9', '9', '0', '9', '10', '8', '7', '14', '10', '8', '13', '15', '4', '9', '1', '3', '5', '10', '1', '3', '14', '2', '1', '2', '4', '0', '6', '11', '2', '6', '6', '2', '5', '15', '1', '8', '14', '1', '7', '12', '0', '6', '9', '5', '14', '10', '13', '9', '14', '7', '13', '14', '14', '0', '5', '6', '2', '3', '12', '13', '10', '3', '3', '9', '4', '2', '13', '7', '2', '11', '1', '7', '15', '0', '9', '10', '10', '6', '5', '4', '13', '0', '3', '13', '7', '7', '2', '12', '10', '8', '15', '0', '11', '1', '8', '0', '8', '0', '10', '0', '6', '1', '13', '5', '7', '5', '10', '14', '2', '10', '14', '14', '3', '6', '0', '8', '4', '0', '5', '15', '9', '11', '12', '6', '15', '6', '5', '14', '7', '11', '10', '13', '14', '10', '6', '5', '5', '3', '13', '14', '11', '8', '7', '7', '9', '6', '5', '8', '9', '15', '12', '1', '5', '3', '11', '10', '11', '7', '4', '0', '11', '13', '5', '10', '10', '7', '14', '0', '10', '3', '1', '13', '12', '10', '12', '11', '7', '12', '15', '7', '14', '14', '11', '15', '2', '4', '10', '11', '9', '9', '9', '5', '3', '9', '12', '14', '0', '4', '7', '14', '3', '10', '12', '13', '7', '15', '9', '5', '13', '12', '15', '1', '3', '2', '6', '13', '14', '10', '14', '13', '0', '12', '9', '7', '7', '7', '12', '8', '2', '11', '15', '7', '11', '10', '1', '14', '0', '12', '5', '8', '4', '2', '1', '2', '10', '1', '14', '15', '9', '4', '10', '4', '4', '6', '11', '11', '12', '9', '12', '0', '5', '6', '6', '3', '0', '11', '10', '11', '13', '0', '8', '11', '6', '12', '13', '0', '7', '10', '15', '14', '11', '9', '9', '13', '15', '8', '12', '6', '11', '0', '1', '10', '0', '15', '12', '13', '6', '15', '8', '6', '8', '2', '2', '7', '6', '3', '3', '8', '7', '14', '11', '5', '15', '8', '10', '13', '0', '9', '6', '9', '8', '8', '14', '13', '0', '2', '13', '12', '15', '10', '1', '6', '3', '4', '11', '9', '10', '3', '1', '14', '12', '8', '3', '15', '8', '13', '8', '7', '6', '14', '9', '7', '7', '8', '7', '8', '0', '2', '6', '0', '7', '1', '9', '4', '2', '6', '0', '13', '11', '13', '10', '3', '7', '5', '10', '13', '2', '6', '13', '12', '2', '15', '3', '3', '10', '8', '13', '6', '15', '10', '9', '2', '12', '3', '1', '15', '7', '15', '2', '8', '10', '15', '1', '14', '8', '2', '3', '4', '9', '2', '7', '2', '5', '9', '2', '13', '8', '11', '14', '9', '11', '2', '2', '12', '11', '8', '3', '5', '5', '11', '8', '10', '2', '7', '11', '9', '8', '15', '14', '7', '6', '2', '5', '15', '11', '2', '10', '14', '14', '10', '5', '4', '6', '0', '14', '2', '11', '14', '14', '3', '15', '5', '0', '0', '2', '13', '7', '5', '7', '4', '8', '14', '1', '9', '9', '9', '11', '12', '6', '15', '0', '11', '14', '8', '14', '6', '8', '8', '8', '4', '5', '13', '0', '7', '4', '0', '2', '8', '15', '9', '8', '15', '2', '15', '7', '2', '13', '8', '0', '8', '0', '11', '14', '13', '11', '6', '13', '8', '2', '11', '9', '1', '2', '7', '6', '9', '4', '10', '4', '12', '15', '10', '13', '3', '8', '8', '11', '11', '9', '3', '1', '12', '15', '15', '5', '2', '7', '15', '14', '8', '15', '14', '13', '10', '0', '13', '2', '9', '2', '6', '5', '8', '10', '7', '8', '14', '3', '10', '13', '7', '13', '0', '15', '7', '9', '2', '7', '2', '4', '1', '10', '2', '13', '12', '6', '13', '7', '14', '11', '5', '8', '15', '13', '11', '6', '7', '8', '10', '7', '10', '11', '6', '13', '3', '11', '1', '14', '5', '8', '0', '6', '14', '14', '2', '15', '2', '13', '0', '10', '9', '9', '13', '0', '9', '10', '12', '15', '12', '15', '7', '3', '2', '13', '15', '8', '13', '13', '10', '12', '2', '14', '8', '6', '15', '5', '0', '11', '3', '9', '12', '3', '5', '14', '10', '4', '8', '7', '5', '10', '8', '12', '2', '8', '6', '0', '14', '14', '10', '15', '9', '14', '1', '2', '5', '9', '3', '9', '8', '10', '8', '9', '0', '11', '0', '13', '7', '10', '12', '13', '15', '4', '12', '10', '9', '3', '10', '5', '0', '9', '15', '14', '12', '8', '6', '13', '8', '13', '3', '0', '2', '3', '2', '10', '3', '9', '5', '4', '9', '10', '4', '8', '15', '11', '9', '8', '7', '8', '2', '12', '7', '5', '0', '9', '0', '15', '12', '14', '8', '2', '0', '15', '9', '14', '10', '3', '1', '10', '4', '4', '13', '7', '7', '14', '2', '8', '11', '7', '5', '8', '9', '2', '4', '12', '9', '2', '7', '13', '11', '3', '6', '11', '5', '11', '12', '15', '9', '0', '9', '0', '14', '13', '3', '15', '4', '7', '1', '7', '8', '1', '13', '7', '5', '10', '3', '12', '1', '8', '9', '15', '8', '14', '12', '10', '15', '11', '11', '8', '3', '0', '7', '7', '9', '14', '2', '9', '5', '11', '3', '13', '15', '2', '11', '9', '3', '9', '2', '6', '15', '9', '8', '15', '12', '3', '14', '13', '11', '9', '5', '11', '14', '14', '3', '13', '2', '2', '13', '11', '6', '3', '13', '7', '11', '15', '3', '1', '3', '4', '1', '7', '6', '6', '13', '5', '5', '0', '2', '8', '11', '7', '14', '7', '12', '1', '12', '7', '11', '6', '10', '10', '5', '2', '10', '7', '3', '11', '15', '11', '2', '14', '14', '12', '2', '7', '6', '6', '8', '11', '0', '14', '7', '12', '0', '5', '6', '11', '12', '14', '5', '9', '3', '6', '2', '10', '9', '6', '11', '11', '5', '1', '5', '9', '3', '13', '6', '13', '8', '7', '10', '14', '2', '13', '3', '11', '11', '9', '6', '4', '10', '1', '8', '4', '10', '2', '3', '2', '8', '2', '0', '6', '9', '12', '7', '15', '2', '9', '6', '3', '6', '12', '10', '6', '5', '14', '15', '2', '5', '7', '14', '2', '1', '2', '12', '10', '1', '2', '13', '2', '8', '15', '14', '1', '15', '14', '6', '1', '0', '11', '6', '0', '15', '8', '15', '5', '14', '5', '11', '10', '15', '10', '5', '2', '2', '15', '2', '1', '9', '11', '5', '2', '15', '6', '5', '6', '7', '12', '2', '2', '2', '8', '6', '9', '7', '13', '10', '9', '1', '7', '6', '8', '14', '15', '3', '2', '15', '7', '6', '12', '6', '3', '3', '6', '13', '15', '8', '7', '9', '14', '9', '9', '10', '6', '4', '10', '6', '10', '14', '6', '2', '14', '3', '4', '7', '5', '8', '11', '9', '8', '3', '10', '1', '6', '10', '4', '2', '7', '4', '9', '2', '12', '8', '14', '2', '11', '8', '11', '8', '5', '3', '12', '6', '0', '0', '12', '2', '0', '13', '15', '4', '2', '12', '14', '6', '12', '9', '13', '11', '4', '10', '3', '5', '12', '15', '0', '4', '15', '12', '0', '6', '3', '12', '15', '7', '9', '1', '9', '0', '9', '11', '12', '5', '4', '12', '6', '6', '1', '13', '10', '2', '9', '5', '15', '9', '5', '8', '12', '6', '11', '10', '3', '6', '14', '5', '9', '13', '7', '7', '3', '5', '13', '8', '6', '13', '5', '3', '15', '15', '11', '4', '2', '15', '8', '6', '3', '5', '12', '13', '4', '8', '3', '2', '8', '6', '5', '14', '11', '8', '6', '15', '9', '9', '11', '5', '3', '5', '10', '12', '1', '6', '7', '14', '10', '11', '12', '1', '7', '10', '2', '1', '0', '15', '0', '8', '12', '14', '11', '13', '8', '9', '6', '6', '4', '3', '5', '6', '0', '7', '15', '1', '9', '3', '11', '7', '15', '2', '8', '0', '10', '13', '10', '3', '0', '0', '6', '6', '2', '7', '15', '7', '9', '6', '4', '2', '6', '13', '11', '12', '13', '1', '0', '0', '6', '14', '8', '3', '5', '15', '5', '3', '10', '2', '7', '11', '9', '10', '12', '14', '7', '13', '14', '7', '0', '11', '7', '12', '5', '8', '10', '8', '7', '7', '13', '10', '10', '9', '5', '11', '7', '2', '4', '2', '4', '9', '1', '13', '3', '14', '1', '12', '5', '0', '0', '7', '2', '9', '0', '11', '6', '6', '2', '7', '8', '1', '14', '5', '7', '9', '8', '8', '13', '7', '3', '4', '2', '4', '0', '12', '6', '6', '11', '1', '1', '11', '12', '7', '14', '15', '12', '3', '15', '8', '15', '1', '7', '11', '1', '6', '2', '2', '15', '15', '10', '6', '6', '14', '6', '13', '11', '7', '3', '1', '10', '8', '14', '5', '11', '7', '10', '14', '12', '6', '7', '14', '14', '4', '6', '15', '13', '8', '4', '3', '9', '14', '3', '14', '7', '0', '6', '6', '10', '0', '1', '2', '10', '6', '3', '6', '2', '7', '11', '6', '12', '2', '6', '15', '7', '9', '12', '0', '5', '7', '5', '3', '0', '3', '9', '13', '0', '9', '12', '6', '4', '3', '7', '12', '3', '9', '2', '15', '3', '11', '11', '3', '13', '12', '10', '5', '5', '11', '6', '8', '0', '3', '12', '14', '13', '2', '9', '10', '10', '6', '15', '6', '9', '5', '11', '11', '6', '9', '12', '3', '1', '10', '13', '13', '12', '6', '7', '7', '12', '8', '3', '4', '0', '14', '14', '9', '12', '9', '8', '12', '14', '11', '15', '2', '11', '2', '13', '12', '0', '3', '15', '12', '7', '3', '8', '3', '0']\n",
      "[[ 80   4   0   0   1   0   0   0   4   1   0   0   0   0   0   1]\n",
      " [  1  46   0   0   1   0   0   0   0   4   2   1   0   0   0   0]\n",
      " [  0   0 104   2   2   0   0   0   3   0   0   0   0   0   7   0]\n",
      " [  2   0   0 103   0   0   0   0   1   2   0   3   0   0   3   7]\n",
      " [  2   1   0   2  91   3   3   0   1   1   1   0   8   2   2   4]\n",
      " [  0   0   0   1   4  98   0   3   1   0   0   1   6   5   1   1]\n",
      " [  3   0   0   3   2   0 105   2   4   1   0   1   0   0   0   0]\n",
      " [  0   0   0   0   0   6   1 105   1   1   0   0   1   3   0   0]\n",
      " [  5   1   2   0   0   1   0   0  99   2   0   0   4   3   3   1]\n",
      " [  3   4   2   1   2   1   1   0   3  91   0   2   4   1   2   4]\n",
      " [  2   3   0   0   0   0   0   0   0   1  44   0   5   0   0   0]\n",
      " [  0   4   0   1   1   0   0   0   1   1   1  79   0   2   0   1]\n",
      " [  3   0   2   0   2   2   0   0   2   3   6   4  88   5   1   3]\n",
      " [  0   3   0   0   0   1   3   0   0   0   0   5   3 106   0   0]\n",
      " [  1   0   3   0   0   0   0   0   6   3   0   0   1   2 101   4]\n",
      " [  1   1   2   7   0   0   1   1   2   4   2   1   4   0   1  94]]\n"
     ]
    }
   ],
   "source": [
    "CONF3, result, Qpredicted = testing(X,Y,classif,info_classif)\n",
    "print(Qpredicted)\n",
    "#print(Y)\n",
    "print(CONF3)"
   ]
  },
  {
   "cell_type": "markdown",
   "metadata": {},
   "source": [
    "#### 3.2.4 Using all the coordinates (keypoints of the head, hands and context data)"
   ]
  },
  {
   "cell_type": "markdown",
   "metadata": {},
   "source": [
    "Now we are using the whole set of coordinates (keypoints of the head, hands and context data) giving a total of 46 coordinates."
   ]
  },
  {
   "cell_type": "markdown",
   "metadata": {},
   "source": [
    "Below we will:<br>\n",
    " - Create the training data divided into X (coordinates) and Y (quadrants) like before;<br>\n",
    " - Train the model with all the 46 coordinates using the training function (defined before);<br>\n",
    " - Create the test data divided into X (coordinates) and Y (quadrants) like before; <br>\n",
    " - Test the model with all the coordinates using the training function (defined before)."
   ]
  },
  {
   "cell_type": "code",
   "execution_count": 34,
   "metadata": {
    "scrolled": true
   },
   "outputs": [],
   "source": [
    "X, Y = eXifY(training_data)"
   ]
  },
  {
   "cell_type": "code",
   "execution_count": 35,
   "metadata": {
    "scrolled": true
   },
   "outputs": [
    {
     "data": {
      "text/plain": [
       "6760"
      ]
     },
     "execution_count": 35,
     "metadata": {},
     "output_type": "execute_result"
    }
   ],
   "source": [
    "len(X)"
   ]
  },
  {
   "cell_type": "code",
   "execution_count": 36,
   "metadata": {},
   "outputs": [
    {
     "data": {
      "text/plain": [
       "6760"
      ]
     },
     "execution_count": 36,
     "metadata": {},
     "output_type": "execute_result"
    }
   ],
   "source": [
    "len(Y)"
   ]
  },
  {
   "cell_type": "code",
   "execution_count": 37,
   "metadata": {},
   "outputs": [],
   "source": [
    "classif,info_classif=training(X,Y)"
   ]
  },
  {
   "cell_type": "code",
   "execution_count": 38,
   "metadata": {},
   "outputs": [],
   "source": [
    "X, Y = eXifY(testing_data)"
   ]
  },
  {
   "cell_type": "code",
   "execution_count": 39,
   "metadata": {},
   "outputs": [
    {
     "data": {
      "text/plain": [
       "53"
      ]
     },
     "execution_count": 39,
     "metadata": {},
     "output_type": "execute_result"
    }
   ],
   "source": [
    "len(X[0])"
   ]
  },
  {
   "cell_type": "code",
   "execution_count": 40,
   "metadata": {},
   "outputs": [
    {
     "name": "stdout",
     "output_type": "stream",
     "text": [
      "The percentage of success was: 80.09205983889528 %\n",
      "\n",
      "The range score was 273908800.0%:4728 out of 5214\n",
      "\n",
      "The score 3 was: 80.09 %\n",
      "\n",
      "The score 2 was: 13.23 %\n",
      "\n",
      "The score 1 was: 5.29 %\n",
      "\n",
      "The score 0 was: 0.92 %\n",
      "\n",
      "              precision    recall  f1-score   support\n",
      "\n",
      "           0       0.83      0.89      0.86        91\n",
      "           1       0.70      0.84      0.76        55\n",
      "           2       0.70      0.76      0.73       121\n",
      "           3       0.75      0.67      0.71       121\n",
      "           4       0.82      0.75      0.78        55\n",
      "           5       0.89      0.85      0.87        91\n",
      "           6       0.71      0.72      0.71       121\n",
      "           7       0.76      0.83      0.80       121\n",
      "           8       0.79      0.83      0.81       121\n",
      "           9       0.75      0.76      0.76       121\n",
      "          10       0.87      0.92      0.89       118\n",
      "          11       0.88      0.80      0.84       121\n",
      "          12       0.77      0.71      0.74       121\n",
      "          13       0.84      0.78      0.81       121\n",
      "          14       0.86      0.84      0.85       121\n",
      "          15       0.91      0.90      0.91       118\n",
      "\n",
      "   micro avg       0.80      0.80      0.80      1738\n",
      "   macro avg       0.80      0.80      0.80      1738\n",
      "weighted avg       0.80      0.80      0.80      1738\n",
      "\n",
      "[[ 81   2   0   0   0   0   1   0   3   3   0   0   0   0   0   1]\n",
      " [  2  46   1   0   0   0   0   0   0   0   3   1   0   0   2   0]\n",
      " [  2   0 108   0   2   0   0   0   1   1   0   0   0   1   3   0]\n",
      " [  1   0   2  97   1   2   1   1   2   2   1   0   0   0   2   9]\n",
      " [  0   2   1   3  86   3   8   1   4   3   0   0   3   1   1   5]\n",
      " [  0   0   0   2   4  94   0   5   0   1   0   1   5   6   1   2]\n",
      " [  0   0   0   1   2   0 102   1   8   2   0   1   2   0   1   1]\n",
      " [  0   0   0   0   0   5   1 106   0   0   0   0   0   5   0   1]\n",
      " [  6   0   2   2   0   0   2   0  92   5   0   0   0   3   9   0]\n",
      " [  1   4   1   1   3   1   0   0   6  81   2   2   9   1   3   6]\n",
      " [  0   2   0   0   0   0   0   0   1   0  41   1   7   2   0   1]\n",
      " [  1   2   0   0   3   1   0   0   0   1   0  77   1   5   0   0]\n",
      " [  2   6   5   1   5   0   0   0   1   5   0   2  87   5   0   2]\n",
      " [  0   1   0   0   2   4   2   1   0   1   1   1   7 101   0   0]\n",
      " [  2   0   3   0   0   0   0   1   8   1   1   0   0   2 101   2]\n",
      " [  0   1   1   3   3   2   1   0   6   2   1   1   2   1   5  92]]\n"
     ]
    }
   ],
   "source": [
    "CONF4, result, Qpredicted = testing(X,Y,classif,info_classif)\n",
    "#print(Qpredicted)\n",
    "#print(Y)\n",
    "print(CONF4)"
   ]
  },
  {
   "cell_type": "markdown",
   "metadata": {},
   "source": [
    "#### 3.2.5 Using PCA coordinates"
   ]
  },
  {
   "cell_type": "code",
   "execution_count": 41,
   "metadata": {},
   "outputs": [],
   "source": [
    "X, Y = eXifY(training_data)"
   ]
  },
  {
   "cell_type": "code",
   "execution_count": 42,
   "metadata": {},
   "outputs": [
    {
     "name": "stdout",
     "output_type": "stream",
     "text": [
      "multiclass-multioutput\n",
      "Components = 34;\n",
      "Total explained variance = 0.90093\n"
     ]
    }
   ],
   "source": [
    "stt = ss().fit_transform(X)\n",
    "pca = PCA(0.90)\n",
    "X = pca.fit_transform(stt) #to retain the components in an object\n",
    "print(utils.multiclass.type_of_target(X.astype('int')))\n",
    "#pca.explained_variance_ratio_\n",
    "print ( \"Components = \" + str(pca.n_components_) + \";\")\n",
    "print (\"Total explained variance = \" + str(round(pca.explained_variance_ratio_.sum(),5)))  "
   ]
  },
  {
   "cell_type": "code",
   "execution_count": 43,
   "metadata": {
    "scrolled": true
   },
   "outputs": [
    {
     "data": {
      "text/plain": [
       "6760"
      ]
     },
     "execution_count": 43,
     "metadata": {},
     "output_type": "execute_result"
    }
   ],
   "source": [
    "len(Y)"
   ]
  },
  {
   "cell_type": "code",
   "execution_count": 44,
   "metadata": {},
   "outputs": [
    {
     "data": {
      "text/plain": [
       "6760"
      ]
     },
     "execution_count": 44,
     "metadata": {},
     "output_type": "execute_result"
    }
   ],
   "source": [
    "len(X)"
   ]
  },
  {
   "cell_type": "code",
   "execution_count": 45,
   "metadata": {},
   "outputs": [],
   "source": [
    "classif,info_classif=training(X,Y)"
   ]
  },
  {
   "cell_type": "code",
   "execution_count": 46,
   "metadata": {},
   "outputs": [],
   "source": [
    "X, Y = eXifY(testing_data)"
   ]
  },
  {
   "cell_type": "code",
   "execution_count": 47,
   "metadata": {},
   "outputs": [
    {
     "name": "stdout",
     "output_type": "stream",
     "text": [
      "multiclass-multioutput\n",
      "Components = 34;\n",
      "Total explained variance = 0.90847\n"
     ]
    }
   ],
   "source": [
    "stt = ss().fit_transform(X)\n",
    "pca = PCA(0.9)\n",
    "X = pca.fit_transform(stt) #to retain the components in an object\n",
    "print(utils.multiclass.type_of_target(X.astype('int')))\n",
    "#pca.explained_variance_ratio_\n",
    "print ( \"Components = \" + str(pca.n_components_) + \";\")\n",
    "print (\"Total explained variance = \" + str(round(pca.explained_variance_ratio_.sum(),5)))"
   ]
  },
  {
   "cell_type": "code",
   "execution_count": 48,
   "metadata": {},
   "outputs": [
    {
     "name": "stdout",
     "output_type": "stream",
     "text": [
      "The percentage of success was: 10.06904487917146 %\n",
      "\n",
      "The range score was 134695000.0%:2325 out of 5214\n",
      "\n",
      "The score 3 was: 10.07 %\n",
      "\n",
      "The score 2 was: 32.11 %\n",
      "\n",
      "The score 1 was: 39.36 %\n",
      "\n",
      "The score 0 was: 16.97 %\n",
      "\n",
      "              precision    recall  f1-score   support\n",
      "\n",
      "           0       0.07      0.11      0.09        91\n",
      "           1       0.23      0.11      0.15        55\n",
      "           2       0.11      0.15      0.12       121\n",
      "           3       0.11      0.20      0.14       121\n",
      "           4       0.01      0.02      0.01        55\n",
      "           5       0.14      0.08      0.10        91\n",
      "           6       0.07      0.06      0.06       121\n",
      "           7       0.10      0.11      0.10       121\n",
      "           8       0.15      0.16      0.15       121\n",
      "           9       0.05      0.03      0.04       121\n",
      "          10       0.25      0.15      0.19       118\n",
      "          11       0.08      0.05      0.06       121\n",
      "          12       0.10      0.12      0.11       121\n",
      "          13       0.18      0.10      0.13       121\n",
      "          14       0.09      0.12      0.10       121\n",
      "          15       0.00      0.00      0.00       118\n",
      "\n",
      "   micro avg       0.10      0.10      0.10      1738\n",
      "   macro avg       0.11      0.10      0.10      1738\n",
      "weighted avg       0.11      0.10      0.10      1738\n",
      "\n",
      "[[10  2  0  3  4  0  8  2  6 28 12  2  3  5  1  5]\n",
      " [ 0  6  0  3  1  0  0  0  1 19 19  0  3  1  2  0]\n",
      " [ 9  3 18  0  3  0 13  0  2 37  6  2  0  3  3 19]\n",
      " [23  0  7  6  6 24  6  0  8  0  1  3 28  2  5  2]\n",
      " [ 5  1  1  7 15  4 26  0  9 20  3  1 13  3 11  2]\n",
      " [ 4  0  2 20  6 12  8  6  4 23  5  1  2  0 15 13]\n",
      " [ 2  0 16  2  9  0 15  2  2  7 21  2  8  6 28  1]\n",
      " [ 5  1 10  1 10  4 14  0  9  2  3  0  4 34 15  6]\n",
      " [ 1  1  1  3  5  3 25  4 18 22  2  0  4 19  4  9]\n",
      " [ 1  3  4  5 19  2  4  0  9 24 16  4  2 21  4  3]\n",
      " [20  0  1  6  8  0  5  0  3  6  1  1  1  0  3  0]\n",
      " [ 7  1  0 10 17  2 13  0  9  3  2  7 13  4  2  1]\n",
      " [33  2  0  1 12  1  2  4  7 12  6 18  7 10  1  5]\n",
      " [ 7  2  0  1  8  0 16  1 29  9  6  7  9 13  6  7]\n",
      " [ 8  4  6  1 22  2 11  1  3  4 22  2  6  3 19  7]\n",
      " [ 8  0  7  2  8 12  2  2 49  6  5  0  1  9  6  4]]\n"
     ]
    }
   ],
   "source": [
    "CONF5, result, Qpredicted = testing(X,Y,classif,info_classif)\n",
    "#print(Qpredicted)\n",
    "#print(Y)\n",
    "print(CONF5)"
   ]
  },
  {
   "cell_type": "markdown",
   "metadata": {},
   "source": [
    "## 4. Comparing classifications"
   ]
  },
  {
   "cell_type": "markdown",
   "metadata": {},
   "source": [
    "Now, at last, we compare the Confusion Matrices of the 4 groups of coordinates. And with a nice layout!"
   ]
  },
  {
   "cell_type": "code",
   "execution_count": 49,
   "metadata": {},
   "outputs": [
    {
     "data": {
      "image/png": "[encoded data removed]",
      "text/plain": [
       "<Figure size 432x288 with 1 Axes>"
      ]
     },
     "metadata": {
      "needs_background": "light"
     },
     "output_type": "display_data"
    },
    {
     "data": {
      "image/png": "[encoded data removed]",
      "text/plain": [
       "<Figure size 288x288 with 1 Axes>"
      ]
     },
     "metadata": {
      "needs_background": "light"
     },
     "output_type": "display_data"
    },
    {
     "data": {
      "image/png": "[encoded data removed]",
      "text/plain": [
       "<Figure size 288x288 with 1 Axes>"
      ]
     },
     "metadata": {
      "needs_background": "light"
     },
     "output_type": "display_data"
    },
    {
     "data": {
      "image/png": "[encoded data removed]",
      "text/plain": [
       "<Figure size 288x288 with 1 Axes>"
      ]
     },
     "metadata": {
      "needs_background": "light"
     },
     "output_type": "display_data"
    },
    {
     "data": {
      "image/png": "[encoded data removed]",
      "text/plain": [
       "<Figure size 288x288 with 1 Axes>"
      ]
     },
     "metadata": {
      "needs_background": "light"
     },
     "output_type": "display_data"
    }
   ],
   "source": [
    "plt.figure()  \n",
    "plt.rcParams[\"figure.figsize\"] = (4,4)\n",
    "df = DataFrame(CONF1) #, index=Index, columns=Cols - if defined before\n",
    "sns.heatmap(df, annot=True, cmap=\"YlGnBu\",cbar=False) #cbar=True is an option but it appears float values\n",
    "plt.xlabel(\"Predicted Label\")\n",
    "plt.ylabel(\"True Label\")\n",
    "plt.title('Confusion Matrix Head')\n",
    "plt.show()\n",
    "\n",
    "plt.figure() \n",
    "plt.rcParams[\"figure.figsize\"] = (4,4)\n",
    "df = DataFrame(CONF2) #, index=Index, columns=Cols - if defined before\n",
    "sns.heatmap(df, annot=True, cmap=\"YlGnBu\",cbar=False) #cbar=True is an option but it appears float values\n",
    "plt.xlabel(\"Predicted Label\")\n",
    "plt.ylabel(\"True Label\")\n",
    "plt.title('Confusion Matrix Head + Hands')\n",
    "plt.show()\n",
    "\n",
    "plt.figure()\n",
    "plt.rcParams[\"figure.figsize\"] = (4,4)\n",
    "df = DataFrame(CONF3) #, index=Index, columns=Cols - if defined before\n",
    "sns.heatmap(df, annot=True, cmap=\"YlGnBu\",cbar=False) #cbar=True is an option but it appears float values\n",
    "plt.xlabel(\"Predicted Label\")\n",
    "plt.ylabel(\"True Label\")\n",
    "plt.title('Confusion Matrix Head + Context Data')\n",
    "plt.show()\n",
    "\n",
    "plt.figure()\n",
    "plt.rcParams[\"figure.figsize\"] = (4,4)\n",
    "df = DataFrame(CONF4) #, index=Index, columns=Cols - if defined before\n",
    "sns.heatmap(df, annot=True, cmap=\"YlGnBu\",cbar=False) #cbar=True is an option but it appears float values\n",
    "plt.xlabel(\"Predicted Label\")\n",
    "plt.ylabel(\"True Label\")\n",
    "plt.title('Confusion Matrix All')\n",
    "#plt.subplots_adjust(wspace=0.8, hspace=0.8)\n",
    "plt.show()\n",
    "\n",
    "plt.figure()\n",
    "plt.rcParams[\"figure.figsize\"] = (4,4)\n",
    "df = DataFrame(CONF5) #, index=Index, columns=Cols - if defined before\n",
    "sns.heatmap(df, annot=True, cmap=\"YlGnBu\",cbar=False) #cbar=True is an option but it appears float values\n",
    "plt.xlabel(\"Predicted Label\")\n",
    "plt.ylabel(\"True Label\")\n",
    "plt.title('Confusion Matrix All')\n",
    "#plt.subplots_adjust(wspace=0.8, hspace=0.8)\n",
    "plt.show()"
   ]
  }
 ],
 "metadata": {
  "file_extension": ".py",
  "kernelspec": {
   "display_name": "Python 3",
   "language": "python",
   "name": "python3"
  },
  "language_info": {
   "codemirror_mode": {
    "name": "ipython",
    "version": 3
   },
   "file_extension": ".py",
   "mimetype": "text/x-python",
   "name": "python",
   "nbconvert_exporter": "python",
   "pygments_lexer": "ipython3",
   "version": "3.6.9"
  },
  "mimetype": "text/x-python",
  "name": "python",
  "npconvert_exporter": "python",
  "pygments_lexer": "ipython3",
  "version": 3
 },
 "nbformat": 4,
 "nbformat_minor": 2
}
