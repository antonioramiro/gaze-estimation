{
 "cells": [
  {
   "cell_type": "markdown",
   "metadata": {},
   "source": [
    "# Gaze Estimation"
   ]
  },
  {
   "cell_type": "markdown",
   "metadata": {},
   "source": [
    "Brief explanation of this notebook: how it came to be; motivations; link to the full explanation; and \"method-alike\" explanation"
   ]
  },
  {
   "cell_type": "code",
   "execution_count": 1,
   "metadata": {},
   "outputs": [],
   "source": [
    "#Basic\n",
    "import numpy as np\n",
    "import matplotlib.pyplot as plt\n",
    "from scipy import stats\n",
    "import math\n",
    "from operator import add\n",
    "\n",
    "#Aiding conversions from string to list\n",
    "import ast\n",
    "\n",
    "#Randomize\n",
    "import random\n",
    "\n",
    "#Labelling classifiers\n",
    "import datetime\n",
    "import joblib\n",
    "\n",
    "#Support Vector Classification\n",
    "from sklearn.model_selection import cross_val_score\n",
    "from sklearn.svm import SVC\n",
    "from joblib import dump, load\n",
    "from sklearn.model_selection import GridSearchCV\n",
    "from sklearn import svm\n",
    "#Confusion Matrix\n",
    "from sklearn.metrics import confusion_matrix\n",
    "from sklearn.metrics import classification_report\n",
    "from pandas import DataFrame\n",
    "import seaborn as sns\n",
    "#PCA\n",
    "import sklearn as sl\n",
    "from sklearn.preprocessing import StandardScaler as ss\n",
    "from sklearn.decomposition import PCA \n",
    "from sklearn import utils"
   ]
  },
  {
   "cell_type": "markdown",
   "metadata": {},
   "source": [
    "## 1. Recording a video"
   ]
  },
  {
   "cell_type": "markdown",
   "metadata": {},
   "source": [
    "In order to ... Just record it. Falar de algumas precauções e cuidades. IDK"
   ]
  },
  {
   "cell_type": "markdown",
   "metadata": {},
   "source": [
    "## 2. Converting the video in measurable data / Data treatment"
   ]
  },
  {
   "cell_type": "markdown",
   "metadata": {},
   "source": [
    "To do so, we created [datasetGenerating.py](https://github.com/antonioramiro/gaze-estimation/blob/master/datasetGenerating.py) which converts a video into an array of (~) 49 elements. yada yada yada"
   ]
  },
  {
   "cell_type": "markdown",
   "metadata": {},
   "source": [
    "``demo da datasetGenerating`` .gif e o comando q se usa "
   ]
  },
  {
   "cell_type": "markdown",
   "metadata": {},
   "source": [
    "Then, to cluster every vector generated, each in an individual .txt file, we used [txtJoiner](https://github.com/antonioramiro/gaze-estimation/blob/master/txtJoiner.py), which outputs the following file yada yada. When said file is imported, the lines are read as strings, therefore it needs to be converted to a list of lists."
   ]
  },
  {
   "cell_type": "markdown",
   "metadata": {},
   "source": [
    "### 2.1 Importing the text file"
   ]
  },
  {
   "cell_type": "code",
   "execution_count": 2,
   "metadata": {},
   "outputs": [],
   "source": [
    "#opening the file\n",
    "with open('dataset_2020-07-20.txt') as file:\n",
    "    txt_file = [line.strip() for line in file]\n",
    "\n",
    "dataset = []\n",
    "#converting a list of strings to a list of lists\n",
    "counter = 0\n",
    "total_lines = len(txt_file)\n",
    "while counter != total_lines:\n",
    "    individual_line = ast.literal_eval(txt_file[counter])\n",
    "    dataset += [individual_line]\n",
    "    counter+=1"
   ]
  },
  {
   "cell_type": "markdown",
   "metadata": {},
   "source": [
    "meter aqui imagem do boneco, com a legenda adequada ao nosso vetor. como por aquilo bonito? fica melhor explicado por escrito do que tudo discriminado."
   ]
  },
  {
   "cell_type": "markdown",
   "metadata": {},
   "source": [
    "``[x_nose, y_nose, x_neck, y_neck, x_right ear, y_right ear, x_left ear, y_left ear, x_right eye, y_right eye, x_left eye, y_left eye, x_right hand, y_right hand, x_left hand, y_left hand, ... contextual information - 32 positions ..., quadrant]``"
   ]
  },
  {
   "cell_type": "markdown",
   "metadata": {},
   "source": [
    "### 2.2 Separating data for testing and for training"
   ]
  },
  {
   "cell_type": "markdown",
   "metadata": {},
   "source": [
    "Now let's get the party going. Separate data"
   ]
  },
  {
   "cell_type": "code",
   "execution_count": 3,
   "metadata": {},
   "outputs": [],
   "source": [
    "testing_data = dataset[int(len(dataset)*0.8):]\n",
    "training_data = dataset[:int(len(dataset)*0.8)]"
   ]
  },
  {
   "cell_type": "markdown",
   "metadata": {},
   "source": [
    " ### 2.2 Increasing sample size"
   ]
  },
  {
   "cell_type": "markdown",
   "metadata": {},
   "source": [
    "inverter horizontalmente as cenas + termos o dobro dos dados. nota: a geradora do dataset cospe a resolução das imagens na sua penúltima linha"
   ]
  },
  {
   "cell_type": "code",
   "execution_count": 4,
   "metadata": {},
   "outputs": [
    {
     "name": "stdout",
     "output_type": "stream",
     "text": [
      "Initially, the training dataset is composed by 5765 elements.\n"
     ]
    }
   ],
   "source": [
    "print('Initially, the training dataset is composed by ' + str(len(training_data)) + ' elements.')"
   ]
  },
  {
   "cell_type": "code",
   "execution_count": 5,
   "metadata": {},
   "outputs": [],
   "source": [
    "def dataDoubler(dataset):\n",
    "    resolution = (640,352) \n",
    "    flipped_dataset = []\n",
    "\n",
    "# Calculate the simetric quadrant, where the input is an int and the output is a list of 1 element.\n",
    "# Given the numeration of quadrants (stated in 2.1.1), a simple addition/subtraction of 3 or 5 will yield\n",
    "# the simetric quadrant\n",
    "\n",
    "    def flipped_quadrant(quadrant):\n",
    "        if quadrant in [1,3,9,11]:\n",
    "            flipped_quadrant = quadrant + 3 \n",
    "        elif quadrant in [4,6,12,14]:\n",
    "            flipped_quadrant = quadrant - 3 \n",
    "        elif quadrant in [0,2,8,10]:\n",
    "            flipped_quadrant = quadrant + 5\n",
    "        elif quadrant in [5,7,13,15]:\n",
    "            flipped_quadrant = quadrant - 5  \n",
    "        return [flipped_quadrant]\n",
    "\n",
    "    def flip_shortlong(bigList):\n",
    "        if len(bigList) != 32:\n",
    "            print(bigList)\n",
    "            print(len(bigList))\n",
    "            return 'auch'\n",
    "        else:\n",
    "            newList=[bigList[5],bigList[4],bigList[7],bigList[6],bigList[1],bigList[0],bigList[3],bigList[2],\\\n",
    "                 bigList[13],bigList[12],bigList[15],bigList[14],bigList[9],bigList[8],bigList[11],bigList[10],\\\n",
    "                 bigList[16+5],bigList[16+4],bigList[16+7],bigList[16+6],bigList[16+1],bigList[16+0],bigList[16+3],bigList[16+2],\\\n",
    "                 bigList[16+13],bigList[16+12],bigList[16+15],bigList[16+14],bigList[16+9],bigList[16+8],bigList[16+11],bigList[16+10]]\n",
    "            return newList\n",
    "    \n",
    "    for element in dataset:\n",
    "        flipped_element = []\n",
    "        for i in range(len(element) - 33):\n",
    "\n",
    "            # Every even index (up to the 14th: indexes that correspond to coordinates of poseKeypoints) contains \n",
    "            # an X coordinate, from which can be obtained the simetric coordinate (by subtracting to the width\n",
    "            # the original X), note that Y is irrelevant to horizontal simetry.\n",
    "\n",
    "            if i%2 == 0 and element[i] != -1: \n",
    "                flipped_element += [resolution[0] - element[i]]\n",
    "\n",
    "            else: #y or x == -1\n",
    "                flipped_element += [element[i]]       \n",
    "\n",
    "        flipped_dataset += [flipped_element + flip_shortlong(element[16:-1])  + flipped_quadrant(element[-1])]\n",
    "\n",
    "    dataset += flipped_dataset\n",
    "    return dataset"
   ]
  },
  {
   "cell_type": "code",
   "execution_count": 6,
   "metadata": {},
   "outputs": [],
   "source": [
    "training_data = dataDoubler(training_data)\n",
    "testing_data = dataDoubler(testing_data)"
   ]
  },
  {
   "cell_type": "code",
   "execution_count": 7,
   "metadata": {},
   "outputs": [
    {
     "name": "stdout",
     "output_type": "stream",
     "text": [
      "Now, it has 11530 elements.\n"
     ]
    }
   ],
   "source": [
    "print('Now, it has ' + str(len(training_data)) + ' elements.')"
   ]
  },
  {
   "cell_type": "code",
   "execution_count": 8,
   "metadata": {
    "scrolled": true
   },
   "outputs": [
    {
     "name": "stdout",
     "output_type": "stream",
     "text": [
      "[225.23653, 42.568066, 241.54109, 87.510704, 206.14096, 55.951252, 252.03328, 37.789852, 210.91039, 44.48761, 234.8147, 30.145338, 181.26244, 118.10553, 273.08597, 120.05229, 0, 1, 0, 0, 0, 0, 0, 0, 0, 0, 0, 0, 0, 0, 0, 0, 0, 0, 0, 0, 0, 0, 0, 0, 0, 0, 0, 0, 1, 0, 0, 0, 1]\n",
      "49\n"
     ]
    }
   ],
   "source": [
    "print(dataset[0])\n",
    "print(len(dataset[0]))"
   ]
  },
  {
   "cell_type": "code",
   "execution_count": 9,
   "metadata": {},
   "outputs": [
    {
     "data": {
      "text/plain": [
       "(11530, 0, [])"
      ]
     },
     "execution_count": 9,
     "metadata": {},
     "output_type": "execute_result"
    }
   ],
   "source": [
    "#testar se todos têm o mesmo comprimento, ficava fixe fazer um dicionário onde os índices é a len, que está ligado ao nr de ocorrencias de essa len\n",
    "a = 0\n",
    "b = 0\n",
    "c = []\n",
    "for i in training_data:\n",
    "    if len(i) == 49:\n",
    "        a += 1\n",
    "    elif len(i) == 51:\n",
    "        b += 1\n",
    "        \n",
    "    else: c+= [i]\n",
    "\n",
    "a,b,c"
   ]
  },
  {
   "cell_type": "markdown",
   "metadata": {},
   "source": [
    "### 2.3 Feature Engineering"
   ]
  },
  {
   "cell_type": "markdown",
   "metadata": {},
   "source": [
    "Dizer cenas: quais as featrures, porque poderiam ser uteis"
   ]
  },
  {
   "cell_type": "code",
   "execution_count": 10,
   "metadata": {},
   "outputs": [],
   "source": [
    "def head_angle(x_nose,y_nose,x_neck,y_neck):\n",
    "    #angle() calculates the angle at which the head is tilted using the coordinates of the nose and neck\n",
    "    if x_nose>=0 and x_neck>=0:\n",
    "        x=abs(x_nose-x_neck)\n",
    "        y=abs(y_nose-y_neck)\n",
    "        angle=math.atan(y/x)\n",
    "        if x_nose-x_neck<0:\n",
    "            angle+=math.pi/2\n",
    "        return [int(angle)]\n",
    "    else:\n",
    "        return [-1]\n",
    "\n",
    "    \n",
    "def hand_distance(x_rhand,y_rhand,x_lhand,y_lhand,x_nose,y_nose):\n",
    "    #hand_distance() calculates the distance between the hands and the face using the nose coordinates\n",
    "    right=-1\n",
    "    left=-1\n",
    "    if x_rhand>=0 and x_nose>=0:\n",
    "        right=math.sqrt((x_rhand-x_nose)**2+(y_rhand-y_nose)**2)\n",
    "        \n",
    "    if x_lhand>=0 and x_nose>=0:\n",
    "        left=math.sqrt((x_lhand-x_nose)**2+(y_lhand-y_nose)**2)\n",
    "    \n",
    "    distances=[int(right),int(left)]\n",
    "    return distances\n",
    "\n",
    "\n",
    "def hand_angles(x_rhand,y_rhand,x_lhand,y_lhand,x_neck,y_neck):\n",
    "    #hand_angles() calculates the angle between each arm and the horizontal axis\n",
    "    r_angle=-1\n",
    "    l_angle=-1\n",
    "    if x_rhand>=0 and x_neck>=0:\n",
    "        x=abs(x_rhand-x_neck)\n",
    "        y=abs(y_rhand-y_neck)\n",
    "        r_angle=math.atan(y/x)\n",
    "    if x_lhand>=0 and x_neck>=0:\n",
    "        x=abs(x_lhand-x_neck)\n",
    "        y=abs(y_lhand-y_neck)\n",
    "        l_angle=math.atan(y/x)\n",
    "        \n",
    "    angles=[int(r_angle),int(l_angle)]\n",
    "    return angles"
   ]
  },
  {
   "cell_type": "code",
   "execution_count": 11,
   "metadata": {},
   "outputs": [],
   "source": [
    "training_data = [i[:-1] + head_angle(i[0],i[1],i[2],i[3]) + hand_distance(i[12],i[13],i[14],i[15],i[0],i[1]) + hand_angles(i[12],i[13],i[14],i[15],i[2],i[3]) + [i[-1]] for i in training_data]\n",
    "testing_data = [i[:-1] + head_angle(i[0],i[1],i[2],i[3]) + hand_distance(i[12],i[13],i[14],i[15],i[0],i[1]) + hand_angles(i[12],i[13],i[14],i[15],i[2],i[3]) + [i[-1]] for i in testing_data]"
   ]
  },
  {
   "cell_type": "code",
   "execution_count": 12,
   "metadata": {},
   "outputs": [
    {
     "name": "stdout",
     "output_type": "stream",
     "text": [
      "54\n"
     ]
    }
   ],
   "source": [
    "print(len(training_data[54]))"
   ]
  },
  {
   "cell_type": "markdown",
   "metadata": {},
   "source": [
    "o vetor agora tem esta forma ``[x_nose, y_nose, x_neck, y_neck, x_right ear, y_right ear, x_left ear, y_left ear, x_right eye, y_right eye, x_left eye, y_left eye, x_right hand, y_right hand, x_left hand, y_left hand, ... contextual information - 32 positions ..., head angle, distance from head to hand x & y, distance from hands x & y , quadrant]``"
   ]
  },
  {
   "cell_type": "markdown",
   "metadata": {},
   "source": [
    "@alex meti isto em markdown poruque acho que ja nao estava a fazer nada (?)\n",
    "\n",
    "training_data = addFeature(training_data)\n",
    "testing_data = addFeature(testing_data)"
   ]
  },
  {
   "cell_type": "markdown",
   "metadata": {},
   "source": [
    "### 2.4 Balancing the dataset"
   ]
  },
  {
   "cell_type": "markdown",
   "metadata": {},
   "source": [
    "Em vez de leveling, outra palavra para descrever este processo de fazer os numeros mais proximos.  Due to XXXX, some quadrants tend to be more prevalent. So in order not to confuse :p the SVM, the values should be more homogenized  Falar um pouco"
   ]
  },
  {
   "cell_type": "markdown",
   "metadata": {},
   "source": [
    "Firstly lets visualise the distributtion of data with the following function"
   ]
  },
  {
   "cell_type": "code",
   "execution_count": 13,
   "metadata": {},
   "outputs": [],
   "source": [
    "import numpy as np; np.random.seed(0)\n",
    "import matplotlib.pyplot as plt\n",
    "import seaborn as sns; sns.set()\n",
    "import random\n",
    "%matplotlib inline\n",
    "\n",
    "def heatmap (dataset):\n",
    "    #in the quadrant_count list, each number corresponds to the number of samples where the object is in that\n",
    "    #quadrant so quadrant_count[0] is the number of samples in the 0 quadrant\n",
    "    quadrant_count=[0,0,0,0,0,0,0,0,0,0,0,0,0,0,0,0]\n",
    "    for i in range(len(dataset)):\n",
    "        quad=dataset[i][-1]\n",
    "        quadrant_count[quad]=quadrant_count[quad]+1\n",
    "    data=[[quadrant_count[0],quadrant_count[1],quadrant_count[4],quadrant_count[5]],\\\n",
    "           [quadrant_count[2],quadrant_count[3],quadrant_count[6],quadrant_count[7]],\\\n",
    "           [quadrant_count[8],quadrant_count[9],quadrant_count[12],quadrant_count[13]],\\\n",
    "           [quadrant_count[10],quadrant_count[11],quadrant_count[14],quadrant_count[15]]]\n",
    "    sns.heatmap(data, annot=True, fmt=\"d\",linewidths=0.5,yticklabels=False,xticklabels=False,cbar=False)\n",
    "    return quadrant_count"
   ]
  },
  {
   "cell_type": "markdown",
   "metadata": {},
   "source": [
    "Prior to leveling, we have"
   ]
  },
  {
   "cell_type": "code",
   "execution_count": 14,
   "metadata": {
    "scrolled": false
   },
   "outputs": [
    {
     "data": {
      "text/plain": [
       "[79, 78, 983, 827, 78, 79, 827, 983, 973, 1689, 391, 745, 1689, 973, 745, 391]"
      ]
     },
     "execution_count": 14,
     "metadata": {},
     "output_type": "execute_result"
    },
    {
     "data": {
      "image/png": "[encoded data removed]",
      "text/plain": [
       "<Figure size 432x288 with 1 Axes>"
      ]
     },
     "metadata": {},
     "output_type": "display_data"
    }
   ],
   "source": [
    "#dataset=[[1,1,0],[2,2,0],[1,2,1],[1,2,1],[0,0,2],[1,3,3],[3,2,3],[1,2,3],[1,5,4],[5,5,5],[1,2,6],[1,2,7],[6,2,8],[1,3,9],[2,3,9],[3,3,9],[4,3,9],[5,3,9],[3,0,10],[1,3,11],[1,2,12],[3,3,13],[4,4,14],[5,3,15],[2,3,15]]\n",
    "heatmap(training_data)"
   ]
  },
  {
   "cell_type": "code",
   "execution_count": 15,
   "metadata": {},
   "outputs": [],
   "source": [
    "def levelling (dataset,percent):\n",
    "    #percent indicates de percentage of samples we'll allow of difference \n",
    "    #between the smallest samples and all the rest\n",
    "    quadrant_count=heatmap(dataset)\n",
    "    a=quadrant_count[0]\n",
    "    #we'll use the following cycle to find out what is the smallest number of samples we have in one quadrant\n",
    "    #(doesn't matter which quadrant that is)\n",
    "    for i in quadrant_count:\n",
    "        if i<a:\n",
    "            a=i\n",
    "    max=int((percent+1)*a)\n",
    "    excess=[0,0,0,0,0,0,0,0,0,0,0,0,0,0,0,0]\n",
    "    for i in range(len(quadrant_count)):\n",
    "        if quadrant_count[i]>max:\n",
    "            excess[i]=quadrant_count[i]-max\n",
    "        else:\n",
    "            excess[i]=0\n",
    "    \n",
    "    b=[[],[],[],[],[],[],[],[],[],[],[],[],[],[],[],[]]\n",
    "    for j in dataset:\n",
    "        b[j[-1]]+=[j]\n",
    "    for k in range(len(b)):\n",
    "        for l in range(excess[k]):\n",
    "            c=random.choice(b[k])\n",
    "            b[k].remove(c)\n",
    "    dataset=[]\n",
    "    for m in b:\n",
    "        dataset+=m\n",
    "    random.shuffle(dataset)\n",
    "    return dataset"
   ]
  },
  {
   "cell_type": "code",
   "execution_count": 16,
   "metadata": {
    "scrolled": false
   },
   "outputs": [
    {
     "data": {
      "text/plain": [
       "[79, 78, 171, 171, 78, 79, 171, 171, 171, 171, 171, 171, 171, 171, 171, 171]"
      ]
     },
     "execution_count": 16,
     "metadata": {},
     "output_type": "execute_result"
    },
    {
     "data": {
      "image/png": "[encoded data removed]",
      "text/plain": [
       "<Figure size 432x288 with 1 Axes>"
      ]
     },
     "metadata": {},
     "output_type": "display_data"
    }
   ],
   "source": [
    "training_data = levelling(training_data,1.2)\n",
    "heatmap(training_data)\n",
    "#guardar o novo dataset em dataset, var global"
   ]
  },
  {
   "cell_type": "code",
   "execution_count": 17,
   "metadata": {
    "scrolled": true
   },
   "outputs": [
    {
     "data": {
      "text/plain": [
       "[53, 71, 112, 112, 71, 53, 112, 112, 112, 112, 51, 112, 112, 112, 112, 51]"
      ]
     },
     "execution_count": 17,
     "metadata": {},
     "output_type": "execute_result"
    },
    {
     "data": {
      "image/png": "[encoded data removed]",
      "text/plain": [
       "<Figure size 432x288 with 1 Axes>"
      ]
     },
     "metadata": {},
     "output_type": "display_data"
    }
   ],
   "source": [
    "testing_data = levelling(testing_data,1.2)\n",
    "heatmap(testing_data)"
   ]
  },
  {
   "cell_type": "markdown",
   "metadata": {},
   "source": [
    "## 3. Training the models & Classifying"
   ]
  },
  {
   "cell_type": "markdown",
   "metadata": {},
   "source": [
    "### 3.1 Creating a proper list of two vectors"
   ]
  },
  {
   "cell_type": "markdown",
   "metadata": {},
   "source": [
    "Este step is only done here in order to reduce the probability of messing up and disconecting each X vector from the correspondant Y. X is composed of vectors with coordinates/features and Y has one, the quadrant"
   ]
  },
  {
   "cell_type": "code",
   "execution_count": 18,
   "metadata": {},
   "outputs": [],
   "source": [
    "def eXifY(data):\n",
    "    X, Y = [element[0:-1] for element in data], [element[-1] for element in data]\n",
    "    return X, Y"
   ]
  },
  {
   "cell_type": "code",
   "execution_count": 19,
   "metadata": {},
   "outputs": [
    {
     "data": {
      "text/plain": [
       "True"
      ]
     },
     "execution_count": 19,
     "metadata": {},
     "output_type": "execute_result"
    }
   ],
   "source": [
    "len(eXifY(training_data)[0]) == len(eXifY(training_data)[1])"
   ]
  },
  {
   "cell_type": "markdown",
   "metadata": {},
   "source": [
    "### 3.2 Training & Classifying"
   ]
  },
  {
   "cell_type": "markdown",
   "metadata": {},
   "source": [
    "Since the goal is the comparison of the quality of the classifications according to the type of context (number of \n",
    "coordinates given), we are going to train 4 models and test them to see the differences in success rate.\n",
    "Below are defined the training and testing functions, respectively."
   ]
  },
  {
   "cell_type": "markdown",
   "metadata": {},
   "source": [
    "galta adicionar mais cenas ao nome para saber do que se trata"
   ]
  },
  {
   "cell_type": "code",
   "execution_count": 20,
   "metadata": {
    "scrolled": true
   },
   "outputs": [],
   "source": [
    "def training(X,Y):\n",
    "   \n",
    "    nfolds=5 #3 means a 3-fold cross-validation\n",
    "    Cs = [1e5,1e6,1e7,1e8] #parameter 1\n",
    "    gammas = [1e-5,1e-6,1e-7,1e-8] #parameter 2  \n",
    "    param_grid = {'C': Cs, 'gamma' : gammas} #all in one grid\n",
    "    grid_search2 = GridSearchCV(svm.SVC(kernel='rbf'), param_grid, cv=nfolds) #svm classifier\n",
    "    grid_search2.fit(X, Y) #fitting the data\n",
    "    best=grid_search2.best_params_ \n",
    "\n",
    "    clf = SVC(C= best['C'],gamma=best['gamma']) #creating the model with the best parameters\n",
    "    clf.fit(X, Y) #fitting the model to the data\n",
    "\n",
    "    now = datetime.datetime.now()\n",
    "    timestamp = str(now.strftime(\"%d-%m-%Y_%Hh%Mm%Ss\")) #the current day and time to have in the classifier name \n",
    "    \n",
    "    datatype='0'\n",
    "    #to insert in the name of the classifier and text files which of the 4 groups of coordinates is the classifier using\n",
    "    if (len(X[0])) == 13: #(head)\n",
    "        datatype='Head'\n",
    "    elif (len(X[0])) == 21: #(head + hands)\n",
    "        datatype='Head_Hands'\n",
    "    elif (len(X[0])) == 45: #(head + context data)\n",
    "        datatype='Head_Context_data_Rich'\n",
    "    elif (len(X[0])) == 29: #(head + context data)\n",
    "        datatype='Head_Context_data_Poor'        \n",
    "    elif (len(X[0])) == 53: #(head + context data)\n",
    "        datatype='All_Rich_Context'\n",
    "    elif (len(X[0])) == 37: #(all) \n",
    "        datatype='All_Poor_Context'\n",
    "     \n",
    "    info_classif='classifier_' + timestamp + '_' + datatype +'_info.txt'\n",
    "    with open(info_classif, 'w+')  as info:\n",
    "        info.write('Group of Coordinates: '+ datatype + '\\n')\n",
    "        info.write('Type of classifier: SVM\\n') # python will convert \\n to os.linesep\n",
    "        info.write('C:'+str(best['C'])+'\\n')\n",
    "        info.write('Gamma:'+str(best['gamma'])+'\\n')\n",
    "\n",
    "    \n",
    "    classif = 'classifier_'+ timestamp + '_'+ datatype +'.joblib'\n",
    "    dump(clf, classif) \n",
    "                       \n",
    "    return classif,info_classif"
   ]
  },
  {
   "cell_type": "code",
   "execution_count": 21,
   "metadata": {
    "scrolled": false
   },
   "outputs": [],
   "source": [
    "def testing(X,Y,classif,info_classif):\n",
    "    \n",
    "    clf  = joblib.load(classif)\n",
    "    result = clf.score(X, Y)\n",
    "    \n",
    "    Qpredicted= []\n",
    "    i=0\n",
    "    sco3=0\n",
    "    sco2=0\n",
    "    sco1=0\n",
    "    sco0=0\n",
    "    length=len(X)\n",
    "\n",
    "    while i != length:\n",
    "        Qpredicted+= [str(clf.predict(np.array([X[i]]))).strip('['+']'+'\"')] #predict\n",
    "        Y[i]= str(Y[i]) #converting to a string\n",
    "        if Y[i]== Qpredicted[i]:\n",
    "            sco3+=1\n",
    "        if (Y[i]== '0' and Qpredicted[i] in ['1','2','3']) or (Y[i]== '1' and Qpredicted[i] in ['0','2','3','6','4']) or\\\n",
    "            (Y[i]== '2' and Qpredicted[i] in ['0','1','3','8','9']) or\\\n",
    "            (Y[i]== '3' and Qpredicted[i] in ['0','1','4','2','6','8','9','12']) or\\\n",
    "            (Y[i]== '4' and Qpredicted[i] in ['1','5','3','6','7']) or (Y[i]== '5' and Qpredicted[i] in ['4','6','7']) or\\\n",
    "            (Y[i]== '6' and Qpredicted[i] in ['1','4','5','3','7','9','12','13']) or\\\n",
    "            (Y[i]== '7' and Qpredicted[i] in ['4','5','6','12','13']) or\\\n",
    "            (Y[i]== '8' and Qpredicted[i] in ['2','3','9','10','11']) or\\\n",
    "            (Y[i]== '9' and Qpredicted[i] in ['2','3','6','8','12','10','11','14']) or\\\n",
    "            (Y[i]== '10' and Qpredicted[i] in ['8','9','11']) or (Y[i]== '11' and Qpredicted[i] in ['8','9','12','10','14']) or\\\n",
    "            (Y[i]== '12' and Qpredicted[i] in ['3','6','7','9','13','11','15']) or\\\n",
    "            (Y[i]== '13' and Qpredicted[i] in ['6','7','12','14','15']) or\\\n",
    "            (Y[i]== '14' and Qpredicted[i] in ['9','12','13','11','15']) or (Y[i]== '15' and Qpredicted[i] in ['12','13','14']):\n",
    "            sco2+=1  \n",
    "        if (Y[i]== '0' and Qpredicted[i] in ['4','6','8','9','12']) or\\\n",
    "            (Y[i]== '1' and Qpredicted[i] in ['8','9','12','13','7','5']) or\\\n",
    "            (Y[i]== '2' and Qpredicted[i] in ['4','6','12','14','10','11']) or\\\n",
    "            (Y[i]== '3' and Qpredicted[i] in ['10','11','14','15','13','7','5']) or\\\n",
    "            (Y[i]== '4' and Qpredicted[i] in ['0','2','8','9','12','13']) or\\\n",
    "            (Y[i]== '5' and Qpredicted[i] in ['1','3','9','12','13']) or\\\n",
    "            (Y[i]== '6' and Qpredicted[i] in ['0','2','8','10','11','14','15']) or\\\n",
    "            (Y[i]== '7' and Qpredicted[i] in ['1','3','9','11','14','15']) or\\\n",
    "            (Y[i]== '8' and Qpredicted[i] in ['0','1','4','6','12','14']) or\\\n",
    "            (Y[i]== '9' and Qpredicted[i] in ['0','1','4','5','7','13','15']) or\\\n",
    "            (Y[i]== '10' and Qpredicted[i] in ['2','3','6','12','14']) or\\\n",
    "            (Y[i]== '11' and Qpredicted[i] in ['2','3','6','7','13','15']) or\\\n",
    "            (Y[i]== '12' and Qpredicted[i] in ['10','8','2','0','1','4','5']) or\\\n",
    "            (Y[i]== '13' and Qpredicted[i] in ['1','4','5','3','9','11']) or\\\n",
    "            (Y[i]== '14' and Qpredicted[i] in ['2','3','6','7','8','10'])or\\\n",
    "            (Y[i]== '15' and Qpredicted[i] in ['3','6','7','9','11']):\n",
    "            sco1+=1\n",
    "        if (Y[i]== '0' and Qpredicted[i] in ['5','7','13','15','10','11','14']) or\\\n",
    "            (Y[i] in ['1','4'] and Qpredicted[i] in ['10','11','14','15']) or\\\n",
    "            (Y[i] in ['2','8'] and Qpredicted[i] in ['5','7','13','15']) or\\\n",
    "            (Y[i]== '5' and Qpredicted[i] in ['0','2','8','10','11','14','15']) or\\\n",
    "            (Y[i] in ['7','13'] and Qpredicted[i] in ['0','2','8','10']) or\\\n",
    "            (Y[i]== '10' and Qpredicted[i] in ['0','1','4','5','7','13','15']) or\\\n",
    "            (Y[i] in ['11','14'] and Qpredicted[i] in ['0','1','4','5']) or\\\n",
    "            (Y[i]== '15' and Qpredicted[i] in ['0','2','8','10','1','4','5']):\n",
    "            sco0+=1 \n",
    "        i+=1\n",
    "\n",
    "            \n",
    "    rangescore= (3*sco3+2*sco2+sco1)\n",
    "    rangescoreper=(rangescore/3*len(Y))*100\n",
    "    sco3per= sco3/len(Y)*100\n",
    "    sco2per= sco2/len(Y)*100\n",
    "    sco1per= sco1/len(Y)*100\n",
    "    sco0per= sco0/len(Y)*100\n",
    "        \n",
    "    print('The percentage of success was: ' + str(round(result*100))+ ' %\\n')\n",
    "    print('The range score was ' + str(rangescore) + ' out of ' + str(3*len(Y)) + ' : ' + str(round(rangescoreper,2)) + ' % \\n')\n",
    "    print('The score 3 was: ' + str(round(sco3per,2))+ ' %\\n')\n",
    "    print('The score 2 was: ' + str(round(sco2per,2))+ ' %\\n')\n",
    "    print('The score 1 was: ' + str(round(sco1per,2))+ ' %\\n')\n",
    "    print('The score 0 was: ' + str(round(sco0per,2))+ ' %\\n')\n",
    "    \n",
    "    with open(info_classif, 'a')  as info:\n",
    "        info.write('\\n----\\n')\n",
    "        info.write('The percentage of success was: ' + str(round(result*100)) + ' %\\n')\n",
    "        info.write('The range score was ' + str(rangescore) + ' out of ' + str(3*len(Y)) + ' : ' + str(round(rangescoreper,2)) + ' % \\n')\n",
    "        info.write('The score 3 was: ' + str(round(sco3per,2))+ ' %\\n')\n",
    "        info.write('The score 2 was: ' + str(round(sco2per,2))+ ' %\\n')\n",
    "        info.write('The score 1 was: ' + str(round(sco1per,2))+ ' %\\n')\n",
    "        info.write('The score 0 was: ' + str(round(sco0per,2))+ ' %\\n')\n",
    "        \n",
    "    CONF= confusion_matrix(np.array(Y), np.array(Qpredicted))\n",
    "    \n",
    "    labels=[0,1,2,3,4,5,6,7,8,9,10,11,12,13,14,15]\n",
    "    print(classification_report(np.array(Y), np.array(Qpredicted), labels=labels))\n",
    "\n",
    "    return CONF, result, Qpredicted"
   ]
  },
  {
   "cell_type": "markdown",
   "metadata": {},
   "source": [
    "#bengala para perceber melhor o vetor\n",
    "training_data = [['xnose','ynose','xneck','yneck','xR_ear','yR_ear','xL_ear','yL_ear','xR_eye','yR_eye','xL_eye','yL_eye','xR_hand','yR_hand','xL_hand','yL_hand',8,8,8,8,8,8,8,8,8,8,8,8,8,8,8,8,9,9,9,9,9,9,9,9,9,9,9,9,9,9,9,9,'headangle','r_hand-head','l_hand-head','r_headangle','l_headangle','Q']] +  training_data"
   ]
  },
  {
   "cell_type": "markdown",
   "metadata": {},
   "source": [
    "training_data"
   ]
  },
  {
   "cell_type": "markdown",
   "metadata": {},
   "source": [
    "#### 3.2.1 Using only the face keypoints"
   ]
  },
  {
   "cell_type": "markdown",
   "metadata": {},
   "source": [
    "Since we're only using  the keypoints of the head, we'll delete context information about the difference short/long distance object and hands coordinates. <br> \n",
    "The head coordinates are the first 12 (5*2) (x,y)."
   ]
  },
  {
   "cell_type": "markdown",
   "metadata": {},
   "source": [
    "Below we will:<br> \n",
    " - Delete the coordinates we don't need (mentioned before) from the whole training data;<br> \n",
    " - Train the model with only the head coordinates using the training function (defined before);<br> \n",
    " - Delete the coordinates we don't need (mentioned before) from the whole testing data;<br> \n",
    " - Test the model with only the head coordinates using the training function (defined before)."
   ]
  },
  {
   "cell_type": "code",
   "execution_count": 22,
   "metadata": {},
   "outputs": [
    {
     "name": "stdout",
     "output_type": "stream",
     "text": [
      "[133.44762, 39.716618, 88.502075, 155.41972, 32.073345, 29.183859, -1, -1, 99.022705, 17.681557, 141.04277, 13.885721, -1, -1, 286.46432, 216.65521, 0, 0, 0, 0, 0, 0, 0, 0, 0, 0, 0, 0, 0, 0, 0, 0, 0, 0, 0, 0, 0, 0, 0, 1, 0, 0, 0, 0, 0, 0, 0, 0, 1, -1, 233, -1, 0, 6]\n"
     ]
    }
   ],
   "source": [
    "print(training_data[0])"
   ]
  },
  {
   "cell_type": "code",
   "execution_count": 23,
   "metadata": {},
   "outputs": [
    {
     "name": "stdout",
     "output_type": "stream",
     "text": [
      "13\n",
      "[133.44762, 39.716618, 88.502075, 155.41972, 32.073345, 29.183859, -1, -1, 99.022705, 17.681557, 141.04277, 13.885721, 1]\n"
     ]
    }
   ],
   "source": [
    "X, Y = eXifY(training_data)\n",
    "X = [element[:12] + [element[-5]] for element in X]\n",
    "print(len(X[0]))\n",
    "print(X[0])\n"
   ]
  },
  {
   "cell_type": "code",
   "execution_count": 24,
   "metadata": {},
   "outputs": [],
   "source": [
    "classif,info_classif=training(X,Y)"
   ]
  },
  {
   "cell_type": "code",
   "execution_count": 25,
   "metadata": {},
   "outputs": [
    {
     "data": {
      "text/plain": [
       "13"
      ]
     },
     "execution_count": 25,
     "metadata": {},
     "output_type": "execute_result"
    }
   ],
   "source": [
    "X, Y = eXifY(testing_data)\n",
    "X = [element[:12] + [element[-5]] for element in X]\n",
    "len(X[0])"
   ]
  },
  {
   "cell_type": "code",
   "execution_count": 26,
   "metadata": {},
   "outputs": [
    {
     "name": "stdout",
     "output_type": "stream",
     "text": [
      "The percentage of success was: 19.0 %\n",
      "\n",
      "The range score was 2606 out of 4410 : 127694000.0 % \n",
      "\n",
      "The score 3 was: 18.84 %\n",
      "\n",
      "The score 2 was: 49.66 %\n",
      "\n",
      "The score 1 was: 21.43 %\n",
      "\n",
      "The score 0 was: 9.73 %\n",
      "\n",
      "              precision    recall  f1-score   support\n",
      "\n",
      "           0       0.00      0.00      0.00        53\n",
      "           1       0.00      0.00      0.00        71\n",
      "           2       0.31      0.38      0.34       112\n",
      "           3       0.17      0.12      0.14       112\n",
      "           4       0.00      0.00      0.00        71\n",
      "           5       0.00      0.00      0.00        53\n",
      "           6       0.10      0.13      0.12       112\n",
      "           7       0.28      0.37      0.32       112\n",
      "           8       0.21      0.24      0.22       112\n",
      "           9       0.26      0.35      0.30       112\n",
      "          10       0.08      0.10      0.09        51\n",
      "          11       0.14      0.20      0.16       112\n",
      "          12       0.18      0.19      0.19       112\n",
      "          13       0.14      0.09      0.11       112\n",
      "          14       0.22      0.20      0.21       112\n",
      "          15       0.27      0.35      0.31        51\n",
      "\n",
      "   micro avg       0.19      0.19      0.19      1470\n",
      "   macro avg       0.15      0.17      0.16      1470\n",
      "weighted avg       0.17      0.19      0.17      1470\n",
      "\n",
      "[[ 0  0  0 21  1  0  4  0 12  3  0  0 10  0  1  1]\n",
      " [ 0  0  1  1  1  3  0  0  2 10  0  0 18  5  2 28]\n",
      " [ 1  1  5  0  2  5  0  1  1  3  1  0  9  4  5 13]\n",
      " [ 2 25 22 22  5  1  3  0  1  1  4  0  6  1  8 11]\n",
      " [ 0  0  0  8 21 18  5  4  2 11  8  1 13 13  3  5]\n",
      " [ 1  2  1  6 23 10  7 28  0  2  0 10  0 20  0  2]\n",
      " [ 1  3  0 17 20  4 22  8  0  4 17  0  1  3  3  9]\n",
      " [ 0  0  0  2  7  4  0 18  8  0  1  2  1  1  0  7]\n",
      " [ 0  0  5 17  0  0  6  1 43  4  0  0 17  0 18  1]\n",
      " [ 1  0  3  8  1  3  1  0 27 14  1  0  8  1 31 13]\n",
      " [ 2  0  0  1  9  1  0  0  5  8  0  0 33  9  1  2]\n",
      " [ 0  0  0  4  0  1 22  0  0  3  0  0  2 17  4  0]\n",
      " [ 1  3  0  4  9 17  5  2  0 12  1  0 15 32  5  6]\n",
      " [ 0  0  0 22  7  6 13  3  0  5  0  4  5 41  3  3]\n",
      " [ 0  0 13 14  5  1  9  2 20  2  3  0  7  0 27  9]\n",
      " [ 3  5  9 11  3  0  2  0 18  1  0  0  1  0 20 39]]\n"
     ]
    }
   ],
   "source": [
    "CONF1, result, Qpredicted = testing(X,Y,classif,info_classif)\n",
    "#print(Qpredicted)\n",
    "#print(Y)\n",
    "print(CONF1)"
   ]
  },
  {
   "cell_type": "markdown",
   "metadata": {},
   "source": [
    "#### 3.2.2 Using only keypoints (face + hands)"
   ]
  },
  {
   "cell_type": "markdown",
   "metadata": {},
   "source": [
    "Since we're only using  the keypoints of the head and the hands, we'll delete context information about the difference short/long distance object.<br> \n",
    "The keypoints (head + hands) coordinates are the first 10 (5*2) + 4 (2*2)(x,y), giving a total of 14.<br> \n",
    "The rest of the procedure is the same as in 3.2.1.:"
   ]
  },
  {
   "cell_type": "markdown",
   "metadata": {},
   "source": [
    "Below we will:<br> \n",
    " - Delete the coordinates we don't need (mentioned before) from the whole training data;<br> \n",
    " - Train the model with only the head + hand coordinates using the training function (defined before);<br> \n",
    " - Delete the coordinates we don't need (mentioned before) from the whole testing data;<br> \n",
    " - Test the model with only the head + hand coordinates using the training function (defined before)."
   ]
  },
  {
   "cell_type": "code",
   "execution_count": 27,
   "metadata": {
    "scrolled": true
   },
   "outputs": [
    {
     "data": {
      "text/plain": [
       "21"
      ]
     },
     "execution_count": 27,
     "metadata": {},
     "output_type": "execute_result"
    }
   ],
   "source": [
    "X, Y = eXifY(training_data)\n",
    "X = [element[:16] + element[48:] for element in X]\n",
    "len(X[0])"
   ]
  },
  {
   "cell_type": "code",
   "execution_count": 28,
   "metadata": {},
   "outputs": [],
   "source": [
    "classif,info_classif=training(X,Y)"
   ]
  },
  {
   "cell_type": "code",
   "execution_count": 29,
   "metadata": {},
   "outputs": [
    {
     "data": {
      "text/plain": [
       "21"
      ]
     },
     "execution_count": 29,
     "metadata": {},
     "output_type": "execute_result"
    }
   ],
   "source": [
    "X, Y = eXifY(testing_data)\n",
    "X = [element[:16] + element[48:] for element in X]\n",
    "len(X[0])"
   ]
  },
  {
   "cell_type": "code",
   "execution_count": 30,
   "metadata": {},
   "outputs": [
    {
     "name": "stdout",
     "output_type": "stream",
     "text": [
      "The percentage of success was: 16.0 %\n",
      "\n",
      "The range score was 2498 out of 4410 : 122402000.0 % \n",
      "\n",
      "The score 3 was: 15.58 %\n",
      "\n",
      "The score 2 was: 46.39 %\n",
      "\n",
      "The score 1 was: 30.41 %\n",
      "\n",
      "The score 0 was: 5.71 %\n",
      "\n",
      "              precision    recall  f1-score   support\n",
      "\n",
      "           0       0.00      0.00      0.00        53\n",
      "           1       0.50      0.08      0.14        71\n",
      "           2       0.09      0.07      0.08       112\n",
      "           3       0.10      0.09      0.09       112\n",
      "           4       0.29      0.08      0.13        71\n",
      "           5       0.00      0.00      0.00        53\n",
      "           6       0.13      0.12      0.13       112\n",
      "           7       0.21      0.27      0.24       112\n",
      "           8       0.19      0.29      0.23       112\n",
      "           9       0.24      0.42      0.31       112\n",
      "          10       0.10      0.08      0.09        51\n",
      "          11       0.13      0.12      0.13       112\n",
      "          12       0.16      0.21      0.18       112\n",
      "          13       0.17      0.19      0.18       112\n",
      "          14       0.05      0.06      0.06       112\n",
      "          15       0.14      0.12      0.13        51\n",
      "\n",
      "   micro avg       0.16      0.16      0.16      1470\n",
      "   macro avg       0.16      0.14      0.13      1470\n",
      "weighted avg       0.16      0.16      0.14      1470\n",
      "\n",
      "[[ 0  0  0  0  3  3 15  6  5  3  0  0  2  1  8  7]\n",
      " [ 0  6  0  0  1  4  0  0  1 11  2  1  9 26  8  2]\n",
      " [ 2  0  4  4  4  0  9  0  1  0  0  0  1  0 10 16]\n",
      " [12  0  3 14  2  3  2  0 18  7  0  0 13  4 13 21]\n",
      " [ 0  2  0  5 23 17 28  9  0  5  0  0  7  8  8  0]\n",
      " [ 0  0  0 10 17 21  6 14  0 12  0  0  9 21  0  2]\n",
      " [ 0  1  0  4 33 21  7  2  4  9  8  1  1  5 11  5]\n",
      " [ 1  0  0  9 14  4  2  6  0  1  0  2  0  8  0  4]\n",
      " [ 4  0  4  6 14  0 16  0  8 10  0  0  7  0 37  6]\n",
      " [ 3  1 12 19  6  1  0  1 10 10  0  1 18  2 14 14]\n",
      " [ 1  1  0  0  9  2  0  0 16  5  6  0 12  8  5  6]\n",
      " [ 0  0  2  4  0 10 12  0  7  0  0  0  2  8  4  4]\n",
      " [ 4  1  2  6  6 18 11  3  0 11  4  1 14 18  6  7]\n",
      " [ 0  0  0  4  8 13 11  3  1 13  1  4  2 30  0 22]\n",
      " [ 1  0  9 10  0  1  9  0 13  2  0  0  2  1 33 31]\n",
      " [ 1  0  3 12  5  3  4  0  8  5  0  0  8  2 14 47]]\n"
     ]
    }
   ],
   "source": [
    "CONF2, result, Qpredicted = testing(X,Y,classif,info_classif)\n",
    "#print(Qpredicted)\n",
    "#print(Y)\n",
    "print(CONF2)"
   ]
  },
  {
   "cell_type": "markdown",
   "metadata": {},
   "source": [
    "#### 3.2.3 Using only the keypoints of the head and context data"
   ]
  },
  {
   "cell_type": "markdown",
   "metadata": {},
   "source": [
    "Since we're only using  the keypoints of the head and the context information about the difference short/long distance object, we'll delete the hand coordinates.<br> \n",
    "The keypoints of the head coordinates are the first 10 (5*2) and the context data goes from the 15 to the 46 coordinates (but on the code we have to do it from 14th to start on the 15th) giving a total of 42 coordinates.<br>\n",
    "The rest of the procedure is the same as in 3.2.1.:"
   ]
  },
  {
   "cell_type": "markdown",
   "metadata": {},
   "source": [
    "Below we will:<br>\n",
    " - Delete the coordinates we don't need (mentioned before) from the whole training data;<br>\n",
    " - Train the model with only the head + context data coordinates using the training function (defined before);<br>\n",
    " - Delete the coordinates we don't need (mentioned before) from the whole testing data;<br>\n",
    " - Test the model with only the head + context data coordinates using the training function (defined before)."
   ]
  },
  {
   "cell_type": "markdown",
   "metadata": {},
   "source": [
    "##### rich context"
   ]
  },
  {
   "cell_type": "code",
   "execution_count": 31,
   "metadata": {
    "scrolled": true
   },
   "outputs": [
    {
     "name": "stdout",
     "output_type": "stream",
     "text": [
      "45\n",
      "[133.44762, 39.716618, 88.502075, 155.41972, 32.073345, 29.183859, -1, -1, 99.022705, 17.681557, 141.04277, 13.885721, 0, 0, 0, 0, 0, 0, 0, 0, 0, 0, 0, 0, 0, 0, 0, 0, 0, 0, 0, 0, 0, 0, 0, 1, 0, 0, 0, 0, 0, 0, 0, 0, 1]\n"
     ]
    }
   ],
   "source": [
    "X, Y = eXifY(training_data)\n",
    "X = [element[:12] + element[16:49] for element in X]\n",
    "print(len(X[0]))\n",
    "print(X[0])"
   ]
  },
  {
   "cell_type": "code",
   "execution_count": 32,
   "metadata": {},
   "outputs": [],
   "source": [
    "classif,info_classif=training(X,Y)"
   ]
  },
  {
   "cell_type": "code",
   "execution_count": 33,
   "metadata": {},
   "outputs": [
    {
     "name": "stdout",
     "output_type": "stream",
     "text": [
      "45\n",
      "[299.94797, 105.716225, 283.67267, 146.84236, -1, -1, 261.73175, 102.84017, 306.65247, 95.20184, 286.58597, 96.11319, 0, 0, 0, 0, 0, 0, 0, 0, 0, 0, 0, 0, 0, 0, 0, 0, 0, 0, 0, 0, 0, 0, 0, 0, 0, 0, 0, 0, 1, 0, 0, 1, 1]\n"
     ]
    }
   ],
   "source": [
    "X, Y = eXifY(testing_data)\n",
    "X = [element[:12] + element[16:49] for element in X]\n",
    "print(len(X[0]))\n",
    "print(X[0])"
   ]
  },
  {
   "cell_type": "code",
   "execution_count": 34,
   "metadata": {
    "scrolled": false
   },
   "outputs": [
    {
     "name": "stdout",
     "output_type": "stream",
     "text": [
      "The percentage of success was: 24.0 %\n",
      "\n",
      "The range score was 2770 out of 4410 : 135730000.0 % \n",
      "\n",
      "The score 3 was: 24.22 %\n",
      "\n",
      "The score 2 was: 47.62 %\n",
      "\n",
      "The score 1 was: 20.54 %\n",
      "\n",
      "The score 0 was: 7.41 %\n",
      "\n",
      "              precision    recall  f1-score   support\n",
      "\n",
      "           0       0.50      0.09      0.16        53\n",
      "           1       0.00      0.00      0.00        71\n",
      "           2       0.36      0.34      0.35       112\n",
      "           3       0.13      0.21      0.16       112\n",
      "           4       0.08      0.03      0.04        71\n",
      "           5       0.12      0.04      0.06        53\n",
      "           6       0.14      0.19      0.16       112\n",
      "           7       0.39      0.30      0.34       112\n",
      "           8       0.26      0.46      0.33       112\n",
      "           9       0.23      0.49      0.31       112\n",
      "          10       0.10      0.06      0.07        51\n",
      "          11       0.39      0.21      0.27       112\n",
      "          12       0.31      0.37      0.33       112\n",
      "          13       0.17      0.12      0.14       112\n",
      "          14       0.26      0.18      0.21       112\n",
      "          15       0.41      0.47      0.44        51\n",
      "\n",
      "   micro avg       0.24      0.24      0.24      1470\n",
      "   macro avg       0.24      0.22      0.21      1470\n",
      "weighted avg       0.25      0.24      0.23      1470\n",
      "\n",
      "['12', '3', '12', '4', '13', '10', '12', '1', '8', '7', '9', '5', '14', '13', '1', '9', '11', '7', '9', '3', '9', '7', '8', '5', '13', '9', '3', '14', '4', '6', '13', '13', '7', '1', '8', '6', '3', '9', '3', '11', '12', '8', '6', '6', '14', '11', '3', '12', '11', '6', '3', '3', '15', '7', '6', '9', '12', '14', '2', '9', '1', '3', '12', '14', '9', '6', '10', '12', '3', '9', '8', '9', '9', '9', '8', '1', '1', '3', '2', '6', '3', '9', '8', '9', '3', '3', '7', '6', '2', '8', '2', '9', '3', '3', '12', '9', '9', '2', '8', '13', '3', '9', '8', '6', '8', '3', '13', '9', '3', '13', '2', '1', '9', '9', '12', '3', '9', '9', '13', '15', '9', '9', '9', '12', '8', '2', '7', '3', '12', '12', '12', '12', '2', '8', '9', '7', '2', '8', '13', '10', '3', '8', '2', '8', '9', '9', '3', '3', '7', '3', '3', '15', '12', '6', '12', '3', '12', '2', '13', '6', '8', '5', '7', '8', '11', '14', '8', '3', '10', '8', '6', '14', '4', '9', '6', '9', '6', '13', '3', '6', '3', '5', '7', '1', '7', '8', '12', '14', '11', '8', '8', '12', '3', '2', '7', '2', '3', '2', '9', '5', '3', '8', '14', '9', '6', '9', '3', '8', '0', '15', '6', '9', '3', '13', '3', '8', '9', '6', '3', '8', '9', '14', '3', '13', '6', '8', '8', '15', '4', '9', '6', '9', '12', '14', '9', '9', '9', '9', '6', '6', '2', '6', '14', '11', '11', '13', '2', '9', '9', '2', '9', '9', '3', '9', '8', '2', '1', '9', '9', '8', '8', '6', '2', '7', '12', '7', '9', '9', '9', '14', '6', '7', '9', '8', '3', '9', '6', '10', '8', '9', '8', '6', '11', '13', '3', '9', '13', '9', '13', '14', '8', '8', '9', '6', '9', '8', '1', '8', '8', '13', '6', '8', '13', '12', '2', '9', '9', '12', '8', '3', '3', '6', '14', '9', '8', '7', '4', '9', '8', '2', '9', '6', '2', '8', '14', '12', '8', '8', '9', '11', '13', '13', '13', '2', '11', '11', '9', '10', '14', '6', '14', '9', '3', '3', '12', '6', '2', '6', '8', '13', '9', '3', '12', '6', '9', '7', '3', '8', '9', '6', '0', '2', '3', '9', '6', '7', '8', '8', '12', '2', '6', '9', '12', '3', '3', '8', '5', '9', '9', '1', '8', '6', '8', '11', '4', '13', '2', '8', '2', '7', '14', '2', '8', '8', '2', '7', '14', '15', '7', '12', '3', '7', '9', '10', '14', '2', '7', '15', '12', '8', '14', '8', '9', '9', '12', '8', '3', '9', '11', '8', '15', '15', '6', '11', '8', '12', '2', '6', '3', '13', '14', '15', '6', '3', '7', '9', '3', '8', '3', '14', '6', '9', '9', '3', '13', '5', '9', '14', '11', '8', '7', '3', '3', '11', '9', '9', '10', '3', '15', '12', '8', '9', '7', '7', '7', '12', '7', '3', '9', '8', '2', '6', '1', '14', '12', '12', '15', '6', '15', '8', '3', '9', '11', '9', '2', '3', '6', '6', '14', '3', '13', '3', '3', '15', '3', '9', '7', '5', '13', '8', '3', '8', '3', '3', '7', '12', '0', '5', '2', '9', '0', '6', '12', '11', '12', '12', '3', '1', '2', '14', '4', '13', '14', '3', '9', '9', '12', '7', '3', '8', '12', '8', '3', '9', '9', '1', '3', '6', '3', '12', '8', '9', '13', '6', '3', '2', '12', '11', '8', '9', '9', '12', '8', '9', '14', '2', '7', '4', '6', '7', '3', '3', '8', '9', '8', '12', '3', '2', '10', '15', '8', '15', '6', '13', '14', '6', '8', '8', '9', '14', '8', '4', '7', '13', '2', '12', '9', '9', '3', '13', '6', '8', '9', '2', '2', '14', '9', '6', '8', '12', '12', '4', '6', '9', '13', '4', '3', '12', '9', '7', '7', '12', '13', '15', '9', '4', '7', '11', '9', '8', '9', '8', '13', '13', '9', '9', '8', '12', '10', '10', '8', '3', '12', '7', '11', '2', '3', '11', '1', '8', '3', '2', '11', '9', '6', '2', '3', '5', '12', '11', '12', '13', '6', '3', '9', '7', '9', '9', '9', '6', '3', '12', '2', '14', '7', '7', '12', '9', '3', '4', '2', '13', '14', '2', '8', '2', '12', '9', '6', '2', '8', '9', '6', '9', '15', '12', '8', '8', '14', '8', '8', '13', '15', '1', '8', '8', '15', '13', '8', '9', '3', '11', '9', '6', '8', '3', '3', '13', '8', '3', '8', '9', '8', '1', '8', '7', '9', '12', '3', '14', '3', '11', '12', '14', '3', '11', '8', '8', '3', '14', '9', '8', '8', '9', '6', '2', '9', '15', '6', '3', '15', '6', '13', '3', '13', '3', '9', '7', '13', '12', '3', '12', '6', '14', '0', '9', '9', '8', '10', '2', '9', '0', '9', '9', '13', '3', '9', '11', '12', '6', '11', '3', '9', '3', '3', '11', '6', '9', '8', '12', '7', '14', '9', '2', '4', '8', '11', '8', '6', '6', '14', '3', '5', '9', '9', '3', '9', '6', '10', '3', '14', '8', '14', '8', '11', '7', '6', '10', '3', '3', '12', '9', '6', '6', '2', '6', '9', '13', '14', '9', '2', '9', '15', '9', '14', '12', '11', '15', '3', '2', '7', '3', '14', '9', '13', '6', '3', '6', '2', '13', '8', '2', '9', '2', '7', '14', '12', '10', '2', '9', '8', '6', '9', '9', '12', '12', '13', '3', '2', '9', '9', '13', '10', '5', '5', '6', '6', '9', '6', '13', '2', '12', '7', '3', '3', '1', '9', '3', '12', '3', '6', '8', '3', '3', '6', '8', '9', '6', '12', '3', '13', '4', '14', '6', '2', '8', '2', '9', '9', '14', '7', '15', '4', '7', '8', '15', '14', '9', '9', '13', '7', '1', '2', '8', '9', '6', '8', '8', '3', '5', '9', '11', '4', '6', '6', '8', '12', '7', '12', '13', '6', '8', '7', '3', '9', '15', '2', '3', '14', '8', '12', '9', '14', '12', '6', '13', '10', '2', '10', '9', '15', '13', '13', '12', '12', '13', '6', '9', '11', '6', '8', '8', '2', '9', '12', '9', '14', '8', '4', '12', '9', '7', '2', '7', '8', '3', '9', '13', '6', '12', '13', '8', '12', '15', '14', '1', '11', '15', '6', '15', '8', '6', '2', '9', '2', '11', '11', '8', '9', '8', '3', '9', '6', '15', '13', '6', '2', '6', '12', '13', '1', '6', '14', '6', '12', '0', '7', '15', '7', '9', '12', '2', '9', '9', '12', '15', '7', '11', '3', '14', '3', '6', '6', '6', '9', '2', '14', '6', '9', '7', '3', '11', '15', '9', '9', '6', '8', '9', '14', '8', '6', '14', '2', '2', '3', '3', '12', '9', '6', '14', '3', '6', '3', '14', '2', '8', '9', '6', '9', '2', '8', '0', '8', '12', '6', '13', '3', '12', '3', '6', '6', '8', '13', '8', '10', '15', '3', '11', '12', '2', '9', '14', '4', '9', '6', '10', '6', '9', '14', '8', '8', '15', '10', '13', '9', '15', '3', '14', '9', '15', '6', '13', '7', '2', '12', '8', '7', '6', '7', '15', '11', '2', '6', '3', '7', '2', '8', '2', '11', '3', '6', '2', '8', '3', '0', '8', '6', '13', '7', '8', '9', '9', '15', '8', '13', '12', '3', '6', '13', '15', '6', '8', '12', '3', '13', '3', '12', '9', '14', '7', '9', '10', '6', '8', '2', '12', '9', '8', '2', '9', '15', '3', '12', '12', '9', '11', '3', '15', '6', '6', '6', '15', '9', '8', '9', '10', '8', '11', '12', '12', '1', '9', '8', '3', '6', '7', '12', '3', '14', '9', '3', '9', '8', '7', '12', '6', '15', '9', '8', '8', '6', '6', '9', '9', '15', '8', '3', '4', '8', '7', '15', '3', '9', '2', '3', '9', '12', '11', '11', '11', '14', '8', '7', '6', '15', '9', '9', '3', '9', '6', '3', '10', '6', '9', '14', '12', '2', '8', '12', '6', '14', '13', '6', '9', '8', '12', '6', '1', '2', '9', '9', '3', '12', '9', '14', '8', '8', '6', '11', '8', '12', '12', '9', '6', '7', '14', '3', '11', '2', '3', '0', '9', '15', '2', '13', '12', '8', '9', '3', '7', '12', '3', '7', '2', '6', '6', '3', '2', '15', '3', '2', '8', '7', '5', '1', '2', '8', '2', '9', '2', '3', '8', '8', '14', '8', '12', '2', '8', '3', '2', '1', '4', '7', '15', '2', '10', '7', '15', '9', '7', '15', '10', '12', '6', '12', '13', '8', '13', '6', '9', '12', '11', '6', '3', '11', '13', '8', '8', '8', '7', '3', '7', '1', '14', '12', '6', '4', '9', '6', '4', '8', '7', '12', '8', '3', '10', '13', '7', '6', '8', '8', '9', '8', '9', '6', '8', '8', '8', '6', '3', '11', '3', '12', '8', '6', '8', '12', '9', '8', '9', '9', '8', '3', '14', '9', '6', '6', '11', '9', '11', '10', '7', '12', '3', '2', '2', '9', '3', '15', '13', '9', '7', '8', '11', '12', '9', '6', '9', '12', '9', '12', '8', '1', '12', '2', '15', '9', '15', '2', '12', '8', '3', '7', '7', '14', '2', '6', '7', '8', '3', '12', '12', '11', '8', '13', '10', '13', '3', '2', '5', '12', '12', '12', '11', '12', '4', '9', '12', '9', '15', '2', '9', '12', '13', '13', '8', '8', '8', '13', '8']\n",
      "[[ 5  2  0  0  1  1 11  0 15  4  0  0  1  1 10  2]\n",
      " [ 0  0  0  0  0  2  1  0  2  9  0  4 33  2  5 13]\n",
      " [ 0  0  3  0  1  6  0  0  0  4  1  0  4  0  7 25]\n",
      " [ 0 14  9 23  3  1  3  1  0  6  3  0  9  1 10 29]\n",
      " [ 0  0  0  7 41 12  3  5  0 22  2  0 11  3  1  5]\n",
      " [ 0  3  0  5 20 14  6 13  0 13  2  3  2 21  8  2]\n",
      " [ 0  0  0  6 25  4 20 12  0 18  9  1  0  3  2 12]\n",
      " [ 0  0  0  0  6  2  1 24  0  3  1  0  0  2  8  4]\n",
      " [ 0  0  0  0  0  1 10  0 38 11  0  0 14  0 12 26]\n",
      " [ 3  0  1  0  3  3  2  0 12 23  1  1  9  1 26 27]\n",
      " [ 2  0  3  0  5  3  1  0 27 15  2  0  8  0  3  2]\n",
      " [ 0  0  8  3  1  5  2  0  0  3  3  2  3 10 13  0]\n",
      " [ 0  2  0  1 15 18  3  3  0 16  0  0 21  9  9 15]\n",
      " [ 0  0  0  6  5  8  2  0  0 23  0  5 12 34 10  7]\n",
      " [ 0  0  1  3  4  3 11  0 10  2  0  0 13  0 51 14]\n",
      " [ 0  6  4  5  4  1  0  0  3  1  0  0 13  0 20 55]]\n"
     ]
    }
   ],
   "source": [
    "CONF3, result, Qpredicted = testing(X,Y,classif,info_classif)\n",
    "print(Qpredicted)\n",
    "#print(Y)\n",
    "print(CONF3)"
   ]
  },
  {
   "cell_type": "markdown",
   "metadata": {},
   "source": [
    "##### poor context"
   ]
  },
  {
   "cell_type": "code",
   "execution_count": 35,
   "metadata": {
    "scrolled": true
   },
   "outputs": [
    {
     "data": {
      "text/plain": [
       "29"
      ]
     },
     "execution_count": 35,
     "metadata": {},
     "output_type": "execute_result"
    }
   ],
   "source": [
    "#merging short and long\n",
    "X, Y = eXifY(training_data)\n",
    "X = [element[:12] + list(map(add,element[16:32],element[32:48])) + [element[48]] for element in X]\n",
    "len(X[0])"
   ]
  },
  {
   "cell_type": "code",
   "execution_count": 36,
   "metadata": {},
   "outputs": [
    {
     "name": "stdout",
     "output_type": "stream",
     "text": [
      "[133.44762, 39.716618, 88.502075, 155.41972, 32.073345, 29.183859, -1, -1, 99.022705, 17.681557, 141.04277, 13.885721, 0, 0, 0, 0, 0, 0, 0, 1, 0, 0, 0, 0, 0, 0, 0, 0, 1]\n"
     ]
    }
   ],
   "source": [
    "print(X[0])"
   ]
  },
  {
   "cell_type": "code",
   "execution_count": 37,
   "metadata": {},
   "outputs": [],
   "source": [
    "classif,info_classif=training(X,Y)"
   ]
  },
  {
   "cell_type": "code",
   "execution_count": 38,
   "metadata": {},
   "outputs": [],
   "source": [
    "X, Y = eXifY(testing_data)\n",
    "X = [element[:12] + list(map(add,element[16:32],element[32:48])) + [element[48]] for element in X]"
   ]
  },
  {
   "cell_type": "code",
   "execution_count": 39,
   "metadata": {},
   "outputs": [
    {
     "name": "stdout",
     "output_type": "stream",
     "text": [
      "29\n"
     ]
    }
   ],
   "source": [
    "print(len(X[0]))"
   ]
  },
  {
   "cell_type": "code",
   "execution_count": 40,
   "metadata": {
    "scrolled": false
   },
   "outputs": [
    {
     "name": "stdout",
     "output_type": "stream",
     "text": [
      "The percentage of success was: 29.0 %\n",
      "\n",
      "The range score was 2909 out of 4410 : 142541000.0 % \n",
      "\n",
      "The score 3 was: 29.05 %\n",
      "\n",
      "The score 2 was: 45.78 %\n",
      "\n",
      "The score 1 was: 19.18 %\n",
      "\n",
      "The score 0 was: 5.71 %\n",
      "\n",
      "              precision    recall  f1-score   support\n",
      "\n",
      "           0       0.42      0.09      0.15        53\n",
      "           1       0.00      0.00      0.00        71\n",
      "           2       0.41      0.30      0.35       112\n",
      "           3       0.14      0.19      0.16       112\n",
      "           4       0.08      0.03      0.04        71\n",
      "           5       0.08      0.02      0.03        53\n",
      "           6       0.16      0.25      0.20       112\n",
      "           7       0.30      0.35      0.33       112\n",
      "           8       0.30      0.56      0.39       112\n",
      "           9       0.28      0.51      0.36       112\n",
      "          10       0.48      0.47      0.48        51\n",
      "          11       0.29      0.21      0.24       112\n",
      "          12       0.40      0.39      0.39       112\n",
      "          13       0.28      0.16      0.20       112\n",
      "          14       0.50      0.38      0.43       112\n",
      "          15       0.51      0.51      0.51        51\n",
      "\n",
      "   micro avg       0.29      0.29      0.29      1470\n",
      "   macro avg       0.29      0.28      0.27      1470\n",
      "weighted avg       0.29      0.29      0.27      1470\n",
      "\n",
      "['12', '3', '12', '4', '15', '10', '15', '1', '8', '11', '12', '5', '14', '11', '7', '3', '11', '7', '9', '3', '9', '7', '8', '5', '13', '14', '3', '14', '4', '9', '6', '14', '7', '1', '11', '6', '3', '9', '3', '9', '12', '8', '7', '6', '11', '11', '12', '12', '14', '8', '3', '3', '15', '7', '6', '9', '12', '14', '2', '9', '1', '3', '12', '9', '9', '6', '7', '12', '11', '9', '8', '14', '9', '9', '11', '6', '1', '2', '8', '6', '3', '9', '12', '9', '3', '2', '7', '8', '2', '8', '2', '9', '3', '13', '14', '6', '9', '8', '8', '4', '3', '9', '9', '6', '8', '3', '8', '9', '6', '6', '6', '1', '2', '9', '11', '3', '9', '14', '13', '7', '6', '9', '9', '12', '8', '8', '7', '3', '13', '12', '7', '13', '8', '8', '8', '7', '2', '7', '14', '10', '6', '8', '2', '7', '9', '9', '3', '3', '7', '3', '3', '7', '12', '10', '12', '2', '12', '8', '14', '6', '9', '7', '7', '8', '11', '14', '8', '3', '10', '8', '6', '14', '1', '8', '6', '9', '9', '13', '3', '6', '3', '5', '7', '1', '6', '8', '12', '9', '11', '2', '8', '12', '3', '6', '7', '2', '3', '2', '9', '5', '3', '8', '9', '9', '6', '9', '3', '11', '2', '15', '6', '10', '6', '7', '3', '8', '9', '6', '3', '8', '9', '14', '3', '13', '6', '8', '8', '6', '4', '9', '6', '6', '12', '14', '9', '9', '9', '9', '6', '6', '2', '6', '14', '10', '11', '13', '2', '9', '9', '2', '8', '9', '3', '9', '8', '2', '1', '10', '2', '13', '8', '6', '2', '7', '12', '7', '14', '9', '9', '14', '6', '7', '9', '8', '3', '9', '8', '8', '8', '14', '0', '6', '11', '13', '3', '10', '13', '10', '13', '14', '8', '8', '9', '6', '9', '8', '1', '8', '8', '13', '6', '8', '11', '12', '2', '9', '13', '14', '8', '3', '6', '4', '8', '9', '8', '13', '4', '9', '8', '2', '9', '6', '8', '8', '14', '14', '8', '9', '9', '11', '13', '8', '14', '2', '11', '11', '9', '10', '9', '6', '14', '9', '3', '3', '12', '6', '2', '7', '8', '13', '9', '3', '14', '6', '9', '7', '3', '8', '9', '6', '0', '8', '3', '9', '6', '7', '11', '9', '12', '9', '6', '14', '12', '10', '3', '8', '7', '10', '9', '1', '8', '6', '11', '11', '4', '6', '2', '8', '6', '7', '14', '2', '8', '8', '2', '7', '14', '15', '7', '12', '3', '7', '8', '10', '12', '2', '7', '7', '12', '2', '14', '11', '9', '9', '12', '8', '3', '9', '12', '8', '11', '15', '6', '9', '8', '8', '8', '5', '3', '7', '14', '7', '6', '3', '7', '9', '3', '8', '3', '3', '6', '9', '9', '3', '13', '7', '10', '14', '7', '8', '7', '3', '13', '11', '9', '15', '0', '11', '15', '12', '6', '9', '7', '7', '7', '12', '7', '1', '8', '9', '2', '6', '1', '14', '12', '12', '15', '4', '7', '8', '3', '6', '9', '14', '2', '3', '3', '6', '12', '3', '13', '3', '3', '15', '6', '9', '7', '13', '6', '8', '12', '8', '10', '3', '7', '15', '0', '5', '2', '9', '0', '9', '12', '11', '6', '12', '3', '1', '8', '14', '4', '6', '14', '3', '9', '7', '13', '7', '1', '11', '12', '8', '3', '9', '6', '1', '3', '12', '6', '12', '8', '9', '13', '10', '9', '2', '3', '8', '2', '9', '9', '12', '14', '9', '12', '2', '7', '4', '6', '7', '3', '7', '8', '7', '8', '11', '3', '2', '10', '15', '8', '7', '6', '9', '14', '6', '8', '14', '9', '14', '8', '4', '7', '7', '2', '12', '12', '9', '3', '13', '6', '8', '8', '8', '6', '14', '8', '6', '8', '12', '12', '4', '6', '9', '13', '4', '3', '12', '10', '7', '7', '12', '13', '15', '9', '3', '14', '9', '9', '11', '10', '8', '14', '13', '6', '11', '8', '14', '7', '10', '3', '3', '13', '7', '11', '8', '3', '11', '1', '11', '3', '8', '11', '12', '6', '8', '4', '5', '12', '11', '14', '13', '6', '3', '9', '7', '8', '9', '9', '6', '3', '15', '2', '14', '7', '7', '12', '10', '12', '4', '2', '13', '11', '2', '8', '8', '15', '9', '1', '8', '8', '9', '6', '9', '15', '12', '6', '8', '11', '8', '8', '12', '15', '1', '8', '11', '15', '13', '11', '9', '3', '9', '9', '6', '8', '3', '3', '13', '8', '13', '8', '12', '8', '1', '8', '7', '9', '12', '6', '11', '6', '11', '12', '14', '3', '11', '8', '8', '3', '11', '9', '8', '8', '10', '10', '2', '9', '7', '6', '12', '15', '6', '13', '3', '13', '11', '9', '7', '13', '14', '3', '12', '6', '12', '0', '7', '9', '8', '10', '2', '8', '0', '9', '10', '13', '3', '6', '9', '12', '6', '10', '3', '9', '6', '3', '9', '8', '9', '9', '14', '5', '14', '9', '2', '4', '8', '11', '6', '6', '6', '14', '3', '7', '10', '9', '3', '8', '6', '10', '3', '14', '8', '14', '8', '9', '7', '6', '10', '3', '3', '13', '6', '6', '6', '2', '10', '14', '7', '12', '9', '8', '9', '15', '9', '9', '12', '9', '15', '3', '2', '7', '3', '14', '9', '13', '6', '3', '6', '3', '15', '8', '2', '9', '9', '7', '14', '15', '10', '2', '9', '11', '6', '8', '9', '12', '12', '13', '3', '3', '9', '9', '14', '10', '5', '7', '6', '6', '9', '6', '6', '2', '12', '13', '7', '7', '7', '11', '3', '10', '6', '6', '8', '3', '3', '9', '11', '8', '6', '7', '3', '13', '4', '14', '8', '2', '8', '8', '9', '10', '14', '6', '15', '4', '7', '8', '15', '11', '7', '9', '13', '7', '1', '2', '2', '9', '6', '11', '8', '3', '3', '9', '11', '6', '6', '6', '8', '15', '6', '12', '7', '6', '13', '7', '3', '9', '7', '8', '3', '11', '8', '12', '8', '14', '6', '6', '13', '10', '2', '7', '9', '15', '13', '13', '12', '12', '13', '6', '9', '11', '6', '8', '8', '8', '9', '12', '9', '14', '8', '4', '12', '12', '7', '2', '7', '8', '3', '9', '13', '6', '12', '8', '8', '12', '7', '14', '1', '11', '15', '9', '15', '8', '6', '2', '9', '2', '6', '9', '8', '9', '8', '3', '9', '8', '15', '7', '6', '2', '6', '12', '13', '1', '3', '14', '6', '14', '0', '7', '15', '7', '9', '9', '2', '9', '9', '13', '7', '7', '11', '3', '11', '3', '7', '6', '12', '9', '2', '14', '3', '9', '7', '3', '11', '15', '9', '6', '7', '8', '9', '1', '8', '6', '3', '8', '2', '3', '3', '11', '8', '2', '8', '3', '6', '3', '14', '6', '8', '9', '6', '9', '2', '8', '0', '8', '12', '6', '13', '3', '12', '3', '6', '6', '8', '13', '8', '8', '7', '14', '9', '12', '2', '10', '14', '4', '9', '6', '8', '6', '9', '14', '8', '8', '7', '10', '13', '9', '15', '3', '12', '9', '15', '6', '13', '7', '2', '12', '14', '7', '6', '7', '15', '11', '2', '6', '3', '7', '8', '8', '2', '6', '3', '6', '2', '8', '3', '0', '8', '6', '13', '7', '8', '9', '9', '15', '8', '8', '13', '3', '6', '13', '7', '6', '8', '12', '3', '13', '3', '12', '9', '11', '7', '9', '0', '6', '8', '2', '12', '9', '8', '2', '14', '12', '3', '12', '14', '15', '11', '3', '7', '9', '6', '6', '15', '9', '8', '10', '10', '8', '11', '12', '12', '1', '3', '9', '3', '6', '7', '12', '3', '3', '9', '3', '9', '8', '7', '14', '6', '15', '9', '9', '8', '3', '6', '6', '14', '15', '8', '3', '4', '8', '7', '15', '3', '9', '2', '3', '9', '12', '11', '11', '11', '14', '8', '7', '6', '15', '10', '10', '9', '9', '9', '3', '7', '6', '9', '9', '12', '2', '8', '12', '6', '8', '15', '6', '9', '8', '2', '9', '1', '8', '9', '9', '3', '13', '9', '9', '8', '8', '6', '11', '11', '12', '12', '6', '6', '7', '14', '10', '11', '8', '3', '0', '9', '7', '2', '6', '6', '8', '9', '3', '12', '12', '3', '7', '2', '6', '6', '3', '8', '7', '3', '2', '8', '7', '5', '3', '2', '8', '2', '8', '2', '3', '8', '11', '9', '8', '12', '8', '7', '4', '2', '1', '4', '7', '7', '3', '10', '7', '15', '9', '9', '15', '11', '7', '6', '6', '13', '8', '3', '6', '9', '12', '11', '6', '3', '11', '11', '8', '8', '8', '7', '3', '7', '1', '8', '6', '6', '4', '14', '9', '4', '8', '7', '12', '8', '10', '8', '14', '7', '6', '8', '8', '9', '8', '10', '6', '8', '8', '3', '6', '3', '11', '3', '12', '8', '6', '8', '12', '14', '11', '9', '9', '8', '3', '14', '9', '6', '6', '11', '9', '11', '10', '7', '15', '3', '9', '8', '9', '3', '15', '15', '10', '5', '8', '11', '6', '10', '6', '10', '15', '9', '14', '8', '1', '12', '9', '15', '9', '15', '2', '12', '8', '3', '7', '7', '2', '2', '6', '7', '8', '3', '12', '12', '11', '11', '14', '10', '13', '2', '2', '5', '12', '12', '12', '12', '12', '3', '9', '12', '14', '6', '2', '9', '13', '13', '4', '8', '8', '8', '13', '14']\n",
      "[[ 5  0  0  5  1  0  3  0 15  4  0  0  2  3 13  2]\n",
      " [ 0  0  0  0  0  2  1  0  4  8  0  3 39  3  5  6]\n",
      " [ 0  0 24  0  2  8  0  0  0  1  1  0  2  0  9  4]\n",
      " [ 0 13  9 23  1  0  3  1  0  5  3  0 15  1  8 30]\n",
      " [ 0  0  0  5 44 10  4  6  0 20  2  0 13  2  0  6]\n",
      " [ 0  5  0 11 14 18  7  1  0 10  3  1  4 36  2  0]\n",
      " [ 0  0  2  3 14  0 42 10  0 17  9  0  2  5  2  6]\n",
      " [ 0  1  0  0  0  2  1 26  0  2  1  0  1  6  7  4]\n",
      " [ 1  0  0  0  0  1 10  0 34 10  0  0  9  0 16 31]\n",
      " [ 2  1  1  1  5  3  1  0  8 21  1  1 10  0 31 26]\n",
      " [ 4  0  1  0  4  2  1  0 11 18  2  0 12  0 14  2]\n",
      " [ 0  0  3  7  1  0  0  0  0  3  3  1  3 22 10  0]\n",
      " [ 0  2  0  3 13 13  5  3  0 15  0  1 28 11  7 11]\n",
      " [ 0  0  0 14  5  4  2  3  0 18  1  5 15 39  3  3]\n",
      " [ 0  0  7  5  4  1  4  0  5  2  0  0  4  0 63 17]\n",
      " [ 0  6  3  3  3  1  0  1  6  1  0  0 11  0 20 57]]\n"
     ]
    }
   ],
   "source": [
    "CONF4, result, Qpredicted = testing(X,Y,classif,info_classif)\n",
    "print(Qpredicted)\n",
    "#print(Y)\n",
    "print(CONF4)"
   ]
  },
  {
   "cell_type": "markdown",
   "metadata": {},
   "source": [
    "#### 3.2.4 Using all the coordinates (keypoints of the head, hands and context data)"
   ]
  },
  {
   "cell_type": "markdown",
   "metadata": {},
   "source": [
    "##### rich context"
   ]
  },
  {
   "cell_type": "code",
   "execution_count": 41,
   "metadata": {
    "scrolled": true
   },
   "outputs": [
    {
     "data": {
      "text/plain": [
       "53"
      ]
     },
     "execution_count": 41,
     "metadata": {},
     "output_type": "execute_result"
    }
   ],
   "source": [
    "X, Y = eXifY(training_data)\n",
    "len(X[0])"
   ]
  },
  {
   "cell_type": "code",
   "execution_count": 42,
   "metadata": {
    "scrolled": true
   },
   "outputs": [
    {
     "data": {
      "text/plain": [
       "2366"
      ]
     },
     "execution_count": 42,
     "metadata": {},
     "output_type": "execute_result"
    }
   ],
   "source": [
    "len(X)"
   ]
  },
  {
   "cell_type": "code",
   "execution_count": 43,
   "metadata": {},
   "outputs": [
    {
     "data": {
      "text/plain": [
       "2366"
      ]
     },
     "execution_count": 43,
     "metadata": {},
     "output_type": "execute_result"
    }
   ],
   "source": [
    "len(Y)"
   ]
  },
  {
   "cell_type": "code",
   "execution_count": 44,
   "metadata": {},
   "outputs": [],
   "source": [
    "classif,info_classif=training(X,Y)"
   ]
  },
  {
   "cell_type": "code",
   "execution_count": 45,
   "metadata": {},
   "outputs": [],
   "source": [
    "X, Y = eXifY(testing_data)"
   ]
  },
  {
   "cell_type": "code",
   "execution_count": 46,
   "metadata": {},
   "outputs": [
    {
     "data": {
      "text/plain": [
       "53"
      ]
     },
     "execution_count": 46,
     "metadata": {},
     "output_type": "execute_result"
    }
   ],
   "source": [
    "len(X[0])"
   ]
  },
  {
   "cell_type": "code",
   "execution_count": 47,
   "metadata": {},
   "outputs": [
    {
     "name": "stdout",
     "output_type": "stream",
     "text": [
      "The percentage of success was: 20.0 %\n",
      "\n",
      "The range score was 2679 out of 4410 : 131271000.0 % \n",
      "\n",
      "The score 3 was: 19.86 %\n",
      "\n",
      "The score 2 was: 50.41 %\n",
      "\n",
      "The score 1 was: 21.84 %\n",
      "\n",
      "The score 0 was: 5.71 %\n",
      "\n",
      "              precision    recall  f1-score   support\n",
      "\n",
      "           0       0.00      0.00      0.00        53\n",
      "           1       0.25      0.06      0.09        71\n",
      "           2       0.31      0.27      0.29       112\n",
      "           3       0.13      0.16      0.15       112\n",
      "           4       0.06      0.01      0.02        71\n",
      "           5       0.41      0.13      0.20        53\n",
      "           6       0.17      0.16      0.16       112\n",
      "           7       0.26      0.29      0.28       112\n",
      "           8       0.16      0.25      0.20       112\n",
      "           9       0.27      0.46      0.34       112\n",
      "          10       0.26      0.10      0.14        51\n",
      "          11       0.15      0.16      0.15       112\n",
      "          12       0.22      0.29      0.25       112\n",
      "          13       0.28      0.29      0.29       112\n",
      "          14       0.07      0.07      0.07       112\n",
      "          15       0.13      0.10      0.11        51\n",
      "\n",
      "   micro avg       0.20      0.20      0.20      1470\n",
      "   macro avg       0.20      0.18      0.17      1470\n",
      "weighted avg       0.20      0.20      0.19      1470\n",
      "\n",
      "[[ 0  0  0  0  0  7 19  0 11  2  0  0  2  3  9  0]\n",
      " [ 0  4  0  1  1  0  0  0  5 11  9  0  7 24  3  6]\n",
      " [ 2  0  5  8  2  0  9  0  0  0  0  0  2  0 13 10]\n",
      " [13  2  4 18  5  0  0  1  4 12  0  0 10  1 16 26]\n",
      " [ 0  2  0  5 33  7 32  3  0 10  0  0  7  5  6  2]\n",
      " [ 0  0  0 14 15 33  2 17  0  4  5  1  6 12  3  0]\n",
      " [ 0  1  0 19 43  7  8  5  4  3  1  1  2  4 11  3]\n",
      " [ 0  0  0  2 17  3  1  5  0  2  0  1  1  8  0 11]\n",
      " [ 3  0  1  0 10  3 13  3 30  2  0  0  4  0 35  8]\n",
      " [ 3  3  0  2  3  3  1  2 14 18  1  1 10  3 20 28]\n",
      " [ 3  1  0  0  4  4  1  0  7 25  1  0 12  8  1  4]\n",
      " [ 0  0  0 11  0 13  4  0  0  4  0  7  5  7  2  0]\n",
      " [ 1  3  0  1  7 18 11  3  0 15  0  3 18 16  3 13]\n",
      " [ 1  0  0 13  8 16  0  0  0 18  1  2 10 33  3  7]\n",
      " [ 0  0  8 23  0  1  9  0 16  6  0  0  3  1 28 17]\n",
      " [ 1  0  1  7  5  2  5  0  6  2  0  1  8  2 21 51]]\n"
     ]
    }
   ],
   "source": [
    "CONF5, result, Qpredicted = testing(X,Y,classif,info_classif)\n",
    "#print(Qpredicted)\n",
    "#print(Y)\n",
    "print(CONF5)"
   ]
  },
  {
   "cell_type": "markdown",
   "metadata": {},
   "source": [
    "##### poor context"
   ]
  },
  {
   "cell_type": "code",
   "execution_count": 48,
   "metadata": {
    "scrolled": true
   },
   "outputs": [
    {
     "data": {
      "text/plain": [
       "37"
      ]
     },
     "execution_count": 48,
     "metadata": {},
     "output_type": "execute_result"
    }
   ],
   "source": [
    "X, Y = eXifY(training_data)\n",
    "X = [element[:16] + list(map(add,element[16:32],element[32:48])) + element[48:] for element in X]\n",
    "len(X[0])"
   ]
  },
  {
   "cell_type": "code",
   "execution_count": 49,
   "metadata": {
    "scrolled": true
   },
   "outputs": [
    {
     "data": {
      "text/plain": [
       "2366"
      ]
     },
     "execution_count": 49,
     "metadata": {},
     "output_type": "execute_result"
    }
   ],
   "source": [
    "len(X)"
   ]
  },
  {
   "cell_type": "code",
   "execution_count": 50,
   "metadata": {},
   "outputs": [
    {
     "data": {
      "text/plain": [
       "2366"
      ]
     },
     "execution_count": 50,
     "metadata": {},
     "output_type": "execute_result"
    }
   ],
   "source": [
    "len(Y)"
   ]
  },
  {
   "cell_type": "code",
   "execution_count": 51,
   "metadata": {},
   "outputs": [],
   "source": [
    "classif,info_classif=training(X,Y)"
   ]
  },
  {
   "cell_type": "code",
   "execution_count": 52,
   "metadata": {},
   "outputs": [],
   "source": [
    "X, Y = eXifY(testing_data)\n",
    "X = [element[:16] + list(map(add,element[16:32],element[32:48])) + element[48:] for element in X]"
   ]
  },
  {
   "cell_type": "code",
   "execution_count": 53,
   "metadata": {},
   "outputs": [
    {
     "data": {
      "text/plain": [
       "37"
      ]
     },
     "execution_count": 53,
     "metadata": {},
     "output_type": "execute_result"
    }
   ],
   "source": [
    "len(X[0])"
   ]
  },
  {
   "cell_type": "code",
   "execution_count": 54,
   "metadata": {},
   "outputs": [
    {
     "name": "stdout",
     "output_type": "stream",
     "text": [
      "The percentage of success was: 24.0 %\n",
      "\n",
      "The range score was 2782 out of 4410 : 136318000.0 % \n",
      "\n",
      "The score 3 was: 23.88 %\n",
      "\n",
      "The score 2 was: 48.71 %\n",
      "\n",
      "The score 1 was: 20.2 %\n",
      "\n",
      "The score 0 was: 6.26 %\n",
      "\n",
      "              precision    recall  f1-score   support\n",
      "\n",
      "           0       0.00      0.00      0.00        53\n",
      "           1       0.12      0.01      0.03        71\n",
      "           2       0.49      0.31      0.38       112\n",
      "           3       0.13      0.22      0.17       112\n",
      "           4       0.00      0.00      0.00        71\n",
      "           5       0.44      0.13      0.20        53\n",
      "           6       0.20      0.24      0.22       112\n",
      "           7       0.33      0.30      0.32       112\n",
      "           8       0.20      0.35      0.25       112\n",
      "           9       0.35      0.43      0.38       112\n",
      "          10       0.22      0.22      0.22        51\n",
      "          11       0.15      0.12      0.13       112\n",
      "          12       0.32      0.43      0.36       112\n",
      "          13       0.35      0.40      0.37       112\n",
      "          14       0.13      0.12      0.13       112\n",
      "          15       0.10      0.08      0.09        51\n",
      "\n",
      "   micro avg       0.24      0.24      0.24      1470\n",
      "   macro avg       0.22      0.21      0.20      1470\n",
      "weighted avg       0.23      0.24      0.23      1470\n",
      "\n",
      "[[ 0  0  0  0  1  6  4 15  4  4  0  0  0  2 10  7]\n",
      " [ 0  1  0  1  0  1  0  0  1 13  7  0 29  5  7  6]\n",
      " [ 2  0 11  0  4  0  9  0  0  1  0  0  0  0 18  6]\n",
      " [ 9  2 15 13  7  2  2  1  1 14  0  0  2  1 31 12]\n",
      " [ 2  0  1  4 48  4 14  1  0 21  0  2  8  2  2  3]\n",
      " [ 0  0  0 12 10 45 15  6  0  8  9  0  3  3  1  0]\n",
      " [ 1  0  5  9 40 14 14  1  0  8  5  0  0  3  0 12]\n",
      " [ 0  0  0  2 16  5  0  4  0  4  0  1  0 10  8  1]\n",
      " [ 2  2  0  4  5  0  4  8 35 12  0  0  9  1 25  5]\n",
      " [ 2  1  2  4  0  4  6  0  6 25  2  1  9  3 33 14]\n",
      " [ 4  0  0  0  2  6  1  0  2 32  0  0 19  5  0  0]\n",
      " [ 0  0  0  9  0  6 12  0  0  7  0  7  6  6  0  0]\n",
      " [ 0  0  0  1  6  6 17  3  1 16  0  2 27 25  0  8]\n",
      " [ 0  0  0 12  5 16  1  1  0 17  2  1 17 34  2  4]\n",
      " [ 1  1 12 14  6  1  2  0 18  2  0  1  2  0 39 13]\n",
      " [ 0  1  3  2  2 14  3  0  4  6  0  1  4  2 22 48]]\n"
     ]
    }
   ],
   "source": [
    "CONF6, result, Qpredicted = testing(X,Y,classif,info_classif)\n",
    "#print(Qpredicted)\n",
    "#print(Y)\n",
    "print(CONF6)"
   ]
  },
  {
   "cell_type": "markdown",
   "metadata": {},
   "source": [
    "#### 3.2.5 Using PCA coordinates"
   ]
  },
  {
   "cell_type": "code",
   "execution_count": 55,
   "metadata": {},
   "outputs": [],
   "source": [
    "X, Y = eXifY(training_data)"
   ]
  },
  {
   "cell_type": "code",
   "execution_count": 56,
   "metadata": {
    "scrolled": true
   },
   "outputs": [
    {
     "name": "stdout",
     "output_type": "stream",
     "text": [
      "Components = 32;\n",
      "Total explained variance = 0.90941\n"
     ]
    }
   ],
   "source": [
    "stt = ss().fit_transform(X) #!\n",
    "pca = PCA(0.90)\n",
    "X = pca.fit(stt) #to retain the components in an object\n",
    "#print(utils.multiclass.type_of_target(X.astype('int')))\n",
    "#pca.explained_variance_ratio_\n",
    "print ( \"Components = \" + str(pca.n_components_) + \";\")\n",
    "print (\"Total explained variance = \" + str(round(pca.explained_variance_ratio_.sum(),5)))  "
   ]
  },
  {
   "cell_type": "code",
   "execution_count": 57,
   "metadata": {
    "scrolled": true
   },
   "outputs": [
    {
     "data": {
      "text/plain": [
       "2366"
      ]
     },
     "execution_count": 57,
     "metadata": {},
     "output_type": "execute_result"
    }
   ],
   "source": [
    "len(Y)"
   ]
  },
  {
   "cell_type": "code",
   "execution_count": 58,
   "metadata": {},
   "outputs": [
    {
     "ename": "TypeError",
     "evalue": "object of type 'PCA' has no len()",
     "output_type": "error",
     "traceback": [
      "\u001b[0;31m---------------------------------------------------------------------------\u001b[0m",
      "\u001b[0;31mTypeError\u001b[0m                                 Traceback (most recent call last)",
      "\u001b[0;32m<ipython-input-58-55e5e7a3f079>\u001b[0m in \u001b[0;36m<module>\u001b[0;34m\u001b[0m\n\u001b[0;32m----> 1\u001b[0;31m \u001b[0mlen\u001b[0m\u001b[0;34m(\u001b[0m\u001b[0mX\u001b[0m\u001b[0;34m)\u001b[0m\u001b[0;34m\u001b[0m\u001b[0;34m\u001b[0m\u001b[0m\n\u001b[0m",
      "\u001b[0;31mTypeError\u001b[0m: object of type 'PCA' has no len()"
     ]
    }
   ],
   "source": [
    "len(X)"
   ]
  },
  {
   "cell_type": "code",
   "execution_count": null,
   "metadata": {},
   "outputs": [],
   "source": [
    "classif,info_classif=training(X,Y)"
   ]
  },
  {
   "cell_type": "code",
   "execution_count": null,
   "metadata": {},
   "outputs": [],
   "source": [
    "X, Y = eXifY(testing_data)"
   ]
  },
  {
   "cell_type": "code",
   "execution_count": null,
   "metadata": {},
   "outputs": [],
   "source": [
    "stt = ss().fit_transform(X)\n",
    "#pca = PCA(0.9)\n",
    "X = pca.transform(stt) #to retain the components in an object\n",
    "print(utils.multiclass.type_of_target(X.astype('int')))\n",
    "#pca.explained_variance_ratio_\n",
    "print ( \"Components = \" + str(pca.n_components_) + \";\")\n",
    "print (\"Total explained variance = \" + str(round(pca.explained_variance_ratio_.sum(),5)))"
   ]
  },
  {
   "cell_type": "code",
   "execution_count": null,
   "metadata": {},
   "outputs": [],
   "source": [
    "CONF5, result, Qpredicted = testing(X,Y,classif,info_classif)\n",
    "#print(Qpredicted)\n",
    "#print(Y)\n",
    "print(CONF5)"
   ]
  },
  {
   "cell_type": "markdown",
   "metadata": {},
   "source": [
    "## 4. Comparing classifications"
   ]
  },
  {
   "cell_type": "markdown",
   "metadata": {},
   "source": [
    "Now, at last, we compare the Confusion Matrices of the 4 groups of coordinates. And with a nice layout!"
   ]
  },
  {
   "cell_type": "code",
   "execution_count": null,
   "metadata": {},
   "outputs": [],
   "source": [
    "plt.figure()  \n",
    "plt.rcParams[\"figure.figsize\"] = (4,4)\n",
    "df = DataFrame(CONF1) #, index=Index, columns=Cols - if defined before\n",
    "sns.heatmap(df, annot=True, cmap=\"YlGnBu\",cbar=False) #cbar=True is an option but it appears float values\n",
    "plt.xlabel(\"Predicted Label\")\n",
    "plt.ylabel(\"True Label\")\n",
    "plt.title('Confusion Matrix Head')\n",
    "plt.show()\n",
    "\n",
    "plt.figure() \n",
    "plt.rcParams[\"figure.figsize\"] = (4,4)\n",
    "df = DataFrame(CONF2) #, index=Index, columns=Cols - if defined before\n",
    "sns.heatmap(df, annot=True, cmap=\"YlGnBu\",cbar=False) #cbar=True is an option but it appears float values\n",
    "plt.xlabel(\"Predicted Label\")\n",
    "plt.ylabel(\"True Label\")\n",
    "plt.title('Confusion Matrix Head + Hands')\n",
    "plt.show()\n",
    "\n",
    "plt.figure()\n",
    "plt.rcParams[\"figure.figsize\"] = (4,4)\n",
    "df = DataFrame(CONF3) #, index=Index, columns=Cols - if defined before\n",
    "sns.heatmap(df, annot=True, cmap=\"YlGnBu\",cbar=False) #cbar=True is an option but it appears float values\n",
    "plt.xlabel(\"Predicted Label\")\n",
    "plt.ylabel(\"True Label\")\n",
    "plt.title('Confusion Matrix Head + Context Data')\n",
    "plt.show()\n",
    "\n",
    "plt.figure()\n",
    "plt.rcParams[\"figure.figsize\"] = (4,4)\n",
    "df = DataFrame(CONF4) #, index=Index, columns=Cols - if defined before\n",
    "sns.heatmap(df, annot=True, cmap=\"YlGnBu\",cbar=False) #cbar=True is an option but it appears float values\n",
    "plt.xlabel(\"Predicted Label\")\n",
    "plt.ylabel(\"True Label\")\n",
    "plt.title('Confusion Matrix All')\n",
    "#plt.subplots_adjust(wspace=0.8, hspace=0.8)\n",
    "plt.show()\n",
    "\n",
    "plt.figure()\n",
    "plt.rcParams[\"figure.figsize\"] = (4,4)\n",
    "df = DataFrame(CONF5) #, index=Index, columns=Cols - if defined before\n",
    "sns.heatmap(df, annot=True, cmap=\"YlGnBu\",cbar=False) #cbar=True is an option but it appears float values\n",
    "plt.xlabel(\"Predicted Label\")\n",
    "plt.ylabel(\"True Label\")\n",
    "plt.title('Confusion Matrix All')\n",
    "#plt.subplots_adjust(wspace=0.8, hspace=0.8)\n",
    "plt.show()"
   ]
  },
  {
   "cell_type": "code",
   "execution_count": null,
   "metadata": {},
   "outputs": [],
   "source": [
    "ac"
   ]
  }
 ],
 "metadata": {
  "file_extension": ".py",
  "kernelspec": {
   "display_name": "Python 3",
   "language": "python",
   "name": "python3"
  },
  "language_info": {
   "codemirror_mode": {
    "name": "ipython",
    "version": 3
   },
   "file_extension": ".py",
   "mimetype": "text/x-python",
   "name": "python",
   "nbconvert_exporter": "python",
   "pygments_lexer": "ipython3",
   "version": "3.6.9"
  },
  "mimetype": "text/x-python",
  "name": "python",
  "npconvert_exporter": "python",
  "pygments_lexer": "ipython3",
  "version": 3
 },
 "nbformat": 4,
 "nbformat_minor": 2
}
