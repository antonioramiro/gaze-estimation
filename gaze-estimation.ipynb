{
 "cells": [
  {
   "cell_type": "markdown",
   "metadata": {},
   "source": [
    "# Gaze Estimation"
   ]
  },
  {
   "cell_type": "markdown",
   "metadata": {},
   "source": [
    "Brief explanation of this notebook: how it came to be; motivations; link to the full explanation; and \"method-alike\" explanation"
   ]
  },
  {
   "cell_type": "code",
   "execution_count": 1,
   "metadata": {},
   "outputs": [],
   "source": [
    "#Basic\n",
    "import numpy as np\n",
    "import matplotlib.pyplot as plt\n",
    "from scipy import stats\n",
    "import math\n",
    "from operator import add\n",
    "\n",
    "#Aiding conversions from string to list\n",
    "import ast\n",
    "\n",
    "#Randomize\n",
    "import random\n",
    "\n",
    "#Labelling classifiers\n",
    "import datetime\n",
    "import joblib\n",
    "\n",
    "#Support Vector Classification\n",
    "from sklearn.model_selection import cross_val_score\n",
    "from sklearn.svm import SVC\n",
    "from joblib import dump, load\n",
    "from sklearn.model_selection import GridSearchCV\n",
    "from sklearn import svm\n",
    "#Confusion Matrix\n",
    "from sklearn.metrics import confusion_matrix\n",
    "from sklearn.metrics import classification_report\n",
    "from pandas import DataFrame\n",
    "import seaborn as sns\n",
    "#PCA\n",
    "import sklearn as sl\n",
    "from sklearn.preprocessing import StandardScaler as ss\n",
    "from sklearn.decomposition import PCA \n",
    "from sklearn import utils"
   ]
  },
  {
   "cell_type": "markdown",
   "metadata": {},
   "source": [
    "## 1. Recording a video"
   ]
  },
  {
   "cell_type": "markdown",
   "metadata": {},
   "source": [
    "In order to ... Just record it. Falar de algumas precauções e cuidades. IDK"
   ]
  },
  {
   "cell_type": "markdown",
   "metadata": {},
   "source": [
    "## 2. Converting the video in measurable data / Data treatment"
   ]
  },
  {
   "cell_type": "markdown",
   "metadata": {},
   "source": [
    "To do so, we created [datasetGenerating.py](https://github.com/antonioramiro/gaze-estimation/blob/master/datasetGenerating.py) which converts a video into an array of (~) 49 elements. yada yada yada"
   ]
  },
  {
   "cell_type": "markdown",
   "metadata": {},
   "source": [
    "``demo da datasetGenerating`` .gif e o comando q se usa "
   ]
  },
  {
   "cell_type": "markdown",
   "metadata": {},
   "source": [
    "Then, to cluster every vector generated, each in an individual .txt file, we used [txtJoiner](https://github.com/antonioramiro/gaze-estimation/blob/master/txtJoiner.py), which outputs the following file yada yada. When said file is imported, the lines are read as strings, therefore it needs to be converted to a list of lists."
   ]
  },
  {
   "cell_type": "markdown",
   "metadata": {},
   "source": [
    "### 2.1 Importing the text file"
   ]
  },
  {
   "cell_type": "code",
   "execution_count": 2,
   "metadata": {},
   "outputs": [],
   "source": [
    "#opening the file\n",
    "with open('dataset_2020-06-07.txt') as file:\n",
    "    txt_file = [line.strip() for line in file]\n",
    "\n",
    "dataset = []\n",
    "#converting a list of strings to a list of lists\n",
    "counter = 0\n",
    "total_lines = len(txt_file)\n",
    "while counter != total_lines:\n",
    "    individual_line = ast.literal_eval(txt_file[counter])\n",
    "    dataset += [individual_line]\n",
    "    counter+=1"
   ]
  },
  {
   "cell_type": "markdown",
   "metadata": {},
   "source": [
    "meter aqui imagem do boneco, com a legenda adequada ao nosso vetor. como por aquilo bonito? fica melhor explicado por escrito do que tudo discriminado."
   ]
  },
  {
   "cell_type": "markdown",
   "metadata": {},
   "source": [
    "``[x_nose, y_nose, x_neck, y_neck, x_right ear, y_right ear, x_left ear, y_left ear, x_right eye, y_right eye, x_left eye, y_left eye, x_right hand, y_right hand, x_left hand, y_left hand, ... contextual information - 32 positions ..., quadrant]``"
   ]
  },
  {
   "cell_type": "markdown",
   "metadata": {},
   "source": [
    "### 2.2 Separating data for testing and for training"
   ]
  },
  {
   "cell_type": "markdown",
   "metadata": {},
   "source": [
    "Now let's get the party going. Separate data"
   ]
  },
  {
   "cell_type": "code",
   "execution_count": 3,
   "metadata": {},
   "outputs": [],
   "source": [
    "testing_data = dataset[int(len(dataset)*0.8):]\n",
    "training_data = dataset[:int(len(dataset)*0.8)]"
   ]
  },
  {
   "cell_type": "markdown",
   "metadata": {},
   "source": [
    " ### 2.2 Increasing sample size"
   ]
  },
  {
   "cell_type": "markdown",
   "metadata": {},
   "source": [
    "inverter horizontalmente as cenas + termos o dobro dos dados. nota: a geradora do dataset cospe a resolução das imagens na sua penúltima linha"
   ]
  },
  {
   "cell_type": "code",
   "execution_count": 4,
   "metadata": {},
   "outputs": [
    {
     "name": "stdout",
     "output_type": "stream",
     "text": [
      "Initially, the training dataset is composed by 8205 elements.\n"
     ]
    }
   ],
   "source": [
    "print('Initially, the training dataset is composed by ' + str(len(training_data)) + ' elements.')"
   ]
  },
  {
   "cell_type": "code",
   "execution_count": 5,
   "metadata": {},
   "outputs": [],
   "source": [
    "def dataDoubler(dataset):\n",
    "    resolution = (640,352) \n",
    "    flipped_dataset = []\n",
    "\n",
    "# Calculate the simetric quadrant, where the input is an int and the output is a list of 1 element.\n",
    "# Given the numeration of quadrants (stated in 2.1.1), a simple addition/subtraction of 3 or 5 will yield\n",
    "# the simetric quadrant\n",
    "\n",
    "    def flipped_quadrant(quadrant):\n",
    "        if quadrant in [1,3,9,11]:\n",
    "            flipped_quadrant = quadrant + 3 \n",
    "        elif quadrant in [4,6,12,14]:\n",
    "            flipped_quadrant = quadrant - 3 \n",
    "        elif quadrant in [0,2,8,10]:\n",
    "            flipped_quadrant = quadrant + 5\n",
    "        elif quadrant in [5,7,13,15]:\n",
    "            flipped_quadrant = quadrant - 5  \n",
    "        return [flipped_quadrant]\n",
    "\n",
    "    def flip_shortlong(bigList):\n",
    "        if len(bigList) != 32:\n",
    "            print(bigList)\n",
    "            print(len(bigList))\n",
    "            return 'auch'\n",
    "        else:\n",
    "            newList=[bigList[5],bigList[4],bigList[7],bigList[6],bigList[1],bigList[0],bigList[3],bigList[2],\\\n",
    "                 bigList[13],bigList[12],bigList[15],bigList[14],bigList[9],bigList[8],bigList[11],bigList[10],\\\n",
    "                 bigList[16+5],bigList[16+4],bigList[16+7],bigList[16+6],bigList[16+1],bigList[16+0],bigList[16+3],bigList[16+2],\\\n",
    "                 bigList[16+13],bigList[16+12],bigList[16+15],bigList[16+14],bigList[16+9],bigList[16+8],bigList[16+11],bigList[16+10]]\n",
    "            return newList\n",
    "    \n",
    "    for element in dataset:\n",
    "        flipped_element = []\n",
    "        for i in range(len(element) - 33):\n",
    "\n",
    "            # Every even index (up to the 14th: indexes that correspond to coordinates of poseKeypoints) contains \n",
    "            # an X coordinate, from which can be obtained the simetric coordinate (by subtracting to the width\n",
    "            # the original X), note that Y is irrelevant to horizontal simetry.\n",
    "\n",
    "            if i%2 == 0 and element[i] != -1: \n",
    "                flipped_element += [resolution[0] - element[i]]\n",
    "\n",
    "            else: #y or x == -1\n",
    "                flipped_element += [element[i]]       \n",
    "\n",
    "        flipped_dataset += [flipped_element + flip_shortlong(element[16:-1])  + flipped_quadrant(element[-1])]\n",
    "\n",
    "    dataset += flipped_dataset\n",
    "    return dataset"
   ]
  },
  {
   "cell_type": "code",
   "execution_count": 6,
   "metadata": {},
   "outputs": [],
   "source": [
    "training_data = dataDoubler(training_data)\n",
    "testing_data = dataDoubler(testing_data)"
   ]
  },
  {
   "cell_type": "code",
   "execution_count": 7,
   "metadata": {},
   "outputs": [
    {
     "name": "stdout",
     "output_type": "stream",
     "text": [
      "Now, it has 16410 elements.\n"
     ]
    }
   ],
   "source": [
    "print('Now, it has ' + str(len(training_data)) + ' elements.')"
   ]
  },
  {
   "cell_type": "code",
   "execution_count": 8,
   "metadata": {
    "scrolled": true
   },
   "outputs": [
    {
     "name": "stdout",
     "output_type": "stream",
     "text": [
      "[432.83353, 156.35634, 502.60385, 225.26476, -1, -1, 462.41827, 162.12698, -1, -1, 438.50482, 148.76007, -1, -1, 410.79236, 349.59262, 0, 0, 0, 0, 0, 0, 0, 0, 0, 0, 0, 0, 0, 0, 0, 0, 0, 0, 0, 0, 0, 0, 0, 0, 0, 1, 0, 0, 0, 0, 0, 0, 9]\n",
      "49\n"
     ]
    }
   ],
   "source": [
    "print(dataset[0])\n",
    "print(len(dataset[0]))"
   ]
  },
  {
   "cell_type": "code",
   "execution_count": 9,
   "metadata": {},
   "outputs": [
    {
     "data": {
      "text/plain": [
       "(16410, 0, [])"
      ]
     },
     "execution_count": 9,
     "metadata": {},
     "output_type": "execute_result"
    }
   ],
   "source": [
    "#testar se todos têm o mesmo comprimento, ficava fixe fazer um dicionário onde os índices é a len, que está ligado ao nr de ocorrencias de essa len\n",
    "a = 0\n",
    "b = 0\n",
    "c = []\n",
    "for i in training_data:\n",
    "    if len(i) == 49:\n",
    "        a += 1\n",
    "    elif len(i) == 51:\n",
    "        b += 1\n",
    "        \n",
    "    else: c+= [i]\n",
    "\n",
    "a,b,c"
   ]
  },
  {
   "cell_type": "markdown",
   "metadata": {},
   "source": [
    "### 2.3 Feature Engineering"
   ]
  },
  {
   "cell_type": "markdown",
   "metadata": {},
   "source": [
    "Dizer cenas: quais as featrures, porque poderiam ser uteis"
   ]
  },
  {
   "cell_type": "code",
   "execution_count": 10,
   "metadata": {},
   "outputs": [],
   "source": [
    "def head_angle(x_nose,y_nose,x_neck,y_neck):\n",
    "    #angle() calculates the angle at which the head is tilted using the coordinates of the nose and neck\n",
    "    if x_nose>=0 and x_neck>=0:\n",
    "        x=abs(x_nose-x_neck)\n",
    "        y=abs(y_nose-y_neck)\n",
    "        angle=math.atan(y/x)\n",
    "        if x_nose-x_neck<0:\n",
    "            angle+=math.pi/2\n",
    "        return [int(angle)]\n",
    "    else:\n",
    "        return [-1]\n",
    "\n",
    "    \n",
    "def hand_distance(x_rhand,y_rhand,x_lhand,y_lhand,x_nose,y_nose):\n",
    "    #hand_distance() calculates the distance between the hands and the face using the nose coordinates\n",
    "    right=-1\n",
    "    left=-1\n",
    "    if x_rhand>=0 and x_nose>=0:\n",
    "        right=math.sqrt((x_rhand-x_nose)**2+(y_rhand-y_nose)**2)\n",
    "        \n",
    "    if x_lhand>=0 and x_nose>=0:\n",
    "        left=math.sqrt((x_lhand-x_nose)**2+(y_lhand-y_nose)**2)\n",
    "    \n",
    "    distances=[int(right),int(left)]\n",
    "    return distances\n",
    "\n",
    "\n",
    "def hand_angles(x_rhand,y_rhand,x_lhand,y_lhand,x_neck,y_neck):\n",
    "    #hand_angles() calculates the angle between each arm and the horizontal axis\n",
    "    r_angle=-1\n",
    "    l_angle=-1\n",
    "    if x_rhand>=0 and x_neck>=0:\n",
    "        x=abs(x_rhand-x_neck)\n",
    "        y=abs(y_rhand-y_neck)\n",
    "        r_angle=math.atan(y/x)\n",
    "    if x_lhand>=0 and x_neck>=0:\n",
    "        x=abs(x_lhand-x_neck)\n",
    "        y=abs(y_lhand-y_neck)\n",
    "        l_angle=math.atan(y/x)\n",
    "        \n",
    "    angles=[int(r_angle),int(l_angle)]\n",
    "    return angles"
   ]
  },
  {
   "cell_type": "code",
   "execution_count": 11,
   "metadata": {},
   "outputs": [],
   "source": [
    "training_data = [i[:-1] + head_angle(i[0],i[1],i[2],i[3]) + hand_distance(i[12],i[13],i[14],i[15],i[0],i[1]) + hand_angles(i[12],i[13],i[14],i[15],i[2],i[3]) + [i[-1]] for i in training_data]\n",
    "testing_data = [i[:-1] + head_angle(i[0],i[1],i[2],i[3]) + hand_distance(i[12],i[13],i[14],i[15],i[0],i[1]) + hand_angles(i[12],i[13],i[14],i[15],i[2],i[3]) + [i[-1]] for i in testing_data]"
   ]
  },
  {
   "cell_type": "code",
   "execution_count": 12,
   "metadata": {},
   "outputs": [
    {
     "name": "stdout",
     "output_type": "stream",
     "text": [
      "54\n"
     ]
    }
   ],
   "source": [
    "print(len(training_data[54]))"
   ]
  },
  {
   "cell_type": "markdown",
   "metadata": {},
   "source": [
    "o vetor agora tem esta forma ``[x_nose, y_nose, x_neck, y_neck, x_right ear, y_right ear, x_left ear, y_left ear, x_right eye, y_right eye, x_left eye, y_left eye, x_right hand, y_right hand, x_left hand, y_left hand, ... contextual information - 32 positions ..., head angle, distance from head to hand x & y, distance from hands x & y , quadrant]``"
   ]
  },
  {
   "cell_type": "markdown",
   "metadata": {},
   "source": [
    "@alex meti isto em markdown poruque acho que ja nao estava a fazer nada (?)\n",
    "\n",
    "training_data = addFeature(training_data)\n",
    "testing_data = addFeature(testing_data)"
   ]
  },
  {
   "cell_type": "markdown",
   "metadata": {},
   "source": [
    "### 2.4 Balancing the dataset"
   ]
  },
  {
   "cell_type": "markdown",
   "metadata": {},
   "source": [
    "Em vez de leveling, outra palavra para descrever este processo de fazer os numeros mais proximos.  Due to XXXX, some quadrants tend to be more prevalent. So in order not to confuse :p the SVM, the values should be more homogenized  Falar um pouco"
   ]
  },
  {
   "cell_type": "markdown",
   "metadata": {},
   "source": [
    "Firstly lets visualise the distributtion of data with the following function"
   ]
  },
  {
   "cell_type": "code",
   "execution_count": 13,
   "metadata": {},
   "outputs": [],
   "source": [
    "import numpy as np; np.random.seed(0)\n",
    "import matplotlib.pyplot as plt\n",
    "import seaborn as sns; sns.set()\n",
    "import random\n",
    "%matplotlib inline\n",
    "\n",
    "def heatmap (dataset):\n",
    "    #in the quadrant_count list, each number corresponds to the number of samples where the object is in that\n",
    "    #quadrant so quadrant_count[0] is the number of samples in the 0 quadrant\n",
    "    quadrant_count=[0,0,0,0,0,0,0,0,0,0,0,0,0,0,0,0]\n",
    "    for i in range(len(dataset)):\n",
    "        quad=dataset[i][-1]\n",
    "        quadrant_count[quad]=quadrant_count[quad]+1\n",
    "    data=[[quadrant_count[0],quadrant_count[1],quadrant_count[4],quadrant_count[5]],\\\n",
    "           [quadrant_count[2],quadrant_count[3],quadrant_count[6],quadrant_count[7]],\\\n",
    "           [quadrant_count[8],quadrant_count[9],quadrant_count[12],quadrant_count[13]],\\\n",
    "           [quadrant_count[10],quadrant_count[11],quadrant_count[14],quadrant_count[15]]]\n",
    "    sns.heatmap(data, annot=True, fmt=\"d\",linewidths=0.5,yticklabels=False,xticklabels=False,cbar=False)\n",
    "    return quadrant_count"
   ]
  },
  {
   "cell_type": "markdown",
   "metadata": {},
   "source": [
    "Prior to leveling, we have"
   ]
  },
  {
   "cell_type": "code",
   "execution_count": 14,
   "metadata": {
    "scrolled": false
   },
   "outputs": [
    {
     "data": {
      "text/plain": [
       "[344,\n",
       " 218,\n",
       " 1380,\n",
       " 1315,\n",
       " 218,\n",
       " 344,\n",
       " 1315,\n",
       " 1380,\n",
       " 1182,\n",
       " 2136,\n",
       " 423,\n",
       " 1207,\n",
       " 2136,\n",
       " 1182,\n",
       " 1207,\n",
       " 423]"
      ]
     },
     "execution_count": 14,
     "metadata": {},
     "output_type": "execute_result"
    },
    {
     "data": {
      "image/png": "[encoded data removed]",
      "text/plain": [
       "<Figure size 432x288 with 1 Axes>"
      ]
     },
     "metadata": {},
     "output_type": "display_data"
    }
   ],
   "source": [
    "#dataset=[[1,1,0],[2,2,0],[1,2,1],[1,2,1],[0,0,2],[1,3,3],[3,2,3],[1,2,3],[1,5,4],[5,5,5],[1,2,6],[1,2,7],[6,2,8],[1,3,9],[2,3,9],[3,3,9],[4,3,9],[5,3,9],[3,0,10],[1,3,11],[1,2,12],[3,3,13],[4,4,14],[5,3,15],[2,3,15]]\n",
    "heatmap(training_data)"
   ]
  },
  {
   "cell_type": "code",
   "execution_count": 15,
   "metadata": {},
   "outputs": [],
   "source": [
    "def levelling (dataset,percent):\n",
    "    #percent indicates de percentage of samples we'll allow of difference \n",
    "    #between the smallest samples and all the rest\n",
    "    quadrant_count=heatmap(dataset)\n",
    "    a=quadrant_count[0]\n",
    "    #we'll use the following cycle to find out what is the smallest number of samples we have in one quadrant\n",
    "    #(doesn't matter which quadrant that is)\n",
    "    for i in quadrant_count:\n",
    "        if i<a:\n",
    "            a=i\n",
    "    max=int((percent+1)*a)\n",
    "    excess=[0,0,0,0,0,0,0,0,0,0,0,0,0,0,0,0]\n",
    "    for i in range(len(quadrant_count)):\n",
    "        if quadrant_count[i]>max:\n",
    "            excess[i]=quadrant_count[i]-max\n",
    "        else:\n",
    "            excess[i]=0\n",
    "    \n",
    "    b=[[],[],[],[],[],[],[],[],[],[],[],[],[],[],[],[]]\n",
    "    for j in dataset:\n",
    "        b[j[-1]]+=[j]\n",
    "    for k in range(len(b)):\n",
    "        for l in range(excess[k]):\n",
    "            c=random.choice(b[k])\n",
    "            b[k].remove(c)\n",
    "    dataset=[]\n",
    "    for m in b:\n",
    "        dataset+=m\n",
    "    random.shuffle(dataset)\n",
    "    return dataset"
   ]
  },
  {
   "cell_type": "code",
   "execution_count": 16,
   "metadata": {
    "scrolled": false
   },
   "outputs": [
    {
     "data": {
      "text/plain": [
       "[344,\n",
       " 218,\n",
       " 479,\n",
       " 479,\n",
       " 218,\n",
       " 344,\n",
       " 479,\n",
       " 479,\n",
       " 479,\n",
       " 479,\n",
       " 423,\n",
       " 479,\n",
       " 479,\n",
       " 479,\n",
       " 479,\n",
       " 423]"
      ]
     },
     "execution_count": 16,
     "metadata": {},
     "output_type": "execute_result"
    },
    {
     "data": {
      "image/png": "[encoded data removed]",
      "text/plain": [
       "<Figure size 432x288 with 1 Axes>"
      ]
     },
     "metadata": {},
     "output_type": "display_data"
    }
   ],
   "source": [
    "training_data = levelling(training_data,1.2)\n",
    "heatmap(training_data)\n",
    "#guardar o novo dataset em dataset, var global"
   ]
  },
  {
   "cell_type": "code",
   "execution_count": 17,
   "metadata": {
    "scrolled": true
   },
   "outputs": [
    {
     "data": {
      "text/plain": [
       "[91, 55, 121, 121, 55, 91, 121, 121, 121, 121, 118, 121, 121, 121, 121, 118]"
      ]
     },
     "execution_count": 17,
     "metadata": {},
     "output_type": "execute_result"
    },
    {
     "data": {
      "image/png": "[encoded data removed]",
      "text/plain": [
       "<Figure size 432x288 with 1 Axes>"
      ]
     },
     "metadata": {},
     "output_type": "display_data"
    }
   ],
   "source": [
    "testing_data = levelling(testing_data,1.2)\n",
    "heatmap(testing_data)"
   ]
  },
  {
   "cell_type": "markdown",
   "metadata": {},
   "source": [
    "## 3. Training the models & Classifying"
   ]
  },
  {
   "cell_type": "markdown",
   "metadata": {},
   "source": [
    "### 3.1 Creating a proper list of two vectors"
   ]
  },
  {
   "cell_type": "markdown",
   "metadata": {},
   "source": [
    "Este step is only done here in order to reduce the probability of messing up and disconecting each X vector from the correspondant Y. X is composed of vectors with coordinates/features and Y has one, the quadrant"
   ]
  },
  {
   "cell_type": "code",
   "execution_count": 18,
   "metadata": {},
   "outputs": [],
   "source": [
    "def eXifY(data):\n",
    "    X, Y = [element[0:-1] for element in data], [element[-1] for element in data]\n",
    "    return X, Y"
   ]
  },
  {
   "cell_type": "code",
   "execution_count": 19,
   "metadata": {},
   "outputs": [
    {
     "data": {
      "text/plain": [
       "True"
      ]
     },
     "execution_count": 19,
     "metadata": {},
     "output_type": "execute_result"
    }
   ],
   "source": [
    "len(eXifY(training_data)[0]) == len(eXifY(training_data)[1])"
   ]
  },
  {
   "cell_type": "markdown",
   "metadata": {},
   "source": [
    "### 3.2 Training & Classifying"
   ]
  },
  {
   "cell_type": "markdown",
   "metadata": {},
   "source": [
    "Since the goal is the comparison of the quality of the classifications according to the type of context (number of \n",
    "coordinates given), we are going to train 4 models and test them to see the differences in success rate.\n",
    "Below are defined the training and testing functions, respectively."
   ]
  },
  {
   "cell_type": "markdown",
   "metadata": {},
   "source": [
    "galta adicionar mais cenas ao nome para saber do que se trata"
   ]
  },
  {
   "cell_type": "code",
   "execution_count": 20,
   "metadata": {
    "scrolled": true
   },
   "outputs": [],
   "source": [
    "def training(X,Y):\n",
    "   \n",
    "    nfolds=5 #3 means a 3-fold cross-validation\n",
    "    Cs = [1e5,1e6,10e4] #parameter 1\n",
    "    gammas = [1e-5,1e-4,1e-6] #parameter 2  \n",
    "    param_grid = {'C': Cs, 'gamma' : gammas} #all in one grid\n",
    "    grid_search2 = GridSearchCV(svm.SVC(kernel='rbf'), param_grid, cv=nfolds) #svm classifier\n",
    "    grid_search2.fit(X, Y) #fitting the data\n",
    "    best=grid_search2.best_params_ \n",
    "\n",
    "    clf = SVC(C= best['C'],gamma=best['gamma']) #creating the model with the best parameters\n",
    "    clf.fit(X, Y) #fitting the model to the data\n",
    "\n",
    "    now = datetime.datetime.now()\n",
    "    timestamp = str(now.strftime(\"%d-%m-%Y_%Hh%Mm%Ss\")) #the current day and time to have in the classifier name \n",
    "    \n",
    "    datatype='0'\n",
    "    #to insert in the name of the classifier and text files which of the 4 groups of coordinates is the classifier using\n",
    "    if (len(X[0])) == 13: #(head)\n",
    "        datatype='Head'\n",
    "    elif (len(X[0])) == 21: #(head + hands)\n",
    "        datatype='Head_Hands'\n",
    "    elif (len(X[0])) == 45: #(head + context data)\n",
    "        datatype='Head_Context_data_Rich'\n",
    "    elif (len(X[0])) == 29: #(head + context data)\n",
    "        datatype='Head_Context_data_Poor'        \n",
    "    elif (len(X[0])) == 53: #(head + context data)\n",
    "        datatype='All_Rich_Context'\n",
    "    elif (len(X[0])) == 38: #(all) \n",
    "        datatype='All_Rich_Context'\n",
    "     \n",
    "    info_classif='classifier_' + timestamp + '_' + datatype +'_info.txt'\n",
    "    with open(info_classif, 'w+')  as info:\n",
    "        info.write('Group of Coordinates: '+ datatype + '\\n')\n",
    "        info.write('Type of classifier: SVM\\n') # python will convert \\n to os.linesep\n",
    "        info.write('C:'+str(best['C'])+'\\n')\n",
    "        info.write('Gamma:'+str(best['gamma'])+'\\n')\n",
    "\n",
    "    \n",
    "    classif = 'classifier_'+ timestamp + '_'+ datatype +'.joblib'\n",
    "    dump(clf, classif) \n",
    "                       \n",
    "    return classif,info_classif"
   ]
  },
  {
   "cell_type": "code",
   "execution_count": 21,
   "metadata": {
    "scrolled": false
   },
   "outputs": [],
   "source": [
    "def testing(X,Y,classif,info_classif):\n",
    "    \n",
    "    clf  = joblib.load(classif)\n",
    "    result = clf.score(X, Y)\n",
    "    \n",
    "    Qpredicted= []\n",
    "    i=0\n",
    "    sco3=0\n",
    "    sco2=0\n",
    "    sco1=0\n",
    "    sco0=0\n",
    "    length=len(X)\n",
    "\n",
    "    while i != length:\n",
    "        Qpredicted+= [str(clf.predict(np.array([X[i]]))).strip('['+']'+'\"')] #predict\n",
    "        Y[i]= str(Y[i]) #converting to a string\n",
    "        if Y[i]== Qpredicted[i]:\n",
    "            sco3+=1\n",
    "        if (Y[i]== '0' and Qpredicted[i] in ['1','2','3']) or (Y[i]== '1' and Qpredicted[i] in ['0','2','3','6','4']) or\\\n",
    "            (Y[i]== '2' and Qpredicted[i] in ['0','1','3','8','9']) or\\\n",
    "            (Y[i]== '3' and Qpredicted[i] in ['0','1','4','2','6','8','9','12']) or\\\n",
    "            (Y[i]== '4' and Qpredicted[i] in ['1','5','3','6','7']) or (Y[i]== '5' and Qpredicted[i] in ['4','6','7']) or\\\n",
    "            (Y[i]== '6' and Qpredicted[i] in ['1','4','5','3','7','9','12','13']) or\\\n",
    "            (Y[i]== '7' and Qpredicted[i] in ['4','5','6','12','13']) or\\\n",
    "            (Y[i]== '8' and Qpredicted[i] in ['2','3','9','10','11']) or\\\n",
    "            (Y[i]== '9' and Qpredicted[i] in ['2','3','6','8','12','10','11','14']) or\\\n",
    "            (Y[i]== '10' and Qpredicted[i] in ['8','9','11']) or (Y[i]== '11' and Qpredicted[i] in ['8','9','12','10','14']) or\\\n",
    "            (Y[i]== '12' and Qpredicted[i] in ['3','6','7','9','13','11','15']) or\\\n",
    "            (Y[i]== '13' and Qpredicted[i] in ['6','7','12','14','15']) or\\\n",
    "            (Y[i]== '14' and Qpredicted[i] in ['9','12','13','11','15']) or (Y[i]== '15' and Qpredicted[i] in ['12','13','14']):\n",
    "            sco2+=1  \n",
    "        if (Y[i]== '0' and Qpredicted[i] in ['4','6','8','9','12']) or\\\n",
    "            (Y[i]== '1' and Qpredicted[i] in ['8','9','12','13','7','5']) or\\\n",
    "            (Y[i]== '2' and Qpredicted[i] in ['4','6','12','14','10','11']) or\\\n",
    "            (Y[i]== '3' and Qpredicted[i] in ['10','11','14','15','13','7','5']) or\\\n",
    "            (Y[i]== '4' and Qpredicted[i] in ['0','2','8','9','12','13']) or\\\n",
    "            (Y[i]== '5' and Qpredicted[i] in ['1','3','9','12','13']) or\\\n",
    "            (Y[i]== '6' and Qpredicted[i] in ['0','2','8','10','11','14','15']) or\\\n",
    "            (Y[i]== '7' and Qpredicted[i] in ['1','3','9','11','14','15']) or\\\n",
    "            (Y[i]== '8' and Qpredicted[i] in ['0','1','4','6','12','14']) or\\\n",
    "            (Y[i]== '9' and Qpredicted[i] in ['0','1','4','5','7','13','15']) or\\\n",
    "            (Y[i]== '10' and Qpredicted[i] in ['2','3','6','12','14']) or\\\n",
    "            (Y[i]== '11' and Qpredicted[i] in ['2','3','6','7','13','15']) or\\\n",
    "            (Y[i]== '12' and Qpredicted[i] in ['10','8','2','0','1','4','5']) or\\\n",
    "            (Y[i]== '13' and Qpredicted[i] in ['1','4','5','3','9','11']) or\\\n",
    "            (Y[i]== '14' and Qpredicted[i] in ['2','3','6','7','8','10'])or\\\n",
    "            (Y[i]== '15' and Qpredicted[i] in ['3','6','7','9','11']):\n",
    "            sco1+=1\n",
    "        if (Y[i]== '0' and Qpredicted[i] in ['5','7','13','15','10','11','14']) or\\\n",
    "            (Y[i] in ['1','4'] and Qpredicted[i] in ['10','11','14','15']) or\\\n",
    "            (Y[i] in ['2','8'] and Qpredicted[i] in ['5','7','13','15']) or\\\n",
    "            (Y[i]== '5' and Qpredicted[i] in ['0','2','8','10','11','14','15']) or\\\n",
    "            (Y[i] in ['7','13'] and Qpredicted[i] in ['0','2','8','10']) or\\\n",
    "            (Y[i]== '10' and Qpredicted[i] in ['0','1','4','5','7','13','15']) or\\\n",
    "            (Y[i] in ['11','14'] and Qpredicted[i] in ['0','1','4','5']) or\\\n",
    "            (Y[i]== '15' and Qpredicted[i] in ['0','2','8','10','1','4','5']):\n",
    "            sco0+=1 \n",
    "        i+=1\n",
    "\n",
    "            \n",
    "    rangescore= (3*sco3+2*sco2+sco1)\n",
    "    rangescoreper=(rangescore/3*len(Y))*100\n",
    "    sco3per= sco3/len(Y)*100\n",
    "    sco2per= sco2/len(Y)*100\n",
    "    sco1per= sco1/len(Y)*100\n",
    "    sco0per= sco0/len(Y)*100\n",
    "        \n",
    "    print('The percentage of success was: ' + str(round(result*100))+ ' %\\n')\n",
    "    print('The range score was ' + str(rangescore) + ' out of ' + str(3*len(Y)) + ' : ' + str(round(rangescoreper,2)) + ' % \\n')\n",
    "    print('The score 3 was: ' + str(round(sco3per,2))+ ' %\\n')\n",
    "    print('The score 2 was: ' + str(round(sco2per,2))+ ' %\\n')\n",
    "    print('The score 1 was: ' + str(round(sco1per,2))+ ' %\\n')\n",
    "    print('The score 0 was: ' + str(round(sco0per,2))+ ' %\\n')\n",
    "    \n",
    "    with open(info_classif, 'a')  as info:\n",
    "        info.write('\\n----\\n')\n",
    "        info.write('The percentage of success was: ' + str(round(result*100)) + ' %\\n')\n",
    "        info.write('The range score was ' + str(rangescore) + ' out of ' + str(3*len(Y)) + ' : ' + str(round(rangescoreper,2)) + ' % \\n')\n",
    "        info.write('The score 3 was: ' + str(round(sco3per,2))+ ' %\\n')\n",
    "        info.write('The score 2 was: ' + str(round(sco2per,2))+ ' %\\n')\n",
    "        info.write('The score 1 was: ' + str(round(sco1per,2))+ ' %\\n')\n",
    "        info.write('The score 0 was: ' + str(round(sco0per,2))+ ' %\\n')\n",
    "        \n",
    "    CONF= confusion_matrix(np.array(Y), np.array(Qpredicted))\n",
    "    \n",
    "    labels=[0,1,2,3,4,5,6,7,8,9,10,11,12,13,14,15]\n",
    "    print(classification_report(np.array(Y), np.array(Qpredicted), labels=labels))\n",
    "\n",
    "    return CONF, result, Qpredicted"
   ]
  },
  {
   "cell_type": "markdown",
   "metadata": {},
   "source": [
    "#bengala para perceber melhor o vetor\n",
    "training_data = [['xnose','ynose','xneck','yneck','xR_ear','yR_ear','xL_ear','yL_ear','xR_eye','yR_eye','xL_eye','yL_eye','xR_hand','yR_hand','xL_hand','yL_hand',8,8,8,8,8,8,8,8,8,8,8,8,8,8,8,8,9,9,9,9,9,9,9,9,9,9,9,9,9,9,9,9,'headangle','r_hand-head','l_hand-head','r_headangle','l_headangle','Q']] +  training_data"
   ]
  },
  {
   "cell_type": "markdown",
   "metadata": {},
   "source": [
    "training_data"
   ]
  },
  {
   "cell_type": "markdown",
   "metadata": {},
   "source": [
    "#### 3.2.1 Using only the face keypoints"
   ]
  },
  {
   "cell_type": "markdown",
   "metadata": {},
   "source": [
    "Since we're only using  the keypoints of the head, we'll delete context information about the difference short/long distance object and hands coordinates. <br> \n",
    "The head coordinates are the first 12 (5*2) (x,y)."
   ]
  },
  {
   "cell_type": "markdown",
   "metadata": {},
   "source": [
    "Below we will:<br> \n",
    " - Delete the coordinates we don't need (mentioned before) from the whole training data;<br> \n",
    " - Train the model with only the head coordinates using the training function (defined before);<br> \n",
    " - Delete the coordinates we don't need (mentioned before) from the whole testing data;<br> \n",
    " - Test the model with only the head coordinates using the training function (defined before)."
   ]
  },
  {
   "cell_type": "code",
   "execution_count": 22,
   "metadata": {},
   "outputs": [
    {
     "name": "stdout",
     "output_type": "stream",
     "text": [
      "[379.24252, 94.21758, 429.9124, 143.03323, -1, -1, 414.5974, 81.7876, -1, -1, 385.96396, 80.86239, 470.1231, 174.58746, 368.70575, 349.60275, 0, 0, 0, 0, 0, 0, 0, 0, 0, 0, 0, 0, 0, 0, 0, 0, 0, 0, 0, 1, 0, 0, 0, 0, 0, 0, 0, 0, 0, 0, 0, 0, 2, 121, 255, 0, 1, 3]\n"
     ]
    }
   ],
   "source": [
    "print(training_data[0])"
   ]
  },
  {
   "cell_type": "code",
   "execution_count": 23,
   "metadata": {},
   "outputs": [
    {
     "name": "stdout",
     "output_type": "stream",
     "text": [
      "13\n",
      "[379.24252, 94.21758, 429.9124, 143.03323, -1, -1, 414.5974, 81.7876, -1, -1, 385.96396, 80.86239, 2]\n"
     ]
    }
   ],
   "source": [
    "X, Y = eXifY(training_data)\n",
    "X = [element[:12] + [element[-5]] for element in X]\n",
    "print(len(X[0]))\n",
    "print(X[0])\n"
   ]
  },
  {
   "cell_type": "code",
   "execution_count": 24,
   "metadata": {},
   "outputs": [],
   "source": [
    "classif,info_classif=training(X,Y)"
   ]
  },
  {
   "cell_type": "code",
   "execution_count": 25,
   "metadata": {},
   "outputs": [
    {
     "data": {
      "text/plain": [
       "13"
      ]
     },
     "execution_count": 25,
     "metadata": {},
     "output_type": "execute_result"
    }
   ],
   "source": [
    "X, Y = eXifY(testing_data)\n",
    "X = [element[:12] + [element[-5]] for element in X]\n",
    "len(X[0])"
   ]
  },
  {
   "cell_type": "code",
   "execution_count": 26,
   "metadata": {},
   "outputs": [
    {
     "name": "stdout",
     "output_type": "stream",
     "text": [
      "The percentage of success was: 72.0 %\n",
      "\n",
      "The range score was 4537 out of 5214 : 262843533.33 % \n",
      "\n",
      "The score 3 was: 71.98 %\n",
      "\n",
      "The score 2 was: 19.85 %\n",
      "\n",
      "The score 1 was: 5.41 %\n",
      "\n",
      "The score 0 was: 2.19 %\n",
      "\n",
      "              precision    recall  f1-score   support\n",
      "\n",
      "           0       0.78      0.87      0.82        91\n",
      "           1       0.64      0.87      0.74        55\n",
      "           2       0.67      0.79      0.72       121\n",
      "           3       0.63      0.64      0.63       121\n",
      "           4       0.79      0.84      0.81        55\n",
      "           5       0.84      0.79      0.81        91\n",
      "           6       0.68      0.69      0.69       121\n",
      "           7       0.70      0.71      0.70       121\n",
      "           8       0.72      0.75      0.73       121\n",
      "           9       0.60      0.59      0.59       121\n",
      "          10       0.83      0.76      0.79       118\n",
      "          11       0.73      0.73      0.73       121\n",
      "          12       0.71      0.59      0.64       121\n",
      "          13       0.72      0.70      0.71       121\n",
      "          14       0.72      0.65      0.69       121\n",
      "          15       0.85      0.75      0.80       118\n",
      "\n",
      "   micro avg       0.72      0.72      0.72      1738\n",
      "   macro avg       0.73      0.73      0.73      1738\n",
      "weighted avg       0.72      0.72      0.72      1738\n",
      "\n",
      "[[79  3  0  0  1  0  0  0  4  1  0  0  0  1  1  1]\n",
      " [ 1 48  0  2  0  0  0  0  0  1  2  0  1  0  0  0]\n",
      " [ 2  0 90  2  1  0  1  0  6  1  0  0  2  3  8  2]\n",
      " [ 0  1  8 88  0  0  5  0  1  4  0  0  0  1  1 12]\n",
      " [ 1  0  0  6 71  8 10  2  2  2  1  1  8  4  1  4]\n",
      " [ 1  0  0  2  9 85  3  3  1  2  0  3  2  9  0  1]\n",
      " [ 6  0  4  8  9  1 79  5  2  0  0  1  0  1  1  4]\n",
      " [ 0  0  0  0  2  9  5 89  3  1  0  1  0  4  2  2]\n",
      " [ 4  1  0  1  0  0  0  0 95  7  2  0  1  0  6  4]\n",
      " [ 2 10  0  1  0  0  1  0  8 77  1  1 10  1  3  6]\n",
      " [ 0  2  0  1  1  0  2  0  0  2 46  0  1  0  0  0]\n",
      " [ 2  0  0  2  2  0  0  1  2  2  2 72  1  4  0  1]\n",
      " [ 2  4  2  0  1  4  1  1  2  8  2  2 84  7  0  1]\n",
      " [ 0  2  0  0  0 11  0  0  1  6  0  5  7 86  1  2]\n",
      " [ 1  1  3  0  0  0  0  1 10  4  0  0  2  1 91  7]\n",
      " [ 0  3  2  8  3  0  2  3  5  5  2  0  4  1 12 71]]\n"
     ]
    }
   ],
   "source": [
    "CONF1, result, Qpredicted = testing(X,Y,classif,info_classif)\n",
    "#print(Qpredicted)\n",
    "#print(Y)\n",
    "print(CONF1)"
   ]
  },
  {
   "cell_type": "markdown",
   "metadata": {},
   "source": [
    "#### 3.2.2 Using only keypoints (face + hands)"
   ]
  },
  {
   "cell_type": "markdown",
   "metadata": {},
   "source": [
    "Since we're only using  the keypoints of the head and the hands, we'll delete context information about the difference short/long distance object.<br> \n",
    "The keypoints (head + hands) coordinates are the first 10 (5*2) + 4 (2*2)(x,y), giving a total of 14.<br> \n",
    "The rest of the procedure is the same as in 3.2.1.:"
   ]
  },
  {
   "cell_type": "markdown",
   "metadata": {},
   "source": [
    "Below we will:<br> \n",
    " - Delete the coordinates we don't need (mentioned before) from the whole training data;<br> \n",
    " - Train the model with only the head + hand coordinates using the training function (defined before);<br> \n",
    " - Delete the coordinates we don't need (mentioned before) from the whole testing data;<br> \n",
    " - Test the model with only the head + hand coordinates using the training function (defined before)."
   ]
  },
  {
   "cell_type": "code",
   "execution_count": 27,
   "metadata": {
    "scrolled": true
   },
   "outputs": [
    {
     "data": {
      "text/plain": [
       "21"
      ]
     },
     "execution_count": 27,
     "metadata": {},
     "output_type": "execute_result"
    }
   ],
   "source": [
    "X, Y = eXifY(training_data)\n",
    "X = [element[:16] + element[48:] for element in X]\n",
    "len(X[0])"
   ]
  },
  {
   "cell_type": "code",
   "execution_count": 28,
   "metadata": {},
   "outputs": [],
   "source": [
    "classif,info_classif=training(X,Y)"
   ]
  },
  {
   "cell_type": "code",
   "execution_count": 29,
   "metadata": {},
   "outputs": [
    {
     "data": {
      "text/plain": [
       "21"
      ]
     },
     "execution_count": 29,
     "metadata": {},
     "output_type": "execute_result"
    }
   ],
   "source": [
    "X, Y = eXifY(testing_data)\n",
    "X = [element[:16] + element[48:] for element in X]\n",
    "len(X[0])"
   ]
  },
  {
   "cell_type": "code",
   "execution_count": 30,
   "metadata": {},
   "outputs": [
    {
     "name": "stdout",
     "output_type": "stream",
     "text": [
      "The percentage of success was: 77.0 %\n",
      "\n",
      "The range score was 4691 out of 5214 : 271765266.67 % \n",
      "\n",
      "The score 3 was: 76.99 %\n",
      "\n",
      "The score 2 was: 17.09 %\n",
      "\n",
      "The score 1 was: 4.78 %\n",
      "\n",
      "The score 0 was: 0.98 %\n",
      "\n",
      "              precision    recall  f1-score   support\n",
      "\n",
      "           0       0.80      0.88      0.84        91\n",
      "           1       0.77      0.85      0.81        55\n",
      "           2       0.75      0.74      0.74       121\n",
      "           3       0.63      0.74      0.68       121\n",
      "           4       0.82      0.84      0.83        55\n",
      "           5       0.83      0.85      0.84        91\n",
      "           6       0.72      0.74      0.73       121\n",
      "           7       0.75      0.73      0.74       121\n",
      "           8       0.75      0.83      0.79       121\n",
      "           9       0.73      0.60      0.66       121\n",
      "          10       0.86      0.86      0.86       118\n",
      "          11       0.82      0.77      0.79       121\n",
      "          12       0.75      0.64      0.69       121\n",
      "          13       0.75      0.79      0.77       121\n",
      "          14       0.81      0.74      0.78       121\n",
      "          15       0.84      0.87      0.86       118\n",
      "\n",
      "   micro avg       0.77      0.77      0.77      1738\n",
      "   macro avg       0.77      0.78      0.77      1738\n",
      "weighted avg       0.77      0.77      0.77      1738\n",
      "\n",
      "[[ 80   0   1   0   0   0   0   0   4   4   0   1   0   0   1   0]\n",
      " [  4  47   0   0   0   0   0   0   0   1   1   0   1   0   1   0]\n",
      " [  2   0 101   3   2   0   0   0   1   0   1   0   1   0   7   0]\n",
      " [  1   0   5  93   4   1   3   0   0   3   0   0   2   0   2   7]\n",
      " [  1   1   0   3  78   8   3   0   1   2   3   0   6   6   1   8]\n",
      " [  0   1   0   0   3  95   4   7   1   3   0   0   1   4   0   2]\n",
      " [  0   0   0   5   8   2  90   5   2   3   0   2   1   0   1   2]\n",
      " [  0   1   0   0   0   6   3 103   0   1   1   1   0   2   0   0]\n",
      " [  7   1   1   1   0   0   1   0  89  11   1   0   2   0   7   0]\n",
      " [  2   2   3   3   0   0   1   1   5  90   1   1   7   1   2   2]\n",
      " [  0   3   0   0   0   0   1   0   0   2  46   1   0   1   1   0]\n",
      " [  1   1   0   0   2   1   0   0   0   2   0  77   1   5   0   1]\n",
      " [  1   2   1   0   3   3   2   2   1   5   1   1  89  10   0   0]\n",
      " [  0   1   1   0   0   9   0   1   1   4   0   8   8  88   0   0]\n",
      " [  0   0   5   0   0   0   1   1   6   1   1   0   2   0 100   4]\n",
      " [  1   1   0   6   4   1   2   2   8  10   0   1   2   1  10  72]]\n"
     ]
    }
   ],
   "source": [
    "CONF2, result, Qpredicted = testing(X,Y,classif,info_classif)\n",
    "#print(Qpredicted)\n",
    "#print(Y)\n",
    "print(CONF2)"
   ]
  },
  {
   "cell_type": "markdown",
   "metadata": {},
   "source": [
    "#### 3.2.3 Using only the keypoints of the head and context data"
   ]
  },
  {
   "cell_type": "markdown",
   "metadata": {},
   "source": [
    "Since we're only using  the keypoints of the head and the context information about the difference short/long distance object, we'll delete the hand coordinates.<br> \n",
    "The keypoints of the head coordinates are the first 10 (5*2) and the context data goes from the 15 to the 46 coordinates (but on the code we have to do it from 14th to start on the 15th) giving a total of 42 coordinates.<br>\n",
    "The rest of the procedure is the same as in 3.2.1.:"
   ]
  },
  {
   "cell_type": "markdown",
   "metadata": {},
   "source": [
    "Below we will:<br>\n",
    " - Delete the coordinates we don't need (mentioned before) from the whole training data;<br>\n",
    " - Train the model with only the head + context data coordinates using the training function (defined before);<br>\n",
    " - Delete the coordinates we don't need (mentioned before) from the whole testing data;<br>\n",
    " - Test the model with only the head + context data coordinates using the training function (defined before)."
   ]
  },
  {
   "cell_type": "markdown",
   "metadata": {},
   "source": [
    "##### rich context"
   ]
  },
  {
   "cell_type": "code",
   "execution_count": 31,
   "metadata": {
    "scrolled": true
   },
   "outputs": [
    {
     "name": "stdout",
     "output_type": "stream",
     "text": [
      "45\n",
      "[379.24252, 94.21758, 429.9124, 143.03323, -1, -1, 414.5974, 81.7876, -1, -1, 385.96396, 80.86239, 0, 0, 0, 0, 0, 0, 0, 0, 0, 0, 0, 0, 0, 0, 0, 0, 0, 0, 0, 1, 0, 0, 0, 0, 0, 0, 0, 0, 0, 0, 0, 0, 2]\n"
     ]
    }
   ],
   "source": [
    "X, Y = eXifY(training_data)\n",
    "X = [element[:12] + element[16:49] for element in X]\n",
    "print(len(X[0]))\n",
    "print(X[0])"
   ]
  },
  {
   "cell_type": "code",
   "execution_count": 32,
   "metadata": {},
   "outputs": [],
   "source": [
    "classif,info_classif=training(X,Y)"
   ]
  },
  {
   "cell_type": "code",
   "execution_count": 33,
   "metadata": {},
   "outputs": [
    {
     "name": "stdout",
     "output_type": "stream",
     "text": [
      "45\n",
      "[460.61483999999996, 10.045538, 447.24717999999996, 56.9407, 475.90848, 2.8699594, 434.8038, 2.8649476, 468.26839, 2.8722343, 452.0117, 2.8736117, 0, 0, 1, 0, 0, 0, 0, 0, 0, 1, 0, 0, 0, 0, 0, 0, 0, 0, 0, 0, 0, 0, 0, 1, 0, 0, 0, 0, 0, 0, 0, 0, 1]\n"
     ]
    }
   ],
   "source": [
    "X, Y = eXifY(testing_data)\n",
    "X = [element[:12] + element[16:49] for element in X]\n",
    "print(len(X[0]))\n",
    "print(X[0])"
   ]
  },
  {
   "cell_type": "code",
   "execution_count": 34,
   "metadata": {
    "scrolled": false
   },
   "outputs": [
    {
     "name": "stdout",
     "output_type": "stream",
     "text": [
      "The percentage of success was: 82.0 %\n",
      "\n",
      "The range score was 4799 out of 5214 : 278022066.67 % \n",
      "\n",
      "The score 3 was: 82.28 %\n",
      "\n",
      "The score 2 was: 12.89 %\n",
      "\n",
      "The score 1 was: 3.51 %\n",
      "\n",
      "The score 0 was: 1.27 %\n",
      "\n",
      "              precision    recall  f1-score   support\n",
      "\n",
      "           0       0.83      0.87      0.85        91\n",
      "           1       0.64      0.82      0.72        55\n",
      "           2       0.80      0.85      0.82       121\n",
      "           3       0.65      0.75      0.70       121\n",
      "           4       0.74      0.82      0.78        55\n",
      "           5       0.94      0.86      0.90        91\n",
      "           6       0.69      0.77      0.73       121\n",
      "           7       0.92      0.83      0.87       121\n",
      "           8       0.82      0.83      0.83       121\n",
      "           9       0.82      0.72      0.77       121\n",
      "          10       0.96      0.86      0.91       118\n",
      "          11       0.88      0.91      0.89       121\n",
      "          12       0.82      0.77      0.79       121\n",
      "          13       0.83      0.79      0.81       121\n",
      "          14       0.91      0.86      0.89       121\n",
      "          15       0.90      0.88      0.89       118\n",
      "\n",
      "   micro avg       0.82      0.82      0.82      1738\n",
      "   macro avg       0.82      0.82      0.82      1738\n",
      "weighted avg       0.83      0.82      0.82      1738\n",
      "\n",
      "['7', '6', '11', '4', '15', '6', '13', '6', '12', '6', '5', '6', '6', '4', '10', '13', '6', '8', '5', '13', '0', '12', '1', '6', '2', '12', '2', '5', '6', '1', '3', '11', '8', '15', '8', '0', '6', '6', '5', '6', '3', '6', '0', '8', '2', '1', '0', '9', '14', '14', '7', '14', '11', '15', '0', '15', '10', '11', '12', '7', '11', '7', '3', '4', '7', '3', '15', '8', '1', '0', '15', '9', '14', '6', '0', '12', '10', '11', '15', '3', '9', '7', '3', '6', '0', '7', '10', '6', '8', '1', '5', '15', '11', '13', '6', '7', '5', '15', '6', '11', '9', '2', '9', '1', '0', '7', '15', '6', '3', '13', '0', '13', '13', '9', '13', '1', '10', '0', '2', '6', '7', '10', '7', '14', '11', '3', '2', '3', '9', '15', '3', '2', '15', '13', '3', '5', '12', '13', '1', '9', '8', '13', '10', '3', '14', '11', '12', '12', '3', '0', '14', '12', '8', '0', '10', '10', '2', '8', '5', '8', '0', '10', '10', '6', '9', '14', '5', '9', '8', '9', '10', '9', '2', '11', '5', '5', '9', '2', '9', '10', '14', '6', '7', '6', '5', '3', '8', '13', '13', '6', '0', '15', '15', '4', '8', '8', '3', '2', '3', '6', '13', '11', '3', '3', '3', '8', '14', '7', '13', '6', '1', '14', '12', '6', '15', '11', '14', '11', '14', '12', '7', '12', '15', '1', '8', '3', '7', '2', '9', '15', '11', '10', '15', '3', '7', '8', '12', '9', '10', '10', '3', '6', '11', '9', '13', '8', '2', '2', '15', '5', '15', '15', '9', '2', '14', '15', '11', '11', '10', '3', '15', '4', '14', '4', '9', '12', '7', '9', '10', '13', '5', '3', '1', '5', '7', '12', '2', '3', '14', '9', '15', '13', '11', '7', '15', '14', '9', '3', '3', '5', '8', '11', '12', '9', '9', '13', '7', '5', '8', '7', '9', '2', '4', '15', '9', '6', '9', '0', '2', '2', '5', '11', '15', '8', '1', '1', '15', '12', '13', '0', '2', '12', '10', '2', '2', '2', '10', '8', '4', '12', '1', '8', '2', '11', '8', '15', '2', '4', '4', '12', '11', '9', '11', '8', '3', '10', '15', '10', '11', '3', '8', '12', '0', '8', '9', '8', '8', '13', '9', '10', '6', '13', '8', '11', '3', '1', '5', '7', '3', '8', '14', '11', '10', '6', '2', '10', '12', '5', '14', '14', '11', '2', '15', '3', '7', '2', '11', '6', '15', '6', '12', '0', '13', '14', '10', '12', '10', '13', '12', '14', '14', '9', '15', '6', '10', '12', '14', '11', '6', '6', '7', '6', '9', '12', '12', '2', '9', '3', '3', '2', '9', '3', '2', '0', '9', '4', '6', '12', '1', '14', '14', '12', '10', '9', '0', '10', '15', '6', '13', '8', '11', '3', '8', '1', '10', '10', '2', '12', '13', '1', '13', '15', '3', '11', '4', '0', '1', '5', '0', '1', '14', '4', '2', '6', '6', '8', '2', '2', '15', '1', '4', '10', '13', '9', '4', '4', '4', '5', '11', '7', '1', '12', '1', '11', '13', '15', '3', '0', '3', '11', '9', '14', '11', '6', '14', '10', '2', '7', '0', '8', '11', '7', '8', '3', '6', '13', '13', '8', '5', '5', '4', '14', '13', '3', '2', '8', '15', '14', '1', '11', '10', '2', '13', '10', '5', '13', '8', '8', '13', '2', '7', '3', '3', '8', '13', '8', '7', '14', '11', '15', '2', '8', '12', '3', '14', '11', '9', '2', '9', '2', '7', '4', '0', '15', '11', '15', '14', '15', '2', '8', '15', '3', '2', '1', '3', '14', '5', '8', '7', '7', '1', '6', '5', '12', '6', '10', '8', '6', '15', '2', '13', '9', '6', '7', '15', '2', '6', '6', '1', '8', '13', '13', '7', '0', '1', '6', '10', '11', '2', '13', '8', '8', '6', '7', '12', '11', '4', '14', '12', '10', '13', '10', '8', '3', '12', '14', '14', '0', '10', '8', '10', '8', '4', '7', '13', '3', '14', '10', '14', '6', '6', '9', '14', '13', '15', '9', '0', '1', '3', '15', '8', '0', '11', '3', '14', '0', '14', '7', '0', '12', '15', '13', '14', '1', '13', '6', '6', '13', '10', '9', '6', '15', '10', '10', '13', '12', '3', '15', '13', '6', '0', '11', '6', '3', '7', '6', '10', '7', '8', '6', '4', '6', '13', '2', '0', '9', '6', '4', '5', '6', '5', '0', '8', '15', '2', '1', '0', '2', '13', '12', '3', '2', '6', '5', '6', '0', '13', '14', '4', '3', '5', '12', '2', '11', '11', '11', '12', '5', '7', '9', '12', '11', '11', '2', '6', '3', '4', '11', '7', '4', '12', '13', '4', '3', '6', '11', '9', '3', '8', '1', '7', '13', '11', '1', '7', '6', '11', '7', '2', '13', '1', '3', '8', '13', '6', '5', '6', '11', '6', '3', '14', '5', '0', '10', '13', '2', '6', '7', '4', '10', '4', '3', '10', '4', '13', '2', '14', '1', '12', '15', '6', '8', '2', '12', '6', '3', '12', '6', '3', '2', '9', '5', '3', '11', '3', '11', '15', '2', '10', '1', '12', '6', '6', '11', '6', '7', '8', '2', '9', '10', '5', '12', '9', '3', '12', '10', '14', '1', '12', '12', '11', '8', '4', '11', '5', '14', '9', '5', '15', '5', '3', '15', '3', '9', '4', '7', '15', '7', '2', '8', '3', '11', '7', '3', '2', '7', '0', '11', '9', '10', '11', '2', '3', '15', '5', '11', '14', '6', '12', '9', '4', '5', '2', '7', '11', '2', '8', '13', '10', '8', '4', '10', '2', '13', '11', '11', '8', '2', '14', '11', '14', '12', '5', '0', '11', '13', '7', '4', '8', '13', '9', '9', '11', '15', '8', '2', '13', '15', '3', '9', '15', '15', '7', '2', '11', '0', '5', '4', '8', '2', '1', '3', '2', '9', '8', '2', '8', '10', '11', '3', '7', '10', '14', '6', '15', '6', '6', '9', '9', '2', '3', '9', '3', '8', '12', '5', '3', '5', '2', '0', '2', '8', '15', '13', '8', '11', '12', '8', '7', '7', '13', '3', '9', '12', '2', '15', '0', '3', '3', '14', '5', '5', '6', '2', '9', '12', '7', '10', '13', '2', '1', '13', '8', '8', '2', '3', '10', '7', '10', '2', '2', '8', '12', '4', '11', '0', '2', '10', '15', '13', '4', '15', '14', '10', '10', '3', '15', '14', '11', '11', '15', '15', '1', '0', '2', '8', '15', '10', '9', '10', '10', '7', '0', '8', '2', '7', '2', '10', '3', '10', '1', '6', '13', '15', '8', '1', '14', '13', '5', '15', '13', '8', '15', '5', '14', '7', '4', '9', '10', '5', '10', '14', '13', '8', '8', '11', '13', '8', '2', '12', '13', '1', '8', '6', '8', '14', '9', '3', '12', '12', '11', '4', '15', '2', '11', '6', '11', '12', '14', '10', '0', '5', '5', '11', '14', '12', '2', '13', '13', '13', '1', '2', '10', '14', '2', '11', '0', '6', '0', '10', '1', '3', '11', '12', '12', '6', '3', '6', '3', '2', '9', '3', '4', '5', '4', '9', '5', '14', '6', '11', '5', '14', '6', '9', '8', '2', '3', '1', '8', '3', '12', '11', '14', '9', '11', '12', '3', '11', '14', '12', '8', '15', '2', '3', '11', '3', '15', '15', '1', '11', '7', '8', '13', '6', '0', '10', '3', '12', '12', '11', '3', '11', '13', '11', '4', '7', '6', '8', '12', '11', '14', '14', '6', '14', '3', '1', '13', '13', '12', '7', '5', '10', '0', '5', '6', '3', '15', '7', '6', '13', '3', '7', '15', '10', '6', '7', '8', '15', '10', '14', '15', '5', '9', '2', '12', '14', '3', '14', '3', '4', '11', '3', '8', '10', '0', '14', '6', '7', '6', '6', '9', '7', '1', '2', '9', '14', '3', '12', '3', '9', '6', '10', '13', '0', '8', '1', '10', '13', '6', '0', '14', '8', '4', '13', '7', '0', '6', '11', '7', '8', '14', '0', '8', '8', '15', '1', '8', '8', '3', '4', '3', '8', '14', '15', '13', '11', '4', '12', '9', '10', '13', '13', '10', '0', '14', '10', '12', '14', '9', '12', '5', '7', '2', '4', '1', '10', '8', '15', '12', '3', '0', '9', '9', '4', '12', '6', '5', '0', '10', '9', '1', '12', '0', '4', '6', '10', '0', '7', '8', '6', '14', '12', '3', '3', '4', '12', '7', '0', '12', '6', '15', '12', '4', '0', '2', '2', '6', '11', '12', '6', '13', '14', '15', '0', '1', '9', '11', '0', '5', '15', '5', '7', '9', '9', '0', '13', '6', '0', '12', '11', '10', '1', '11', '2', '14', '11', '13', '7', '9', '3', '6', '3', '14', '10', '4', '6', '0', '2', '2', '11', '10', '2', '2', '9', '14', '11', '2', '6', '0', '10', '12', '10', '7', '12', '14', '3', '8', '12', '3', '2', '14', '8', '12', '11', '13', '13', '7', '15', '11', '13', '7', '0', '8', '14', '15', '13', '3', '0', '15', '11', '2', '8', '10', '6', '7', '11', '11', '11', '3', '8', '13', '7', '14', '9', '13', '3', '7', '13', '0', '9', '2', '3', '12', '9', '15', '11', '0', '13', '9', '2', '0', '6', '7', '7', '9', '9', '7', '14', '6', '7', '11', '3', '8', '12', '9', '7', '9', '7', '3', '15', '2', '3', '2', '13', '12', '2', '2', '2', '7', '11', '7', '3', '10', '12', '3', '12', '11', '5', '10', '9', '15', '8', '3', '15', '2', '11', '7', '13', '0', '9', '7', '3', '1', '10', '0', '14', '0', '12', '9', '14', '6', '14', '10', '9', '14', '13', '15', '6', '5', '1', '4', '15', '5', '15', '0', '15', '7', '0', '14', '7', '15', '3', '8', '8', '3', '7', '5', '15', '7', '8', '0', '2', '3', '13', '2', '15', '1', '14', '8', '12', '6', '2', '6', '3', '6', '4', '15', '8', '12', '15', '1', '4', '12', '13', '13', '6', '14', '14', '7', '1', '10', '1', '2', '10', '13', '11', '11', '12', '14', '6', '10', '6', '14', '15', '12', '8', '1', '5', '14', '11', '12', '11', '9', '8', '3', '6', '14', '2', '9', '12', '2', '15', '5', '13', '0', '6', '11', '13', '10', '0', '3', '10', '3', '5', '12', '5', '5', '0', '2', '14', '14', '9', '1', '0', '6', '15', '12', '15', '1', '13', '10', '0', '4', '5', '3', '8', '2', '0', '1', '11', '0', '5', '15', '12', '15', '0', '4', '5', '2', '14', '5', '3', '6', '6', '5', '3', '12', '15', '9', '11', '0', '9', '5', '14', '14', '3', '5', '11', '13', '12', '8', '7', '7', '15', '2', '8', '9', '11', '3', '6', '13', '7', '13', '1', '7', '1', '7', '7', '13', '6', '14', '7', '8', '0', '6', '2', '0', '12', '1', '11', '11', '9', '3', '15', '12', '4', '6', '8', '15', '15', '14', '14', '14', '0', '5', '2', '6', '0', '3', '10', '9', '14', '7', '13', '12', '4', '0', '2', '6', '3', '12', '4', '14', '7', '7', '5', '1', '0', '3', '10', '8', '5', '8', '7', '5', '1', '2', '7', '14', '7', '15', '9', '5', '13', '12', '2', '9', '3']\n",
      "[[ 79   5   0   0   0   0   0   0   3   0   1   1   1   0   0   1]\n",
      " [  1  45   0   1   1   0   0   0   1   4   1   1   0   0   0   0]\n",
      " [  1   0 101   3   1   2   0   0   2   0   1   0   0   0   6   1]\n",
      " [  0   0   1 110   0   0   2   0   0   2   1   0   1   0   0   4]\n",
      " [  1   0   0   2  93   2   1   3   2   4   1   0   6   1   1   4]\n",
      " [  0   1   0   0   6  95   2   3   1   1   2   0   7   2   1   0]\n",
      " [  0   2   0   1   1   3 104   4   1   2   0   0   1   0   1   1]\n",
      " [  0   0   0   0   0   6   1 104   1   0   0   1   1   2   1   1]\n",
      " [  4   0   0   1   1   0   0   0 103   4   2   0   3   0   2   1]\n",
      " [  2  10   0   0   1   0   0   0   3  91   0   0   9   0   3   2]\n",
      " [  1   2   0   1   0   0   2   0   0   1  45   0   3   0   0   0]\n",
      " [  1   3   0   1   2   0   0   0   1   3   1  78   0   1   0   0]\n",
      " [  2   1   0   0   4   2   0   0   2  11   4   0  93   2   0   0]\n",
      " [  0   0   0   0   3   3   0   0   1   4   1   2   5 101   0   1]\n",
      " [  3   1   1   2   0   1   0   0   7   1   1   0   0   0 101   3]\n",
      " [  0   0   2   3   1   0   2   1   1  11   0   0   5   1   7  87]]\n"
     ]
    }
   ],
   "source": [
    "CONF3, result, Qpredicted = testing(X,Y,classif,info_classif)\n",
    "print(Qpredicted)\n",
    "#print(Y)\n",
    "print(CONF3)"
   ]
  },
  {
   "cell_type": "markdown",
   "metadata": {},
   "source": [
    "##### poor context"
   ]
  },
  {
   "cell_type": "code",
   "execution_count": 35,
   "metadata": {
    "scrolled": true
   },
   "outputs": [
    {
     "data": {
      "text/plain": [
       "29"
      ]
     },
     "execution_count": 35,
     "metadata": {},
     "output_type": "execute_result"
    }
   ],
   "source": [
    "#merging short and long\n",
    "X, Y = eXifY(training_data)\n",
    "X = [element[:12] + list(map(add,element[16:32],element[32:48])) + [element[48]] for element in X]\n",
    "len(X[0])"
   ]
  },
  {
   "cell_type": "code",
   "execution_count": 36,
   "metadata": {},
   "outputs": [
    {
     "name": "stdout",
     "output_type": "stream",
     "text": [
      "[379.24252, 94.21758, 429.9124, 143.03323, -1, -1, 414.5974, 81.7876, -1, -1, 385.96396, 80.86239, 0, 0, 0, 1, 0, 0, 0, 0, 0, 0, 0, 0, 0, 0, 0, 0, 2]\n"
     ]
    }
   ],
   "source": [
    "print(X[0])"
   ]
  },
  {
   "cell_type": "code",
   "execution_count": 37,
   "metadata": {},
   "outputs": [],
   "source": [
    "classif,info_classif=training(X,Y)"
   ]
  },
  {
   "cell_type": "code",
   "execution_count": 38,
   "metadata": {},
   "outputs": [],
   "source": [
    "X, Y = eXifY(testing_data)\n",
    "X = [element[:12] + list(map(add,element[16:32],element[32:48])) + [element[48]] for element in X]"
   ]
  },
  {
   "cell_type": "code",
   "execution_count": 39,
   "metadata": {},
   "outputs": [
    {
     "name": "stdout",
     "output_type": "stream",
     "text": [
      "29\n"
     ]
    }
   ],
   "source": [
    "print(len(X[0]))"
   ]
  },
  {
   "cell_type": "code",
   "execution_count": 40,
   "metadata": {
    "scrolled": false
   },
   "outputs": [
    {
     "name": "stdout",
     "output_type": "stream",
     "text": [
      "The percentage of success was: 83.0 %\n",
      "\n",
      "The range score was 4809 out of 5214 : 278601400.0 % \n",
      "\n",
      "The score 3 was: 82.62 %\n",
      "\n",
      "The score 2 was: 12.83 %\n",
      "\n",
      "The score 1 was: 3.16 %\n",
      "\n",
      "The score 0 was: 1.27 %\n",
      "\n",
      "              precision    recall  f1-score   support\n",
      "\n",
      "           0       0.82      0.88      0.85        91\n",
      "           1       0.59      0.80      0.68        55\n",
      "           2       0.85      0.86      0.86       121\n",
      "           3       0.69      0.76      0.72       121\n",
      "           4       0.74      0.82      0.78        55\n",
      "           5       0.91      0.87      0.89        91\n",
      "           6       0.68      0.75      0.71       121\n",
      "           7       0.90      0.83      0.86       121\n",
      "           8       0.84      0.83      0.84       121\n",
      "           9       0.79      0.70      0.75       121\n",
      "          10       0.95      0.90      0.93       118\n",
      "          11       0.90      0.91      0.91       121\n",
      "          12       0.83      0.77      0.80       121\n",
      "          13       0.85      0.79      0.82       121\n",
      "          14       0.90      0.85      0.88       121\n",
      "          15       0.91      0.91      0.91       118\n",
      "\n",
      "   micro avg       0.83      0.83      0.83      1738\n",
      "   macro avg       0.82      0.83      0.82      1738\n",
      "weighted avg       0.83      0.83      0.83      1738\n",
      "\n",
      "['7', '6', '11', '4', '15', '6', '6', '6', '12', '6', '5', '6', '5', '4', '10', '13', '6', '8', '5', '13', '0', '12', '1', '6', '2', '12', '2', '5', '6', '1', '3', '11', '3', '15', '8', '0', '6', '6', '5', '6', '3', '6', '0', '8', '2', '1', '0', '9', '14', '14', '7', '14', '11', '15', '0', '15', '10', '11', '12', '7', '11', '7', '3', '4', '7', '3', '15', '8', '1', '0', '15', '9', '14', '6', '0', '12', '10', '11', '15', '3', '9', '7', '3', '6', '0', '7', '10', '6', '8', '1', '5', '15', '11', '13', '6', '7', '5', '15', '6', '11', '9', '2', '9', '1', '0', '7', '15', '6', '3', '13', '0', '13', '13', '9', '13', '1', '10', '0', '0', '3', '7', '10', '6', '14', '11', '3', '2', '3', '1', '15', '3', '2', '15', '15', '3', '5', '12', '13', '1', '9', '8', '13', '10', '3', '14', '11', '12', '12', '3', '0', '14', '12', '8', '0', '10', '10', '2', '8', '5', '8', '0', '10', '10', '6', '9', '14', '5', '9', '8', '9', '10', '9', '1', '11', '5', '5', '9', '2', '9', '10', '14', '4', '7', '6', '5', '3', '8', '13', '13', '6', '0', '15', '15', '4', '8', '8', '3', '2', '3', '6', '13', '11', '3', '3', '3', '8', '14', '7', '13', '6', '1', '14', '12', '6', '15', '11', '14', '11', '14', '12', '7', '12', '15', '1', '8', '3', '7', '2', '9', '15', '11', '10', '15', '3', '7', '8', '12', '9', '10', '10', '3', '6', '11', '9', '13', '8', '2', '8', '15', '5', '15', '15', '9', '2', '14', '15', '11', '11', '10', '3', '15', '4', '14', '4', '9', '12', '7', '9', '10', '13', '5', '3', '1', '5', '7', '12', '2', '3', '14', '1', '15', '13', '11', '7', '15', '14', '9', '3', '3', '5', '8', '11', '1', '9', '9', '13', '13', '5', '8', '13', '9', '2', '4', '15', '9', '6', '9', '0', '2', '2', '5', '11', '15', '8', '1', '1', '15', '14', '13', '0', '2', '12', '10', '2', '2', '0', '10', '8', '4', '12', '1', '8', '2', '11', '8', '15', '2', '4', '4', '9', '11', '9', '11', '8', '3', '10', '15', '10', '11', '3', '8', '12', '0', '8', '9', '9', '8', '13', '9', '10', '6', '13', '8', '11', '3', '1', '5', '7', '3', '8', '14', '11', '10', '0', '6', '10', '12', '8', '14', '14', '8', '0', '15', '6', '3', '2', '11', '6', '15', '6', '12', '0', '13', '14', '10', '12', '10', '13', '12', '14', '14', '11', '15', '7', '10', '12', '14', '11', '6', '6', '7', '6', '9', '12', '12', '2', '9', '6', '3', '2', '9', '3', '2', '0', '9', '4', '9', '12', '0', '14', '14', '12', '10', '6', '0', '10', '15', '6', '13', '8', '11', '3', '8', '1', '10', '10', '2', '6', '13', '1', '13', '15', '3', '11', '4', '0', '1', '5', '0', '1', '14', '4', '2', '6', '6', '8', '2', '2', '15', '1', '4', '10', '13', '9', '4', '8', '4', '5', '11', '7', '1', '12', '1', '11', '13', '15', '3', '0', '3', '11', '9', '14', '11', '6', '14', '10', '2', '7', '0', '8', '11', '7', '8', '3', '6', '13', '13', '8', '5', '5', '4', '14', '13', '3', '2', '8', '15', '14', '1', '11', '10', '2', '13', '10', '5', '13', '8', '8', '13', '2', '7', '3', '3', '8', '13', '8', '7', '14', '11', '15', '2', '8', '12', '3', '14', '11', '9', '2', '9', '2', '7', '4', '0', '15', '11', '15', '14', '15', '2', '8', '15', '8', '2', '1', '3', '14', '5', '8', '7', '7', '1', '6', '5', '12', '6', '10', '8', '6', '15', '2', '13', '9', '6', '7', '15', '2', '6', '6', '1', '2', '13', '13', '7', '0', '1', '12', '10', '11', '2', '13', '8', '8', '6', '7', '12', '11', '4', '14', '12', '10', '13', '10', '8', '3', '12', '14', '14', '0', '10', '10', '10', '8', '4', '7', '13', '3', '14', '10', '14', '3', '6', '9', '14', '7', '15', '9', '0', '1', '3', '15', '8', '0', '11', '3', '14', '0', '12', '7', '0', '12', '15', '13', '10', '1', '13', '6', '6', '13', '10', '9', '6', '15', '10', '10', '13', '12', '3', '15', '13', '6', '0', '11', '6', '3', '7', '6', '10', '7', '8', '6', '4', '6', '13', '2', '0', '9', '6', '4', '5', '6', '5', '0', '8', '15', '2', '1', '0', '2', '13', '12', '3', '2', '6', '5', '6', '0', '13', '14', '4', '3', '5', '12', '2', '11', '11', '11', '12', '5', '7', '9', '12', '11', '11', '2', '4', '3', '4', '11', '7', '4', '12', '6', '4', '3', '6', '11', '9', '3', '8', '1', '7', '7', '11', '1', '7', '6', '12', '7', '2', '13', '6', '3', '8', '13', '6', '5', '6', '11', '6', '3', '14', '5', '0', '10', '13', '2', '6', '7', '4', '10', '4', '3', '10', '4', '13', '2', '14', '1', '12', '15', '6', '8', '2', '12', '6', '3', '12', '6', '3', '2', '9', '5', '3', '11', '3', '11', '15', '2', '10', '1', '12', '6', '6', '11', '6', '5', '8', '2', '9', '10', '5', '12', '9', '3', '12', '10', '14', '1', '12', '12', '11', '8', '4', '11', '5', '14', '9', '5', '15', '5', '3', '15', '3', '9', '4', '7', '15', '7', '2', '8', '3', '11', '7', '3', '2', '7', '0', '11', '9', '10', '11', '2', '3', '15', '5', '11', '14', '6', '12', '9', '1', '5', '2', '7', '9', '0', '8', '13', '10', '8', '4', '10', '8', '13', '11', '11', '8', '2', '14', '11', '14', '12', '5', '0', '11', '13', '7', '4', '8', '15', '9', '9', '10', '15', '8', '2', '5', '15', '3', '9', '15', '15', '7', '2', '11', '0', '5', '4', '8', '2', '1', '3', '2', '9', '9', '2', '8', '10', '11', '3', '7', '10', '14', '6', '15', '6', '6', '9', '12', '2', '3', '9', '3', '8', '12', '5', '3', '5', '2', '0', '2', '8', '15', '13', '8', '11', '9', '8', '7', '7', '13', '3', '9', '12', '2', '15', '0', '3', '3', '14', '5', '5', '6', '6', '12', '12', '7', '10', '13', '2', '1', '13', '8', '8', '2', '3', '10', '7', '10', '2', '2', '8', '12', '4', '11', '0', '2', '10', '15', '13', '4', '15', '14', '10', '10', '5', '15', '14', '11', '11', '15', '15', '4', '0', '2', '8', '15', '10', '9', '10', '10', '7', '0', '8', '2', '7', '2', '10', '3', '10', '1', '6', '13', '15', '8', '1', '14', '13', '5', '15', '13', '8', '15', '5', '14', '7', '4', '10', '10', '5', '10', '14', '13', '11', '8', '11', '13', '8', '2', '12', '13', '6', '8', '6', '8', '14', '9', '3', '14', '12', '11', '4', '15', '2', '11', '6', '11', '12', '14', '9', '0', '5', '5', '11', '14', '12', '2', '13', '13', '13', '0', '2', '10', '14', '2', '11', '0', '6', '0', '10', '1', '7', '11', '12', '12', '6', '2', '6', '5', '2', '9', '3', '4', '5', '4', '9', '5', '14', '6', '11', '5', '14', '6', '9', '8', '2', '3', '1', '8', '3', '12', '11', '14', '9', '11', '12', '3', '11', '14', '12', '8', '15', '2', '5', '11', '13', '15', '15', '1', '11', '7', '8', '15', '6', '0', '10', '3', '12', '12', '11', '3', '11', '13', '11', '4', '7', '6', '8', '10', '11', '14', '14', '6', '14', '3', '1', '13', '13', '12', '7', '5', '10', '0', '5', '6', '1', '15', '7', '2', '13', '3', '7', '15', '10', '6', '7', '8', '15', '10', '14', '15', '5', '9', '2', '12', '14', '3', '14', '3', '4', '11', '3', '8', '10', '0', '14', '6', '7', '7', '6', '9', '7', '1', '2', '9', '13', '1', '12', '3', '9', '6', '10', '13', '0', '8', '1', '10', '13', '6', '0', '14', '13', '4', '13', '7', '0', '6', '11', '7', '8', '14', '0', '8', '8', '15', '1', '8', '8', '3', '4', '3', '8', '14', '15', '13', '11', '4', '12', '9', '10', '13', '13', '10', '0', '14', '10', '12', '14', '9', '12', '5', '7', '2', '4', '1', '10', '8', '15', '13', '3', '1', '9', '9', '4', '12', '6', '5', '0', '10', '9', '1', '12', '0', '4', '6', '10', '0', '7', '8', '6', '14', '12', '3', '3', '4', '12', '7', '0', '12', '6', '15', '12', '4', '0', '2', '2', '6', '11', '12', '6', '13', '14', '15', '12', '1', '9', '11', '0', '7', '15', '5', '7', '9', '9', '10', '13', '6', '0', '12', '11', '10', '1', '11', '3', '14', '11', '13', '7', '9', '3', '6', '3', '14', '10', '4', '6', '0', '2', '2', '11', '10', '2', '2', '9', '14', '11', '3', '6', '0', '10', '12', '10', '7', '12', '14', '11', '8', '12', '3', '2', '14', '8', '12', '11', '13', '13', '7', '15', '3', '13', '7', '0', '8', '14', '15', '13', '3', '0', '15', '11', '2', '8', '10', '6', '7', '11', '11', '11', '3', '8', '13', '7', '14', '9', '13', '3', '7', '13', '0', '9', '2', '3', '12', '9', '15', '11', '0', '13', '9', '2', '0', '6', '7', '7', '9', '9', '7', '14', '6', '7', '11', '3', '8', '12', '9', '7', '9', '7', '3', '15', '2', '3', '2', '13', '12', '2', '2', '2', '7', '11', '7', '3', '10', '12', '3', '12', '11', '5', '10', '9', '15', '8', '3', '14', '2', '0', '7', '13', '2', '9', '7', '3', '1', '10', '0', '14', '0', '12', '9', '14', '6', '14', '10', '9', '12', '13', '15', '6', '5', '1', '4', '15', '5', '15', '0', '15', '7', '0', '14', '7', '13', '3', '8', '8', '3', '7', '3', '15', '7', '8', '6', '2', '3', '13', '2', '15', '14', '14', '12', '12', '6', '2', '6', '3', '6', '1', '15', '8', '12', '15', '1', '4', '12', '13', '13', '0', '14', '14', '7', '1', '10', '1', '2', '10', '13', '11', '11', '4', '14', '6', '10', '6', '14', '15', '12', '8', '1', '5', '14', '11', '12', '11', '9', '8', '3', '6', '14', '2', '9', '12', '2', '15', '5', '13', '0', '6', '11', '13', '10', '0', '3', '10', '3', '5', '12', '5', '5', '0', '2', '14', '11', '9', '1', '0', '6', '15', '12', '15', '1', '13', '10', '0', '4', '5', '3', '8', '2', '5', '1', '10', '0', '5', '15', '12', '15', '0', '4', '5', '2', '14', '5', '3', '6', '6', '5', '1', '12', '15', '9', '11', '0', '9', '5', '14', '14', '3', '5', '11', '13', '12', '8', '7', '7', '15', '2', '8', '9', '11', '3', '6', '13', '7', '13', '1', '7', '1', '7', '7', '13', '6', '14', '7', '15', '0', '14', '2', '0', '9', '1', '11', '11', '9', '3', '15', '12', '4', '6', '8', '15', '15', '14', '14', '14', '0', '5', '2', '6', '0', '3', '10', '9', '14', '7', '13', '12', '4', '0', '2', '6', '3', '12', '1', '14', '7', '7', '5', '1', '0', '3', '10', '8', '5', '8', '7', '5', '1', '2', '7', '14', '7', '15', '9', '5', '13', '12', '2', '9', '3']\n",
      "[[ 80   4   0   0   1   0   1   0   2   1   0   0   1   0   0   1]\n",
      " [  3  44   0   0   0   0   0   0   0   4   2   1   1   0   0   0]\n",
      " [  0   0 106   2   1   2   0   0   2   0   1   0   0   0   4   0]\n",
      " [  0   0   1 110   0   0   3   0   0   1   1   1   0   0   0   4]\n",
      " [  2   0   0   1  93   3   2   3   2   3   1   0   5   1   0   5]\n",
      " [  1   0   0   0   7  96   0   3   1   1   2   0   7   2   1   0]\n",
      " [  1   2   1   2   1   3 103   3   0   2   0   0   1   0   1   1]\n",
      " [  0   0   0   0   0   4   1 107   0   0   0   1   1   2   1   1]\n",
      " [  2   3   0   0   0   0   0   0 104   5   2   0   2   0   2   1]\n",
      " [  3   9   0   0   1   0   0   0   2  92   0   0   9   0   3   2]\n",
      " [  1   3   0   1   0   0   2   0   0   1  45   0   2   0   0   0]\n",
      " [  0   4   0   1   2   0   0   0   0   1   1  79   1   1   1   0]\n",
      " [  2   2   1   0   3   0   0   0   1  10   5   1  91   4   0   1]\n",
      " [  0   0   0   0   2   3   0   0   1   4   1   4   5 100   0   1]\n",
      " [  3   1   1   0   0   1   0   0   6   2   0   0   0   1 101   5]\n",
      " [  0   3   1   5   1   1   2   1   1   7   0   0   8   0   6  85]]\n"
     ]
    }
   ],
   "source": [
    "CONF4, result, Qpredicted = testing(X,Y,classif,info_classif)\n",
    "print(Qpredicted)\n",
    "#print(Y)\n",
    "print(CONF4)"
   ]
  },
  {
   "cell_type": "markdown",
   "metadata": {},
   "source": [
    "#### 3.2.4 Using all the coordinates (keypoints of the head, hands and context data)"
   ]
  },
  {
   "cell_type": "markdown",
   "metadata": {},
   "source": [
    "##### rich context"
   ]
  },
  {
   "cell_type": "code",
   "execution_count": 41,
   "metadata": {
    "scrolled": true
   },
   "outputs": [
    {
     "data": {
      "text/plain": [
       "53"
      ]
     },
     "execution_count": 41,
     "metadata": {},
     "output_type": "execute_result"
    }
   ],
   "source": [
    "X, Y = eXifY(training_data)\n",
    "len(X[0])"
   ]
  },
  {
   "cell_type": "code",
   "execution_count": 42,
   "metadata": {
    "scrolled": true
   },
   "outputs": [
    {
     "data": {
      "text/plain": [
       "6760"
      ]
     },
     "execution_count": 42,
     "metadata": {},
     "output_type": "execute_result"
    }
   ],
   "source": [
    "len(X)"
   ]
  },
  {
   "cell_type": "code",
   "execution_count": 43,
   "metadata": {},
   "outputs": [
    {
     "data": {
      "text/plain": [
       "6760"
      ]
     },
     "execution_count": 43,
     "metadata": {},
     "output_type": "execute_result"
    }
   ],
   "source": [
    "len(Y)"
   ]
  },
  {
   "cell_type": "code",
   "execution_count": 44,
   "metadata": {},
   "outputs": [],
   "source": [
    "classif,info_classif=training(X,Y)"
   ]
  },
  {
   "cell_type": "code",
   "execution_count": 45,
   "metadata": {},
   "outputs": [],
   "source": [
    "X, Y = eXifY(testing_data)"
   ]
  },
  {
   "cell_type": "code",
   "execution_count": 46,
   "metadata": {},
   "outputs": [
    {
     "data": {
      "text/plain": [
       "53"
      ]
     },
     "execution_count": 46,
     "metadata": {},
     "output_type": "execute_result"
    }
   ],
   "source": [
    "len(X[0])"
   ]
  },
  {
   "cell_type": "code",
   "execution_count": 47,
   "metadata": {},
   "outputs": [
    {
     "name": "stdout",
     "output_type": "stream",
     "text": [
      "The percentage of success was: 81.0 %\n",
      "\n",
      "The range score was 4786 out of 5214 : 277268933.33 % \n",
      "\n",
      "The score 3 was: 81.01 %\n",
      "\n",
      "The score 2 was: 14.1 %\n",
      "\n",
      "The score 1 was: 4.14 %\n",
      "\n",
      "The score 0 was: 0.63 %\n",
      "\n",
      "              precision    recall  f1-score   support\n",
      "\n",
      "           0       0.83      0.91      0.87        91\n",
      "           1       0.72      0.80      0.76        55\n",
      "           2       0.80      0.80      0.80       121\n",
      "           3       0.69      0.80      0.74       121\n",
      "           4       0.79      0.75      0.77        55\n",
      "           5       0.91      0.85      0.87        91\n",
      "           6       0.73      0.79      0.76       121\n",
      "           7       0.85      0.77      0.81       121\n",
      "           8       0.79      0.86      0.82       121\n",
      "           9       0.72      0.70      0.71       121\n",
      "          10       0.88      0.91      0.90       118\n",
      "          11       0.89      0.77      0.83       121\n",
      "          12       0.76      0.75      0.76       121\n",
      "          13       0.88      0.83      0.86       121\n",
      "          14       0.87      0.74      0.80       121\n",
      "          15       0.89      0.93      0.91       118\n",
      "\n",
      "   micro avg       0.81      0.81      0.81      1738\n",
      "   macro avg       0.81      0.81      0.81      1738\n",
      "weighted avg       0.81      0.81      0.81      1738\n",
      "\n",
      "[[ 83   1   0   0   0   0   0   0   3   4   0   0   0   0   0   0]\n",
      " [  3  44   0   0   0   1   0   0   0   1   3   0   1   0   2   0]\n",
      " [  0   0 107   1   1   0   0   0   3   1   1   0   1   0   3   0]\n",
      " [  1   1   4  93   2   0   4   0   1   0   0   0   0   0   2  13]\n",
      " [  1   0   1   2  91   2   2   1   0   3   1   0   6   0   4   7]\n",
      " [  0   1   0   0   5 101   0   3   0   2   1   1   2   3   1   1]\n",
      " [  0   2   0   6   7   2  90   7   2   1   0   1   1   0   1   1]\n",
      " [  0   0   0   0   1   1   1 110   0   0   0   1   0   3   0   1]\n",
      " [  6   1   0   0   1   0   1   0  97  10   1   0   0   0   3   1]\n",
      " [  2   4   3   0   0   0   0   0   4  97   0   0   6   1   3   1]\n",
      " [  0   5   0   0   0   0   1   0   0   2  41   1   4   0   0   1]\n",
      " [  1   1   0   0   3   1   0   0   0   1   0  77   2   4   0   1]\n",
      " [  2   0   1   0   3   2   2   1   2   5   3   0  95   4   0   1]\n",
      " [  0   1   0   0   4   3   1   0   1   4   0   3  10  93   0   1]\n",
      " [  1   0   4   0   0   0   0   0   5   1   1   0   1   0 104   4]\n",
      " [  0   0   1   2   2   2   2   2   4   8   0   1   1   2   9  85]]\n"
     ]
    }
   ],
   "source": [
    "CONF5, result, Qpredicted = testing(X,Y,classif,info_classif)\n",
    "#print(Qpredicted)\n",
    "#print(Y)\n",
    "print(CONF5)"
   ]
  },
  {
   "cell_type": "markdown",
   "metadata": {},
   "source": [
    "##### poor context"
   ]
  },
  {
   "cell_type": "code",
   "execution_count": 48,
   "metadata": {
    "scrolled": true
   },
   "outputs": [
    {
     "data": {
      "text/plain": [
       "37"
      ]
     },
     "execution_count": 48,
     "metadata": {},
     "output_type": "execute_result"
    }
   ],
   "source": [
    "X, Y = eXifY(training_data)\n",
    "X = [element[:16] + list(map(add,element[16:32],element[32:48])) + element[48:] for element in X]\n",
    "len(X[0])"
   ]
  },
  {
   "cell_type": "code",
   "execution_count": 49,
   "metadata": {
    "scrolled": true
   },
   "outputs": [
    {
     "data": {
      "text/plain": [
       "6760"
      ]
     },
     "execution_count": 49,
     "metadata": {},
     "output_type": "execute_result"
    }
   ],
   "source": [
    "len(X)"
   ]
  },
  {
   "cell_type": "code",
   "execution_count": 50,
   "metadata": {},
   "outputs": [
    {
     "data": {
      "text/plain": [
       "6760"
      ]
     },
     "execution_count": 50,
     "metadata": {},
     "output_type": "execute_result"
    }
   ],
   "source": [
    "len(Y)"
   ]
  },
  {
   "cell_type": "code",
   "execution_count": 51,
   "metadata": {},
   "outputs": [],
   "source": [
    "classif,info_classif=training(X,Y)"
   ]
  },
  {
   "cell_type": "code",
   "execution_count": 52,
   "metadata": {},
   "outputs": [],
   "source": [
    "X, Y = eXifY(testing_data)\n",
    "X = [element[:16] + list(map(add,element[16:32],element[32:48])) + element[48:] for element in X]"
   ]
  },
  {
   "cell_type": "code",
   "execution_count": 53,
   "metadata": {},
   "outputs": [
    {
     "data": {
      "text/plain": [
       "37"
      ]
     },
     "execution_count": 53,
     "metadata": {},
     "output_type": "execute_result"
    }
   ],
   "source": [
    "len(X[0])"
   ]
  },
  {
   "cell_type": "code",
   "execution_count": 54,
   "metadata": {},
   "outputs": [
    {
     "name": "stdout",
     "output_type": "stream",
     "text": [
      "The percentage of success was: 82.0 %\n",
      "\n",
      "The range score was 4800 out of 5214 : 278080000.0 % \n",
      "\n",
      "The score 3 was: 81.59 %\n",
      "\n",
      "The score 2 was: 13.69 %\n",
      "\n",
      "The score 1 was: 4.03 %\n",
      "\n",
      "The score 0 was: 0.58 %\n",
      "\n",
      "              precision    recall  f1-score   support\n",
      "\n",
      "           0       0.84      0.91      0.87        91\n",
      "           1       0.76      0.80      0.78        55\n",
      "           2       0.80      0.83      0.81       121\n",
      "           3       0.68      0.78      0.72       121\n",
      "           4       0.78      0.76      0.77        55\n",
      "           5       0.91      0.86      0.88        91\n",
      "           6       0.73      0.79      0.76       121\n",
      "           7       0.84      0.77      0.80       121\n",
      "           8       0.78      0.86      0.82       121\n",
      "           9       0.75      0.71      0.73       121\n",
      "          10       0.92      0.92      0.92       118\n",
      "          11       0.90      0.81      0.85       121\n",
      "          12       0.77      0.76      0.77       121\n",
      "          13       0.85      0.78      0.81       121\n",
      "          14       0.89      0.79      0.83       121\n",
      "          15       0.91      0.93      0.92       118\n",
      "\n",
      "   micro avg       0.82      0.82      0.82      1738\n",
      "   macro avg       0.82      0.82      0.82      1738\n",
      "weighted avg       0.82      0.82      0.82      1738\n",
      "\n",
      "[[ 83   1   0   0   0   0   0   0   3   4   0   0   0   0   0   0]\n",
      " [  3  44   0   0   0   1   0   0   0   1   3   0   1   0   2   0]\n",
      " [  0   0 108   0   1   0   0   0   3   2   1   0   0   0   3   0]\n",
      " [  1   0   1  98   0   1   3   0   1   1   0   0   0   1   2  12]\n",
      " [  1   0   1   2  92   2   2   1   1   3   1   0   5   0   4   6]\n",
      " [  0   1   0   1   5  94   1   5   0   2   1   1   4   4   1   1]\n",
      " [  0   1   0   5   9   3  95   2   2   0   0   1   0   0   1   2]\n",
      " [  0   0   0   0   0   1   1 110   0   0   1   1   0   3   0   1]\n",
      " [  6   1   0   0   0   0   0   0 101   9   1   0   0   0   3   0]\n",
      " [  2   4   3   0   0   0   0   0   3  94   0   0   8   1   4   2]\n",
      " [  0   4   0   0   0   0   0   0   0   3  42   1   5   0   0   0]\n",
      " [  1   1   0   0   2   1   0   0   0   1   0  78   1   5   0   1]\n",
      " [  2   0   1   0   3   2   2   1   3   5   3   0  96   3   0   0]\n",
      " [  0   1   0   0   4   3   1   0   1   4   0   3  10  93   1   0]\n",
      " [  0   0   3   0   1   0   0   0   6   1   1   0   1   0 104   4]\n",
      " [  0   0   1   3   2   2   2   2   3   9   0   1   1   1   8  86]]\n"
     ]
    }
   ],
   "source": [
    "CONF6, result, Qpredicted = testing(X,Y,classif,info_classif)\n",
    "#print(Qpredicted)\n",
    "#print(Y)\n",
    "print(CONF6)"
   ]
  },
  {
   "cell_type": "markdown",
   "metadata": {},
   "source": [
    "#### 3.2.5 Using PCA coordinates"
   ]
  },
  {
   "cell_type": "code",
   "execution_count": 57,
   "metadata": {},
   "outputs": [],
   "source": [
    "X, Y = eXifY(training_data)"
   ]
  },
  {
   "cell_type": "code",
   "execution_count": 58,
   "metadata": {
    "scrolled": true
   },
   "outputs": [
    {
     "name": "stdout",
     "output_type": "stream",
     "text": [
      "Components = 34;\n",
      "Total explained variance = 0.90146\n"
     ]
    }
   ],
   "source": [
    "stt = ss().fit_transform(X) #!\n",
    "pca = PCA(0.90)\n",
    "X = pca.fit(stt) #to retain the components in an object\n",
    "#print(utils.multiclass.type_of_target(X.astype('int')))\n",
    "#pca.explained_variance_ratio_\n",
    "print ( \"Components = \" + str(pca.n_components_) + \";\")\n",
    "print (\"Total explained variance = \" + str(round(pca.explained_variance_ratio_.sum(),5)))  "
   ]
  },
  {
   "cell_type": "code",
   "execution_count": 59,
   "metadata": {
    "scrolled": true
   },
   "outputs": [
    {
     "data": {
      "text/plain": [
       "6760"
      ]
     },
     "execution_count": 59,
     "metadata": {},
     "output_type": "execute_result"
    }
   ],
   "source": [
    "len(Y)"
   ]
  },
  {
   "cell_type": "code",
   "execution_count": 60,
   "metadata": {},
   "outputs": [
    {
     "ename": "TypeError",
     "evalue": "object of type 'PCA' has no len()",
     "output_type": "error",
     "traceback": [
      "\u001b[0;31m---------------------------------------------------------------------------\u001b[0m",
      "\u001b[0;31mTypeError\u001b[0m                                 Traceback (most recent call last)",
      "\u001b[0;32m<ipython-input-60-55e5e7a3f079>\u001b[0m in \u001b[0;36m<module>\u001b[0;34m\u001b[0m\n\u001b[0;32m----> 1\u001b[0;31m \u001b[0mlen\u001b[0m\u001b[0;34m(\u001b[0m\u001b[0mX\u001b[0m\u001b[0;34m)\u001b[0m\u001b[0;34m\u001b[0m\u001b[0;34m\u001b[0m\u001b[0m\n\u001b[0m",
      "\u001b[0;31mTypeError\u001b[0m: object of type 'PCA' has no len()"
     ]
    }
   ],
   "source": [
    "len(X)"
   ]
  },
  {
   "cell_type": "code",
   "execution_count": 61,
   "metadata": {},
   "outputs": [
    {
     "ename": "TypeError",
     "evalue": "Singleton array array(PCA(copy=True, iterated_power='auto', n_components=0.9, random_state=None,\n    svd_solver='auto', tol=0.0, whiten=False), dtype=object) cannot be considered a valid collection.",
     "output_type": "error",
     "traceback": [
      "\u001b[0;31m---------------------------------------------------------------------------\u001b[0m",
      "\u001b[0;31mTypeError\u001b[0m                                 Traceback (most recent call last)",
      "\u001b[0;32m<ipython-input-61-bf9c1f0cd534>\u001b[0m in \u001b[0;36m<module>\u001b[0;34m\u001b[0m\n\u001b[0;32m----> 1\u001b[0;31m \u001b[0mclassif\u001b[0m\u001b[0;34m,\u001b[0m\u001b[0minfo_classif\u001b[0m\u001b[0;34m=\u001b[0m\u001b[0mtraining\u001b[0m\u001b[0;34m(\u001b[0m\u001b[0mX\u001b[0m\u001b[0;34m,\u001b[0m\u001b[0mY\u001b[0m\u001b[0;34m)\u001b[0m\u001b[0;34m\u001b[0m\u001b[0;34m\u001b[0m\u001b[0m\n\u001b[0m",
      "\u001b[0;32m<ipython-input-20-6f728d79846f>\u001b[0m in \u001b[0;36mtraining\u001b[0;34m(X, Y)\u001b[0m\n\u001b[1;32m      6\u001b[0m     \u001b[0mparam_grid\u001b[0m \u001b[0;34m=\u001b[0m \u001b[0;34m{\u001b[0m\u001b[0;34m'C'\u001b[0m\u001b[0;34m:\u001b[0m \u001b[0mCs\u001b[0m\u001b[0;34m,\u001b[0m \u001b[0;34m'gamma'\u001b[0m \u001b[0;34m:\u001b[0m \u001b[0mgammas\u001b[0m\u001b[0;34m}\u001b[0m \u001b[0;31m#all in one grid\u001b[0m\u001b[0;34m\u001b[0m\u001b[0;34m\u001b[0m\u001b[0m\n\u001b[1;32m      7\u001b[0m     \u001b[0mgrid_search2\u001b[0m \u001b[0;34m=\u001b[0m \u001b[0mGridSearchCV\u001b[0m\u001b[0;34m(\u001b[0m\u001b[0msvm\u001b[0m\u001b[0;34m.\u001b[0m\u001b[0mSVC\u001b[0m\u001b[0;34m(\u001b[0m\u001b[0mkernel\u001b[0m\u001b[0;34m=\u001b[0m\u001b[0;34m'rbf'\u001b[0m\u001b[0;34m)\u001b[0m\u001b[0;34m,\u001b[0m \u001b[0mparam_grid\u001b[0m\u001b[0;34m,\u001b[0m \u001b[0mcv\u001b[0m\u001b[0;34m=\u001b[0m\u001b[0mnfolds\u001b[0m\u001b[0;34m)\u001b[0m \u001b[0;31m#svm classifier\u001b[0m\u001b[0;34m\u001b[0m\u001b[0;34m\u001b[0m\u001b[0m\n\u001b[0;32m----> 8\u001b[0;31m     \u001b[0mgrid_search2\u001b[0m\u001b[0;34m.\u001b[0m\u001b[0mfit\u001b[0m\u001b[0;34m(\u001b[0m\u001b[0mX\u001b[0m\u001b[0;34m,\u001b[0m \u001b[0mY\u001b[0m\u001b[0;34m)\u001b[0m \u001b[0;31m#fitting the data\u001b[0m\u001b[0;34m\u001b[0m\u001b[0;34m\u001b[0m\u001b[0m\n\u001b[0m\u001b[1;32m      9\u001b[0m     \u001b[0mbest\u001b[0m\u001b[0;34m=\u001b[0m\u001b[0mgrid_search2\u001b[0m\u001b[0;34m.\u001b[0m\u001b[0mbest_params_\u001b[0m\u001b[0;34m\u001b[0m\u001b[0;34m\u001b[0m\u001b[0m\n\u001b[1;32m     10\u001b[0m \u001b[0;34m\u001b[0m\u001b[0m\n",
      "\u001b[0;32m~/.virtualenvs/env-py3/lib/python3.6/site-packages/sklearn/model_selection/_search.py\u001b[0m in \u001b[0;36mfit\u001b[0;34m(self, X, y, groups, **fit_params)\u001b[0m\n\u001b[1;32m    648\u001b[0m             \u001b[0mrefit_metric\u001b[0m \u001b[0;34m=\u001b[0m \u001b[0;34m'score'\u001b[0m\u001b[0;34m\u001b[0m\u001b[0;34m\u001b[0m\u001b[0m\n\u001b[1;32m    649\u001b[0m \u001b[0;34m\u001b[0m\u001b[0m\n\u001b[0;32m--> 650\u001b[0;31m         \u001b[0mX\u001b[0m\u001b[0;34m,\u001b[0m \u001b[0my\u001b[0m\u001b[0;34m,\u001b[0m \u001b[0mgroups\u001b[0m \u001b[0;34m=\u001b[0m \u001b[0mindexable\u001b[0m\u001b[0;34m(\u001b[0m\u001b[0mX\u001b[0m\u001b[0;34m,\u001b[0m \u001b[0my\u001b[0m\u001b[0;34m,\u001b[0m \u001b[0mgroups\u001b[0m\u001b[0;34m)\u001b[0m\u001b[0;34m\u001b[0m\u001b[0;34m\u001b[0m\u001b[0m\n\u001b[0m\u001b[1;32m    651\u001b[0m         \u001b[0mfit_params\u001b[0m \u001b[0;34m=\u001b[0m \u001b[0m_check_fit_params\u001b[0m\u001b[0;34m(\u001b[0m\u001b[0mX\u001b[0m\u001b[0;34m,\u001b[0m \u001b[0mfit_params\u001b[0m\u001b[0;34m)\u001b[0m\u001b[0;34m\u001b[0m\u001b[0;34m\u001b[0m\u001b[0m\n\u001b[1;32m    652\u001b[0m \u001b[0;34m\u001b[0m\u001b[0m\n",
      "\u001b[0;32m~/.virtualenvs/env-py3/lib/python3.6/site-packages/sklearn/utils/validation.py\u001b[0m in \u001b[0;36mindexable\u001b[0;34m(*iterables)\u001b[0m\n\u001b[1;32m    246\u001b[0m     \"\"\"\n\u001b[1;32m    247\u001b[0m     \u001b[0mresult\u001b[0m \u001b[0;34m=\u001b[0m \u001b[0;34m[\u001b[0m\u001b[0m_make_indexable\u001b[0m\u001b[0;34m(\u001b[0m\u001b[0mX\u001b[0m\u001b[0;34m)\u001b[0m \u001b[0;32mfor\u001b[0m \u001b[0mX\u001b[0m \u001b[0;32min\u001b[0m \u001b[0miterables\u001b[0m\u001b[0;34m]\u001b[0m\u001b[0;34m\u001b[0m\u001b[0;34m\u001b[0m\u001b[0m\n\u001b[0;32m--> 248\u001b[0;31m     \u001b[0mcheck_consistent_length\u001b[0m\u001b[0;34m(\u001b[0m\u001b[0;34m*\u001b[0m\u001b[0mresult\u001b[0m\u001b[0;34m)\u001b[0m\u001b[0;34m\u001b[0m\u001b[0;34m\u001b[0m\u001b[0m\n\u001b[0m\u001b[1;32m    249\u001b[0m     \u001b[0;32mreturn\u001b[0m \u001b[0mresult\u001b[0m\u001b[0;34m\u001b[0m\u001b[0;34m\u001b[0m\u001b[0m\n\u001b[1;32m    250\u001b[0m \u001b[0;34m\u001b[0m\u001b[0m\n",
      "\u001b[0;32m~/.virtualenvs/env-py3/lib/python3.6/site-packages/sklearn/utils/validation.py\u001b[0m in \u001b[0;36mcheck_consistent_length\u001b[0;34m(*arrays)\u001b[0m\n\u001b[1;32m    206\u001b[0m     \"\"\"\n\u001b[1;32m    207\u001b[0m \u001b[0;34m\u001b[0m\u001b[0m\n\u001b[0;32m--> 208\u001b[0;31m     \u001b[0mlengths\u001b[0m \u001b[0;34m=\u001b[0m \u001b[0;34m[\u001b[0m\u001b[0m_num_samples\u001b[0m\u001b[0;34m(\u001b[0m\u001b[0mX\u001b[0m\u001b[0;34m)\u001b[0m \u001b[0;32mfor\u001b[0m \u001b[0mX\u001b[0m \u001b[0;32min\u001b[0m \u001b[0marrays\u001b[0m \u001b[0;32mif\u001b[0m \u001b[0mX\u001b[0m \u001b[0;32mis\u001b[0m \u001b[0;32mnot\u001b[0m \u001b[0;32mNone\u001b[0m\u001b[0;34m]\u001b[0m\u001b[0;34m\u001b[0m\u001b[0;34m\u001b[0m\u001b[0m\n\u001b[0m\u001b[1;32m    209\u001b[0m     \u001b[0muniques\u001b[0m \u001b[0;34m=\u001b[0m \u001b[0mnp\u001b[0m\u001b[0;34m.\u001b[0m\u001b[0munique\u001b[0m\u001b[0;34m(\u001b[0m\u001b[0mlengths\u001b[0m\u001b[0;34m)\u001b[0m\u001b[0;34m\u001b[0m\u001b[0;34m\u001b[0m\u001b[0m\n\u001b[1;32m    210\u001b[0m     \u001b[0;32mif\u001b[0m \u001b[0mlen\u001b[0m\u001b[0;34m(\u001b[0m\u001b[0muniques\u001b[0m\u001b[0;34m)\u001b[0m \u001b[0;34m>\u001b[0m \u001b[0;36m1\u001b[0m\u001b[0;34m:\u001b[0m\u001b[0;34m\u001b[0m\u001b[0;34m\u001b[0m\u001b[0m\n",
      "\u001b[0;32m~/.virtualenvs/env-py3/lib/python3.6/site-packages/sklearn/utils/validation.py\u001b[0m in \u001b[0;36m<listcomp>\u001b[0;34m(.0)\u001b[0m\n\u001b[1;32m    206\u001b[0m     \"\"\"\n\u001b[1;32m    207\u001b[0m \u001b[0;34m\u001b[0m\u001b[0m\n\u001b[0;32m--> 208\u001b[0;31m     \u001b[0mlengths\u001b[0m \u001b[0;34m=\u001b[0m \u001b[0;34m[\u001b[0m\u001b[0m_num_samples\u001b[0m\u001b[0;34m(\u001b[0m\u001b[0mX\u001b[0m\u001b[0;34m)\u001b[0m \u001b[0;32mfor\u001b[0m \u001b[0mX\u001b[0m \u001b[0;32min\u001b[0m \u001b[0marrays\u001b[0m \u001b[0;32mif\u001b[0m \u001b[0mX\u001b[0m \u001b[0;32mis\u001b[0m \u001b[0;32mnot\u001b[0m \u001b[0;32mNone\u001b[0m\u001b[0;34m]\u001b[0m\u001b[0;34m\u001b[0m\u001b[0;34m\u001b[0m\u001b[0m\n\u001b[0m\u001b[1;32m    209\u001b[0m     \u001b[0muniques\u001b[0m \u001b[0;34m=\u001b[0m \u001b[0mnp\u001b[0m\u001b[0;34m.\u001b[0m\u001b[0munique\u001b[0m\u001b[0;34m(\u001b[0m\u001b[0mlengths\u001b[0m\u001b[0;34m)\u001b[0m\u001b[0;34m\u001b[0m\u001b[0;34m\u001b[0m\u001b[0m\n\u001b[1;32m    210\u001b[0m     \u001b[0;32mif\u001b[0m \u001b[0mlen\u001b[0m\u001b[0;34m(\u001b[0m\u001b[0muniques\u001b[0m\u001b[0;34m)\u001b[0m \u001b[0;34m>\u001b[0m \u001b[0;36m1\u001b[0m\u001b[0;34m:\u001b[0m\u001b[0;34m\u001b[0m\u001b[0;34m\u001b[0m\u001b[0m\n",
      "\u001b[0;32m~/.virtualenvs/env-py3/lib/python3.6/site-packages/sklearn/utils/validation.py\u001b[0m in \u001b[0;36m_num_samples\u001b[0;34m(x)\u001b[0m\n\u001b[1;32m    150\u001b[0m         \u001b[0;32mif\u001b[0m \u001b[0mlen\u001b[0m\u001b[0;34m(\u001b[0m\u001b[0mx\u001b[0m\u001b[0;34m.\u001b[0m\u001b[0mshape\u001b[0m\u001b[0;34m)\u001b[0m \u001b[0;34m==\u001b[0m \u001b[0;36m0\u001b[0m\u001b[0;34m:\u001b[0m\u001b[0;34m\u001b[0m\u001b[0;34m\u001b[0m\u001b[0m\n\u001b[1;32m    151\u001b[0m             raise TypeError(\"Singleton array %r cannot be considered\"\n\u001b[0;32m--> 152\u001b[0;31m                             \" a valid collection.\" % x)\n\u001b[0m\u001b[1;32m    153\u001b[0m         \u001b[0;31m# Check that shape is returning an integer or default to len\u001b[0m\u001b[0;34m\u001b[0m\u001b[0;34m\u001b[0m\u001b[0;34m\u001b[0m\u001b[0m\n\u001b[1;32m    154\u001b[0m         \u001b[0;31m# Dask dataframes may not return numeric shape[0] value\u001b[0m\u001b[0;34m\u001b[0m\u001b[0;34m\u001b[0m\u001b[0;34m\u001b[0m\u001b[0m\n",
      "\u001b[0;31mTypeError\u001b[0m: Singleton array array(PCA(copy=True, iterated_power='auto', n_components=0.9, random_state=None,\n    svd_solver='auto', tol=0.0, whiten=False), dtype=object) cannot be considered a valid collection."
     ]
    }
   ],
   "source": [
    "classif,info_classif=training(X,Y)"
   ]
  },
  {
   "cell_type": "code",
   "execution_count": 62,
   "metadata": {},
   "outputs": [],
   "source": [
    "X, Y = eXifY(testing_data)"
   ]
  },
  {
   "cell_type": "code",
   "execution_count": 63,
   "metadata": {},
   "outputs": [
    {
     "name": "stdout",
     "output_type": "stream",
     "text": [
      "multiclass-multioutput\n",
      "Components = 34;\n",
      "Total explained variance = 0.90146\n"
     ]
    }
   ],
   "source": [
    "stt = ss().fit_transform(X)\n",
    "#pca = PCA(0.9)\n",
    "X = pca.transform(stt) #to retain the components in an object\n",
    "print(utils.multiclass.type_of_target(X.astype('int')))\n",
    "#pca.explained_variance_ratio_\n",
    "print ( \"Components = \" + str(pca.n_components_) + \";\")\n",
    "print (\"Total explained variance = \" + str(round(pca.explained_variance_ratio_.sum(),5)))"
   ]
  },
  {
   "cell_type": "code",
   "execution_count": 64,
   "metadata": {},
   "outputs": [
    {
     "ename": "ValueError",
     "evalue": "X.shape[1] = 34 should be equal to 37, the number of features at training time",
     "output_type": "error",
     "traceback": [
      "\u001b[0;31m---------------------------------------------------------------------------\u001b[0m",
      "\u001b[0;31mValueError\u001b[0m                                Traceback (most recent call last)",
      "\u001b[0;32m<ipython-input-64-2a3ae4f703da>\u001b[0m in \u001b[0;36m<module>\u001b[0;34m\u001b[0m\n\u001b[0;32m----> 1\u001b[0;31m \u001b[0mCONF5\u001b[0m\u001b[0;34m,\u001b[0m \u001b[0mresult\u001b[0m\u001b[0;34m,\u001b[0m \u001b[0mQpredicted\u001b[0m \u001b[0;34m=\u001b[0m \u001b[0mtesting\u001b[0m\u001b[0;34m(\u001b[0m\u001b[0mX\u001b[0m\u001b[0;34m,\u001b[0m\u001b[0mY\u001b[0m\u001b[0;34m,\u001b[0m\u001b[0mclassif\u001b[0m\u001b[0;34m,\u001b[0m\u001b[0minfo_classif\u001b[0m\u001b[0;34m)\u001b[0m\u001b[0;34m\u001b[0m\u001b[0;34m\u001b[0m\u001b[0m\n\u001b[0m\u001b[1;32m      2\u001b[0m \u001b[0;31m#print(Qpredicted)\u001b[0m\u001b[0;34m\u001b[0m\u001b[0;34m\u001b[0m\u001b[0;34m\u001b[0m\u001b[0m\n\u001b[1;32m      3\u001b[0m \u001b[0;31m#print(Y)\u001b[0m\u001b[0;34m\u001b[0m\u001b[0;34m\u001b[0m\u001b[0;34m\u001b[0m\u001b[0m\n\u001b[1;32m      4\u001b[0m \u001b[0mprint\u001b[0m\u001b[0;34m(\u001b[0m\u001b[0mCONF5\u001b[0m\u001b[0;34m)\u001b[0m\u001b[0;34m\u001b[0m\u001b[0;34m\u001b[0m\u001b[0m\n",
      "\u001b[0;32m<ipython-input-21-3537f58a5d7b>\u001b[0m in \u001b[0;36mtesting\u001b[0;34m(X, Y, classif, info_classif)\u001b[0m\n\u001b[1;32m      2\u001b[0m \u001b[0;34m\u001b[0m\u001b[0m\n\u001b[1;32m      3\u001b[0m     \u001b[0mclf\u001b[0m  \u001b[0;34m=\u001b[0m \u001b[0mjoblib\u001b[0m\u001b[0;34m.\u001b[0m\u001b[0mload\u001b[0m\u001b[0;34m(\u001b[0m\u001b[0mclassif\u001b[0m\u001b[0;34m)\u001b[0m\u001b[0;34m\u001b[0m\u001b[0;34m\u001b[0m\u001b[0m\n\u001b[0;32m----> 4\u001b[0;31m     \u001b[0mresult\u001b[0m \u001b[0;34m=\u001b[0m \u001b[0mclf\u001b[0m\u001b[0;34m.\u001b[0m\u001b[0mscore\u001b[0m\u001b[0;34m(\u001b[0m\u001b[0mX\u001b[0m\u001b[0;34m,\u001b[0m \u001b[0mY\u001b[0m\u001b[0;34m)\u001b[0m\u001b[0;34m\u001b[0m\u001b[0;34m\u001b[0m\u001b[0m\n\u001b[0m\u001b[1;32m      5\u001b[0m \u001b[0;34m\u001b[0m\u001b[0m\n\u001b[1;32m      6\u001b[0m     \u001b[0mQpredicted\u001b[0m\u001b[0;34m=\u001b[0m \u001b[0;34m[\u001b[0m\u001b[0;34m]\u001b[0m\u001b[0;34m\u001b[0m\u001b[0;34m\u001b[0m\u001b[0m\n",
      "\u001b[0;32m~/.virtualenvs/env-py3/lib/python3.6/site-packages/sklearn/base.py\u001b[0m in \u001b[0;36mscore\u001b[0;34m(self, X, y, sample_weight)\u001b[0m\n\u001b[1;32m    367\u001b[0m         \"\"\"\n\u001b[1;32m    368\u001b[0m         \u001b[0;32mfrom\u001b[0m \u001b[0;34m.\u001b[0m\u001b[0mmetrics\u001b[0m \u001b[0;32mimport\u001b[0m \u001b[0maccuracy_score\u001b[0m\u001b[0;34m\u001b[0m\u001b[0;34m\u001b[0m\u001b[0m\n\u001b[0;32m--> 369\u001b[0;31m         \u001b[0;32mreturn\u001b[0m \u001b[0maccuracy_score\u001b[0m\u001b[0;34m(\u001b[0m\u001b[0my\u001b[0m\u001b[0;34m,\u001b[0m \u001b[0mself\u001b[0m\u001b[0;34m.\u001b[0m\u001b[0mpredict\u001b[0m\u001b[0;34m(\u001b[0m\u001b[0mX\u001b[0m\u001b[0;34m)\u001b[0m\u001b[0;34m,\u001b[0m \u001b[0msample_weight\u001b[0m\u001b[0;34m=\u001b[0m\u001b[0msample_weight\u001b[0m\u001b[0;34m)\u001b[0m\u001b[0;34m\u001b[0m\u001b[0;34m\u001b[0m\u001b[0m\n\u001b[0m\u001b[1;32m    370\u001b[0m \u001b[0;34m\u001b[0m\u001b[0m\n\u001b[1;32m    371\u001b[0m \u001b[0;34m\u001b[0m\u001b[0m\n",
      "\u001b[0;32m~/.virtualenvs/env-py3/lib/python3.6/site-packages/sklearn/svm/_base.py\u001b[0m in \u001b[0;36mpredict\u001b[0;34m(self, X)\u001b[0m\n\u001b[1;32m    592\u001b[0m             \u001b[0my\u001b[0m \u001b[0;34m=\u001b[0m \u001b[0mnp\u001b[0m\u001b[0;34m.\u001b[0m\u001b[0margmax\u001b[0m\u001b[0;34m(\u001b[0m\u001b[0mself\u001b[0m\u001b[0;34m.\u001b[0m\u001b[0mdecision_function\u001b[0m\u001b[0;34m(\u001b[0m\u001b[0mX\u001b[0m\u001b[0;34m)\u001b[0m\u001b[0;34m,\u001b[0m \u001b[0maxis\u001b[0m\u001b[0;34m=\u001b[0m\u001b[0;36m1\u001b[0m\u001b[0;34m)\u001b[0m\u001b[0;34m\u001b[0m\u001b[0;34m\u001b[0m\u001b[0m\n\u001b[1;32m    593\u001b[0m         \u001b[0;32melse\u001b[0m\u001b[0;34m:\u001b[0m\u001b[0;34m\u001b[0m\u001b[0;34m\u001b[0m\u001b[0m\n\u001b[0;32m--> 594\u001b[0;31m             \u001b[0my\u001b[0m \u001b[0;34m=\u001b[0m \u001b[0msuper\u001b[0m\u001b[0;34m(\u001b[0m\u001b[0;34m)\u001b[0m\u001b[0;34m.\u001b[0m\u001b[0mpredict\u001b[0m\u001b[0;34m(\u001b[0m\u001b[0mX\u001b[0m\u001b[0;34m)\u001b[0m\u001b[0;34m\u001b[0m\u001b[0;34m\u001b[0m\u001b[0m\n\u001b[0m\u001b[1;32m    595\u001b[0m         \u001b[0;32mreturn\u001b[0m \u001b[0mself\u001b[0m\u001b[0;34m.\u001b[0m\u001b[0mclasses_\u001b[0m\u001b[0;34m.\u001b[0m\u001b[0mtake\u001b[0m\u001b[0;34m(\u001b[0m\u001b[0mnp\u001b[0m\u001b[0;34m.\u001b[0m\u001b[0masarray\u001b[0m\u001b[0;34m(\u001b[0m\u001b[0my\u001b[0m\u001b[0;34m,\u001b[0m \u001b[0mdtype\u001b[0m\u001b[0;34m=\u001b[0m\u001b[0mnp\u001b[0m\u001b[0;34m.\u001b[0m\u001b[0mintp\u001b[0m\u001b[0;34m)\u001b[0m\u001b[0;34m)\u001b[0m\u001b[0;34m\u001b[0m\u001b[0;34m\u001b[0m\u001b[0m\n\u001b[1;32m    596\u001b[0m \u001b[0;34m\u001b[0m\u001b[0m\n",
      "\u001b[0;32m~/.virtualenvs/env-py3/lib/python3.6/site-packages/sklearn/svm/_base.py\u001b[0m in \u001b[0;36mpredict\u001b[0;34m(self, X)\u001b[0m\n\u001b[1;32m    313\u001b[0m         \u001b[0my_pred\u001b[0m \u001b[0;34m:\u001b[0m \u001b[0marray\u001b[0m\u001b[0;34m,\u001b[0m \u001b[0mshape\u001b[0m \u001b[0;34m(\u001b[0m\u001b[0mn_samples\u001b[0m\u001b[0;34m,\u001b[0m\u001b[0;34m)\u001b[0m\u001b[0;34m\u001b[0m\u001b[0;34m\u001b[0m\u001b[0m\n\u001b[1;32m    314\u001b[0m         \"\"\"\n\u001b[0;32m--> 315\u001b[0;31m         \u001b[0mX\u001b[0m \u001b[0;34m=\u001b[0m \u001b[0mself\u001b[0m\u001b[0;34m.\u001b[0m\u001b[0m_validate_for_predict\u001b[0m\u001b[0;34m(\u001b[0m\u001b[0mX\u001b[0m\u001b[0;34m)\u001b[0m\u001b[0;34m\u001b[0m\u001b[0;34m\u001b[0m\u001b[0m\n\u001b[0m\u001b[1;32m    316\u001b[0m         \u001b[0mpredict\u001b[0m \u001b[0;34m=\u001b[0m \u001b[0mself\u001b[0m\u001b[0;34m.\u001b[0m\u001b[0m_sparse_predict\u001b[0m \u001b[0;32mif\u001b[0m \u001b[0mself\u001b[0m\u001b[0;34m.\u001b[0m\u001b[0m_sparse\u001b[0m \u001b[0;32melse\u001b[0m \u001b[0mself\u001b[0m\u001b[0;34m.\u001b[0m\u001b[0m_dense_predict\u001b[0m\u001b[0;34m\u001b[0m\u001b[0;34m\u001b[0m\u001b[0m\n\u001b[1;32m    317\u001b[0m         \u001b[0;32mreturn\u001b[0m \u001b[0mpredict\u001b[0m\u001b[0;34m(\u001b[0m\u001b[0mX\u001b[0m\u001b[0;34m)\u001b[0m\u001b[0;34m\u001b[0m\u001b[0;34m\u001b[0m\u001b[0m\n",
      "\u001b[0;32m~/.virtualenvs/env-py3/lib/python3.6/site-packages/sklearn/svm/_base.py\u001b[0m in \u001b[0;36m_validate_for_predict\u001b[0;34m(self, X)\u001b[0m\n\u001b[1;32m    465\u001b[0m             raise ValueError(\"X.shape[1] = %d should be equal to %d, \"\n\u001b[1;32m    466\u001b[0m                              \u001b[0;34m\"the number of features at training time\"\u001b[0m \u001b[0;34m%\u001b[0m\u001b[0;34m\u001b[0m\u001b[0;34m\u001b[0m\u001b[0m\n\u001b[0;32m--> 467\u001b[0;31m                              (n_features, self.shape_fit_[1]))\n\u001b[0m\u001b[1;32m    468\u001b[0m         \u001b[0;32mreturn\u001b[0m \u001b[0mX\u001b[0m\u001b[0;34m\u001b[0m\u001b[0;34m\u001b[0m\u001b[0m\n\u001b[1;32m    469\u001b[0m \u001b[0;34m\u001b[0m\u001b[0m\n",
      "\u001b[0;31mValueError\u001b[0m: X.shape[1] = 34 should be equal to 37, the number of features at training time"
     ]
    }
   ],
   "source": [
    "CONF5, result, Qpredicted = testing(X,Y,classif,info_classif)\n",
    "#print(Qpredicted)\n",
    "#print(Y)\n",
    "print(CONF5)"
   ]
  },
  {
   "cell_type": "markdown",
   "metadata": {},
   "source": [
    "## 4. Comparing classifications"
   ]
  },
  {
   "cell_type": "markdown",
   "metadata": {},
   "source": [
    "Now, at last, we compare the Confusion Matrices of the 4 groups of coordinates. And with a nice layout!"
   ]
  },
  {
   "cell_type": "code",
   "execution_count": 65,
   "metadata": {},
   "outputs": [
    {
     "data": {
      "image/png": "[encoded data removed]",
      "text/plain": [
       "<Figure size 432x288 with 1 Axes>"
      ]
     },
     "metadata": {
      "needs_background": "light"
     },
     "output_type": "display_data"
    },
    {
     "data": {
      "image/png": "[encoded data removed]",
      "text/plain": [
       "<Figure size 288x288 with 1 Axes>"
      ]
     },
     "metadata": {
      "needs_background": "light"
     },
     "output_type": "display_data"
    },
    {
     "data": {
      "image/png": "[encoded data removed]",
      "text/plain": [
       "<Figure size 288x288 with 1 Axes>"
      ]
     },
     "metadata": {
      "needs_background": "light"
     },
     "output_type": "display_data"
    },
    {
     "data": {
      "image/png": "[encoded data removed]",
      "text/plain": [
       "<Figure size 288x288 with 1 Axes>"
      ]
     },
     "metadata": {
      "needs_background": "light"
     },
     "output_type": "display_data"
    },
    {
     "data": {
      "image/png": "[encoded data removed]",
      "text/plain": [
       "<Figure size 288x288 with 1 Axes>"
      ]
     },
     "metadata": {
      "needs_background": "light"
     },
     "output_type": "display_data"
    }
   ],
   "source": [
    "plt.figure()  \n",
    "plt.rcParams[\"figure.figsize\"] = (4,4)\n",
    "df = DataFrame(CONF1) #, index=Index, columns=Cols - if defined before\n",
    "sns.heatmap(df, annot=True, cmap=\"YlGnBu\",cbar=False) #cbar=True is an option but it appears float values\n",
    "plt.xlabel(\"Predicted Label\")\n",
    "plt.ylabel(\"True Label\")\n",
    "plt.title('Confusion Matrix Head')\n",
    "plt.show()\n",
    "\n",
    "plt.figure() \n",
    "plt.rcParams[\"figure.figsize\"] = (4,4)\n",
    "df = DataFrame(CONF2) #, index=Index, columns=Cols - if defined before\n",
    "sns.heatmap(df, annot=True, cmap=\"YlGnBu\",cbar=False) #cbar=True is an option but it appears float values\n",
    "plt.xlabel(\"Predicted Label\")\n",
    "plt.ylabel(\"True Label\")\n",
    "plt.title('Confusion Matrix Head + Hands')\n",
    "plt.show()\n",
    "\n",
    "plt.figure()\n",
    "plt.rcParams[\"figure.figsize\"] = (4,4)\n",
    "df = DataFrame(CONF3) #, index=Index, columns=Cols - if defined before\n",
    "sns.heatmap(df, annot=True, cmap=\"YlGnBu\",cbar=False) #cbar=True is an option but it appears float values\n",
    "plt.xlabel(\"Predicted Label\")\n",
    "plt.ylabel(\"True Label\")\n",
    "plt.title('Confusion Matrix Head + Context Data')\n",
    "plt.show()\n",
    "\n",
    "plt.figure()\n",
    "plt.rcParams[\"figure.figsize\"] = (4,4)\n",
    "df = DataFrame(CONF4) #, index=Index, columns=Cols - if defined before\n",
    "sns.heatmap(df, annot=True, cmap=\"YlGnBu\",cbar=False) #cbar=True is an option but it appears float values\n",
    "plt.xlabel(\"Predicted Label\")\n",
    "plt.ylabel(\"True Label\")\n",
    "plt.title('Confusion Matrix All')\n",
    "#plt.subplots_adjust(wspace=0.8, hspace=0.8)\n",
    "plt.show()\n",
    "\n",
    "plt.figure()\n",
    "plt.rcParams[\"figure.figsize\"] = (4,4)\n",
    "df = DataFrame(CONF5) #, index=Index, columns=Cols - if defined before\n",
    "sns.heatmap(df, annot=True, cmap=\"YlGnBu\",cbar=False) #cbar=True is an option but it appears float values\n",
    "plt.xlabel(\"Predicted Label\")\n",
    "plt.ylabel(\"True Label\")\n",
    "plt.title('Confusion Matrix All')\n",
    "#plt.subplots_adjust(wspace=0.8, hspace=0.8)\n",
    "plt.show()"
   ]
  },
  {
   "cell_type": "code",
   "execution_count": null,
   "metadata": {},
   "outputs": [],
   "source": []
  }
 ],
 "metadata": {
  "file_extension": ".py",
  "kernelspec": {
   "display_name": "Python 3",
   "language": "python",
   "name": "python3"
  },
  "language_info": {
   "codemirror_mode": {
    "name": "ipython",
    "version": 3
   },
   "file_extension": ".py",
   "mimetype": "text/x-python",
   "name": "python",
   "nbconvert_exporter": "python",
   "pygments_lexer": "ipython3",
   "version": "3.6.9"
  },
  "mimetype": "text/x-python",
  "name": "python",
  "npconvert_exporter": "python",
  "pygments_lexer": "ipython3",
  "version": 3
 },
 "nbformat": 4,
 "nbformat_minor": 2
}
